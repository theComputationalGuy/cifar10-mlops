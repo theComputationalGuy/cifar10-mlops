{
 "cells": [
  {
   "cell_type": "code",
   "execution_count": 1,
   "id": "06cb79ff",
   "metadata": {},
   "outputs": [
    {
     "name": "stdout",
     "output_type": "stream",
     "text": [
      "No existing model found, starting from scratch.\n"
     ]
    },
    {
     "name": "stderr",
     "output_type": "stream",
     "text": [
      "  0%|          | 0/1000 [00:00<?, ?it/s]"
     ]
    },
    {
     "name": "stdout",
     "output_type": "stream",
     "text": [
      "Batch 0, Loss: 2.2990775108337402\n",
      "Batch 200, Loss: 1.6650265455245972\n",
      "Batch 400, Loss: 1.5533949136734009\n",
      "Batch 600, Loss: 1.701015591621399\n"
     ]
    },
    {
     "name": "stderr",
     "output_type": "stream",
     "text": [
      "  0%|          | 1/1000 [00:15<4:22:26, 15.76s/it]"
     ]
    },
    {
     "name": "stdout",
     "output_type": "stream",
     "text": [
      "Batch 0, Loss: 1.3770453929901123\n",
      "Batch 200, Loss: 1.4613981246948242\n",
      "Batch 400, Loss: 1.1472196578979492\n",
      "Batch 600, Loss: 1.462419867515564\n"
     ]
    },
    {
     "name": "stderr",
     "output_type": "stream",
     "text": [
      "  0%|          | 2/1000 [00:30<4:11:32, 15.12s/it]"
     ]
    },
    {
     "name": "stdout",
     "output_type": "stream",
     "text": [
      "Batch 0, Loss: 1.1736595630645752\n",
      "Batch 200, Loss: 1.2163358926773071\n",
      "Batch 400, Loss: 1.2652790546417236\n",
      "Batch 600, Loss: 1.1343611478805542\n"
     ]
    },
    {
     "name": "stderr",
     "output_type": "stream",
     "text": [
      "  0%|          | 3/1000 [00:45<4:07:57, 14.92s/it]"
     ]
    },
    {
     "name": "stdout",
     "output_type": "stream",
     "text": [
      "Batch 0, Loss: 1.2408816814422607\n",
      "Batch 200, Loss: 0.8912581205368042\n",
      "Batch 400, Loss: 0.9466421604156494\n",
      "Batch 600, Loss: 1.0173542499542236\n"
     ]
    },
    {
     "name": "stderr",
     "output_type": "stream",
     "text": [
      "  0%|          | 4/1000 [00:59<4:05:26, 14.79s/it]"
     ]
    },
    {
     "name": "stdout",
     "output_type": "stream",
     "text": [
      "Batch 0, Loss: 0.9079077243804932\n",
      "Batch 200, Loss: 0.9336816668510437\n",
      "Batch 400, Loss: 0.8503085374832153\n",
      "Batch 600, Loss: 0.862914502620697\n"
     ]
    },
    {
     "name": "stderr",
     "output_type": "stream",
     "text": [
      "  0%|          | 5/1000 [01:13<4:01:51, 14.58s/it]"
     ]
    },
    {
     "name": "stdout",
     "output_type": "stream",
     "text": [
      "Batch 0, Loss: 0.8484055995941162\n",
      "Batch 200, Loss: 0.7771776914596558\n",
      "Batch 400, Loss: 1.0912327766418457\n",
      "Batch 600, Loss: 1.0587983131408691\n"
     ]
    },
    {
     "name": "stderr",
     "output_type": "stream",
     "text": [
      "  1%|          | 6/1000 [01:28<4:00:16, 14.50s/it]"
     ]
    },
    {
     "name": "stdout",
     "output_type": "stream",
     "text": [
      "Batch 0, Loss: 1.0875203609466553\n",
      "Batch 200, Loss: 1.0538506507873535\n",
      "Batch 400, Loss: 0.7299911975860596\n",
      "Batch 600, Loss: 0.8931803107261658\n"
     ]
    },
    {
     "name": "stderr",
     "output_type": "stream",
     "text": [
      "  1%|          | 7/1000 [01:42<3:58:47, 14.43s/it]"
     ]
    },
    {
     "name": "stdout",
     "output_type": "stream",
     "text": [
      "Batch 0, Loss: 0.6651686429977417\n",
      "Batch 200, Loss: 0.7636722922325134\n",
      "Batch 400, Loss: 0.6641135215759277\n",
      "Batch 600, Loss: 0.7902488112449646\n"
     ]
    },
    {
     "name": "stderr",
     "output_type": "stream",
     "text": [
      "  1%|          | 8/1000 [01:56<3:58:18, 14.41s/it]"
     ]
    },
    {
     "name": "stdout",
     "output_type": "stream",
     "text": [
      "Batch 0, Loss: 0.9130926132202148\n",
      "Batch 200, Loss: 0.6541954874992371\n",
      "Batch 400, Loss: 0.8806213736534119\n",
      "Batch 600, Loss: 1.0376676321029663\n"
     ]
    },
    {
     "name": "stderr",
     "output_type": "stream",
     "text": [
      "  1%|          | 9/1000 [02:11<3:58:41, 14.45s/it]"
     ]
    },
    {
     "name": "stdout",
     "output_type": "stream",
     "text": [
      "Batch 0, Loss: 0.7216041684150696\n",
      "Batch 200, Loss: 0.7570695877075195\n",
      "Batch 400, Loss: 0.8728870153427124\n",
      "Batch 600, Loss: 0.6959691643714905\n"
     ]
    },
    {
     "name": "stderr",
     "output_type": "stream",
     "text": [
      "  1%|          | 10/1000 [02:26<4:01:16, 14.62s/it]"
     ]
    },
    {
     "name": "stdout",
     "output_type": "stream",
     "text": [
      "Batch 0, Loss: 0.7724056839942932\n",
      "Batch 200, Loss: 0.9188477993011475\n",
      "Batch 400, Loss: 0.7118101716041565\n",
      "Batch 600, Loss: 0.9079661965370178\n"
     ]
    },
    {
     "name": "stderr",
     "output_type": "stream",
     "text": [
      "  1%|          | 11/1000 [02:41<4:02:21, 14.70s/it]"
     ]
    },
    {
     "name": "stdout",
     "output_type": "stream",
     "text": [
      "Batch 0, Loss: 0.4747481346130371\n",
      "Batch 200, Loss: 0.7189313173294067\n",
      "Batch 400, Loss: 0.5372050404548645\n",
      "Batch 600, Loss: 0.8821204900741577\n"
     ]
    },
    {
     "name": "stderr",
     "output_type": "stream",
     "text": [
      "  1%|          | 12/1000 [02:56<4:02:13, 14.71s/it]"
     ]
    },
    {
     "name": "stdout",
     "output_type": "stream",
     "text": [
      "Batch 0, Loss: 0.7426819205284119\n",
      "Batch 200, Loss: 0.6793713569641113\n",
      "Batch 400, Loss: 1.0504164695739746\n",
      "Batch 600, Loss: 0.606379508972168\n"
     ]
    },
    {
     "name": "stderr",
     "output_type": "stream",
     "text": [
      "  1%|▏         | 13/1000 [03:10<4:01:44, 14.70s/it]"
     ]
    },
    {
     "name": "stdout",
     "output_type": "stream",
     "text": [
      "Batch 0, Loss: 0.5262171030044556\n",
      "Batch 200, Loss: 0.6052038073539734\n",
      "Batch 400, Loss: 0.6815637350082397\n",
      "Batch 600, Loss: 0.7651020288467407\n"
     ]
    },
    {
     "name": "stderr",
     "output_type": "stream",
     "text": [
      "  1%|▏         | 14/1000 [03:24<3:57:59, 14.48s/it]"
     ]
    },
    {
     "name": "stdout",
     "output_type": "stream",
     "text": [
      "Batch 0, Loss: 0.5014015436172485\n",
      "Batch 200, Loss: 0.5559532046318054\n",
      "Batch 400, Loss: 0.9253748059272766\n",
      "Batch 600, Loss: 0.646149218082428\n"
     ]
    },
    {
     "name": "stderr",
     "output_type": "stream",
     "text": [
      "  2%|▏         | 15/1000 [03:39<3:58:03, 14.50s/it]"
     ]
    },
    {
     "name": "stdout",
     "output_type": "stream",
     "text": [
      "Batch 0, Loss: 0.5040042400360107\n",
      "Batch 200, Loss: 0.5451819896697998\n",
      "Batch 400, Loss: 0.4391864836215973\n",
      "Batch 600, Loss: 0.6247478723526001\n"
     ]
    },
    {
     "name": "stderr",
     "output_type": "stream",
     "text": [
      "  2%|▏         | 16/1000 [03:54<3:59:09, 14.58s/it]"
     ]
    },
    {
     "name": "stdout",
     "output_type": "stream",
     "text": [
      "Batch 0, Loss: 0.6297990679740906\n",
      "Batch 200, Loss: 0.6171576976776123\n",
      "Batch 400, Loss: 0.6785350441932678\n",
      "Batch 600, Loss: 0.6428873538970947\n"
     ]
    },
    {
     "name": "stderr",
     "output_type": "stream",
     "text": [
      "  2%|▏         | 17/1000 [04:08<3:58:12, 14.54s/it]"
     ]
    },
    {
     "name": "stdout",
     "output_type": "stream",
     "text": [
      "Batch 0, Loss: 0.5421638488769531\n",
      "Batch 200, Loss: 0.45307013392448425\n",
      "Batch 400, Loss: 0.5395875573158264\n",
      "Batch 600, Loss: 0.22901122272014618\n"
     ]
    },
    {
     "name": "stderr",
     "output_type": "stream",
     "text": [
      "  2%|▏         | 18/1000 [04:22<3:57:25, 14.51s/it]"
     ]
    },
    {
     "name": "stdout",
     "output_type": "stream",
     "text": [
      "Batch 0, Loss: 0.4639112651348114\n",
      "Batch 200, Loss: 0.4227146506309509\n",
      "Batch 400, Loss: 0.746066689491272\n",
      "Batch 600, Loss: 0.460721880197525\n"
     ]
    },
    {
     "name": "stderr",
     "output_type": "stream",
     "text": [
      "  2%|▏         | 19/1000 [04:37<3:57:19, 14.51s/it]"
     ]
    },
    {
     "name": "stdout",
     "output_type": "stream",
     "text": [
      "Batch 0, Loss: 0.40819379687309265\n",
      "Batch 200, Loss: 0.7601826786994934\n",
      "Batch 400, Loss: 0.511643648147583\n",
      "Batch 600, Loss: 0.6042395830154419\n"
     ]
    },
    {
     "name": "stderr",
     "output_type": "stream",
     "text": [
      "  2%|▏         | 20/1000 [04:52<3:58:26, 14.60s/it]"
     ]
    },
    {
     "name": "stdout",
     "output_type": "stream",
     "text": [
      "Batch 0, Loss: 0.24121172726154327\n",
      "Batch 200, Loss: 0.5025886297225952\n",
      "Batch 400, Loss: 0.4492635130882263\n",
      "Batch 600, Loss: 0.652300238609314\n"
     ]
    },
    {
     "name": "stderr",
     "output_type": "stream",
     "text": [
      "  2%|▏         | 21/1000 [05:07<3:59:48, 14.70s/it]"
     ]
    },
    {
     "name": "stdout",
     "output_type": "stream",
     "text": [
      "Batch 0, Loss: 0.6521381735801697\n",
      "Batch 200, Loss: 0.6266553997993469\n",
      "Batch 400, Loss: 0.44092968106269836\n",
      "Batch 600, Loss: 0.36332643032073975\n"
     ]
    },
    {
     "name": "stderr",
     "output_type": "stream",
     "text": [
      "  2%|▏         | 22/1000 [05:22<4:00:37, 14.76s/it]"
     ]
    },
    {
     "name": "stdout",
     "output_type": "stream",
     "text": [
      "Batch 0, Loss: 0.6086392402648926\n",
      "Batch 200, Loss: 0.38233432173728943\n",
      "Batch 400, Loss: 0.29673904180526733\n",
      "Batch 600, Loss: 0.3765081465244293\n"
     ]
    },
    {
     "name": "stderr",
     "output_type": "stream",
     "text": [
      "  2%|▏         | 23/1000 [05:36<4:00:42, 14.78s/it]"
     ]
    },
    {
     "name": "stdout",
     "output_type": "stream",
     "text": [
      "Batch 0, Loss: 0.4384840428829193\n",
      "Batch 200, Loss: 0.43228083848953247\n",
      "Batch 400, Loss: 0.37989184260368347\n",
      "Batch 600, Loss: 0.358601450920105\n"
     ]
    },
    {
     "name": "stderr",
     "output_type": "stream",
     "text": [
      "  2%|▏         | 24/1000 [05:51<4:01:19, 14.84s/it]"
     ]
    },
    {
     "name": "stdout",
     "output_type": "stream",
     "text": [
      "Batch 0, Loss: 0.5855731964111328\n",
      "Batch 200, Loss: 0.5585736036300659\n",
      "Batch 400, Loss: 0.3380015790462494\n",
      "Batch 600, Loss: 0.37950071692466736\n"
     ]
    },
    {
     "name": "stderr",
     "output_type": "stream",
     "text": [
      "  2%|▎         | 25/1000 [06:06<4:02:16, 14.91s/it]"
     ]
    },
    {
     "name": "stdout",
     "output_type": "stream",
     "text": [
      "Batch 0, Loss: 0.342646062374115\n",
      "Batch 200, Loss: 0.19082309305667877\n",
      "Batch 400, Loss: 0.5036967396736145\n",
      "Batch 600, Loss: 0.5292170643806458\n"
     ]
    },
    {
     "name": "stderr",
     "output_type": "stream",
     "text": [
      "  3%|▎         | 26/1000 [06:22<4:04:44, 15.08s/it]"
     ]
    },
    {
     "name": "stdout",
     "output_type": "stream",
     "text": [
      "Batch 0, Loss: 0.31048107147216797\n",
      "Batch 200, Loss: 0.4700939357280731\n",
      "Batch 400, Loss: 0.3693253993988037\n",
      "Batch 600, Loss: 0.3578120768070221\n"
     ]
    },
    {
     "name": "stderr",
     "output_type": "stream",
     "text": [
      "  3%|▎         | 27/1000 [06:37<4:06:09, 15.18s/it]"
     ]
    },
    {
     "name": "stdout",
     "output_type": "stream",
     "text": [
      "Batch 0, Loss: 0.26133739948272705\n",
      "Batch 200, Loss: 0.2779865562915802\n",
      "Batch 400, Loss: 0.5004929900169373\n",
      "Batch 600, Loss: 0.29034003615379333\n"
     ]
    },
    {
     "name": "stderr",
     "output_type": "stream",
     "text": [
      "  3%|▎         | 28/1000 [06:53<4:06:40, 15.23s/it]"
     ]
    },
    {
     "name": "stdout",
     "output_type": "stream",
     "text": [
      "Batch 0, Loss: 0.2921067774295807\n",
      "Batch 200, Loss: 0.3522026240825653\n",
      "Batch 400, Loss: 0.35154178738594055\n",
      "Batch 600, Loss: 0.4837301969528198\n"
     ]
    },
    {
     "name": "stderr",
     "output_type": "stream",
     "text": [
      "  3%|▎         | 29/1000 [07:08<4:08:51, 15.38s/it]"
     ]
    },
    {
     "name": "stdout",
     "output_type": "stream",
     "text": [
      "Batch 0, Loss: 0.29677730798721313\n",
      "Batch 200, Loss: 0.4601864814758301\n",
      "Batch 400, Loss: 0.42638254165649414\n",
      "Batch 600, Loss: 0.33823055028915405\n"
     ]
    },
    {
     "name": "stderr",
     "output_type": "stream",
     "text": [
      "  3%|▎         | 30/1000 [07:24<4:09:52, 15.46s/it]"
     ]
    },
    {
     "name": "stdout",
     "output_type": "stream",
     "text": [
      "Batch 0, Loss: 0.338296115398407\n",
      "Batch 200, Loss: 0.3944741487503052\n",
      "Batch 400, Loss: 0.5856026411056519\n",
      "Batch 600, Loss: 0.3724125325679779\n"
     ]
    },
    {
     "name": "stderr",
     "output_type": "stream",
     "text": [
      "  3%|▎         | 31/1000 [07:40<4:12:15, 15.62s/it]"
     ]
    },
    {
     "name": "stdout",
     "output_type": "stream",
     "text": [
      "Batch 0, Loss: 0.18624302744865417\n",
      "Batch 200, Loss: 0.2859112322330475\n",
      "Batch 400, Loss: 0.2837790548801422\n",
      "Batch 600, Loss: 0.36224523186683655\n"
     ]
    },
    {
     "name": "stderr",
     "output_type": "stream",
     "text": [
      "  3%|▎         | 32/1000 [07:56<4:13:36, 15.72s/it]"
     ]
    },
    {
     "name": "stdout",
     "output_type": "stream",
     "text": [
      "Batch 0, Loss: 0.2372497320175171\n",
      "Batch 200, Loss: 0.2680113613605499\n",
      "Batch 400, Loss: 0.22959260642528534\n",
      "Batch 600, Loss: 0.36843782663345337\n"
     ]
    },
    {
     "name": "stderr",
     "output_type": "stream",
     "text": [
      "  3%|▎         | 33/1000 [08:12<4:14:27, 15.79s/it]"
     ]
    },
    {
     "name": "stdout",
     "output_type": "stream",
     "text": [
      "Batch 0, Loss: 0.38549095392227173\n",
      "Batch 200, Loss: 0.18145856261253357\n",
      "Batch 400, Loss: 0.37638217210769653\n",
      "Batch 600, Loss: 0.3256644010543823\n"
     ]
    },
    {
     "name": "stderr",
     "output_type": "stream",
     "text": [
      "  3%|▎         | 34/1000 [08:28<4:15:30, 15.87s/it]"
     ]
    },
    {
     "name": "stdout",
     "output_type": "stream",
     "text": [
      "Batch 0, Loss: 0.3224197328090668\n",
      "Batch 200, Loss: 0.3003009259700775\n",
      "Batch 400, Loss: 0.25865137577056885\n",
      "Batch 600, Loss: 0.33940258622169495\n"
     ]
    },
    {
     "name": "stderr",
     "output_type": "stream",
     "text": [
      "  4%|▎         | 35/1000 [08:44<4:14:24, 15.82s/it]"
     ]
    },
    {
     "name": "stdout",
     "output_type": "stream",
     "text": [
      "Batch 0, Loss: 0.29766708612442017\n",
      "Batch 200, Loss: 0.3262351155281067\n",
      "Batch 400, Loss: 0.2898567020893097\n",
      "Batch 600, Loss: 0.25591686367988586\n"
     ]
    },
    {
     "name": "stderr",
     "output_type": "stream",
     "text": [
      "  4%|▎         | 36/1000 [09:00<4:14:39, 15.85s/it]"
     ]
    },
    {
     "name": "stdout",
     "output_type": "stream",
     "text": [
      "Batch 0, Loss: 0.2448236495256424\n",
      "Batch 200, Loss: 0.4160405993461609\n",
      "Batch 400, Loss: 0.31011465191841125\n",
      "Batch 600, Loss: 0.4034592807292938\n"
     ]
    },
    {
     "name": "stderr",
     "output_type": "stream",
     "text": [
      "  4%|▎         | 37/1000 [09:17<4:23:33, 16.42s/it]"
     ]
    },
    {
     "name": "stdout",
     "output_type": "stream",
     "text": [
      "Batch 0, Loss: 0.29006144404411316\n",
      "Batch 200, Loss: 0.18747301399707794\n",
      "Batch 400, Loss: 0.37018343806266785\n",
      "Batch 600, Loss: 0.3395773470401764\n"
     ]
    },
    {
     "name": "stderr",
     "output_type": "stream",
     "text": [
      "  4%|▍         | 38/1000 [09:34<4:24:44, 16.51s/it]"
     ]
    },
    {
     "name": "stdout",
     "output_type": "stream",
     "text": [
      "Batch 0, Loss: 0.22149969637393951\n",
      "Batch 200, Loss: 0.22382478415966034\n",
      "Batch 400, Loss: 0.26705241203308105\n",
      "Batch 600, Loss: 0.11499550938606262\n"
     ]
    },
    {
     "name": "stderr",
     "output_type": "stream",
     "text": [
      "  4%|▍         | 39/1000 [09:51<4:26:08, 16.62s/it]"
     ]
    },
    {
     "name": "stdout",
     "output_type": "stream",
     "text": [
      "Batch 0, Loss: 0.10478001087903976\n",
      "Batch 200, Loss: 0.10337995737791061\n",
      "Batch 400, Loss: 0.19503182172775269\n",
      "Batch 600, Loss: 0.3145864009857178\n"
     ]
    },
    {
     "name": "stderr",
     "output_type": "stream",
     "text": [
      "  4%|▍         | 40/1000 [10:10<4:36:02, 17.25s/it]"
     ]
    },
    {
     "name": "stdout",
     "output_type": "stream",
     "text": [
      "Batch 0, Loss: 0.16534049808979034\n",
      "Batch 200, Loss: 0.11377888172864914\n",
      "Batch 400, Loss: 0.24240386486053467\n",
      "Batch 600, Loss: 0.1863415241241455\n"
     ]
    },
    {
     "name": "stderr",
     "output_type": "stream",
     "text": [
      "  4%|▍         | 41/1000 [10:27<4:34:48, 17.19s/it]"
     ]
    },
    {
     "name": "stdout",
     "output_type": "stream",
     "text": [
      "Batch 0, Loss: 0.13090825080871582\n",
      "Batch 200, Loss: 0.25448939204216003\n",
      "Batch 400, Loss: 0.096883125603199\n",
      "Batch 600, Loss: 0.37264153361320496\n"
     ]
    },
    {
     "name": "stderr",
     "output_type": "stream",
     "text": [
      "  4%|▍         | 42/1000 [10:43<4:30:11, 16.92s/it]"
     ]
    },
    {
     "name": "stdout",
     "output_type": "stream",
     "text": [
      "Batch 0, Loss: 0.14601512253284454\n",
      "Batch 200, Loss: 0.12422704696655273\n",
      "Batch 400, Loss: 0.2222398817539215\n",
      "Batch 600, Loss: 0.2371697723865509\n"
     ]
    },
    {
     "name": "stderr",
     "output_type": "stream",
     "text": [
      "  4%|▍         | 43/1000 [10:59<4:26:55, 16.74s/it]"
     ]
    },
    {
     "name": "stdout",
     "output_type": "stream",
     "text": [
      "Batch 0, Loss: 0.25694799423217773\n",
      "Batch 200, Loss: 0.15761515498161316\n",
      "Batch 400, Loss: 0.3069215714931488\n",
      "Batch 600, Loss: 0.2919793426990509\n"
     ]
    },
    {
     "name": "stderr",
     "output_type": "stream",
     "text": [
      "  4%|▍         | 44/1000 [11:16<4:26:57, 16.76s/it]"
     ]
    },
    {
     "name": "stdout",
     "output_type": "stream",
     "text": [
      "Batch 0, Loss: 0.11957571655511856\n",
      "Batch 200, Loss: 0.12219978868961334\n",
      "Batch 400, Loss: 0.17970627546310425\n",
      "Batch 600, Loss: 0.31033802032470703\n"
     ]
    },
    {
     "name": "stderr",
     "output_type": "stream",
     "text": [
      "  4%|▍         | 45/1000 [11:32<4:24:16, 16.60s/it]"
     ]
    },
    {
     "name": "stdout",
     "output_type": "stream",
     "text": [
      "Batch 0, Loss: 0.1357603669166565\n",
      "Batch 200, Loss: 0.19866910576820374\n",
      "Batch 400, Loss: 0.33044272661209106\n",
      "Batch 600, Loss: 0.24673360586166382\n"
     ]
    },
    {
     "name": "stderr",
     "output_type": "stream",
     "text": [
      "  5%|▍         | 46/1000 [11:49<4:22:59, 16.54s/it]"
     ]
    },
    {
     "name": "stdout",
     "output_type": "stream",
     "text": [
      "Batch 0, Loss: 0.1419825702905655\n",
      "Batch 200, Loss: 0.2435513436794281\n",
      "Batch 400, Loss: 0.09318476915359497\n",
      "Batch 600, Loss: 0.3524757921695709\n"
     ]
    },
    {
     "name": "stderr",
     "output_type": "stream",
     "text": [
      "  5%|▍         | 47/1000 [12:06<4:25:12, 16.70s/it]"
     ]
    },
    {
     "name": "stdout",
     "output_type": "stream",
     "text": [
      "Batch 0, Loss: 0.10890594869852066\n",
      "Batch 200, Loss: 0.13437284529209137\n",
      "Batch 400, Loss: 0.16843697428703308\n",
      "Batch 600, Loss: 0.11898986250162125\n"
     ]
    },
    {
     "name": "stderr",
     "output_type": "stream",
     "text": [
      "  5%|▍         | 48/1000 [12:23<4:24:53, 16.69s/it]"
     ]
    },
    {
     "name": "stdout",
     "output_type": "stream",
     "text": [
      "Batch 0, Loss: 0.08461334556341171\n",
      "Batch 200, Loss: 0.2471834272146225\n",
      "Batch 400, Loss: 0.1251745969057083\n",
      "Batch 600, Loss: 0.22562438249588013\n"
     ]
    },
    {
     "name": "stderr",
     "output_type": "stream",
     "text": [
      "  5%|▍         | 49/1000 [12:39<4:23:23, 16.62s/it]"
     ]
    },
    {
     "name": "stdout",
     "output_type": "stream",
     "text": [
      "Batch 0, Loss: 0.1076216846704483\n",
      "Batch 200, Loss: 0.15111377835273743\n",
      "Batch 400, Loss: 0.19340765476226807\n",
      "Batch 600, Loss: 0.19962280988693237\n"
     ]
    },
    {
     "name": "stderr",
     "output_type": "stream",
     "text": [
      "  5%|▌         | 50/1000 [12:55<4:22:34, 16.58s/it]"
     ]
    },
    {
     "name": "stdout",
     "output_type": "stream",
     "text": [
      "Batch 0, Loss: 0.192698135972023\n",
      "Batch 200, Loss: 0.10315974056720734\n",
      "Batch 400, Loss: 0.14624913036823273\n",
      "Batch 600, Loss: 0.09705200046300888\n"
     ]
    },
    {
     "name": "stderr",
     "output_type": "stream",
     "text": [
      "  5%|▌         | 51/1000 [13:12<4:23:58, 16.69s/it]"
     ]
    },
    {
     "name": "stdout",
     "output_type": "stream",
     "text": [
      "Batch 0, Loss: 0.09315316379070282\n",
      "Batch 200, Loss: 0.14549052715301514\n",
      "Batch 400, Loss: 0.2404952198266983\n",
      "Batch 600, Loss: 0.24663786590099335\n"
     ]
    },
    {
     "name": "stderr",
     "output_type": "stream",
     "text": [
      "  5%|▌         | 52/1000 [13:29<4:22:45, 16.63s/it]"
     ]
    },
    {
     "name": "stdout",
     "output_type": "stream",
     "text": [
      "Batch 0, Loss: 0.22051504254341125\n",
      "Batch 200, Loss: 0.11957184225320816\n",
      "Batch 400, Loss: 0.18335917592048645\n",
      "Batch 600, Loss: 0.12958112359046936\n"
     ]
    },
    {
     "name": "stderr",
     "output_type": "stream",
     "text": [
      "  5%|▌         | 53/1000 [13:45<4:21:46, 16.59s/it]"
     ]
    },
    {
     "name": "stdout",
     "output_type": "stream",
     "text": [
      "Batch 0, Loss: 0.10059820115566254\n",
      "Batch 200, Loss: 0.14328192174434662\n",
      "Batch 400, Loss: 0.1378103643655777\n",
      "Batch 600, Loss: 0.07642024010419846\n"
     ]
    },
    {
     "name": "stderr",
     "output_type": "stream",
     "text": [
      "  5%|▌         | 54/1000 [14:02<4:21:20, 16.58s/it]"
     ]
    },
    {
     "name": "stdout",
     "output_type": "stream",
     "text": [
      "Batch 0, Loss: 0.23044119775295258\n",
      "Batch 200, Loss: 0.1599380373954773\n",
      "Batch 400, Loss: 0.15525540709495544\n",
      "Batch 600, Loss: 0.07596319913864136\n"
     ]
    },
    {
     "name": "stderr",
     "output_type": "stream",
     "text": [
      "  6%|▌         | 55/1000 [14:19<4:25:01, 16.83s/it]"
     ]
    },
    {
     "name": "stdout",
     "output_type": "stream",
     "text": [
      "Batch 0, Loss: 0.27211084961891174\n",
      "Batch 200, Loss: 0.11704517900943756\n",
      "Batch 400, Loss: 0.09337586164474487\n",
      "Batch 600, Loss: 0.10513182729482651\n"
     ]
    },
    {
     "name": "stderr",
     "output_type": "stream",
     "text": [
      "  6%|▌         | 56/1000 [14:36<4:23:47, 16.77s/it]"
     ]
    },
    {
     "name": "stdout",
     "output_type": "stream",
     "text": [
      "Batch 0, Loss: 0.06998416036367416\n",
      "Batch 200, Loss: 0.11689179390668869\n",
      "Batch 400, Loss: 0.11693212389945984\n",
      "Batch 600, Loss: 0.17102257907390594\n"
     ]
    },
    {
     "name": "stderr",
     "output_type": "stream",
     "text": [
      "  6%|▌         | 57/1000 [14:53<4:23:10, 16.75s/it]"
     ]
    },
    {
     "name": "stdout",
     "output_type": "stream",
     "text": [
      "Batch 0, Loss: 0.09068049490451813\n",
      "Batch 200, Loss: 0.07095407694578171\n",
      "Batch 400, Loss: 0.2782411575317383\n",
      "Batch 600, Loss: 0.12553083896636963\n"
     ]
    },
    {
     "name": "stderr",
     "output_type": "stream",
     "text": [
      "  6%|▌         | 58/1000 [15:10<4:23:37, 16.79s/it]"
     ]
    },
    {
     "name": "stdout",
     "output_type": "stream",
     "text": [
      "Batch 0, Loss: 0.1280508041381836\n",
      "Batch 200, Loss: 0.039427824318408966\n",
      "Batch 400, Loss: 0.08802724629640579\n",
      "Batch 600, Loss: 0.203337624669075\n"
     ]
    },
    {
     "name": "stderr",
     "output_type": "stream",
     "text": [
      "  6%|▌         | 59/1000 [15:26<4:22:12, 16.72s/it]"
     ]
    },
    {
     "name": "stdout",
     "output_type": "stream",
     "text": [
      "Batch 0, Loss: 0.29791611433029175\n",
      "Batch 200, Loss: 0.10322082042694092\n",
      "Batch 400, Loss: 0.18932786583900452\n",
      "Batch 600, Loss: 0.15796014666557312\n"
     ]
    },
    {
     "name": "stderr",
     "output_type": "stream",
     "text": [
      "  6%|▌         | 60/1000 [15:44<4:25:07, 16.92s/it]"
     ]
    },
    {
     "name": "stdout",
     "output_type": "stream",
     "text": [
      "Batch 0, Loss: 0.03125841170549393\n",
      "Batch 200, Loss: 0.3532693684101105\n",
      "Batch 400, Loss: 0.22147443890571594\n",
      "Batch 600, Loss: 0.15950442850589752\n"
     ]
    },
    {
     "name": "stderr",
     "output_type": "stream",
     "text": [
      "  6%|▌         | 61/1000 [16:00<4:24:01, 16.87s/it]"
     ]
    },
    {
     "name": "stdout",
     "output_type": "stream",
     "text": [
      "Batch 0, Loss: 0.2005380243062973\n",
      "Batch 200, Loss: 0.13596533238887787\n",
      "Batch 400, Loss: 0.055513691157102585\n",
      "Batch 600, Loss: 0.08115366101264954\n"
     ]
    },
    {
     "name": "stderr",
     "output_type": "stream",
     "text": [
      "  6%|▌         | 62/1000 [16:17<4:25:10, 16.96s/it]"
     ]
    },
    {
     "name": "stdout",
     "output_type": "stream",
     "text": [
      "Batch 0, Loss: 0.23136773705482483\n",
      "Batch 200, Loss: 0.16290737688541412\n",
      "Batch 400, Loss: 0.16192354261875153\n",
      "Batch 600, Loss: 0.1784929484128952\n"
     ]
    },
    {
     "name": "stderr",
     "output_type": "stream",
     "text": [
      "  6%|▋         | 63/1000 [16:34<4:23:14, 16.86s/it]"
     ]
    },
    {
     "name": "stdout",
     "output_type": "stream",
     "text": [
      "Batch 0, Loss: 0.09165852516889572\n",
      "Batch 200, Loss: 0.1437712013721466\n",
      "Batch 400, Loss: 0.12976518273353577\n",
      "Batch 600, Loss: 0.22320511937141418\n"
     ]
    },
    {
     "name": "stderr",
     "output_type": "stream",
     "text": [
      "  6%|▋         | 64/1000 [16:51<4:22:53, 16.85s/it]"
     ]
    },
    {
     "name": "stdout",
     "output_type": "stream",
     "text": [
      "Batch 0, Loss: 0.07911764830350876\n",
      "Batch 200, Loss: 0.2590755820274353\n",
      "Batch 400, Loss: 0.1565166711807251\n",
      "Batch 600, Loss: 0.04719209298491478\n"
     ]
    },
    {
     "name": "stderr",
     "output_type": "stream",
     "text": [
      "  6%|▋         | 65/1000 [17:08<4:24:20, 16.96s/it]"
     ]
    },
    {
     "name": "stdout",
     "output_type": "stream",
     "text": [
      "Batch 0, Loss: 0.0449707917869091\n",
      "Batch 200, Loss: 0.05223235487937927\n",
      "Batch 400, Loss: 0.22569502890110016\n",
      "Batch 600, Loss: 0.13245445489883423\n"
     ]
    },
    {
     "name": "stderr",
     "output_type": "stream",
     "text": [
      "  7%|▋         | 66/1000 [17:25<4:23:51, 16.95s/it]"
     ]
    },
    {
     "name": "stdout",
     "output_type": "stream",
     "text": [
      "Batch 0, Loss: 0.06788870692253113\n",
      "Batch 200, Loss: 0.05111544579267502\n",
      "Batch 400, Loss: 0.05574679747223854\n",
      "Batch 600, Loss: 0.04168123006820679\n"
     ]
    },
    {
     "name": "stderr",
     "output_type": "stream",
     "text": [
      "  7%|▋         | 67/1000 [17:42<4:23:30, 16.95s/it]"
     ]
    },
    {
     "name": "stdout",
     "output_type": "stream",
     "text": [
      "Batch 0, Loss: 0.09801099449396133\n",
      "Batch 200, Loss: 0.04146251827478409\n",
      "Batch 400, Loss: 0.17388805747032166\n",
      "Batch 600, Loss: 0.15775568783283234\n"
     ]
    },
    {
     "name": "stderr",
     "output_type": "stream",
     "text": [
      "  7%|▋         | 68/1000 [17:59<4:22:50, 16.92s/it]"
     ]
    },
    {
     "name": "stdout",
     "output_type": "stream",
     "text": [
      "Batch 0, Loss: 0.04031118005514145\n",
      "Batch 200, Loss: 0.01289634220302105\n",
      "Batch 400, Loss: 0.0887112095952034\n",
      "Batch 600, Loss: 0.1471143364906311\n"
     ]
    },
    {
     "name": "stderr",
     "output_type": "stream",
     "text": [
      "  7%|▋         | 69/1000 [18:17<4:26:21, 17.17s/it]"
     ]
    },
    {
     "name": "stdout",
     "output_type": "stream",
     "text": [
      "Batch 0, Loss: 0.07192698866128922\n",
      "Batch 200, Loss: 0.19076655805110931\n",
      "Batch 400, Loss: 0.046401239931583405\n",
      "Batch 600, Loss: 0.1365903615951538\n"
     ]
    },
    {
     "name": "stderr",
     "output_type": "stream",
     "text": [
      "  7%|▋         | 70/1000 [18:34<4:26:18, 17.18s/it]"
     ]
    },
    {
     "name": "stdout",
     "output_type": "stream",
     "text": [
      "Batch 0, Loss: 0.07768960297107697\n",
      "Batch 200, Loss: 0.16484342515468597\n",
      "Batch 400, Loss: 0.19279766082763672\n",
      "Batch 600, Loss: 0.1532292366027832\n"
     ]
    },
    {
     "name": "stderr",
     "output_type": "stream",
     "text": [
      "  7%|▋         | 71/1000 [18:51<4:24:24, 17.08s/it]"
     ]
    },
    {
     "name": "stdout",
     "output_type": "stream",
     "text": [
      "Batch 0, Loss: 0.04418005049228668\n",
      "Batch 200, Loss: 0.13862290978431702\n",
      "Batch 400, Loss: 0.0642244815826416\n",
      "Batch 600, Loss: 0.08701422065496445\n"
     ]
    },
    {
     "name": "stderr",
     "output_type": "stream",
     "text": [
      "  7%|▋         | 72/1000 [19:08<4:23:53, 17.06s/it]"
     ]
    },
    {
     "name": "stdout",
     "output_type": "stream",
     "text": [
      "Batch 0, Loss: 0.14288458228111267\n",
      "Batch 200, Loss: 0.06768181920051575\n",
      "Batch 400, Loss: 0.07560871541500092\n",
      "Batch 600, Loss: 0.16475936770439148\n"
     ]
    },
    {
     "name": "stderr",
     "output_type": "stream",
     "text": [
      "  7%|▋         | 73/1000 [19:24<4:22:10, 16.97s/it]"
     ]
    },
    {
     "name": "stdout",
     "output_type": "stream",
     "text": [
      "Batch 0, Loss: 0.09931599348783493\n",
      "Batch 200, Loss: 0.07395980507135391\n",
      "Batch 400, Loss: 0.06747900694608688\n",
      "Batch 600, Loss: 0.1543038785457611\n"
     ]
    },
    {
     "name": "stderr",
     "output_type": "stream",
     "text": [
      "  7%|▋         | 74/1000 [19:41<4:19:32, 16.82s/it]"
     ]
    },
    {
     "name": "stdout",
     "output_type": "stream",
     "text": [
      "Batch 0, Loss: 0.13972871005535126\n",
      "Batch 200, Loss: 0.09717641025781631\n",
      "Batch 400, Loss: 0.143303781747818\n",
      "Batch 600, Loss: 0.047373153269290924\n"
     ]
    },
    {
     "name": "stderr",
     "output_type": "stream",
     "text": [
      "  8%|▊         | 75/1000 [19:58<4:18:31, 16.77s/it]"
     ]
    },
    {
     "name": "stdout",
     "output_type": "stream",
     "text": [
      "Batch 0, Loss: 0.029584851115942\n",
      "Batch 200, Loss: 0.05209730193018913\n",
      "Batch 400, Loss: 0.026872077956795692\n",
      "Batch 600, Loss: 0.09613741934299469\n"
     ]
    },
    {
     "name": "stderr",
     "output_type": "stream",
     "text": [
      "  8%|▊         | 76/1000 [20:14<4:18:24, 16.78s/it]"
     ]
    },
    {
     "name": "stdout",
     "output_type": "stream",
     "text": [
      "Batch 0, Loss: 0.07353039085865021\n",
      "Batch 200, Loss: 0.043469127267599106\n",
      "Batch 400, Loss: 0.0127741489559412\n",
      "Batch 600, Loss: 0.29534780979156494\n"
     ]
    },
    {
     "name": "stderr",
     "output_type": "stream",
     "text": [
      "  8%|▊         | 77/1000 [20:31<4:15:54, 16.64s/it]"
     ]
    },
    {
     "name": "stdout",
     "output_type": "stream",
     "text": [
      "Batch 0, Loss: 0.06015324220061302\n",
      "Batch 200, Loss: 0.013225793838500977\n",
      "Batch 400, Loss: 0.09373313188552856\n",
      "Batch 600, Loss: 0.060427699238061905\n"
     ]
    },
    {
     "name": "stderr",
     "output_type": "stream",
     "text": [
      "  8%|▊         | 78/1000 [20:47<4:13:16, 16.48s/it]"
     ]
    },
    {
     "name": "stdout",
     "output_type": "stream",
     "text": [
      "Batch 0, Loss: 0.055353060364723206\n",
      "Batch 200, Loss: 0.09949459135532379\n",
      "Batch 400, Loss: 0.09013741463422775\n",
      "Batch 600, Loss: 0.1734529435634613\n"
     ]
    },
    {
     "name": "stderr",
     "output_type": "stream",
     "text": [
      "  8%|▊         | 79/1000 [21:03<4:11:07, 16.36s/it]"
     ]
    },
    {
     "name": "stdout",
     "output_type": "stream",
     "text": [
      "Batch 0, Loss: 0.09256996959447861\n",
      "Batch 200, Loss: 0.054696064442396164\n",
      "Batch 400, Loss: 0.20032362639904022\n",
      "Batch 600, Loss: 0.04626808315515518\n"
     ]
    },
    {
     "name": "stderr",
     "output_type": "stream",
     "text": [
      "  8%|▊         | 80/1000 [21:19<4:11:34, 16.41s/it]"
     ]
    },
    {
     "name": "stdout",
     "output_type": "stream",
     "text": [
      "Batch 0, Loss: 0.06439690291881561\n",
      "Batch 200, Loss: 0.4181915521621704\n",
      "Batch 400, Loss: 0.19284498691558838\n",
      "Batch 600, Loss: 0.05583440884947777\n"
     ]
    },
    {
     "name": "stderr",
     "output_type": "stream",
     "text": [
      "  8%|▊         | 81/1000 [21:35<4:09:36, 16.30s/it]"
     ]
    },
    {
     "name": "stdout",
     "output_type": "stream",
     "text": [
      "Batch 0, Loss: 0.24137842655181885\n",
      "Batch 200, Loss: 0.056949831545352936\n",
      "Batch 400, Loss: 0.042360782623291016\n",
      "Batch 600, Loss: 0.13494747877120972\n"
     ]
    },
    {
     "name": "stderr",
     "output_type": "stream",
     "text": [
      "  8%|▊         | 82/1000 [21:52<4:08:38, 16.25s/it]"
     ]
    },
    {
     "name": "stdout",
     "output_type": "stream",
     "text": [
      "Batch 0, Loss: 0.019731085747480392\n",
      "Batch 200, Loss: 0.08733835071325302\n",
      "Batch 400, Loss: 0.11479286849498749\n",
      "Batch 600, Loss: 0.04015180096030235\n"
     ]
    },
    {
     "name": "stderr",
     "output_type": "stream",
     "text": [
      "  8%|▊         | 83/1000 [22:08<4:09:47, 16.34s/it]"
     ]
    },
    {
     "name": "stdout",
     "output_type": "stream",
     "text": [
      "Batch 0, Loss: 0.11846061050891876\n",
      "Batch 200, Loss: 0.077434241771698\n",
      "Batch 400, Loss: 0.08503667265176773\n",
      "Batch 600, Loss: 0.07597751915454865\n"
     ]
    },
    {
     "name": "stderr",
     "output_type": "stream",
     "text": [
      "  8%|▊         | 84/1000 [22:24<4:09:45, 16.36s/it]"
     ]
    },
    {
     "name": "stdout",
     "output_type": "stream",
     "text": [
      "Batch 0, Loss: 0.13142390549182892\n",
      "Batch 200, Loss: 0.10464994609355927\n",
      "Batch 400, Loss: 0.08196553587913513\n",
      "Batch 600, Loss: 0.10402463376522064\n"
     ]
    },
    {
     "name": "stderr",
     "output_type": "stream",
     "text": [
      "  8%|▊         | 85/1000 [22:41<4:08:01, 16.26s/it]"
     ]
    },
    {
     "name": "stdout",
     "output_type": "stream",
     "text": [
      "Batch 0, Loss: 0.09438690543174744\n",
      "Batch 200, Loss: 0.18416032195091248\n",
      "Batch 400, Loss: 0.04393482208251953\n",
      "Batch 600, Loss: 0.25710490345954895\n"
     ]
    },
    {
     "name": "stderr",
     "output_type": "stream",
     "text": [
      "  9%|▊         | 86/1000 [22:57<4:06:31, 16.18s/it]"
     ]
    },
    {
     "name": "stdout",
     "output_type": "stream",
     "text": [
      "Batch 0, Loss: 0.08224190026521683\n",
      "Batch 200, Loss: 0.11479943245649338\n",
      "Batch 400, Loss: 0.12098164856433868\n",
      "Batch 600, Loss: 0.13948167860507965\n"
     ]
    },
    {
     "name": "stderr",
     "output_type": "stream",
     "text": [
      "  9%|▊         | 87/1000 [23:13<4:07:41, 16.28s/it]"
     ]
    },
    {
     "name": "stdout",
     "output_type": "stream",
     "text": [
      "Batch 0, Loss: 0.011374019086360931\n",
      "Batch 200, Loss: 0.07114318758249283\n",
      "Batch 400, Loss: 0.1875883936882019\n",
      "Batch 600, Loss: 0.1066187173128128\n"
     ]
    },
    {
     "name": "stderr",
     "output_type": "stream",
     "text": [
      "  9%|▉         | 88/1000 [23:29<4:07:41, 16.30s/it]"
     ]
    },
    {
     "name": "stdout",
     "output_type": "stream",
     "text": [
      "Batch 0, Loss: 0.08291774988174438\n",
      "Batch 200, Loss: 0.035263221710920334\n",
      "Batch 400, Loss: 0.037137873470783234\n",
      "Batch 600, Loss: 0.1402290165424347\n"
     ]
    },
    {
     "name": "stderr",
     "output_type": "stream",
     "text": [
      "  9%|▉         | 89/1000 [23:45<4:06:16, 16.22s/it]"
     ]
    },
    {
     "name": "stdout",
     "output_type": "stream",
     "text": [
      "Batch 0, Loss: 0.04026944190263748\n",
      "Batch 200, Loss: 0.10616064071655273\n",
      "Batch 400, Loss: 0.02753535658121109\n",
      "Batch 600, Loss: 0.09966804087162018\n"
     ]
    },
    {
     "name": "stderr",
     "output_type": "stream",
     "text": [
      "  9%|▉         | 90/1000 [24:02<4:05:49, 16.21s/it]"
     ]
    },
    {
     "name": "stdout",
     "output_type": "stream",
     "text": [
      "Batch 0, Loss: 0.04943659156560898\n",
      "Batch 200, Loss: 0.049295760691165924\n",
      "Batch 400, Loss: 0.4328765273094177\n",
      "Batch 600, Loss: 0.12162952125072479\n"
     ]
    },
    {
     "name": "stderr",
     "output_type": "stream",
     "text": [
      "  9%|▉         | 91/1000 [24:18<4:06:07, 16.25s/it]"
     ]
    },
    {
     "name": "stdout",
     "output_type": "stream",
     "text": [
      "Batch 0, Loss: 0.19925975799560547\n",
      "Batch 200, Loss: 0.3621954321861267\n",
      "Batch 400, Loss: 0.06563223153352737\n",
      "Batch 600, Loss: 0.11597301810979843\n"
     ]
    },
    {
     "name": "stderr",
     "output_type": "stream",
     "text": [
      "  9%|▉         | 92/1000 [24:34<4:04:36, 16.16s/it]"
     ]
    },
    {
     "name": "stdout",
     "output_type": "stream",
     "text": [
      "Batch 0, Loss: 0.10663916915655136\n",
      "Batch 200, Loss: 0.015094712376594543\n",
      "Batch 400, Loss: 0.010538813658058643\n",
      "Batch 600, Loss: 0.12347963452339172\n"
     ]
    },
    {
     "name": "stderr",
     "output_type": "stream",
     "text": [
      "  9%|▉         | 93/1000 [24:50<4:03:12, 16.09s/it]"
     ]
    },
    {
     "name": "stdout",
     "output_type": "stream",
     "text": [
      "Batch 0, Loss: 0.07158424705266953\n",
      "Batch 200, Loss: 0.10481701791286469\n",
      "Batch 400, Loss: 0.17548996210098267\n",
      "Batch 600, Loss: 0.06706403195858002\n"
     ]
    },
    {
     "name": "stderr",
     "output_type": "stream",
     "text": [
      "  9%|▉         | 94/1000 [25:06<4:02:42, 16.07s/it]"
     ]
    },
    {
     "name": "stdout",
     "output_type": "stream",
     "text": [
      "Batch 0, Loss: 0.08576469123363495\n",
      "Batch 200, Loss: 0.34624096751213074\n",
      "Batch 400, Loss: 0.1114160418510437\n",
      "Batch 600, Loss: 0.02874336577951908\n"
     ]
    },
    {
     "name": "stderr",
     "output_type": "stream",
     "text": [
      " 10%|▉         | 95/1000 [25:22<4:02:47, 16.10s/it]"
     ]
    },
    {
     "name": "stdout",
     "output_type": "stream",
     "text": [
      "Batch 0, Loss: 0.06455554813146591\n",
      "Batch 200, Loss: 0.10746689140796661\n",
      "Batch 400, Loss: 0.16450119018554688\n",
      "Batch 600, Loss: 0.04117763787508011\n"
     ]
    },
    {
     "name": "stderr",
     "output_type": "stream",
     "text": [
      " 10%|▉         | 96/1000 [25:38<4:01:45, 16.05s/it]"
     ]
    },
    {
     "name": "stdout",
     "output_type": "stream",
     "text": [
      "Batch 0, Loss: 0.038954947143793106\n",
      "Batch 200, Loss: 0.07841312885284424\n",
      "Batch 400, Loss: 0.1994386464357376\n",
      "Batch 600, Loss: 0.060720693320035934\n"
     ]
    },
    {
     "name": "stderr",
     "output_type": "stream",
     "text": [
      " 10%|▉         | 97/1000 [25:54<4:00:54, 16.01s/it]"
     ]
    },
    {
     "name": "stdout",
     "output_type": "stream",
     "text": [
      "Batch 0, Loss: 0.1703166961669922\n",
      "Batch 200, Loss: 0.10846377909183502\n",
      "Batch 400, Loss: 0.12112636119127274\n",
      "Batch 600, Loss: 0.20214228332042694\n"
     ]
    },
    {
     "name": "stderr",
     "output_type": "stream",
     "text": [
      " 10%|▉         | 98/1000 [26:10<4:01:50, 16.09s/it]"
     ]
    },
    {
     "name": "stdout",
     "output_type": "stream",
     "text": [
      "Batch 0, Loss: 0.16474583745002747\n",
      "Batch 200, Loss: 0.06524615734815598\n",
      "Batch 400, Loss: 0.07697295397520065\n",
      "Batch 600, Loss: 0.02760300040245056\n"
     ]
    },
    {
     "name": "stderr",
     "output_type": "stream",
     "text": [
      " 10%|▉         | 99/1000 [26:26<4:00:16, 16.00s/it]"
     ]
    },
    {
     "name": "stdout",
     "output_type": "stream",
     "text": [
      "Batch 0, Loss: 0.07798445224761963\n",
      "Batch 200, Loss: 0.09986910223960876\n",
      "Batch 400, Loss: 0.05410869047045708\n",
      "Batch 600, Loss: 0.03364910930395126\n"
     ]
    },
    {
     "name": "stderr",
     "output_type": "stream",
     "text": [
      " 10%|█         | 100/1000 [26:42<3:58:56, 15.93s/it]"
     ]
    },
    {
     "name": "stdout",
     "output_type": "stream",
     "text": [
      "Batch 0, Loss: 0.16863708198070526\n",
      "Batch 200, Loss: 0.02063526213169098\n",
      "Batch 400, Loss: 0.075899139046669\n",
      "Batch 600, Loss: 0.12386934459209442\n"
     ]
    },
    {
     "name": "stderr",
     "output_type": "stream",
     "text": [
      " 10%|█         | 101/1000 [26:57<3:57:46, 15.87s/it]"
     ]
    },
    {
     "name": "stdout",
     "output_type": "stream",
     "text": [
      "Batch 0, Loss: 0.04021518677473068\n",
      "Batch 200, Loss: 0.10609378665685654\n",
      "Batch 400, Loss: 0.0583612434566021\n",
      "Batch 600, Loss: 0.06413770467042923\n"
     ]
    },
    {
     "name": "stderr",
     "output_type": "stream",
     "text": [
      " 10%|█         | 102/1000 [27:14<4:00:16, 16.05s/it]"
     ]
    },
    {
     "name": "stdout",
     "output_type": "stream",
     "text": [
      "Batch 0, Loss: 0.017951615154743195\n",
      "Batch 200, Loss: 0.053494635969400406\n",
      "Batch 400, Loss: 0.1375107318162918\n",
      "Batch 600, Loss: 0.04222138971090317\n"
     ]
    },
    {
     "name": "stderr",
     "output_type": "stream",
     "text": [
      " 10%|█         | 103/1000 [27:30<3:59:19, 16.01s/it]"
     ]
    },
    {
     "name": "stdout",
     "output_type": "stream",
     "text": [
      "Batch 0, Loss: 0.167697474360466\n",
      "Batch 200, Loss: 0.09710290282964706\n",
      "Batch 400, Loss: 0.03716288134455681\n",
      "Batch 600, Loss: 0.09197352081537247\n"
     ]
    },
    {
     "name": "stderr",
     "output_type": "stream",
     "text": [
      " 10%|█         | 104/1000 [27:46<3:58:42, 15.98s/it]"
     ]
    },
    {
     "name": "stdout",
     "output_type": "stream",
     "text": [
      "Batch 0, Loss: 0.031285468488931656\n",
      "Batch 200, Loss: 0.24820458889007568\n",
      "Batch 400, Loss: 0.04269856587052345\n",
      "Batch 600, Loss: 0.03774372860789299\n"
     ]
    },
    {
     "name": "stderr",
     "output_type": "stream",
     "text": [
      " 10%|█         | 105/1000 [28:02<3:57:58, 15.95s/it]"
     ]
    },
    {
     "name": "stdout",
     "output_type": "stream",
     "text": [
      "Batch 0, Loss: 0.12175525724887848\n",
      "Batch 200, Loss: 0.14251859486103058\n",
      "Batch 400, Loss: 0.10002055764198303\n",
      "Batch 600, Loss: 0.041200198233127594\n"
     ]
    },
    {
     "name": "stderr",
     "output_type": "stream",
     "text": [
      " 11%|█         | 106/1000 [28:18<3:59:02, 16.04s/it]"
     ]
    },
    {
     "name": "stdout",
     "output_type": "stream",
     "text": [
      "Batch 0, Loss: 0.0386083759367466\n",
      "Batch 200, Loss: 0.01431354321539402\n",
      "Batch 400, Loss: 0.054461751133203506\n",
      "Batch 600, Loss: 0.009756973944604397\n"
     ]
    },
    {
     "name": "stderr",
     "output_type": "stream",
     "text": [
      " 11%|█         | 107/1000 [28:34<3:58:06, 16.00s/it]"
     ]
    },
    {
     "name": "stdout",
     "output_type": "stream",
     "text": [
      "Batch 0, Loss: 0.09710296243429184\n",
      "Batch 200, Loss: 0.25894829630851746\n",
      "Batch 400, Loss: 0.09403328597545624\n",
      "Batch 600, Loss: 0.19788624346256256\n"
     ]
    },
    {
     "name": "stderr",
     "output_type": "stream",
     "text": [
      " 11%|█         | 108/1000 [28:49<3:56:39, 15.92s/it]"
     ]
    },
    {
     "name": "stdout",
     "output_type": "stream",
     "text": [
      "Batch 0, Loss: 0.04573418200016022\n",
      "Batch 200, Loss: 0.05346652492880821\n",
      "Batch 400, Loss: 0.092093825340271\n",
      "Batch 600, Loss: 0.04499735310673714\n"
     ]
    },
    {
     "name": "stderr",
     "output_type": "stream",
     "text": [
      " 11%|█         | 109/1000 [29:05<3:56:17, 15.91s/it]"
     ]
    },
    {
     "name": "stdout",
     "output_type": "stream",
     "text": [
      "Batch 0, Loss: 0.01128405798226595\n",
      "Batch 200, Loss: 0.023084387183189392\n",
      "Batch 400, Loss: 0.3878677785396576\n",
      "Batch 600, Loss: 0.11346476525068283\n"
     ]
    },
    {
     "name": "stderr",
     "output_type": "stream",
     "text": [
      " 11%|█         | 110/1000 [29:21<3:56:52, 15.97s/it]"
     ]
    },
    {
     "name": "stdout",
     "output_type": "stream",
     "text": [
      "Batch 0, Loss: 0.07085364311933517\n",
      "Batch 200, Loss: 0.015733690932393074\n",
      "Batch 400, Loss: 0.017109885811805725\n",
      "Batch 600, Loss: 0.01651078090071678\n"
     ]
    },
    {
     "name": "stderr",
     "output_type": "stream",
     "text": [
      " 11%|█         | 111/1000 [29:37<3:56:08, 15.94s/it]"
     ]
    },
    {
     "name": "stdout",
     "output_type": "stream",
     "text": [
      "Batch 0, Loss: 0.10602845251560211\n",
      "Batch 200, Loss: 0.011450144462287426\n",
      "Batch 400, Loss: 0.011906661093235016\n",
      "Batch 600, Loss: 0.04099845886230469\n"
     ]
    },
    {
     "name": "stderr",
     "output_type": "stream",
     "text": [
      " 11%|█         | 112/1000 [29:53<3:55:22, 15.90s/it]"
     ]
    },
    {
     "name": "stdout",
     "output_type": "stream",
     "text": [
      "Batch 0, Loss: 0.053787462413311005\n",
      "Batch 200, Loss: 0.046361036598682404\n",
      "Batch 400, Loss: 0.013023843988776207\n",
      "Batch 600, Loss: 0.10469590127468109\n"
     ]
    },
    {
     "name": "stderr",
     "output_type": "stream",
     "text": [
      " 11%|█▏        | 113/1000 [30:10<3:57:10, 16.04s/it]"
     ]
    },
    {
     "name": "stdout",
     "output_type": "stream",
     "text": [
      "Batch 0, Loss: 0.0748448371887207\n",
      "Batch 200, Loss: 0.084263376891613\n",
      "Batch 400, Loss: 0.030958833172917366\n",
      "Batch 600, Loss: 0.061376236379146576\n"
     ]
    },
    {
     "name": "stderr",
     "output_type": "stream",
     "text": [
      " 11%|█▏        | 114/1000 [30:26<3:56:53, 16.04s/it]"
     ]
    },
    {
     "name": "stdout",
     "output_type": "stream",
     "text": [
      "Batch 0, Loss: 0.028711427003145218\n",
      "Batch 200, Loss: 0.13030056655406952\n",
      "Batch 400, Loss: 0.025490937754511833\n",
      "Batch 600, Loss: 0.011966227553784847\n"
     ]
    },
    {
     "name": "stderr",
     "output_type": "stream",
     "text": [
      " 12%|█▏        | 115/1000 [30:41<3:55:06, 15.94s/it]"
     ]
    },
    {
     "name": "stdout",
     "output_type": "stream",
     "text": [
      "Batch 0, Loss: 0.042475808411836624\n",
      "Batch 200, Loss: 0.07965569198131561\n",
      "Batch 400, Loss: 0.050969161093235016\n",
      "Batch 600, Loss: 0.07430785149335861\n"
     ]
    },
    {
     "name": "stderr",
     "output_type": "stream",
     "text": [
      " 12%|█▏        | 116/1000 [30:57<3:54:29, 15.92s/it]"
     ]
    },
    {
     "name": "stdout",
     "output_type": "stream",
     "text": [
      "Batch 0, Loss: 0.013463765382766724\n",
      "Batch 200, Loss: 0.025988606736063957\n",
      "Batch 400, Loss: 0.020976101979613304\n",
      "Batch 600, Loss: 0.023804018273949623\n"
     ]
    },
    {
     "name": "stderr",
     "output_type": "stream",
     "text": [
      " 12%|█▏        | 117/1000 [31:13<3:55:18, 15.99s/it]"
     ]
    },
    {
     "name": "stdout",
     "output_type": "stream",
     "text": [
      "Batch 0, Loss: 0.09582854807376862\n",
      "Batch 200, Loss: 0.1707967221736908\n",
      "Batch 400, Loss: 0.3282579481601715\n",
      "Batch 600, Loss: 0.012913193553686142\n"
     ]
    },
    {
     "name": "stderr",
     "output_type": "stream",
     "text": [
      " 12%|█▏        | 118/1000 [31:29<3:55:42, 16.03s/it]"
     ]
    },
    {
     "name": "stdout",
     "output_type": "stream",
     "text": [
      "Batch 0, Loss: 0.15035389363765717\n",
      "Batch 200, Loss: 0.08233366161584854\n",
      "Batch 400, Loss: 0.048013731837272644\n",
      "Batch 600, Loss: 0.02769940160214901\n"
     ]
    },
    {
     "name": "stderr",
     "output_type": "stream",
     "text": [
      " 12%|█▏        | 119/1000 [31:46<3:58:59, 16.28s/it]"
     ]
    },
    {
     "name": "stdout",
     "output_type": "stream",
     "text": [
      "Batch 0, Loss: 0.017397528514266014\n",
      "Batch 200, Loss: 0.005856926087290049\n",
      "Batch 400, Loss: 0.14851483702659607\n",
      "Batch 600, Loss: 0.014591499231755733\n"
     ]
    },
    {
     "name": "stderr",
     "output_type": "stream",
     "text": [
      " 12%|█▏        | 120/1000 [32:02<3:57:25, 16.19s/it]"
     ]
    },
    {
     "name": "stdout",
     "output_type": "stream",
     "text": [
      "Batch 0, Loss: 0.08037709444761276\n",
      "Batch 200, Loss: 0.11072883009910583\n",
      "Batch 400, Loss: 0.026761403307318687\n",
      "Batch 600, Loss: 0.015679068863391876\n"
     ]
    },
    {
     "name": "stderr",
     "output_type": "stream",
     "text": [
      " 12%|█▏        | 121/1000 [32:18<3:57:17, 16.20s/it]"
     ]
    },
    {
     "name": "stdout",
     "output_type": "stream",
     "text": [
      "Batch 0, Loss: 0.04964672029018402\n",
      "Batch 200, Loss: 0.05420365557074547\n",
      "Batch 400, Loss: 0.09785191714763641\n",
      "Batch 600, Loss: 0.023826636373996735\n"
     ]
    },
    {
     "name": "stderr",
     "output_type": "stream",
     "text": [
      " 12%|█▏        | 122/1000 [32:34<3:54:50, 16.05s/it]"
     ]
    },
    {
     "name": "stdout",
     "output_type": "stream",
     "text": [
      "Batch 0, Loss: 0.1582915037870407\n",
      "Batch 200, Loss: 0.09873861074447632\n",
      "Batch 400, Loss: 0.02852732501924038\n",
      "Batch 600, Loss: 0.14927643537521362\n"
     ]
    },
    {
     "name": "stderr",
     "output_type": "stream",
     "text": [
      " 12%|█▏        | 123/1000 [32:50<3:53:58, 16.01s/it]"
     ]
    },
    {
     "name": "stdout",
     "output_type": "stream",
     "text": [
      "Batch 0, Loss: 0.18309196829795837\n",
      "Batch 200, Loss: 0.02058987319469452\n",
      "Batch 400, Loss: 0.029330143705010414\n",
      "Batch 600, Loss: 0.16860054433345795\n"
     ]
    },
    {
     "name": "stderr",
     "output_type": "stream",
     "text": [
      " 12%|█▏        | 124/1000 [33:06<3:54:35, 16.07s/it]"
     ]
    },
    {
     "name": "stdout",
     "output_type": "stream",
     "text": [
      "Batch 0, Loss: 0.029673900455236435\n",
      "Batch 200, Loss: 0.01640346646308899\n",
      "Batch 400, Loss: 0.043707478791475296\n",
      "Batch 600, Loss: 0.07867990434169769\n"
     ]
    },
    {
     "name": "stderr",
     "output_type": "stream",
     "text": [
      " 12%|█▎        | 125/1000 [33:22<3:53:15, 16.00s/it]"
     ]
    },
    {
     "name": "stdout",
     "output_type": "stream",
     "text": [
      "Batch 0, Loss: 0.010328425094485283\n",
      "Batch 200, Loss: 0.07711931318044662\n",
      "Batch 400, Loss: 0.031197838485240936\n",
      "Batch 600, Loss: 0.09153597801923752\n"
     ]
    },
    {
     "name": "stderr",
     "output_type": "stream",
     "text": [
      " 13%|█▎        | 126/1000 [33:38<3:51:59, 15.93s/it]"
     ]
    },
    {
     "name": "stdout",
     "output_type": "stream",
     "text": [
      "Batch 0, Loss: 0.22067922353744507\n",
      "Batch 200, Loss: 0.03645317628979683\n",
      "Batch 400, Loss: 0.02297782152891159\n",
      "Batch 600, Loss: 0.049041323363780975\n"
     ]
    },
    {
     "name": "stderr",
     "output_type": "stream",
     "text": [
      " 13%|█▎        | 127/1000 [33:54<3:52:25, 15.97s/it]"
     ]
    },
    {
     "name": "stdout",
     "output_type": "stream",
     "text": [
      "Batch 0, Loss: 0.014022971503436565\n",
      "Batch 200, Loss: 0.09518333524465561\n",
      "Batch 400, Loss: 0.03915802389383316\n",
      "Batch 600, Loss: 0.08503852784633636\n"
     ]
    },
    {
     "name": "stderr",
     "output_type": "stream",
     "text": [
      " 13%|█▎        | 128/1000 [34:10<3:53:56, 16.10s/it]"
     ]
    },
    {
     "name": "stdout",
     "output_type": "stream",
     "text": [
      "Batch 0, Loss: 0.005441549699753523\n",
      "Batch 200, Loss: 0.11112349480390549\n",
      "Batch 400, Loss: 0.08341600000858307\n",
      "Batch 600, Loss: 0.10422108322381973\n"
     ]
    },
    {
     "name": "stderr",
     "output_type": "stream",
     "text": [
      " 13%|█▎        | 129/1000 [34:27<3:54:44, 16.17s/it]"
     ]
    },
    {
     "name": "stdout",
     "output_type": "stream",
     "text": [
      "Batch 0, Loss: 0.13837890326976776\n",
      "Batch 200, Loss: 0.07322666794061661\n",
      "Batch 400, Loss: 0.1471826583147049\n",
      "Batch 600, Loss: 0.006335088517516851\n"
     ]
    },
    {
     "name": "stderr",
     "output_type": "stream",
     "text": [
      " 13%|█▎        | 130/1000 [34:42<3:51:51, 15.99s/it]"
     ]
    },
    {
     "name": "stdout",
     "output_type": "stream",
     "text": [
      "Batch 0, Loss: 0.01723301224410534\n",
      "Batch 200, Loss: 0.04508111998438835\n",
      "Batch 400, Loss: 0.007853081449866295\n",
      "Batch 600, Loss: 0.05318380519747734\n"
     ]
    },
    {
     "name": "stderr",
     "output_type": "stream",
     "text": [
      " 13%|█▎        | 131/1000 [34:58<3:50:51, 15.94s/it]"
     ]
    },
    {
     "name": "stdout",
     "output_type": "stream",
     "text": [
      "Batch 0, Loss: 0.20728348195552826\n",
      "Batch 200, Loss: 0.10697022080421448\n",
      "Batch 400, Loss: 0.03802701085805893\n",
      "Batch 600, Loss: 0.008797229267656803\n"
     ]
    },
    {
     "name": "stderr",
     "output_type": "stream",
     "text": [
      " 13%|█▎        | 132/1000 [35:14<3:52:02, 16.04s/it]"
     ]
    },
    {
     "name": "stdout",
     "output_type": "stream",
     "text": [
      "Batch 0, Loss: 0.015135717578232288\n",
      "Batch 200, Loss: 0.16256020963191986\n",
      "Batch 400, Loss: 0.011054588481783867\n",
      "Batch 600, Loss: 0.13169415295124054\n"
     ]
    },
    {
     "name": "stderr",
     "output_type": "stream",
     "text": [
      " 13%|█▎        | 133/1000 [35:30<3:51:28, 16.02s/it]"
     ]
    },
    {
     "name": "stdout",
     "output_type": "stream",
     "text": [
      "Batch 0, Loss: 0.20664140582084656\n",
      "Batch 200, Loss: 0.03277762606739998\n",
      "Batch 400, Loss: 0.05482824891805649\n",
      "Batch 600, Loss: 0.08216459304094315\n"
     ]
    },
    {
     "name": "stderr",
     "output_type": "stream",
     "text": [
      " 13%|█▎        | 134/1000 [35:46<3:49:37, 15.91s/it]"
     ]
    },
    {
     "name": "stdout",
     "output_type": "stream",
     "text": [
      "Batch 0, Loss: 0.07775351405143738\n",
      "Batch 200, Loss: 0.017475731670856476\n",
      "Batch 400, Loss: 0.06658635288476944\n",
      "Batch 600, Loss: 0.0584186427295208\n"
     ]
    },
    {
     "name": "stderr",
     "output_type": "stream",
     "text": [
      " 14%|█▎        | 135/1000 [36:02<3:48:22, 15.84s/it]"
     ]
    },
    {
     "name": "stdout",
     "output_type": "stream",
     "text": [
      "Batch 0, Loss: 0.005766984075307846\n",
      "Batch 200, Loss: 0.11179807782173157\n",
      "Batch 400, Loss: 0.20843110978603363\n",
      "Batch 600, Loss: 0.07734376937150955\n"
     ]
    },
    {
     "name": "stderr",
     "output_type": "stream",
     "text": [
      " 14%|█▎        | 136/1000 [36:18<3:49:12, 15.92s/it]"
     ]
    },
    {
     "name": "stdout",
     "output_type": "stream",
     "text": [
      "Batch 0, Loss: 0.030606694519519806\n",
      "Batch 200, Loss: 0.14687579870224\n",
      "Batch 400, Loss: 0.010299545712769032\n",
      "Batch 600, Loss: 0.019698066636919975\n"
     ]
    },
    {
     "name": "stderr",
     "output_type": "stream",
     "text": [
      " 14%|█▎        | 137/1000 [36:34<3:48:47, 15.91s/it]"
     ]
    },
    {
     "name": "stdout",
     "output_type": "stream",
     "text": [
      "Batch 0, Loss: 0.12062287330627441\n",
      "Batch 200, Loss: 0.31841540336608887\n",
      "Batch 400, Loss: 0.05410134047269821\n",
      "Batch 600, Loss: 0.011430757120251656\n"
     ]
    },
    {
     "name": "stderr",
     "output_type": "stream",
     "text": [
      " 14%|█▍        | 138/1000 [36:50<3:48:27, 15.90s/it]"
     ]
    },
    {
     "name": "stdout",
     "output_type": "stream",
     "text": [
      "Batch 0, Loss: 0.10844270884990692\n",
      "Batch 200, Loss: 0.2680054008960724\n",
      "Batch 400, Loss: 0.1359851211309433\n",
      "Batch 600, Loss: 0.10908497869968414\n"
     ]
    },
    {
     "name": "stderr",
     "output_type": "stream",
     "text": [
      " 14%|█▍        | 139/1000 [37:05<3:47:00, 15.82s/it]"
     ]
    },
    {
     "name": "stdout",
     "output_type": "stream",
     "text": [
      "Batch 0, Loss: 0.02357199229300022\n",
      "Batch 200, Loss: 0.06395333260297775\n",
      "Batch 400, Loss: 0.015713084489107132\n",
      "Batch 600, Loss: 0.1676713079214096\n"
     ]
    },
    {
     "name": "stderr",
     "output_type": "stream",
     "text": [
      " 14%|█▍        | 140/1000 [37:21<3:46:27, 15.80s/it]"
     ]
    },
    {
     "name": "stdout",
     "output_type": "stream",
     "text": [
      "Batch 0, Loss: 0.09481186419725418\n",
      "Batch 200, Loss: 0.02047770470380783\n",
      "Batch 400, Loss: 0.03556331619620323\n",
      "Batch 600, Loss: 0.005318309646099806\n"
     ]
    },
    {
     "name": "stderr",
     "output_type": "stream",
     "text": [
      " 14%|█▍        | 141/1000 [37:37<3:46:07, 15.79s/it]"
     ]
    },
    {
     "name": "stdout",
     "output_type": "stream",
     "text": [
      "Batch 0, Loss: 0.04700291156768799\n",
      "Batch 200, Loss: 0.18866723775863647\n",
      "Batch 400, Loss: 0.0782395750284195\n",
      "Batch 600, Loss: 0.08394844084978104\n"
     ]
    },
    {
     "name": "stderr",
     "output_type": "stream",
     "text": [
      " 14%|█▍        | 142/1000 [37:52<3:45:42, 15.78s/it]"
     ]
    },
    {
     "name": "stdout",
     "output_type": "stream",
     "text": [
      "Batch 0, Loss: 0.009755431674420834\n",
      "Batch 200, Loss: 0.006036369130015373\n",
      "Batch 400, Loss: 0.02985200844705105\n",
      "Batch 600, Loss: 0.05543241277337074\n"
     ]
    },
    {
     "name": "stderr",
     "output_type": "stream",
     "text": [
      " 14%|█▍        | 143/1000 [38:09<3:48:50, 16.02s/it]"
     ]
    },
    {
     "name": "stdout",
     "output_type": "stream",
     "text": [
      "Batch 0, Loss: 0.06573983281850815\n",
      "Batch 200, Loss: 0.011283714324235916\n",
      "Batch 400, Loss: 0.05032062903046608\n",
      "Batch 600, Loss: 0.02247757837176323\n"
     ]
    },
    {
     "name": "stderr",
     "output_type": "stream",
     "text": [
      " 14%|█▍        | 144/1000 [38:25<3:47:29, 15.95s/it]"
     ]
    },
    {
     "name": "stdout",
     "output_type": "stream",
     "text": [
      "Batch 0, Loss: 0.007889123633503914\n",
      "Batch 200, Loss: 0.04088357090950012\n",
      "Batch 400, Loss: 0.022731931880116463\n",
      "Batch 600, Loss: 0.03130343183875084\n"
     ]
    },
    {
     "name": "stderr",
     "output_type": "stream",
     "text": [
      " 14%|█▍        | 145/1000 [38:41<3:46:52, 15.92s/it]"
     ]
    },
    {
     "name": "stdout",
     "output_type": "stream",
     "text": [
      "Batch 0, Loss: 0.06713338196277618\n",
      "Batch 200, Loss: 0.04421490803360939\n",
      "Batch 400, Loss: 0.020710276439785957\n",
      "Batch 600, Loss: 0.047346219420433044\n"
     ]
    },
    {
     "name": "stderr",
     "output_type": "stream",
     "text": [
      " 15%|█▍        | 146/1000 [38:56<3:46:06, 15.89s/it]"
     ]
    },
    {
     "name": "stdout",
     "output_type": "stream",
     "text": [
      "Batch 0, Loss: 0.01774919033050537\n",
      "Batch 200, Loss: 0.023399624973535538\n",
      "Batch 400, Loss: 0.06616939604282379\n",
      "Batch 600, Loss: 0.12259048223495483\n"
     ]
    },
    {
     "name": "stderr",
     "output_type": "stream",
     "text": [
      " 15%|█▍        | 147/1000 [39:12<3:45:31, 15.86s/it]"
     ]
    },
    {
     "name": "stdout",
     "output_type": "stream",
     "text": [
      "Batch 0, Loss: 0.05529540777206421\n",
      "Batch 200, Loss: 0.017030132934451103\n",
      "Batch 400, Loss: 0.047277867794036865\n",
      "Batch 600, Loss: 0.16270406544208527\n"
     ]
    },
    {
     "name": "stderr",
     "output_type": "stream",
     "text": [
      " 15%|█▍        | 148/1000 [39:29<3:49:55, 16.19s/it]"
     ]
    },
    {
     "name": "stdout",
     "output_type": "stream",
     "text": [
      "Batch 0, Loss: 0.14841462671756744\n",
      "Batch 200, Loss: 0.22051599621772766\n",
      "Batch 400, Loss: 0.025005299597978592\n",
      "Batch 600, Loss: 0.003077572211623192\n"
     ]
    },
    {
     "name": "stderr",
     "output_type": "stream",
     "text": [
      " 15%|█▍        | 149/1000 [39:45<3:48:44, 16.13s/it]"
     ]
    },
    {
     "name": "stdout",
     "output_type": "stream",
     "text": [
      "Batch 0, Loss: 0.04361938685178757\n",
      "Batch 200, Loss: 0.009126880206167698\n",
      "Batch 400, Loss: 0.06609693914651871\n",
      "Batch 600, Loss: 0.04207102954387665\n"
     ]
    },
    {
     "name": "stderr",
     "output_type": "stream",
     "text": [
      " 15%|█▌        | 150/1000 [40:01<3:47:19, 16.05s/it]"
     ]
    },
    {
     "name": "stdout",
     "output_type": "stream",
     "text": [
      "Batch 0, Loss: 0.0065536582842469215\n",
      "Batch 200, Loss: 0.013773355633020401\n",
      "Batch 400, Loss: 0.04179561138153076\n",
      "Batch 600, Loss: 0.085910364985466\n"
     ]
    },
    {
     "name": "stderr",
     "output_type": "stream",
     "text": [
      " 15%|█▌        | 151/1000 [40:17<3:47:39, 16.09s/it]"
     ]
    },
    {
     "name": "stdout",
     "output_type": "stream",
     "text": [
      "Batch 0, Loss: 0.15069924294948578\n",
      "Batch 200, Loss: 0.013359427452087402\n",
      "Batch 400, Loss: 0.058228448033332825\n",
      "Batch 600, Loss: 0.047956209629774094\n"
     ]
    },
    {
     "name": "stderr",
     "output_type": "stream",
     "text": [
      " 15%|█▌        | 152/1000 [40:33<3:46:09, 16.00s/it]"
     ]
    },
    {
     "name": "stdout",
     "output_type": "stream",
     "text": [
      "Batch 0, Loss: 0.09060762822628021\n",
      "Batch 200, Loss: 0.15819384157657623\n",
      "Batch 400, Loss: 0.03765958175063133\n",
      "Batch 600, Loss: 0.11560405790805817\n"
     ]
    },
    {
     "name": "stderr",
     "output_type": "stream",
     "text": [
      " 15%|█▌        | 153/1000 [40:49<3:45:39, 15.99s/it]"
     ]
    },
    {
     "name": "stdout",
     "output_type": "stream",
     "text": [
      "Batch 0, Loss: 0.12012920528650284\n",
      "Batch 200, Loss: 0.10588590800762177\n",
      "Batch 400, Loss: 0.01679825410246849\n",
      "Batch 600, Loss: 0.014902936294674873\n"
     ]
    },
    {
     "name": "stderr",
     "output_type": "stream",
     "text": [
      " 15%|█▌        | 154/1000 [41:06<3:47:57, 16.17s/it]"
     ]
    },
    {
     "name": "stdout",
     "output_type": "stream",
     "text": [
      "Batch 0, Loss: 0.0268391203135252\n",
      "Batch 200, Loss: 0.1731947809457779\n",
      "Batch 400, Loss: 0.2733818590641022\n",
      "Batch 600, Loss: 0.092955082654953\n"
     ]
    },
    {
     "name": "stderr",
     "output_type": "stream",
     "text": [
      " 16%|█▌        | 155/1000 [41:22<3:47:26, 16.15s/it]"
     ]
    },
    {
     "name": "stdout",
     "output_type": "stream",
     "text": [
      "Batch 0, Loss: 0.007316709961742163\n",
      "Batch 200, Loss: 0.015705019235610962\n",
      "Batch 400, Loss: 0.06117907166481018\n",
      "Batch 600, Loss: 0.12069298326969147\n"
     ]
    },
    {
     "name": "stderr",
     "output_type": "stream",
     "text": [
      " 16%|█▌        | 156/1000 [41:38<3:46:16, 16.09s/it]"
     ]
    },
    {
     "name": "stdout",
     "output_type": "stream",
     "text": [
      "Batch 0, Loss: 0.10140230506658554\n",
      "Batch 200, Loss: 0.01989288255572319\n",
      "Batch 400, Loss: 0.003849280998110771\n",
      "Batch 600, Loss: 0.010664956644177437\n"
     ]
    },
    {
     "name": "stderr",
     "output_type": "stream",
     "text": [
      " 16%|█▌        | 157/1000 [41:54<3:45:00, 16.01s/it]"
     ]
    },
    {
     "name": "stdout",
     "output_type": "stream",
     "text": [
      "Batch 0, Loss: 0.03250857815146446\n",
      "Batch 200, Loss: 0.04629938304424286\n",
      "Batch 400, Loss: 0.017275337129831314\n",
      "Batch 600, Loss: 0.10284006595611572\n"
     ]
    },
    {
     "name": "stderr",
     "output_type": "stream",
     "text": [
      " 16%|█▌        | 158/1000 [42:10<3:45:10, 16.05s/it]"
     ]
    },
    {
     "name": "stdout",
     "output_type": "stream",
     "text": [
      "Batch 0, Loss: 0.13996459543704987\n",
      "Batch 200, Loss: 0.021456807851791382\n",
      "Batch 400, Loss: 0.08790946006774902\n",
      "Batch 600, Loss: 0.013174088671803474\n"
     ]
    },
    {
     "name": "stderr",
     "output_type": "stream",
     "text": [
      " 16%|█▌        | 159/1000 [42:25<3:43:46, 15.96s/it]"
     ]
    },
    {
     "name": "stdout",
     "output_type": "stream",
     "text": [
      "Batch 0, Loss: 0.0064718956127762794\n",
      "Batch 200, Loss: 0.005445260088890791\n",
      "Batch 400, Loss: 0.1869114339351654\n",
      "Batch 600, Loss: 0.018323352560400963\n"
     ]
    },
    {
     "name": "stderr",
     "output_type": "stream",
     "text": [
      " 16%|█▌        | 160/1000 [42:41<3:42:46, 15.91s/it]"
     ]
    },
    {
     "name": "stdout",
     "output_type": "stream",
     "text": [
      "Batch 0, Loss: 0.09202706068754196\n",
      "Batch 200, Loss: 0.13615232706069946\n",
      "Batch 400, Loss: 0.0389721542596817\n",
      "Batch 600, Loss: 0.005381125491112471\n"
     ]
    },
    {
     "name": "stderr",
     "output_type": "stream",
     "text": [
      " 16%|█▌        | 161/1000 [42:57<3:43:18, 15.97s/it]"
     ]
    },
    {
     "name": "stdout",
     "output_type": "stream",
     "text": [
      "Batch 0, Loss: 0.02010628953576088\n",
      "Batch 200, Loss: 0.1350870430469513\n",
      "Batch 400, Loss: 0.05169757083058357\n",
      "Batch 600, Loss: 0.007278050296008587\n"
     ]
    },
    {
     "name": "stderr",
     "output_type": "stream",
     "text": [
      " 16%|█▌        | 162/1000 [43:14<3:46:12, 16.20s/it]"
     ]
    },
    {
     "name": "stdout",
     "output_type": "stream",
     "text": [
      "Batch 0, Loss: 0.002358130645006895\n",
      "Batch 200, Loss: 0.03437095880508423\n",
      "Batch 400, Loss: 0.027845626696944237\n",
      "Batch 600, Loss: 0.05127711966633797\n"
     ]
    },
    {
     "name": "stderr",
     "output_type": "stream",
     "text": [
      " 16%|█▋        | 163/1000 [43:30<3:44:03, 16.06s/it]"
     ]
    },
    {
     "name": "stdout",
     "output_type": "stream",
     "text": [
      "Batch 0, Loss: 0.18925723433494568\n",
      "Batch 200, Loss: 0.00405751122161746\n",
      "Batch 400, Loss: 0.0033924016170203686\n",
      "Batch 600, Loss: 0.07684560865163803\n"
     ]
    },
    {
     "name": "stderr",
     "output_type": "stream",
     "text": [
      " 16%|█▋        | 164/1000 [43:46<3:42:52, 16.00s/it]"
     ]
    },
    {
     "name": "stdout",
     "output_type": "stream",
     "text": [
      "Batch 0, Loss: 0.0515836626291275\n",
      "Batch 200, Loss: 0.14126166701316833\n",
      "Batch 400, Loss: 0.0024371750187128782\n",
      "Batch 600, Loss: 0.0072685410268604755\n"
     ]
    },
    {
     "name": "stderr",
     "output_type": "stream",
     "text": [
      " 16%|█▋        | 165/1000 [44:02<3:43:16, 16.04s/it]"
     ]
    },
    {
     "name": "stdout",
     "output_type": "stream",
     "text": [
      "Batch 0, Loss: 0.062370914965867996\n",
      "Batch 200, Loss: 0.02392830327153206\n",
      "Batch 400, Loss: 0.003571761306375265\n",
      "Batch 600, Loss: 0.008303618989884853\n"
     ]
    },
    {
     "name": "stderr",
     "output_type": "stream",
     "text": [
      " 17%|█▋        | 166/1000 [44:18<3:44:10, 16.13s/it]"
     ]
    },
    {
     "name": "stdout",
     "output_type": "stream",
     "text": [
      "Batch 0, Loss: 0.04610048606991768\n",
      "Batch 200, Loss: 0.03626357018947601\n",
      "Batch 400, Loss: 0.013861553743481636\n",
      "Batch 600, Loss: 0.0028608557768166065\n"
     ]
    },
    {
     "name": "stderr",
     "output_type": "stream",
     "text": [
      " 17%|█▋        | 167/1000 [44:35<3:48:55, 16.49s/it]"
     ]
    },
    {
     "name": "stdout",
     "output_type": "stream",
     "text": [
      "Batch 0, Loss: 0.051116012036800385\n",
      "Batch 200, Loss: 0.15877267718315125\n",
      "Batch 400, Loss: 0.11346951127052307\n",
      "Batch 600, Loss: 0.10669991374015808\n"
     ]
    },
    {
     "name": "stderr",
     "output_type": "stream",
     "text": [
      " 17%|█▋        | 168/1000 [44:51<3:46:34, 16.34s/it]"
     ]
    },
    {
     "name": "stdout",
     "output_type": "stream",
     "text": [
      "Batch 0, Loss: 0.07042840123176575\n",
      "Batch 200, Loss: 0.05837373808026314\n",
      "Batch 400, Loss: 0.07186517119407654\n",
      "Batch 600, Loss: 0.061703164130449295\n"
     ]
    },
    {
     "name": "stderr",
     "output_type": "stream",
     "text": [
      " 17%|█▋        | 169/1000 [45:08<3:47:04, 16.40s/it]"
     ]
    },
    {
     "name": "stdout",
     "output_type": "stream",
     "text": [
      "Batch 0, Loss: 0.1269371509552002\n",
      "Batch 200, Loss: 0.13033132255077362\n",
      "Batch 400, Loss: 0.045501627027988434\n",
      "Batch 600, Loss: 0.031377583742141724\n"
     ]
    },
    {
     "name": "stderr",
     "output_type": "stream",
     "text": [
      " 17%|█▋        | 170/1000 [45:24<3:44:19, 16.22s/it]"
     ]
    },
    {
     "name": "stdout",
     "output_type": "stream",
     "text": [
      "Batch 0, Loss: 0.0033842388074845076\n",
      "Batch 200, Loss: 0.15957705676555634\n",
      "Batch 400, Loss: 0.018412623554468155\n",
      "Batch 600, Loss: 0.03204268589615822\n"
     ]
    },
    {
     "name": "stderr",
     "output_type": "stream",
     "text": [
      " 17%|█▋        | 171/1000 [45:40<3:42:46, 16.12s/it]"
     ]
    },
    {
     "name": "stdout",
     "output_type": "stream",
     "text": [
      "Batch 0, Loss: 0.007778598461300135\n",
      "Batch 200, Loss: 0.00782119482755661\n",
      "Batch 400, Loss: 0.04857846722006798\n",
      "Batch 600, Loss: 0.08102898299694061\n"
     ]
    },
    {
     "name": "stderr",
     "output_type": "stream",
     "text": [
      " 17%|█▋        | 172/1000 [45:56<3:42:26, 16.12s/it]"
     ]
    },
    {
     "name": "stdout",
     "output_type": "stream",
     "text": [
      "Batch 0, Loss: 0.0007608375744894147\n",
      "Batch 200, Loss: 0.016791611909866333\n",
      "Batch 400, Loss: 0.0037269138265401125\n",
      "Batch 600, Loss: 0.04002351686358452\n"
     ]
    },
    {
     "name": "stderr",
     "output_type": "stream",
     "text": [
      " 17%|█▋        | 173/1000 [46:12<3:43:19, 16.20s/it]"
     ]
    },
    {
     "name": "stdout",
     "output_type": "stream",
     "text": [
      "Batch 0, Loss: 0.042998652905225754\n",
      "Batch 200, Loss: 0.01318860799074173\n",
      "Batch 400, Loss: 0.2161315530538559\n",
      "Batch 600, Loss: 0.07179021835327148\n"
     ]
    },
    {
     "name": "stderr",
     "output_type": "stream",
     "text": [
      " 17%|█▋        | 174/1000 [46:28<3:41:42, 16.10s/it]"
     ]
    },
    {
     "name": "stdout",
     "output_type": "stream",
     "text": [
      "Batch 0, Loss: 0.017134172841906548\n",
      "Batch 200, Loss: 0.05255500599741936\n",
      "Batch 400, Loss: 0.005698660388588905\n",
      "Batch 600, Loss: 0.00221452908590436\n"
     ]
    },
    {
     "name": "stderr",
     "output_type": "stream",
     "text": [
      " 18%|█▊        | 175/1000 [46:44<3:40:45, 16.06s/it]"
     ]
    },
    {
     "name": "stdout",
     "output_type": "stream",
     "text": [
      "Batch 0, Loss: 0.062219128012657166\n",
      "Batch 200, Loss: 0.032079193741083145\n",
      "Batch 400, Loss: 0.04542575404047966\n",
      "Batch 600, Loss: 0.014336470514535904\n"
     ]
    },
    {
     "name": "stderr",
     "output_type": "stream",
     "text": [
      " 18%|█▊        | 176/1000 [47:00<3:39:28, 15.98s/it]"
     ]
    },
    {
     "name": "stdout",
     "output_type": "stream",
     "text": [
      "Batch 0, Loss: 0.0011351349530741572\n",
      "Batch 200, Loss: 0.09933088719844818\n",
      "Batch 400, Loss: 0.007046053651720285\n",
      "Batch 600, Loss: 0.13743636012077332\n"
     ]
    },
    {
     "name": "stderr",
     "output_type": "stream",
     "text": [
      " 18%|█▊        | 177/1000 [47:16<3:38:50, 15.95s/it]"
     ]
    },
    {
     "name": "stdout",
     "output_type": "stream",
     "text": [
      "Batch 0, Loss: 0.010275706648826599\n",
      "Batch 200, Loss: 0.1448097676038742\n",
      "Batch 400, Loss: 0.0005820757942274213\n",
      "Batch 600, Loss: 0.28050023317337036\n"
     ]
    },
    {
     "name": "stderr",
     "output_type": "stream",
     "text": [
      " 18%|█▊        | 178/1000 [47:31<3:37:34, 15.88s/it]"
     ]
    },
    {
     "name": "stdout",
     "output_type": "stream",
     "text": [
      "Batch 0, Loss: 0.08286299556493759\n",
      "Batch 200, Loss: 0.09907548129558563\n",
      "Batch 400, Loss: 0.0497274287045002\n",
      "Batch 600, Loss: 0.004207266494631767\n"
     ]
    },
    {
     "name": "stderr",
     "output_type": "stream",
     "text": [
      " 18%|█▊        | 179/1000 [47:50<3:46:45, 16.57s/it]"
     ]
    },
    {
     "name": "stdout",
     "output_type": "stream",
     "text": [
      "Batch 0, Loss: 0.04127367585897446\n",
      "Batch 200, Loss: 0.03001902997493744\n",
      "Batch 400, Loss: 0.0022995537146925926\n",
      "Batch 600, Loss: 0.031472347676754\n"
     ]
    },
    {
     "name": "stderr",
     "output_type": "stream",
     "text": [
      " 18%|█▊        | 180/1000 [48:07<3:49:38, 16.80s/it]"
     ]
    },
    {
     "name": "stdout",
     "output_type": "stream",
     "text": [
      "Batch 0, Loss: 0.19551928341388702\n",
      "Batch 200, Loss: 0.052194904536008835\n",
      "Batch 400, Loss: 0.01511484757065773\n",
      "Batch 600, Loss: 0.06671060621738434\n"
     ]
    },
    {
     "name": "stderr",
     "output_type": "stream",
     "text": [
      " 18%|█▊        | 181/1000 [48:23<3:46:31, 16.60s/it]"
     ]
    },
    {
     "name": "stdout",
     "output_type": "stream",
     "text": [
      "Batch 0, Loss: 0.053637247532606125\n",
      "Batch 200, Loss: 0.08795154839754105\n",
      "Batch 400, Loss: 0.002362204482778907\n",
      "Batch 600, Loss: 0.00261995242908597\n"
     ]
    },
    {
     "name": "stderr",
     "output_type": "stream",
     "text": [
      " 18%|█▊        | 182/1000 [48:39<3:43:26, 16.39s/it]"
     ]
    },
    {
     "name": "stdout",
     "output_type": "stream",
     "text": [
      "Batch 0, Loss: 0.027504313737154007\n",
      "Batch 200, Loss: 0.009499982930719852\n",
      "Batch 400, Loss: 0.07929597795009613\n",
      "Batch 600, Loss: 0.08441641181707382\n"
     ]
    },
    {
     "name": "stderr",
     "output_type": "stream",
     "text": [
      " 18%|█▊        | 183/1000 [48:55<3:41:06, 16.24s/it]"
     ]
    },
    {
     "name": "stdout",
     "output_type": "stream",
     "text": [
      "Batch 0, Loss: 0.000745801895391196\n",
      "Batch 200, Loss: 0.04628303274512291\n",
      "Batch 400, Loss: 0.04278084635734558\n",
      "Batch 600, Loss: 0.022214123979210854\n"
     ]
    },
    {
     "name": "stderr",
     "output_type": "stream",
     "text": [
      " 18%|█▊        | 184/1000 [49:11<3:39:43, 16.16s/it]"
     ]
    },
    {
     "name": "stdout",
     "output_type": "stream",
     "text": [
      "Batch 0, Loss: 0.013729363679885864\n",
      "Batch 200, Loss: 0.024144893512129784\n",
      "Batch 400, Loss: 0.032084718346595764\n",
      "Batch 600, Loss: 0.328631192445755\n"
     ]
    },
    {
     "name": "stderr",
     "output_type": "stream",
     "text": [
      " 18%|█▊        | 185/1000 [49:27<3:38:41, 16.10s/it]"
     ]
    },
    {
     "name": "stdout",
     "output_type": "stream",
     "text": [
      "Batch 0, Loss: 0.08200579881668091\n",
      "Batch 200, Loss: 0.0021197530440986156\n",
      "Batch 400, Loss: 0.0018753005424514413\n",
      "Batch 600, Loss: 0.012053855694830418\n"
     ]
    },
    {
     "name": "stderr",
     "output_type": "stream",
     "text": [
      " 19%|█▊        | 186/1000 [49:43<3:37:58, 16.07s/it]"
     ]
    },
    {
     "name": "stdout",
     "output_type": "stream",
     "text": [
      "Batch 0, Loss: 0.015378555282950401\n",
      "Batch 200, Loss: 0.040484264492988586\n",
      "Batch 400, Loss: 0.02674209699034691\n",
      "Batch 600, Loss: 0.03972359374165535\n"
     ]
    },
    {
     "name": "stderr",
     "output_type": "stream",
     "text": [
      " 19%|█▊        | 187/1000 [49:59<3:37:16, 16.03s/it]"
     ]
    },
    {
     "name": "stdout",
     "output_type": "stream",
     "text": [
      "Batch 0, Loss: 0.061665937304496765\n",
      "Batch 200, Loss: 0.032026272267103195\n",
      "Batch 400, Loss: 0.18242493271827698\n",
      "Batch 600, Loss: 0.08591049909591675\n"
     ]
    },
    {
     "name": "stderr",
     "output_type": "stream",
     "text": [
      " 19%|█▉        | 188/1000 [50:15<3:38:45, 16.16s/it]"
     ]
    },
    {
     "name": "stdout",
     "output_type": "stream",
     "text": [
      "Batch 0, Loss: 0.025607027113437653\n",
      "Batch 200, Loss: 0.0029322714544832706\n",
      "Batch 400, Loss: 0.07264792174100876\n",
      "Batch 600, Loss: 0.011915622279047966\n"
     ]
    },
    {
     "name": "stderr",
     "output_type": "stream",
     "text": [
      " 19%|█▉        | 189/1000 [50:31<3:38:45, 16.18s/it]"
     ]
    },
    {
     "name": "stdout",
     "output_type": "stream",
     "text": [
      "Batch 0, Loss: 0.14507785439491272\n",
      "Batch 200, Loss: 0.09326409548521042\n",
      "Batch 400, Loss: 0.013319631107151508\n",
      "Batch 600, Loss: 0.058051202446222305\n"
     ]
    },
    {
     "name": "stderr",
     "output_type": "stream",
     "text": [
      " 19%|█▉        | 190/1000 [50:47<3:37:38, 16.12s/it]"
     ]
    },
    {
     "name": "stdout",
     "output_type": "stream",
     "text": [
      "Batch 0, Loss: 0.012867460958659649\n",
      "Batch 200, Loss: 0.18951678276062012\n",
      "Batch 400, Loss: 0.0012700313236564398\n",
      "Batch 600, Loss: 0.006309355143457651\n"
     ]
    },
    {
     "name": "stderr",
     "output_type": "stream",
     "text": [
      " 19%|█▉        | 191/1000 [51:03<3:36:28, 16.05s/it]"
     ]
    },
    {
     "name": "stdout",
     "output_type": "stream",
     "text": [
      "Batch 0, Loss: 0.004885693546384573\n",
      "Batch 200, Loss: 0.02700730413198471\n",
      "Batch 400, Loss: 0.20195402204990387\n",
      "Batch 600, Loss: 0.08426296710968018\n"
     ]
    },
    {
     "name": "stderr",
     "output_type": "stream",
     "text": [
      " 19%|█▉        | 192/1000 [51:20<3:37:05, 16.12s/it]"
     ]
    },
    {
     "name": "stdout",
     "output_type": "stream",
     "text": [
      "Batch 0, Loss: 0.14929991960525513\n",
      "Batch 200, Loss: 0.004818035289645195\n",
      "Batch 400, Loss: 0.19262279570102692\n",
      "Batch 600, Loss: 0.08534692227840424\n"
     ]
    },
    {
     "name": "stderr",
     "output_type": "stream",
     "text": [
      " 19%|█▉        | 193/1000 [51:35<3:35:13, 16.00s/it]"
     ]
    },
    {
     "name": "stdout",
     "output_type": "stream",
     "text": [
      "Batch 0, Loss: 0.06729523837566376\n",
      "Batch 200, Loss: 0.01924334093928337\n",
      "Batch 400, Loss: 0.08870842307806015\n",
      "Batch 600, Loss: 0.04562760889530182\n"
     ]
    },
    {
     "name": "stderr",
     "output_type": "stream",
     "text": [
      " 19%|█▉        | 194/1000 [51:51<3:34:06, 15.94s/it]"
     ]
    },
    {
     "name": "stdout",
     "output_type": "stream",
     "text": [
      "Batch 0, Loss: 0.013636579737067223\n",
      "Batch 200, Loss: 0.16755758225917816\n",
      "Batch 400, Loss: 0.20252752304077148\n",
      "Batch 600, Loss: 0.18668711185455322\n"
     ]
    },
    {
     "name": "stderr",
     "output_type": "stream",
     "text": [
      " 20%|█▉        | 195/1000 [52:07<3:35:16, 16.05s/it]"
     ]
    },
    {
     "name": "stdout",
     "output_type": "stream",
     "text": [
      "Batch 0, Loss: 0.0006693590548820794\n",
      "Batch 200, Loss: 0.1633673757314682\n",
      "Batch 400, Loss: 0.0016191228060051799\n",
      "Batch 600, Loss: 0.02046411857008934\n"
     ]
    },
    {
     "name": "stderr",
     "output_type": "stream",
     "text": [
      " 20%|█▉        | 196/1000 [52:23<3:34:32, 16.01s/it]"
     ]
    },
    {
     "name": "stdout",
     "output_type": "stream",
     "text": [
      "Batch 0, Loss: 0.01548148225992918\n",
      "Batch 200, Loss: 0.011847879737615585\n",
      "Batch 400, Loss: 0.006568421144038439\n",
      "Batch 600, Loss: 0.09401527792215347\n"
     ]
    },
    {
     "name": "stderr",
     "output_type": "stream",
     "text": [
      " 20%|█▉        | 197/1000 [52:39<3:33:24, 15.95s/it]"
     ]
    },
    {
     "name": "stdout",
     "output_type": "stream",
     "text": [
      "Batch 0, Loss: 0.18395072221755981\n",
      "Batch 200, Loss: 0.06279773265123367\n",
      "Batch 400, Loss: 0.031196773052215576\n",
      "Batch 600, Loss: 0.0042006103321909904\n"
     ]
    },
    {
     "name": "stderr",
     "output_type": "stream",
     "text": [
      " 20%|█▉        | 198/1000 [52:55<3:31:59, 15.86s/it]"
     ]
    },
    {
     "name": "stdout",
     "output_type": "stream",
     "text": [
      "Batch 0, Loss: 0.0004186170408502221\n",
      "Batch 200, Loss: 0.0972994938492775\n",
      "Batch 400, Loss: 0.036064475774765015\n",
      "Batch 600, Loss: 0.041128091514110565\n"
     ]
    },
    {
     "name": "stderr",
     "output_type": "stream",
     "text": [
      " 20%|█▉        | 199/1000 [53:11<3:33:16, 15.98s/it]"
     ]
    },
    {
     "name": "stdout",
     "output_type": "stream",
     "text": [
      "Batch 0, Loss: 0.02582605741918087\n",
      "Batch 200, Loss: 0.042689260095357895\n",
      "Batch 400, Loss: 0.1914110779762268\n",
      "Batch 600, Loss: 0.01694156602025032\n"
     ]
    },
    {
     "name": "stderr",
     "output_type": "stream",
     "text": [
      " 20%|██        | 200/1000 [53:27<3:31:43, 15.88s/it]"
     ]
    },
    {
     "name": "stdout",
     "output_type": "stream",
     "text": [
      "Batch 0, Loss: 0.24926520884037018\n",
      "Batch 200, Loss: 0.003708637785166502\n",
      "Batch 400, Loss: 0.02724776603281498\n",
      "Batch 600, Loss: 0.008383020758628845\n"
     ]
    },
    {
     "name": "stderr",
     "output_type": "stream",
     "text": [
      " 20%|██        | 201/1000 [53:42<3:31:08, 15.86s/it]"
     ]
    },
    {
     "name": "stdout",
     "output_type": "stream",
     "text": [
      "Batch 0, Loss: 0.008159385994076729\n",
      "Batch 200, Loss: 0.0777960941195488\n",
      "Batch 400, Loss: 0.05056773126125336\n",
      "Batch 600, Loss: 0.0053161028772592545\n"
     ]
    },
    {
     "name": "stderr",
     "output_type": "stream",
     "text": [
      " 20%|██        | 202/1000 [53:58<3:30:20, 15.82s/it]"
     ]
    },
    {
     "name": "stdout",
     "output_type": "stream",
     "text": [
      "Batch 0, Loss: 0.0003868299536406994\n",
      "Batch 200, Loss: 0.044036611914634705\n",
      "Batch 400, Loss: 0.1786344051361084\n",
      "Batch 600, Loss: 0.0005713921273127198\n"
     ]
    },
    {
     "name": "stderr",
     "output_type": "stream",
     "text": [
      " 20%|██        | 203/1000 [54:14<3:31:47, 15.94s/it]"
     ]
    },
    {
     "name": "stdout",
     "output_type": "stream",
     "text": [
      "Batch 0, Loss: 0.0025169826112687588\n",
      "Batch 200, Loss: 0.018255556002259254\n",
      "Batch 400, Loss: 0.19017893075942993\n",
      "Batch 600, Loss: 0.004700843710452318\n"
     ]
    },
    {
     "name": "stderr",
     "output_type": "stream",
     "text": [
      " 20%|██        | 204/1000 [54:30<3:31:23, 15.93s/it]"
     ]
    },
    {
     "name": "stdout",
     "output_type": "stream",
     "text": [
      "Batch 0, Loss: 0.03282373398542404\n",
      "Batch 200, Loss: 0.07680515199899673\n",
      "Batch 400, Loss: 0.0218050517141819\n",
      "Batch 600, Loss: 0.048815831542015076\n"
     ]
    },
    {
     "name": "stderr",
     "output_type": "stream",
     "text": [
      " 20%|██        | 205/1000 [54:46<3:30:26, 15.88s/it]"
     ]
    },
    {
     "name": "stdout",
     "output_type": "stream",
     "text": [
      "Batch 0, Loss: 0.024811184033751488\n",
      "Batch 200, Loss: 0.0008948150789365172\n",
      "Batch 400, Loss: 0.0008755663875490427\n",
      "Batch 600, Loss: 0.08383916318416595\n"
     ]
    },
    {
     "name": "stderr",
     "output_type": "stream",
     "text": [
      " 21%|██        | 206/1000 [55:02<3:29:07, 15.80s/it]"
     ]
    },
    {
     "name": "stdout",
     "output_type": "stream",
     "text": [
      "Batch 0, Loss: 0.007400761358439922\n",
      "Batch 200, Loss: 0.006568964570760727\n",
      "Batch 400, Loss: 0.1059398502111435\n",
      "Batch 600, Loss: 0.0411481112241745\n"
     ]
    },
    {
     "name": "stderr",
     "output_type": "stream",
     "text": [
      " 21%|██        | 207/1000 [55:17<3:28:49, 15.80s/it]"
     ]
    },
    {
     "name": "stdout",
     "output_type": "stream",
     "text": [
      "Batch 0, Loss: 0.03970639407634735\n",
      "Batch 200, Loss: 0.2337440550327301\n",
      "Batch 400, Loss: 0.012712339870631695\n",
      "Batch 600, Loss: 0.06387128680944443\n"
     ]
    },
    {
     "name": "stderr",
     "output_type": "stream",
     "text": [
      " 21%|██        | 208/1000 [55:33<3:27:42, 15.74s/it]"
     ]
    },
    {
     "name": "stdout",
     "output_type": "stream",
     "text": [
      "Batch 0, Loss: 0.01743209734559059\n",
      "Batch 200, Loss: 0.08177392929792404\n",
      "Batch 400, Loss: 0.005695410538464785\n",
      "Batch 600, Loss: 0.14941009879112244\n"
     ]
    },
    {
     "name": "stderr",
     "output_type": "stream",
     "text": [
      " 21%|██        | 209/1000 [55:49<3:26:51, 15.69s/it]"
     ]
    },
    {
     "name": "stdout",
     "output_type": "stream",
     "text": [
      "Batch 0, Loss: 0.07998435199260712\n",
      "Batch 200, Loss: 0.005599172320216894\n",
      "Batch 400, Loss: 0.011003817431628704\n",
      "Batch 600, Loss: 0.006886094808578491\n"
     ]
    },
    {
     "name": "stderr",
     "output_type": "stream",
     "text": [
      " 21%|██        | 210/1000 [56:04<3:26:50, 15.71s/it]"
     ]
    },
    {
     "name": "stdout",
     "output_type": "stream",
     "text": [
      "Batch 0, Loss: 0.01463860273361206\n",
      "Batch 200, Loss: 0.010172722861170769\n",
      "Batch 400, Loss: 0.012790421955287457\n",
      "Batch 600, Loss: 0.0717434287071228\n"
     ]
    },
    {
     "name": "stderr",
     "output_type": "stream",
     "text": [
      " 21%|██        | 211/1000 [56:21<3:29:01, 15.90s/it]"
     ]
    },
    {
     "name": "stdout",
     "output_type": "stream",
     "text": [
      "Batch 0, Loss: 0.001001202268525958\n",
      "Batch 200, Loss: 0.0445990115404129\n",
      "Batch 400, Loss: 0.20749786496162415\n",
      "Batch 600, Loss: 0.0010720312129706144\n"
     ]
    },
    {
     "name": "stderr",
     "output_type": "stream",
     "text": [
      " 21%|██        | 212/1000 [56:36<3:27:29, 15.80s/it]"
     ]
    },
    {
     "name": "stdout",
     "output_type": "stream",
     "text": [
      "Batch 0, Loss: 0.09781724214553833\n",
      "Batch 200, Loss: 0.0015660244971513748\n",
      "Batch 400, Loss: 0.04502122476696968\n",
      "Batch 600, Loss: 0.010878868401050568\n"
     ]
    },
    {
     "name": "stderr",
     "output_type": "stream",
     "text": [
      " 21%|██▏       | 213/1000 [56:52<3:26:29, 15.74s/it]"
     ]
    },
    {
     "name": "stdout",
     "output_type": "stream",
     "text": [
      "Batch 0, Loss: 0.36402177810668945\n",
      "Batch 200, Loss: 0.008590657263994217\n",
      "Batch 400, Loss: 0.10361552238464355\n",
      "Batch 600, Loss: 0.04082998260855675\n"
     ]
    },
    {
     "name": "stderr",
     "output_type": "stream",
     "text": [
      " 21%|██▏       | 214/1000 [57:08<3:26:55, 15.80s/it]"
     ]
    },
    {
     "name": "stdout",
     "output_type": "stream",
     "text": [
      "Batch 0, Loss: 0.604562520980835\n",
      "Batch 200, Loss: 0.02441457472741604\n",
      "Batch 400, Loss: 0.01601097360253334\n",
      "Batch 600, Loss: 0.06605922430753708\n"
     ]
    },
    {
     "name": "stderr",
     "output_type": "stream",
     "text": [
      " 22%|██▏       | 215/1000 [57:24<3:26:56, 15.82s/it]"
     ]
    },
    {
     "name": "stdout",
     "output_type": "stream",
     "text": [
      "Batch 0, Loss: 0.005024322774261236\n",
      "Batch 200, Loss: 0.003953969571739435\n",
      "Batch 400, Loss: 0.005175191909074783\n",
      "Batch 600, Loss: 0.013737129047513008\n"
     ]
    },
    {
     "name": "stderr",
     "output_type": "stream",
     "text": [
      " 22%|██▏       | 216/1000 [57:39<3:25:46, 15.75s/it]"
     ]
    },
    {
     "name": "stdout",
     "output_type": "stream",
     "text": [
      "Batch 0, Loss: 0.004154751542955637\n",
      "Batch 200, Loss: 0.0010730340145528316\n",
      "Batch 400, Loss: 0.06282420456409454\n",
      "Batch 600, Loss: 0.024766528978943825\n"
     ]
    },
    {
     "name": "stderr",
     "output_type": "stream",
     "text": [
      " 22%|██▏       | 217/1000 [57:55<3:26:27, 15.82s/it]"
     ]
    },
    {
     "name": "stdout",
     "output_type": "stream",
     "text": [
      "Batch 0, Loss: 0.020807640627026558\n",
      "Batch 200, Loss: 0.12041410058736801\n",
      "Batch 400, Loss: 0.002586743328720331\n",
      "Batch 600, Loss: 0.004859479144215584\n"
     ]
    },
    {
     "name": "stderr",
     "output_type": "stream",
     "text": [
      " 22%|██▏       | 218/1000 [58:11<3:27:28, 15.92s/it]"
     ]
    },
    {
     "name": "stdout",
     "output_type": "stream",
     "text": [
      "Batch 0, Loss: 0.06352309882640839\n",
      "Batch 200, Loss: 0.0746346190571785\n",
      "Batch 400, Loss: 0.0006680770893581212\n",
      "Batch 600, Loss: 0.054398614913225174\n"
     ]
    },
    {
     "name": "stderr",
     "output_type": "stream",
     "text": [
      " 22%|██▏       | 219/1000 [58:28<3:28:20, 16.01s/it]"
     ]
    },
    {
     "name": "stdout",
     "output_type": "stream",
     "text": [
      "Batch 0, Loss: 0.028055129572749138\n",
      "Batch 200, Loss: 0.08277476578950882\n",
      "Batch 400, Loss: 0.18545860052108765\n",
      "Batch 600, Loss: 0.018860315904021263\n"
     ]
    },
    {
     "name": "stderr",
     "output_type": "stream",
     "text": [
      " 22%|██▏       | 220/1000 [58:44<3:28:07, 16.01s/it]"
     ]
    },
    {
     "name": "stdout",
     "output_type": "stream",
     "text": [
      "Batch 0, Loss: 0.05179281905293465\n",
      "Batch 200, Loss: 0.005539612378925085\n",
      "Batch 400, Loss: 0.08467725664377213\n",
      "Batch 600, Loss: 0.012657811865210533\n"
     ]
    },
    {
     "name": "stderr",
     "output_type": "stream",
     "text": [
      " 22%|██▏       | 221/1000 [59:00<3:27:36, 15.99s/it]"
     ]
    },
    {
     "name": "stdout",
     "output_type": "stream",
     "text": [
      "Batch 0, Loss: 0.0007048244588077068\n",
      "Batch 200, Loss: 0.045508481562137604\n",
      "Batch 400, Loss: 0.0573594756424427\n",
      "Batch 600, Loss: 0.011049515567719936\n"
     ]
    },
    {
     "name": "stderr",
     "output_type": "stream",
     "text": [
      " 22%|██▏       | 222/1000 [59:16<3:28:21, 16.07s/it]"
     ]
    },
    {
     "name": "stdout",
     "output_type": "stream",
     "text": [
      "Batch 0, Loss: 0.12085986137390137\n",
      "Batch 200, Loss: 0.037561431527137756\n",
      "Batch 400, Loss: 0.02165764570236206\n",
      "Batch 600, Loss: 0.03759665787220001\n"
     ]
    },
    {
     "name": "stderr",
     "output_type": "stream",
     "text": [
      " 22%|██▏       | 223/1000 [59:32<3:27:42, 16.04s/it]"
     ]
    },
    {
     "name": "stdout",
     "output_type": "stream",
     "text": [
      "Batch 0, Loss: 0.008517895825207233\n",
      "Batch 200, Loss: 0.04176059365272522\n",
      "Batch 400, Loss: 0.13198868930339813\n",
      "Batch 600, Loss: 0.02637523226439953\n"
     ]
    },
    {
     "name": "stderr",
     "output_type": "stream",
     "text": [
      " 22%|██▏       | 224/1000 [59:48<3:26:46, 15.99s/it]"
     ]
    },
    {
     "name": "stdout",
     "output_type": "stream",
     "text": [
      "Batch 0, Loss: 0.038372114300727844\n",
      "Batch 200, Loss: 0.027785642072558403\n",
      "Batch 400, Loss: 0.028625156730413437\n",
      "Batch 600, Loss: 0.11815474182367325\n"
     ]
    },
    {
     "name": "stderr",
     "output_type": "stream",
     "text": [
      " 22%|██▎       | 225/1000 [1:00:03<3:25:43, 15.93s/it]"
     ]
    },
    {
     "name": "stdout",
     "output_type": "stream",
     "text": [
      "Batch 0, Loss: 0.2541869878768921\n",
      "Batch 200, Loss: 0.017432352527976036\n",
      "Batch 400, Loss: 0.08216435462236404\n",
      "Batch 600, Loss: 0.06186533719301224\n"
     ]
    },
    {
     "name": "stderr",
     "output_type": "stream",
     "text": [
      " 23%|██▎       | 226/1000 [1:00:20<3:26:07, 15.98s/it]"
     ]
    },
    {
     "name": "stdout",
     "output_type": "stream",
     "text": [
      "Batch 0, Loss: 0.17934581637382507\n",
      "Batch 200, Loss: 0.004877553321421146\n",
      "Batch 400, Loss: 0.004746700171381235\n",
      "Batch 600, Loss: 0.0005076599773019552\n"
     ]
    },
    {
     "name": "stderr",
     "output_type": "stream",
     "text": [
      " 23%|██▎       | 227/1000 [1:00:35<3:25:35, 15.96s/it]"
     ]
    },
    {
     "name": "stdout",
     "output_type": "stream",
     "text": [
      "Batch 0, Loss: 0.08437538146972656\n",
      "Batch 200, Loss: 0.08401746302843094\n",
      "Batch 400, Loss: 0.055531106889247894\n",
      "Batch 600, Loss: 0.0037496944423764944\n"
     ]
    },
    {
     "name": "stderr",
     "output_type": "stream",
     "text": [
      " 23%|██▎       | 228/1000 [1:00:51<3:24:43, 15.91s/it]"
     ]
    },
    {
     "name": "stdout",
     "output_type": "stream",
     "text": [
      "Batch 0, Loss: 0.0005646325298584998\n",
      "Batch 200, Loss: 0.045207247138023376\n",
      "Batch 400, Loss: 0.014538273215293884\n",
      "Batch 600, Loss: 0.004493809770792723\n"
     ]
    },
    {
     "name": "stderr",
     "output_type": "stream",
     "text": [
      " 23%|██▎       | 229/1000 [1:01:07<3:25:01, 15.95s/it]"
     ]
    },
    {
     "name": "stdout",
     "output_type": "stream",
     "text": [
      "Batch 0, Loss: 0.08645370602607727\n",
      "Batch 200, Loss: 0.0003295045462436974\n",
      "Batch 400, Loss: 0.17669038474559784\n",
      "Batch 600, Loss: 0.024706678465008736\n"
     ]
    },
    {
     "name": "stderr",
     "output_type": "stream",
     "text": [
      " 23%|██▎       | 230/1000 [1:01:23<3:24:03, 15.90s/it]"
     ]
    },
    {
     "name": "stdout",
     "output_type": "stream",
     "text": [
      "Batch 0, Loss: 0.01940041035413742\n",
      "Batch 200, Loss: 0.00010083080269396305\n",
      "Batch 400, Loss: 0.05397089570760727\n",
      "Batch 600, Loss: 0.00042493303772062063\n"
     ]
    },
    {
     "name": "stderr",
     "output_type": "stream",
     "text": [
      " 23%|██▎       | 231/1000 [1:01:39<3:24:14, 15.94s/it]"
     ]
    },
    {
     "name": "stdout",
     "output_type": "stream",
     "text": [
      "Batch 0, Loss: 0.05055873841047287\n",
      "Batch 200, Loss: 0.022822123020887375\n",
      "Batch 400, Loss: 0.013315021991729736\n",
      "Batch 600, Loss: 0.17863133549690247\n"
     ]
    },
    {
     "name": "stderr",
     "output_type": "stream",
     "text": [
      " 23%|██▎       | 232/1000 [1:01:56<3:27:48, 16.23s/it]"
     ]
    },
    {
     "name": "stdout",
     "output_type": "stream",
     "text": [
      "Batch 0, Loss: 0.0010806387290358543\n",
      "Batch 200, Loss: 0.07501417398452759\n",
      "Batch 400, Loss: 0.22477993369102478\n",
      "Batch 600, Loss: 0.02653157152235508\n"
     ]
    },
    {
     "name": "stderr",
     "output_type": "stream",
     "text": [
      " 23%|██▎       | 233/1000 [1:02:12<3:26:30, 16.16s/it]"
     ]
    },
    {
     "name": "stdout",
     "output_type": "stream",
     "text": [
      "Batch 0, Loss: 0.001544702798128128\n",
      "Batch 200, Loss: 0.04094894975423813\n",
      "Batch 400, Loss: 0.18558503687381744\n",
      "Batch 600, Loss: 0.0005202366737648845\n"
     ]
    },
    {
     "name": "stderr",
     "output_type": "stream",
     "text": [
      " 23%|██▎       | 234/1000 [1:02:28<3:25:06, 16.07s/it]"
     ]
    },
    {
     "name": "stdout",
     "output_type": "stream",
     "text": [
      "Batch 0, Loss: 0.0005807251436635852\n",
      "Batch 200, Loss: 0.009399943053722382\n",
      "Batch 400, Loss: 0.12873594462871552\n",
      "Batch 600, Loss: 0.3028414845466614\n"
     ]
    },
    {
     "name": "stderr",
     "output_type": "stream",
     "text": [
      " 24%|██▎       | 235/1000 [1:02:44<3:26:13, 16.17s/it]"
     ]
    },
    {
     "name": "stdout",
     "output_type": "stream",
     "text": [
      "Batch 0, Loss: 0.011267931200563908\n",
      "Batch 200, Loss: 0.13809067010879517\n",
      "Batch 400, Loss: 0.029613379389047623\n",
      "Batch 600, Loss: 0.024886688217520714\n"
     ]
    },
    {
     "name": "stderr",
     "output_type": "stream",
     "text": [
      " 24%|██▎       | 236/1000 [1:03:01<3:27:29, 16.30s/it]"
     ]
    },
    {
     "name": "stdout",
     "output_type": "stream",
     "text": [
      "Batch 0, Loss: 0.0027013267390429974\n",
      "Batch 200, Loss: 0.031053904443979263\n",
      "Batch 400, Loss: 0.14221088588237762\n",
      "Batch 600, Loss: 0.0008264894713647664\n"
     ]
    },
    {
     "name": "stderr",
     "output_type": "stream",
     "text": [
      " 24%|██▎       | 237/1000 [1:03:17<3:27:00, 16.28s/it]"
     ]
    },
    {
     "name": "stdout",
     "output_type": "stream",
     "text": [
      "Batch 0, Loss: 0.04327157139778137\n",
      "Batch 200, Loss: 0.05383230000734329\n",
      "Batch 400, Loss: 0.18161028623580933\n",
      "Batch 600, Loss: 0.15109838545322418\n"
     ]
    },
    {
     "name": "stderr",
     "output_type": "stream",
     "text": [
      " 24%|██▍       | 238/1000 [1:03:33<3:25:29, 16.18s/it]"
     ]
    },
    {
     "name": "stdout",
     "output_type": "stream",
     "text": [
      "Batch 0, Loss: 0.09863383322954178\n",
      "Batch 200, Loss: 0.12871739268302917\n",
      "Batch 400, Loss: 0.014200986362993717\n",
      "Batch 600, Loss: 0.08036170154809952\n"
     ]
    },
    {
     "name": "stderr",
     "output_type": "stream",
     "text": [
      " 24%|██▍       | 239/1000 [1:03:49<3:23:48, 16.07s/it]"
     ]
    },
    {
     "name": "stdout",
     "output_type": "stream",
     "text": [
      "Batch 0, Loss: 0.0029156915843486786\n",
      "Batch 200, Loss: 0.002766852732747793\n",
      "Batch 400, Loss: 0.31313765048980713\n",
      "Batch 600, Loss: 0.045072365552186966\n"
     ]
    },
    {
     "name": "stderr",
     "output_type": "stream",
     "text": [
      " 24%|██▍       | 240/1000 [1:04:05<3:22:18, 15.97s/it]"
     ]
    },
    {
     "name": "stdout",
     "output_type": "stream",
     "text": [
      "Batch 0, Loss: 0.006348176393657923\n",
      "Batch 200, Loss: 0.14946624636650085\n",
      "Batch 400, Loss: 0.007786262314766645\n",
      "Batch 600, Loss: 0.012314134277403355\n"
     ]
    },
    {
     "name": "stderr",
     "output_type": "stream",
     "text": [
      " 24%|██▍       | 241/1000 [1:04:21<3:24:38, 16.18s/it]"
     ]
    },
    {
     "name": "stdout",
     "output_type": "stream",
     "text": [
      "Batch 0, Loss: 0.06197237968444824\n",
      "Batch 200, Loss: 0.03494802862405777\n",
      "Batch 400, Loss: 0.05105558782815933\n",
      "Batch 600, Loss: 0.012908091768622398\n"
     ]
    },
    {
     "name": "stderr",
     "output_type": "stream",
     "text": [
      " 24%|██▍       | 242/1000 [1:04:37<3:23:23, 16.10s/it]"
     ]
    },
    {
     "name": "stdout",
     "output_type": "stream",
     "text": [
      "Batch 0, Loss: 0.0019245683215558529\n",
      "Batch 200, Loss: 0.11785031110048294\n",
      "Batch 400, Loss: 0.0639028549194336\n",
      "Batch 600, Loss: 0.009494836442172527\n"
     ]
    },
    {
     "name": "stderr",
     "output_type": "stream",
     "text": [
      " 24%|██▍       | 243/1000 [1:04:53<3:22:28, 16.05s/it]"
     ]
    },
    {
     "name": "stdout",
     "output_type": "stream",
     "text": [
      "Batch 0, Loss: 0.0020240931771695614\n",
      "Batch 200, Loss: 0.0028512582648545504\n",
      "Batch 400, Loss: 0.02348487637937069\n",
      "Batch 600, Loss: 0.0015752884792163968\n"
     ]
    },
    {
     "name": "stderr",
     "output_type": "stream",
     "text": [
      " 24%|██▍       | 244/1000 [1:05:09<3:23:02, 16.11s/it]"
     ]
    },
    {
     "name": "stdout",
     "output_type": "stream",
     "text": [
      "Batch 0, Loss: 0.03532208502292633\n",
      "Batch 200, Loss: 0.010196492075920105\n",
      "Batch 400, Loss: 0.027287712320685387\n",
      "Batch 600, Loss: 0.00044852940482087433\n"
     ]
    },
    {
     "name": "stderr",
     "output_type": "stream",
     "text": [
      " 24%|██▍       | 245/1000 [1:05:25<3:21:57, 16.05s/it]"
     ]
    },
    {
     "name": "stdout",
     "output_type": "stream",
     "text": [
      "Batch 0, Loss: 0.01449562981724739\n",
      "Batch 200, Loss: 0.029641585424542427\n",
      "Batch 400, Loss: 0.0022957497276365757\n",
      "Batch 600, Loss: 0.3603586256504059\n"
     ]
    },
    {
     "name": "stderr",
     "output_type": "stream",
     "text": [
      " 25%|██▍       | 246/1000 [1:05:41<3:20:41, 15.97s/it]"
     ]
    },
    {
     "name": "stdout",
     "output_type": "stream",
     "text": [
      "Batch 0, Loss: 0.03636474907398224\n",
      "Batch 200, Loss: 0.019319644197821617\n",
      "Batch 400, Loss: 0.016746051609516144\n",
      "Batch 600, Loss: 0.007118895184248686\n"
     ]
    },
    {
     "name": "stderr",
     "output_type": "stream",
     "text": [
      " 25%|██▍       | 247/1000 [1:05:57<3:19:16, 15.88s/it]"
     ]
    },
    {
     "name": "stdout",
     "output_type": "stream",
     "text": [
      "Batch 0, Loss: 0.3468414545059204\n",
      "Batch 200, Loss: 0.013304394669830799\n",
      "Batch 400, Loss: 0.0033798112999647856\n",
      "Batch 600, Loss: 0.05549591779708862\n"
     ]
    },
    {
     "name": "stderr",
     "output_type": "stream",
     "text": [
      " 25%|██▍       | 248/1000 [1:06:14<3:22:50, 16.18s/it]"
     ]
    },
    {
     "name": "stdout",
     "output_type": "stream",
     "text": [
      "Batch 0, Loss: 0.5099213123321533\n",
      "Batch 200, Loss: 0.12096817046403885\n",
      "Batch 400, Loss: 0.012445924803614616\n",
      "Batch 600, Loss: 0.0013795249396935105\n"
     ]
    },
    {
     "name": "stderr",
     "output_type": "stream",
     "text": [
      " 25%|██▍       | 249/1000 [1:06:32<3:30:34, 16.82s/it]"
     ]
    },
    {
     "name": "stdout",
     "output_type": "stream",
     "text": [
      "Batch 0, Loss: 0.004656457342207432\n",
      "Batch 200, Loss: 0.0028366921469569206\n",
      "Batch 400, Loss: 0.004358623642474413\n",
      "Batch 600, Loss: 0.055720169097185135\n"
     ]
    },
    {
     "name": "stderr",
     "output_type": "stream",
     "text": [
      " 25%|██▌       | 250/1000 [1:06:49<3:31:17, 16.90s/it]"
     ]
    },
    {
     "name": "stdout",
     "output_type": "stream",
     "text": [
      "Batch 0, Loss: 0.045896004885435104\n",
      "Batch 200, Loss: 0.0032747730147093534\n",
      "Batch 400, Loss: 0.08113200962543488\n",
      "Batch 600, Loss: 0.06560245156288147\n"
     ]
    },
    {
     "name": "stderr",
     "output_type": "stream",
     "text": [
      " 25%|██▌       | 251/1000 [1:07:10<3:45:18, 18.05s/it]"
     ]
    },
    {
     "name": "stdout",
     "output_type": "stream",
     "text": [
      "Batch 0, Loss: 0.003694167360663414\n",
      "Batch 200, Loss: 0.059457290917634964\n",
      "Batch 400, Loss: 0.07442668825387955\n",
      "Batch 600, Loss: 0.016247553750872612\n"
     ]
    },
    {
     "name": "stderr",
     "output_type": "stream",
     "text": [
      " 25%|██▌       | 252/1000 [1:07:27<3:40:14, 17.67s/it]"
     ]
    },
    {
     "name": "stdout",
     "output_type": "stream",
     "text": [
      "Batch 0, Loss: 0.10307900607585907\n",
      "Batch 200, Loss: 0.04454677924513817\n",
      "Batch 400, Loss: 0.028817277401685715\n",
      "Batch 600, Loss: 0.25119104981422424\n"
     ]
    },
    {
     "name": "stderr",
     "output_type": "stream",
     "text": [
      " 25%|██▌       | 253/1000 [1:07:44<3:39:22, 17.62s/it]"
     ]
    },
    {
     "name": "stdout",
     "output_type": "stream",
     "text": [
      "Batch 0, Loss: 0.0006601915811188519\n",
      "Batch 200, Loss: 0.031121550127863884\n",
      "Batch 400, Loss: 0.04786432161927223\n",
      "Batch 600, Loss: 0.00654573505744338\n"
     ]
    },
    {
     "name": "stderr",
     "output_type": "stream",
     "text": [
      " 25%|██▌       | 254/1000 [1:08:03<3:42:52, 17.93s/it]"
     ]
    },
    {
     "name": "stdout",
     "output_type": "stream",
     "text": [
      "Batch 0, Loss: 0.029213666915893555\n",
      "Batch 200, Loss: 0.01936187967658043\n",
      "Batch 400, Loss: 0.029043322429060936\n",
      "Batch 600, Loss: 0.08545538783073425\n"
     ]
    },
    {
     "name": "stderr",
     "output_type": "stream",
     "text": [
      " 26%|██▌       | 255/1000 [1:08:21<3:45:28, 18.16s/it]"
     ]
    },
    {
     "name": "stdout",
     "output_type": "stream",
     "text": [
      "Batch 0, Loss: 0.024180104956030846\n",
      "Batch 200, Loss: 0.0383036769926548\n",
      "Batch 400, Loss: 0.007370882201939821\n",
      "Batch 600, Loss: 0.07361156493425369\n"
     ]
    },
    {
     "name": "stderr",
     "output_type": "stream",
     "text": [
      " 26%|██▌       | 256/1000 [1:08:43<3:58:10, 19.21s/it]"
     ]
    },
    {
     "name": "stdout",
     "output_type": "stream",
     "text": [
      "Batch 0, Loss: 0.0006637207698076963\n",
      "Batch 200, Loss: 0.017635146155953407\n",
      "Batch 400, Loss: 0.11525601148605347\n",
      "Batch 600, Loss: 0.013217215426266193\n"
     ]
    },
    {
     "name": "stderr",
     "output_type": "stream",
     "text": [
      " 26%|██▌       | 257/1000 [1:09:04<4:02:46, 19.61s/it]"
     ]
    },
    {
     "name": "stdout",
     "output_type": "stream",
     "text": [
      "Batch 0, Loss: 0.0023880391381680965\n",
      "Batch 200, Loss: 0.05924111604690552\n",
      "Batch 400, Loss: 0.040619928389787674\n",
      "Batch 600, Loss: 0.0007612970657646656\n"
     ]
    },
    {
     "name": "stderr",
     "output_type": "stream",
     "text": [
      " 26%|██▌       | 258/1000 [1:09:23<4:02:34, 19.62s/it]"
     ]
    },
    {
     "name": "stdout",
     "output_type": "stream",
     "text": [
      "Batch 0, Loss: 0.040879733860492706\n",
      "Batch 200, Loss: 0.01696019433438778\n",
      "Batch 400, Loss: 0.06148937717080116\n",
      "Batch 600, Loss: 0.04451749473810196\n"
     ]
    },
    {
     "name": "stderr",
     "output_type": "stream",
     "text": [
      " 26%|██▌       | 259/1000 [1:09:43<4:01:28, 19.55s/it]"
     ]
    },
    {
     "name": "stdout",
     "output_type": "stream",
     "text": [
      "Batch 0, Loss: 0.023799937218427658\n",
      "Batch 200, Loss: 0.06854104995727539\n",
      "Batch 400, Loss: 0.07803390920162201\n",
      "Batch 600, Loss: 0.09590558707714081\n"
     ]
    },
    {
     "name": "stderr",
     "output_type": "stream",
     "text": [
      " 26%|██▌       | 260/1000 [1:10:01<3:56:45, 19.20s/it]"
     ]
    },
    {
     "name": "stdout",
     "output_type": "stream",
     "text": [
      "Batch 0, Loss: 0.002471329178661108\n",
      "Batch 200, Loss: 0.004145662300288677\n",
      "Batch 400, Loss: 0.05359427258372307\n",
      "Batch 600, Loss: 0.0037449400406330824\n"
     ]
    },
    {
     "name": "stderr",
     "output_type": "stream",
     "text": [
      " 26%|██▌       | 261/1000 [1:10:20<3:56:34, 19.21s/it]"
     ]
    },
    {
     "name": "stdout",
     "output_type": "stream",
     "text": [
      "Batch 0, Loss: 0.17851726710796356\n",
      "Batch 200, Loss: 0.004385052248835564\n",
      "Batch 400, Loss: 0.08537067472934723\n",
      "Batch 600, Loss: 0.000992805347777903\n"
     ]
    },
    {
     "name": "stderr",
     "output_type": "stream",
     "text": [
      " 26%|██▌       | 262/1000 [1:10:39<3:55:45, 19.17s/it]"
     ]
    },
    {
     "name": "stdout",
     "output_type": "stream",
     "text": [
      "Batch 0, Loss: 0.04250539839267731\n",
      "Batch 200, Loss: 0.009126572869718075\n",
      "Batch 400, Loss: 0.045919325202703476\n",
      "Batch 600, Loss: 0.015336530283093452\n"
     ]
    },
    {
     "name": "stderr",
     "output_type": "stream",
     "text": [
      " 26%|██▋       | 263/1000 [1:11:01<4:03:00, 19.78s/it]"
     ]
    },
    {
     "name": "stdout",
     "output_type": "stream",
     "text": [
      "Batch 0, Loss: 0.002957330783829093\n",
      "Batch 200, Loss: 0.05992306396365166\n",
      "Batch 400, Loss: 0.034391582012176514\n",
      "Batch 600, Loss: 0.00482858344912529\n"
     ]
    },
    {
     "name": "stderr",
     "output_type": "stream",
     "text": [
      " 26%|██▋       | 264/1000 [1:11:21<4:03:49, 19.88s/it]"
     ]
    },
    {
     "name": "stdout",
     "output_type": "stream",
     "text": [
      "Batch 0, Loss: 0.02120795100927353\n",
      "Batch 200, Loss: 0.006580079905688763\n",
      "Batch 400, Loss: 0.03568650782108307\n",
      "Batch 600, Loss: 0.0005187927163206041\n"
     ]
    },
    {
     "name": "stderr",
     "output_type": "stream",
     "text": [
      " 26%|██▋       | 265/1000 [1:11:41<4:04:05, 19.93s/it]"
     ]
    },
    {
     "name": "stdout",
     "output_type": "stream",
     "text": [
      "Batch 0, Loss: 0.00017031162860803306\n",
      "Batch 200, Loss: 0.038981176912784576\n",
      "Batch 400, Loss: 0.0024778142105787992\n",
      "Batch 600, Loss: 0.08980084210634232\n"
     ]
    },
    {
     "name": "stderr",
     "output_type": "stream",
     "text": [
      " 27%|██▋       | 266/1000 [1:12:02<4:07:35, 20.24s/it]"
     ]
    },
    {
     "name": "stdout",
     "output_type": "stream",
     "text": [
      "Batch 0, Loss: 0.0613785944879055\n",
      "Batch 200, Loss: 0.10283995419740677\n",
      "Batch 400, Loss: 0.023866914212703705\n",
      "Batch 600, Loss: 0.0026986824814230204\n"
     ]
    },
    {
     "name": "stderr",
     "output_type": "stream",
     "text": [
      " 27%|██▋       | 267/1000 [1:12:21<4:05:48, 20.12s/it]"
     ]
    },
    {
     "name": "stdout",
     "output_type": "stream",
     "text": [
      "Batch 0, Loss: 0.0013413053238764405\n",
      "Batch 200, Loss: 0.018128449097275734\n",
      "Batch 400, Loss: 0.07286998629570007\n",
      "Batch 600, Loss: 0.01428429689258337\n"
     ]
    },
    {
     "name": "stderr",
     "output_type": "stream",
     "text": [
      " 27%|██▋       | 268/1000 [1:12:44<4:13:28, 20.78s/it]"
     ]
    },
    {
     "name": "stdout",
     "output_type": "stream",
     "text": [
      "Batch 0, Loss: 0.00830562599003315\n",
      "Batch 200, Loss: 0.11931642144918442\n",
      "Batch 400, Loss: 0.02254946529865265\n",
      "Batch 600, Loss: 0.021085776388645172\n"
     ]
    },
    {
     "name": "stderr",
     "output_type": "stream",
     "text": [
      " 27%|██▋       | 269/1000 [1:13:05<4:13:37, 20.82s/it]"
     ]
    },
    {
     "name": "stdout",
     "output_type": "stream",
     "text": [
      "Batch 0, Loss: 0.001136584673076868\n",
      "Batch 200, Loss: 0.01640363223850727\n",
      "Batch 400, Loss: 0.015648797154426575\n",
      "Batch 600, Loss: 0.048214156180620193\n"
     ]
    },
    {
     "name": "stderr",
     "output_type": "stream",
     "text": [
      " 27%|██▋       | 270/1000 [1:13:26<4:13:24, 20.83s/it]"
     ]
    },
    {
     "name": "stdout",
     "output_type": "stream",
     "text": [
      "Batch 0, Loss: 0.07195746153593063\n",
      "Batch 200, Loss: 0.17759287357330322\n",
      "Batch 400, Loss: 0.0010232999920845032\n",
      "Batch 600, Loss: 0.09396486729383469\n"
     ]
    },
    {
     "name": "stderr",
     "output_type": "stream",
     "text": [
      " 27%|██▋       | 271/1000 [1:13:45<4:08:32, 20.46s/it]"
     ]
    },
    {
     "name": "stdout",
     "output_type": "stream",
     "text": [
      "Batch 0, Loss: 0.0006148074171505868\n",
      "Batch 200, Loss: 0.0008354834862984717\n",
      "Batch 400, Loss: 0.17171315848827362\n",
      "Batch 600, Loss: 0.1232040748000145\n"
     ]
    },
    {
     "name": "stderr",
     "output_type": "stream",
     "text": [
      " 27%|██▋       | 272/1000 [1:14:03<3:58:39, 19.67s/it]"
     ]
    },
    {
     "name": "stdout",
     "output_type": "stream",
     "text": [
      "Batch 0, Loss: 0.039598602801561356\n",
      "Batch 200, Loss: 3.238468707422726e-05\n",
      "Batch 400, Loss: 0.0808725506067276\n",
      "Batch 600, Loss: 0.09840811789035797\n"
     ]
    },
    {
     "name": "stderr",
     "output_type": "stream",
     "text": [
      " 27%|██▋       | 273/1000 [1:14:26<4:09:57, 20.63s/it]"
     ]
    },
    {
     "name": "stdout",
     "output_type": "stream",
     "text": [
      "Batch 0, Loss: 0.012130985967814922\n",
      "Batch 200, Loss: 0.004725269041955471\n",
      "Batch 400, Loss: 0.05369774252176285\n",
      "Batch 600, Loss: 0.00023715429415460676\n"
     ]
    },
    {
     "name": "stderr",
     "output_type": "stream",
     "text": [
      " 27%|██▋       | 274/1000 [1:14:50<4:21:35, 21.62s/it]"
     ]
    },
    {
     "name": "stdout",
     "output_type": "stream",
     "text": [
      "Batch 0, Loss: 0.24161846935749054\n",
      "Batch 200, Loss: 0.04189690202474594\n",
      "Batch 400, Loss: 0.00056827551452443\n",
      "Batch 600, Loss: 0.07573970407247543\n"
     ]
    },
    {
     "name": "stderr",
     "output_type": "stream",
     "text": [
      " 28%|██▊       | 275/1000 [1:15:12<4:24:33, 21.90s/it]"
     ]
    },
    {
     "name": "stdout",
     "output_type": "stream",
     "text": [
      "Batch 0, Loss: 0.01562519371509552\n",
      "Batch 200, Loss: 0.0424792617559433\n",
      "Batch 400, Loss: 0.049429889768362045\n",
      "Batch 600, Loss: 0.12671436369419098\n"
     ]
    },
    {
     "name": "stderr",
     "output_type": "stream",
     "text": [
      " 28%|██▊       | 276/1000 [1:15:36<4:29:31, 22.34s/it]"
     ]
    },
    {
     "name": "stdout",
     "output_type": "stream",
     "text": [
      "Batch 0, Loss: 0.13327613472938538\n",
      "Batch 200, Loss: 0.0530855730175972\n",
      "Batch 400, Loss: 0.00906591210514307\n",
      "Batch 600, Loss: 0.015827029943466187\n"
     ]
    },
    {
     "name": "stderr",
     "output_type": "stream",
     "text": [
      " 28%|██▊       | 277/1000 [1:15:56<4:22:58, 21.82s/it]"
     ]
    },
    {
     "name": "stdout",
     "output_type": "stream",
     "text": [
      "Batch 0, Loss: 0.12851767241954803\n",
      "Batch 200, Loss: 0.0014071410987526178\n",
      "Batch 400, Loss: 0.11454913020133972\n",
      "Batch 600, Loss: 0.014068054966628551\n"
     ]
    },
    {
     "name": "stderr",
     "output_type": "stream",
     "text": [
      " 28%|██▊       | 278/1000 [1:16:17<4:16:55, 21.35s/it]"
     ]
    },
    {
     "name": "stdout",
     "output_type": "stream",
     "text": [
      "Batch 0, Loss: 0.20068523287773132\n",
      "Batch 200, Loss: 0.04885053262114525\n",
      "Batch 400, Loss: 0.04201279580593109\n",
      "Batch 600, Loss: 0.15649090707302094\n"
     ]
    },
    {
     "name": "stderr",
     "output_type": "stream",
     "text": [
      " 28%|██▊       | 279/1000 [1:16:34<4:02:45, 20.20s/it]"
     ]
    },
    {
     "name": "stdout",
     "output_type": "stream",
     "text": [
      "Batch 0, Loss: 0.0034188544377684593\n",
      "Batch 200, Loss: 0.041111983358860016\n",
      "Batch 400, Loss: 0.013031693175435066\n",
      "Batch 600, Loss: 0.033868227154016495\n"
     ]
    },
    {
     "name": "stderr",
     "output_type": "stream",
     "text": [
      " 28%|██▊       | 280/1000 [1:16:57<4:11:05, 20.92s/it]"
     ]
    },
    {
     "name": "stdout",
     "output_type": "stream",
     "text": [
      "Batch 0, Loss: 0.006177610717713833\n",
      "Batch 200, Loss: 0.21542391180992126\n",
      "Batch 400, Loss: 0.21092596650123596\n",
      "Batch 600, Loss: 0.031181197613477707\n"
     ]
    },
    {
     "name": "stderr",
     "output_type": "stream",
     "text": [
      " 28%|██▊       | 281/1000 [1:17:16<4:05:00, 20.45s/it]"
     ]
    },
    {
     "name": "stdout",
     "output_type": "stream",
     "text": [
      "Batch 0, Loss: 0.0006873595411889255\n",
      "Batch 200, Loss: 0.1960800141096115\n",
      "Batch 400, Loss: 0.0020799203775823116\n",
      "Batch 600, Loss: 0.0008829018333926797\n"
     ]
    },
    {
     "name": "stderr",
     "output_type": "stream",
     "text": [
      " 28%|██▊       | 282/1000 [1:17:38<4:09:21, 20.84s/it]"
     ]
    },
    {
     "name": "stdout",
     "output_type": "stream",
     "text": [
      "Batch 0, Loss: 0.09843933582305908\n",
      "Batch 200, Loss: 0.001545433304272592\n",
      "Batch 400, Loss: 0.06003710627555847\n",
      "Batch 600, Loss: 0.008992999792098999\n"
     ]
    },
    {
     "name": "stderr",
     "output_type": "stream",
     "text": [
      " 28%|██▊       | 283/1000 [1:18:01<4:18:22, 21.62s/it]"
     ]
    },
    {
     "name": "stdout",
     "output_type": "stream",
     "text": [
      "Batch 0, Loss: 0.09331699460744858\n",
      "Batch 200, Loss: 0.20217660069465637\n",
      "Batch 400, Loss: 0.0697879046201706\n",
      "Batch 600, Loss: 0.004597083665430546\n"
     ]
    },
    {
     "name": "stderr",
     "output_type": "stream",
     "text": [
      " 28%|██▊       | 284/1000 [1:18:22<4:13:24, 21.23s/it]"
     ]
    },
    {
     "name": "stdout",
     "output_type": "stream",
     "text": [
      "Batch 0, Loss: 0.20737087726593018\n",
      "Batch 200, Loss: 0.0037239394150674343\n",
      "Batch 400, Loss: 0.11752490699291229\n",
      "Batch 600, Loss: 0.00029919989174231887\n"
     ]
    },
    {
     "name": "stderr",
     "output_type": "stream",
     "text": [
      " 28%|██▊       | 285/1000 [1:18:39<4:00:02, 20.14s/it]"
     ]
    },
    {
     "name": "stdout",
     "output_type": "stream",
     "text": [
      "Batch 0, Loss: 0.08991813659667969\n",
      "Batch 200, Loss: 0.04518739506602287\n",
      "Batch 400, Loss: 0.022754210978746414\n",
      "Batch 600, Loss: 0.018939923495054245\n"
     ]
    },
    {
     "name": "stderr",
     "output_type": "stream",
     "text": [
      " 29%|██▊       | 286/1000 [1:18:56<3:48:29, 19.20s/it]"
     ]
    },
    {
     "name": "stdout",
     "output_type": "stream",
     "text": [
      "Batch 0, Loss: 9.533239062875509e-05\n",
      "Batch 200, Loss: 0.055916499346494675\n",
      "Batch 400, Loss: 0.05094655230641365\n",
      "Batch 600, Loss: 0.09571727365255356\n"
     ]
    },
    {
     "name": "stderr",
     "output_type": "stream",
     "text": [
      " 29%|██▊       | 287/1000 [1:19:16<3:49:00, 19.27s/it]"
     ]
    },
    {
     "name": "stdout",
     "output_type": "stream",
     "text": [
      "Batch 0, Loss: 0.03031175211071968\n",
      "Batch 200, Loss: 0.0003868341736961156\n",
      "Batch 400, Loss: 0.045372165739536285\n",
      "Batch 600, Loss: 0.00024133244005497545\n"
     ]
    },
    {
     "name": "stderr",
     "output_type": "stream",
     "text": [
      " 29%|██▉       | 288/1000 [1:19:34<3:46:07, 19.06s/it]"
     ]
    },
    {
     "name": "stdout",
     "output_type": "stream",
     "text": [
      "Batch 0, Loss: 0.0880635604262352\n",
      "Batch 200, Loss: 0.10457590967416763\n",
      "Batch 400, Loss: 0.0006249435828067362\n",
      "Batch 600, Loss: 0.1092873215675354\n"
     ]
    },
    {
     "name": "stderr",
     "output_type": "stream",
     "text": [
      " 29%|██▉       | 289/1000 [1:19:54<3:47:50, 19.23s/it]"
     ]
    },
    {
     "name": "stdout",
     "output_type": "stream",
     "text": [
      "Batch 0, Loss: 0.0010058486368507147\n",
      "Batch 200, Loss: 0.0025254422798752785\n",
      "Batch 400, Loss: 0.0015447355108335614\n",
      "Batch 600, Loss: 0.19241216778755188\n"
     ]
    },
    {
     "name": "stderr",
     "output_type": "stream",
     "text": [
      " 29%|██▉       | 290/1000 [1:20:15<3:54:17, 19.80s/it]"
     ]
    },
    {
     "name": "stdout",
     "output_type": "stream",
     "text": [
      "Batch 0, Loss: 0.3754784166812897\n",
      "Batch 200, Loss: 0.03154806047677994\n",
      "Batch 400, Loss: 3.2266692869598046e-05\n",
      "Batch 600, Loss: 0.036618269979953766\n"
     ]
    },
    {
     "name": "stderr",
     "output_type": "stream",
     "text": [
      " 29%|██▉       | 291/1000 [1:20:34<3:50:59, 19.55s/it]"
     ]
    },
    {
     "name": "stdout",
     "output_type": "stream",
     "text": [
      "Batch 0, Loss: 0.03535119444131851\n",
      "Batch 200, Loss: 0.07026834040880203\n",
      "Batch 400, Loss: 0.025541165843605995\n",
      "Batch 600, Loss: 0.004116997588425875\n"
     ]
    },
    {
     "name": "stderr",
     "output_type": "stream",
     "text": [
      " 29%|██▉       | 292/1000 [1:20:55<3:55:12, 19.93s/it]"
     ]
    },
    {
     "name": "stdout",
     "output_type": "stream",
     "text": [
      "Batch 0, Loss: 0.05686967447400093\n",
      "Batch 200, Loss: 0.08143637329339981\n",
      "Batch 400, Loss: 0.008495494723320007\n",
      "Batch 600, Loss: 0.0016445359215140343\n"
     ]
    },
    {
     "name": "stderr",
     "output_type": "stream",
     "text": [
      " 29%|██▉       | 293/1000 [1:21:19<4:09:42, 21.19s/it]"
     ]
    },
    {
     "name": "stdout",
     "output_type": "stream",
     "text": [
      "Batch 0, Loss: 0.003439909778535366\n",
      "Batch 200, Loss: 0.06022333353757858\n",
      "Batch 400, Loss: 0.08683067560195923\n",
      "Batch 600, Loss: 0.02616340108215809\n"
     ]
    },
    {
     "name": "stderr",
     "output_type": "stream",
     "text": [
      " 29%|██▉       | 294/1000 [1:21:38<4:02:18, 20.59s/it]"
     ]
    },
    {
     "name": "stdout",
     "output_type": "stream",
     "text": [
      "Batch 0, Loss: 0.000175528708496131\n",
      "Batch 200, Loss: 0.03294381871819496\n",
      "Batch 400, Loss: 0.004479734227061272\n",
      "Batch 600, Loss: 0.15516559779644012\n"
     ]
    },
    {
     "name": "stderr",
     "output_type": "stream",
     "text": [
      " 30%|██▉       | 295/1000 [1:21:58<3:58:21, 20.29s/it]"
     ]
    },
    {
     "name": "stdout",
     "output_type": "stream",
     "text": [
      "Batch 0, Loss: 0.00036503755836747587\n",
      "Batch 200, Loss: 0.1018354594707489\n",
      "Batch 400, Loss: 0.06502663344144821\n",
      "Batch 600, Loss: 0.001555752125568688\n"
     ]
    },
    {
     "name": "stderr",
     "output_type": "stream",
     "text": [
      " 30%|██▉       | 296/1000 [1:22:17<3:54:51, 20.02s/it]"
     ]
    },
    {
     "name": "stdout",
     "output_type": "stream",
     "text": [
      "Batch 0, Loss: 0.008354224264621735\n",
      "Batch 200, Loss: 0.016661351546645164\n",
      "Batch 400, Loss: 0.011475172825157642\n",
      "Batch 600, Loss: 0.007763769943267107\n"
     ]
    },
    {
     "name": "stderr",
     "output_type": "stream",
     "text": [
      " 30%|██▉       | 297/1000 [1:22:35<3:46:37, 19.34s/it]"
     ]
    },
    {
     "name": "stdout",
     "output_type": "stream",
     "text": [
      "Batch 0, Loss: 0.010783517733216286\n",
      "Batch 200, Loss: 0.024837570264935493\n",
      "Batch 400, Loss: 0.0073417299427092075\n",
      "Batch 600, Loss: 0.006707205902785063\n"
     ]
    },
    {
     "name": "stderr",
     "output_type": "stream",
     "text": [
      " 30%|██▉       | 298/1000 [1:22:52<3:38:29, 18.67s/it]"
     ]
    },
    {
     "name": "stdout",
     "output_type": "stream",
     "text": [
      "Batch 0, Loss: 0.05992696061730385\n",
      "Batch 200, Loss: 0.007380212657153606\n",
      "Batch 400, Loss: 0.0021438023541122675\n",
      "Batch 600, Loss: 0.031070716679096222\n"
     ]
    },
    {
     "name": "stderr",
     "output_type": "stream",
     "text": [
      " 30%|██▉       | 299/1000 [1:23:09<3:33:29, 18.27s/it]"
     ]
    },
    {
     "name": "stdout",
     "output_type": "stream",
     "text": [
      "Batch 0, Loss: 0.04432525485754013\n",
      "Batch 200, Loss: 0.01152581162750721\n",
      "Batch 400, Loss: 0.014524301514029503\n",
      "Batch 600, Loss: 0.009091627784073353\n"
     ]
    },
    {
     "name": "stderr",
     "output_type": "stream",
     "text": [
      " 30%|███       | 300/1000 [1:23:29<3:38:03, 18.69s/it]"
     ]
    },
    {
     "name": "stdout",
     "output_type": "stream",
     "text": [
      "Batch 0, Loss: 0.025096368044614792\n",
      "Batch 200, Loss: 0.008300633169710636\n",
      "Batch 400, Loss: 0.0074733542278409\n",
      "Batch 600, Loss: 0.04898850619792938\n"
     ]
    },
    {
     "name": "stderr",
     "output_type": "stream",
     "text": [
      " 30%|███       | 301/1000 [1:23:46<3:33:43, 18.35s/it]"
     ]
    },
    {
     "name": "stdout",
     "output_type": "stream",
     "text": [
      "Batch 0, Loss: 0.06930563598871231\n",
      "Batch 200, Loss: 0.15307025611400604\n",
      "Batch 400, Loss: 0.14184659719467163\n",
      "Batch 600, Loss: 5.750670243287459e-05\n"
     ]
    },
    {
     "name": "stderr",
     "output_type": "stream",
     "text": [
      " 30%|███       | 302/1000 [1:24:04<3:32:08, 18.24s/it]"
     ]
    },
    {
     "name": "stdout",
     "output_type": "stream",
     "text": [
      "Batch 0, Loss: 0.033589791506528854\n",
      "Batch 200, Loss: 0.05077042803168297\n",
      "Batch 400, Loss: 0.02426891215145588\n",
      "Batch 600, Loss: 0.024098899215459824\n"
     ]
    },
    {
     "name": "stderr",
     "output_type": "stream",
     "text": [
      " 30%|███       | 303/1000 [1:24:23<3:33:41, 18.40s/it]"
     ]
    },
    {
     "name": "stdout",
     "output_type": "stream",
     "text": [
      "Batch 0, Loss: 0.06771477311849594\n",
      "Batch 200, Loss: 0.13880693912506104\n",
      "Batch 400, Loss: 0.011252791620790958\n",
      "Batch 600, Loss: 0.24526900053024292\n"
     ]
    },
    {
     "name": "stderr",
     "output_type": "stream",
     "text": [
      " 30%|███       | 304/1000 [1:24:41<3:31:38, 18.24s/it]"
     ]
    },
    {
     "name": "stdout",
     "output_type": "stream",
     "text": [
      "Batch 0, Loss: 0.030080297961831093\n",
      "Batch 200, Loss: 0.07298696786165237\n",
      "Batch 400, Loss: 0.18909014761447906\n",
      "Batch 600, Loss: 0.00033091672230511904\n"
     ]
    },
    {
     "name": "stderr",
     "output_type": "stream",
     "text": [
      " 30%|███       | 305/1000 [1:24:58<3:25:54, 17.78s/it]"
     ]
    },
    {
     "name": "stdout",
     "output_type": "stream",
     "text": [
      "Batch 0, Loss: 0.05306748300790787\n",
      "Batch 200, Loss: 0.00026925012934952974\n",
      "Batch 400, Loss: 0.12803857028484344\n",
      "Batch 600, Loss: 0.033954210579395294\n"
     ]
    },
    {
     "name": "stderr",
     "output_type": "stream",
     "text": [
      " 31%|███       | 306/1000 [1:25:14<3:20:55, 17.37s/it]"
     ]
    },
    {
     "name": "stdout",
     "output_type": "stream",
     "text": [
      "Batch 0, Loss: 0.05535927042365074\n",
      "Batch 200, Loss: 0.08201818913221359\n",
      "Batch 400, Loss: 0.005689541809260845\n",
      "Batch 600, Loss: 0.013865051791071892\n"
     ]
    },
    {
     "name": "stderr",
     "output_type": "stream",
     "text": [
      " 31%|███       | 307/1000 [1:25:32<3:23:44, 17.64s/it]"
     ]
    },
    {
     "name": "stdout",
     "output_type": "stream",
     "text": [
      "Batch 0, Loss: 0.00023705087369307876\n",
      "Batch 200, Loss: 0.0004175898793619126\n",
      "Batch 400, Loss: 0.05405212938785553\n",
      "Batch 600, Loss: 0.009254200384020805\n"
     ]
    },
    {
     "name": "stderr",
     "output_type": "stream",
     "text": [
      " 31%|███       | 308/1000 [1:25:55<3:39:17, 19.01s/it]"
     ]
    },
    {
     "name": "stdout",
     "output_type": "stream",
     "text": [
      "Batch 0, Loss: 0.016201818361878395\n",
      "Batch 200, Loss: 0.17430166900157928\n",
      "Batch 400, Loss: 0.06574846059083939\n",
      "Batch 600, Loss: 0.01987653225660324\n"
     ]
    },
    {
     "name": "stderr",
     "output_type": "stream",
     "text": [
      " 31%|███       | 309/1000 [1:26:15<3:45:15, 19.56s/it]"
     ]
    },
    {
     "name": "stdout",
     "output_type": "stream",
     "text": [
      "Batch 0, Loss: 0.00014949556498322636\n",
      "Batch 200, Loss: 0.20371156930923462\n",
      "Batch 400, Loss: 0.016105733811855316\n",
      "Batch 600, Loss: 0.024227049201726913\n"
     ]
    },
    {
     "name": "stderr",
     "output_type": "stream",
     "text": [
      " 31%|███       | 310/1000 [1:26:35<3:43:05, 19.40s/it]"
     ]
    },
    {
     "name": "stdout",
     "output_type": "stream",
     "text": [
      "Batch 0, Loss: 0.0013155045453459024\n",
      "Batch 200, Loss: 0.0004277704283595085\n",
      "Batch 400, Loss: 0.1118486151099205\n",
      "Batch 600, Loss: 0.06272799521684647\n"
     ]
    },
    {
     "name": "stderr",
     "output_type": "stream",
     "text": [
      " 31%|███       | 311/1000 [1:26:54<3:42:58, 19.42s/it]"
     ]
    },
    {
     "name": "stdout",
     "output_type": "stream",
     "text": [
      "Batch 0, Loss: 0.011426647193729877\n",
      "Batch 200, Loss: 0.13924723863601685\n",
      "Batch 400, Loss: 0.0007524435059167445\n",
      "Batch 600, Loss: 0.2681792080402374\n"
     ]
    },
    {
     "name": "stderr",
     "output_type": "stream",
     "text": [
      " 31%|███       | 312/1000 [1:27:12<3:37:45, 18.99s/it]"
     ]
    },
    {
     "name": "stdout",
     "output_type": "stream",
     "text": [
      "Batch 0, Loss: 0.07643283903598785\n",
      "Batch 200, Loss: 0.24803733825683594\n",
      "Batch 400, Loss: 0.02205292508006096\n",
      "Batch 600, Loss: 0.0526377409696579\n"
     ]
    },
    {
     "name": "stderr",
     "output_type": "stream",
     "text": [
      " 31%|███▏      | 313/1000 [1:27:28<3:27:01, 18.08s/it]"
     ]
    },
    {
     "name": "stdout",
     "output_type": "stream",
     "text": [
      "Batch 0, Loss: 0.014627297408878803\n",
      "Batch 200, Loss: 0.018752895295619965\n",
      "Batch 400, Loss: 0.21293571591377258\n",
      "Batch 600, Loss: 0.01075004693120718\n"
     ]
    },
    {
     "name": "stderr",
     "output_type": "stream",
     "text": [
      " 31%|███▏      | 314/1000 [1:27:44<3:20:03, 17.50s/it]"
     ]
    },
    {
     "name": "stdout",
     "output_type": "stream",
     "text": [
      "Batch 0, Loss: 1.096427149605006e-05\n",
      "Batch 200, Loss: 0.006149753928184509\n",
      "Batch 400, Loss: 0.04615534096956253\n",
      "Batch 600, Loss: 0.07995935529470444\n"
     ]
    },
    {
     "name": "stderr",
     "output_type": "stream",
     "text": [
      " 32%|███▏      | 315/1000 [1:28:01<3:16:20, 17.20s/it]"
     ]
    },
    {
     "name": "stdout",
     "output_type": "stream",
     "text": [
      "Batch 0, Loss: 0.00016714079538360238\n",
      "Batch 200, Loss: 0.004642336629331112\n",
      "Batch 400, Loss: 0.0088243642821908\n",
      "Batch 600, Loss: 0.023683669045567513\n"
     ]
    },
    {
     "name": "stderr",
     "output_type": "stream",
     "text": [
      " 32%|███▏      | 316/1000 [1:28:19<3:18:57, 17.45s/it]"
     ]
    },
    {
     "name": "stdout",
     "output_type": "stream",
     "text": [
      "Batch 0, Loss: 0.0034639649093151093\n",
      "Batch 200, Loss: 0.007158623542636633\n",
      "Batch 400, Loss: 0.09180498123168945\n",
      "Batch 600, Loss: 0.016512494534254074\n"
     ]
    },
    {
     "name": "stderr",
     "output_type": "stream",
     "text": [
      " 32%|███▏      | 317/1000 [1:28:37<3:22:17, 17.77s/it]"
     ]
    },
    {
     "name": "stdout",
     "output_type": "stream",
     "text": [
      "Batch 0, Loss: 0.0024377983063459396\n",
      "Batch 200, Loss: 0.010819170624017715\n",
      "Batch 400, Loss: 0.035392504185438156\n",
      "Batch 600, Loss: 0.00013607300934381783\n"
     ]
    },
    {
     "name": "stderr",
     "output_type": "stream",
     "text": [
      " 32%|███▏      | 318/1000 [1:28:53<3:14:09, 17.08s/it]"
     ]
    },
    {
     "name": "stdout",
     "output_type": "stream",
     "text": [
      "Batch 0, Loss: 0.022922366857528687\n",
      "Batch 200, Loss: 0.1649610698223114\n",
      "Batch 400, Loss: 0.03433926776051521\n",
      "Batch 600, Loss: 0.0013576571363955736\n"
     ]
    },
    {
     "name": "stderr",
     "output_type": "stream",
     "text": [
      " 32%|███▏      | 319/1000 [1:29:08<3:08:36, 16.62s/it]"
     ]
    },
    {
     "name": "stdout",
     "output_type": "stream",
     "text": [
      "Batch 0, Loss: 0.008015360683202744\n",
      "Batch 200, Loss: 0.02378852851688862\n",
      "Batch 400, Loss: 0.0011808271519839764\n",
      "Batch 600, Loss: 0.15769390761852264\n"
     ]
    },
    {
     "name": "stderr",
     "output_type": "stream",
     "text": [
      " 32%|███▏      | 320/1000 [1:29:24<3:06:01, 16.41s/it]"
     ]
    },
    {
     "name": "stdout",
     "output_type": "stream",
     "text": [
      "Batch 0, Loss: 0.0008242792100645602\n",
      "Batch 200, Loss: 0.0004791613027919084\n",
      "Batch 400, Loss: 0.016911039128899574\n",
      "Batch 600, Loss: 0.055880073457956314\n"
     ]
    },
    {
     "name": "stderr",
     "output_type": "stream",
     "text": [
      " 32%|███▏      | 321/1000 [1:29:41<3:06:04, 16.44s/it]"
     ]
    },
    {
     "name": "stdout",
     "output_type": "stream",
     "text": [
      "Batch 0, Loss: 0.021853767335414886\n",
      "Batch 200, Loss: 0.23270714282989502\n",
      "Batch 400, Loss: 0.07083722203969955\n",
      "Batch 600, Loss: 0.0027433757204562426\n"
     ]
    },
    {
     "name": "stderr",
     "output_type": "stream",
     "text": [
      " 32%|███▏      | 322/1000 [1:29:57<3:07:00, 16.55s/it]"
     ]
    },
    {
     "name": "stdout",
     "output_type": "stream",
     "text": [
      "Batch 0, Loss: 0.03525235131382942\n",
      "Batch 200, Loss: 0.0036097299307584763\n",
      "Batch 400, Loss: 0.020836254581809044\n",
      "Batch 600, Loss: 0.11311369389295578\n"
     ]
    },
    {
     "name": "stderr",
     "output_type": "stream",
     "text": [
      " 32%|███▏      | 323/1000 [1:30:15<3:10:24, 16.88s/it]"
     ]
    },
    {
     "name": "stdout",
     "output_type": "stream",
     "text": [
      "Batch 0, Loss: 0.016919726505875587\n",
      "Batch 200, Loss: 0.23647798597812653\n",
      "Batch 400, Loss: 0.026226121932268143\n",
      "Batch 600, Loss: 0.0007944671669974923\n"
     ]
    },
    {
     "name": "stderr",
     "output_type": "stream",
     "text": [
      " 32%|███▏      | 324/1000 [1:30:33<3:13:36, 17.18s/it]"
     ]
    },
    {
     "name": "stdout",
     "output_type": "stream",
     "text": [
      "Batch 0, Loss: 0.002090230816975236\n",
      "Batch 200, Loss: 0.06973709911108017\n",
      "Batch 400, Loss: 0.0020623120944947004\n",
      "Batch 600, Loss: 0.1419418454170227\n"
     ]
    },
    {
     "name": "stderr",
     "output_type": "stream",
     "text": [
      " 32%|███▎      | 325/1000 [1:30:53<3:23:54, 18.13s/it]"
     ]
    },
    {
     "name": "stdout",
     "output_type": "stream",
     "text": [
      "Batch 0, Loss: 0.014748110435903072\n",
      "Batch 200, Loss: 0.0005894409259781241\n",
      "Batch 400, Loss: 0.09459397941827774\n",
      "Batch 600, Loss: 0.03216211497783661\n"
     ]
    },
    {
     "name": "stderr",
     "output_type": "stream",
     "text": [
      " 33%|███▎      | 326/1000 [1:31:11<3:22:46, 18.05s/it]"
     ]
    },
    {
     "name": "stdout",
     "output_type": "stream",
     "text": [
      "Batch 0, Loss: 0.000451713684014976\n",
      "Batch 200, Loss: 0.00484361732378602\n",
      "Batch 400, Loss: 0.0011883970582857728\n",
      "Batch 600, Loss: 0.12800972163677216\n"
     ]
    },
    {
     "name": "stderr",
     "output_type": "stream",
     "text": [
      " 33%|███▎      | 327/1000 [1:31:28<3:19:38, 17.80s/it]"
     ]
    },
    {
     "name": "stdout",
     "output_type": "stream",
     "text": [
      "Batch 0, Loss: 0.0002878597006201744\n",
      "Batch 200, Loss: 0.19796286523342133\n",
      "Batch 400, Loss: 0.15185672044754028\n",
      "Batch 600, Loss: 0.009776069782674313\n"
     ]
    },
    {
     "name": "stderr",
     "output_type": "stream",
     "text": [
      " 33%|███▎      | 328/1000 [1:31:46<3:18:21, 17.71s/it]"
     ]
    },
    {
     "name": "stdout",
     "output_type": "stream",
     "text": [
      "Batch 0, Loss: 0.004450513981282711\n",
      "Batch 200, Loss: 0.014577668160200119\n",
      "Batch 400, Loss: 0.06219823285937309\n",
      "Batch 600, Loss: 0.07461807131767273\n"
     ]
    },
    {
     "name": "stderr",
     "output_type": "stream",
     "text": [
      " 33%|███▎      | 329/1000 [1:32:03<3:15:52, 17.51s/it]"
     ]
    },
    {
     "name": "stdout",
     "output_type": "stream",
     "text": [
      "Batch 0, Loss: 0.025812117382884026\n",
      "Batch 200, Loss: 0.07115808874368668\n",
      "Batch 400, Loss: 0.05982813984155655\n",
      "Batch 600, Loss: 0.020071128383278847\n"
     ]
    },
    {
     "name": "stderr",
     "output_type": "stream",
     "text": [
      " 33%|███▎      | 330/1000 [1:32:19<3:10:41, 17.08s/it]"
     ]
    },
    {
     "name": "stdout",
     "output_type": "stream",
     "text": [
      "Batch 0, Loss: 0.24432072043418884\n",
      "Batch 200, Loss: 0.017492996528744698\n",
      "Batch 400, Loss: 0.0020116763189435005\n",
      "Batch 600, Loss: 0.0005260987672954798\n"
     ]
    },
    {
     "name": "stderr",
     "output_type": "stream",
     "text": [
      " 33%|███▎      | 331/1000 [1:32:38<3:16:14, 17.60s/it]"
     ]
    },
    {
     "name": "stdout",
     "output_type": "stream",
     "text": [
      "Batch 0, Loss: 0.0014058866072446108\n",
      "Batch 200, Loss: 0.18701475858688354\n",
      "Batch 400, Loss: 0.01033501885831356\n",
      "Batch 600, Loss: 0.056033264845609665\n"
     ]
    },
    {
     "name": "stderr",
     "output_type": "stream",
     "text": [
      " 33%|███▎      | 332/1000 [1:32:55<3:16:17, 17.63s/it]"
     ]
    },
    {
     "name": "stdout",
     "output_type": "stream",
     "text": [
      "Batch 0, Loss: 0.001595600158907473\n",
      "Batch 200, Loss: 0.010384953580796719\n",
      "Batch 400, Loss: 7.416126027237624e-05\n",
      "Batch 600, Loss: 0.06932072341442108\n"
     ]
    },
    {
     "name": "stderr",
     "output_type": "stream",
     "text": [
      " 33%|███▎      | 333/1000 [1:33:11<3:10:07, 17.10s/it]"
     ]
    },
    {
     "name": "stdout",
     "output_type": "stream",
     "text": [
      "Batch 0, Loss: 0.02455340512096882\n",
      "Batch 200, Loss: 0.002171415137127042\n",
      "Batch 400, Loss: 0.056893013417720795\n",
      "Batch 600, Loss: 0.00023042123939376324\n"
     ]
    },
    {
     "name": "stderr",
     "output_type": "stream",
     "text": [
      " 33%|███▎      | 334/1000 [1:33:27<3:06:40, 16.82s/it]"
     ]
    },
    {
     "name": "stdout",
     "output_type": "stream",
     "text": [
      "Batch 0, Loss: 0.09063928574323654\n",
      "Batch 200, Loss: 0.0822737067937851\n",
      "Batch 400, Loss: 0.027841243892908096\n",
      "Batch 600, Loss: 0.021422864869236946\n"
     ]
    },
    {
     "name": "stderr",
     "output_type": "stream",
     "text": [
      " 34%|███▎      | 335/1000 [1:33:47<3:15:45, 17.66s/it]"
     ]
    },
    {
     "name": "stdout",
     "output_type": "stream",
     "text": [
      "Batch 0, Loss: 0.02686147950589657\n",
      "Batch 200, Loss: 0.0023878104984760284\n",
      "Batch 400, Loss: 0.0027352541219443083\n",
      "Batch 600, Loss: 0.005301704630255699\n"
     ]
    },
    {
     "name": "stderr",
     "output_type": "stream",
     "text": [
      " 34%|███▎      | 336/1000 [1:34:04<3:13:21, 17.47s/it]"
     ]
    },
    {
     "name": "stdout",
     "output_type": "stream",
     "text": [
      "Batch 0, Loss: 0.09239223599433899\n",
      "Batch 200, Loss: 0.03812780603766441\n",
      "Batch 400, Loss: 0.15909361839294434\n",
      "Batch 600, Loss: 0.00021298280626069754\n"
     ]
    },
    {
     "name": "stderr",
     "output_type": "stream",
     "text": [
      " 34%|███▎      | 337/1000 [1:34:21<3:10:30, 17.24s/it]"
     ]
    },
    {
     "name": "stdout",
     "output_type": "stream",
     "text": [
      "Batch 0, Loss: 0.00012470822548493743\n",
      "Batch 200, Loss: 0.00023638138372916728\n",
      "Batch 400, Loss: 0.1328422874212265\n",
      "Batch 600, Loss: 0.06636033952236176\n"
     ]
    },
    {
     "name": "stderr",
     "output_type": "stream",
     "text": [
      " 34%|███▍      | 338/1000 [1:34:38<3:09:22, 17.16s/it]"
     ]
    },
    {
     "name": "stdout",
     "output_type": "stream",
     "text": [
      "Batch 0, Loss: 0.009886359795928001\n",
      "Batch 200, Loss: 0.03137347474694252\n",
      "Batch 400, Loss: 0.0005720907356590033\n",
      "Batch 600, Loss: 0.03829982131719589\n"
     ]
    },
    {
     "name": "stderr",
     "output_type": "stream",
     "text": [
      " 34%|███▍      | 339/1000 [1:34:54<3:07:01, 16.98s/it]"
     ]
    },
    {
     "name": "stdout",
     "output_type": "stream",
     "text": [
      "Batch 0, Loss: 0.20345976948738098\n",
      "Batch 200, Loss: 0.25657105445861816\n",
      "Batch 400, Loss: 0.00363718974404037\n",
      "Batch 600, Loss: 0.03562071546912193\n"
     ]
    },
    {
     "name": "stderr",
     "output_type": "stream",
     "text": [
      " 34%|███▍      | 340/1000 [1:35:11<3:06:10, 16.92s/it]"
     ]
    },
    {
     "name": "stdout",
     "output_type": "stream",
     "text": [
      "Batch 0, Loss: 0.004691216628998518\n",
      "Batch 200, Loss: 0.0029931324534118176\n",
      "Batch 400, Loss: 0.002212989842519164\n",
      "Batch 600, Loss: 0.0014908842276781797\n"
     ]
    },
    {
     "name": "stderr",
     "output_type": "stream",
     "text": [
      " 34%|███▍      | 341/1000 [1:35:27<3:02:02, 16.57s/it]"
     ]
    },
    {
     "name": "stdout",
     "output_type": "stream",
     "text": [
      "Batch 0, Loss: 0.045096710324287415\n",
      "Batch 200, Loss: 0.07417483627796173\n",
      "Batch 400, Loss: 0.4352901875972748\n",
      "Batch 600, Loss: 0.05547691136598587\n"
     ]
    },
    {
     "name": "stderr",
     "output_type": "stream",
     "text": [
      " 34%|███▍      | 342/1000 [1:35:42<2:57:01, 16.14s/it]"
     ]
    },
    {
     "name": "stdout",
     "output_type": "stream",
     "text": [
      "Batch 0, Loss: 0.30749770998954773\n",
      "Batch 200, Loss: 0.0009356299415230751\n",
      "Batch 400, Loss: 0.18206486105918884\n",
      "Batch 600, Loss: 0.21544264256954193\n"
     ]
    },
    {
     "name": "stderr",
     "output_type": "stream",
     "text": [
      " 34%|███▍      | 343/1000 [1:35:57<2:53:40, 15.86s/it]"
     ]
    },
    {
     "name": "stdout",
     "output_type": "stream",
     "text": [
      "Batch 0, Loss: 0.0006075688288547099\n",
      "Batch 200, Loss: 0.08695673197507858\n",
      "Batch 400, Loss: 0.015151603147387505\n",
      "Batch 600, Loss: 0.0033173877745866776\n"
     ]
    },
    {
     "name": "stderr",
     "output_type": "stream",
     "text": [
      " 34%|███▍      | 344/1000 [1:36:13<2:53:06, 15.83s/it]"
     ]
    },
    {
     "name": "stdout",
     "output_type": "stream",
     "text": [
      "Batch 0, Loss: 0.0782930999994278\n",
      "Batch 200, Loss: 0.028655756264925003\n",
      "Batch 400, Loss: 0.09332150965929031\n",
      "Batch 600, Loss: 0.06566425412893295\n"
     ]
    },
    {
     "name": "stderr",
     "output_type": "stream",
     "text": [
      " 34%|███▍      | 345/1000 [1:36:32<3:02:32, 16.72s/it]"
     ]
    },
    {
     "name": "stdout",
     "output_type": "stream",
     "text": [
      "Batch 0, Loss: 0.12184314429759979\n",
      "Batch 200, Loss: 0.1338598132133484\n",
      "Batch 400, Loss: 0.08003063499927521\n",
      "Batch 600, Loss: 0.004062188323587179\n"
     ]
    },
    {
     "name": "stderr",
     "output_type": "stream",
     "text": [
      " 35%|███▍      | 346/1000 [1:36:49<3:02:11, 16.72s/it]"
     ]
    },
    {
     "name": "stdout",
     "output_type": "stream",
     "text": [
      "Batch 0, Loss: 0.0006430695066228509\n",
      "Batch 200, Loss: 0.011163334362208843\n",
      "Batch 400, Loss: 0.042238399386405945\n",
      "Batch 600, Loss: 0.020625878125429153\n"
     ]
    },
    {
     "name": "stderr",
     "output_type": "stream",
     "text": [
      " 35%|███▍      | 347/1000 [1:37:04<2:57:29, 16.31s/it]"
     ]
    },
    {
     "name": "stdout",
     "output_type": "stream",
     "text": [
      "Batch 0, Loss: 0.0001319575821980834\n",
      "Batch 200, Loss: 0.003969437442719936\n",
      "Batch 400, Loss: 0.04047193005681038\n",
      "Batch 600, Loss: 0.002340115839615464\n"
     ]
    },
    {
     "name": "stderr",
     "output_type": "stream",
     "text": [
      " 35%|███▍      | 348/1000 [1:37:20<2:57:19, 16.32s/it]"
     ]
    },
    {
     "name": "stdout",
     "output_type": "stream",
     "text": [
      "Batch 0, Loss: 0.036908190697431564\n",
      "Batch 200, Loss: 0.06564470380544662\n",
      "Batch 400, Loss: 0.00018958600412588567\n",
      "Batch 600, Loss: 0.00715646194294095\n"
     ]
    },
    {
     "name": "stderr",
     "output_type": "stream",
     "text": [
      " 35%|███▍      | 349/1000 [1:37:37<2:59:52, 16.58s/it]"
     ]
    },
    {
     "name": "stdout",
     "output_type": "stream",
     "text": [
      "Batch 0, Loss: 0.021856462582945824\n",
      "Batch 200, Loss: 0.0004758192226290703\n",
      "Batch 400, Loss: 0.039380691945552826\n",
      "Batch 600, Loss: 0.09315119683742523\n"
     ]
    },
    {
     "name": "stderr",
     "output_type": "stream",
     "text": [
      " 35%|███▌      | 350/1000 [1:37:54<3:00:02, 16.62s/it]"
     ]
    },
    {
     "name": "stdout",
     "output_type": "stream",
     "text": [
      "Batch 0, Loss: 0.00011255645222263411\n",
      "Batch 200, Loss: 0.17123901844024658\n",
      "Batch 400, Loss: 0.019441764801740646\n",
      "Batch 600, Loss: 0.19263730943202972\n"
     ]
    },
    {
     "name": "stderr",
     "output_type": "stream",
     "text": [
      " 35%|███▌      | 351/1000 [1:38:14<3:09:26, 17.51s/it]"
     ]
    },
    {
     "name": "stdout",
     "output_type": "stream",
     "text": [
      "Batch 0, Loss: 0.1314428299665451\n",
      "Batch 200, Loss: 0.2744658589363098\n",
      "Batch 400, Loss: 0.003991938661783934\n",
      "Batch 600, Loss: 0.0044949473813176155\n"
     ]
    },
    {
     "name": "stderr",
     "output_type": "stream",
     "text": [
      " 35%|███▌      | 352/1000 [1:38:34<3:16:30, 18.20s/it]"
     ]
    },
    {
     "name": "stdout",
     "output_type": "stream",
     "text": [
      "Batch 0, Loss: 0.0008549285121262074\n",
      "Batch 200, Loss: 7.514678145525977e-05\n",
      "Batch 400, Loss: 9.423180017620325e-05\n",
      "Batch 600, Loss: 0.18662339448928833\n"
     ]
    },
    {
     "name": "stderr",
     "output_type": "stream",
     "text": [
      " 35%|███▌      | 353/1000 [1:38:53<3:19:55, 18.54s/it]"
     ]
    },
    {
     "name": "stdout",
     "output_type": "stream",
     "text": [
      "Batch 0, Loss: 0.08427164703607559\n",
      "Batch 200, Loss: 0.08107811212539673\n",
      "Batch 400, Loss: 0.005793543998152018\n",
      "Batch 600, Loss: 0.020469937473535538\n"
     ]
    },
    {
     "name": "stderr",
     "output_type": "stream",
     "text": [
      " 35%|███▌      | 354/1000 [1:39:12<3:22:53, 18.85s/it]"
     ]
    },
    {
     "name": "stdout",
     "output_type": "stream",
     "text": [
      "Batch 0, Loss: 0.03959105908870697\n",
      "Batch 200, Loss: 0.050122812390327454\n",
      "Batch 400, Loss: 0.001075855689123273\n",
      "Batch 600, Loss: 0.0004903478547930717\n"
     ]
    },
    {
     "name": "stderr",
     "output_type": "stream",
     "text": [
      " 36%|███▌      | 355/1000 [1:39:33<3:28:26, 19.39s/it]"
     ]
    },
    {
     "name": "stdout",
     "output_type": "stream",
     "text": [
      "Batch 0, Loss: 0.03763356804847717\n",
      "Batch 200, Loss: 0.014821905642747879\n",
      "Batch 400, Loss: 0.13632798194885254\n",
      "Batch 600, Loss: 0.2856302559375763\n"
     ]
    },
    {
     "name": "stderr",
     "output_type": "stream",
     "text": [
      " 36%|███▌      | 356/1000 [1:39:52<3:25:56, 19.19s/it]"
     ]
    },
    {
     "name": "stdout",
     "output_type": "stream",
     "text": [
      "Batch 0, Loss: 0.10459097474813461\n",
      "Batch 200, Loss: 0.08238755166530609\n",
      "Batch 400, Loss: 0.0961369201540947\n",
      "Batch 600, Loss: 0.12254451960325241\n"
     ]
    },
    {
     "name": "stderr",
     "output_type": "stream",
     "text": [
      " 36%|███▌      | 357/1000 [1:40:11<3:24:51, 19.12s/it]"
     ]
    },
    {
     "name": "stdout",
     "output_type": "stream",
     "text": [
      "Batch 0, Loss: 0.0008659230661578476\n",
      "Batch 200, Loss: 0.004294815938919783\n",
      "Batch 400, Loss: 0.11307775229215622\n",
      "Batch 600, Loss: 0.005511808209121227\n"
     ]
    },
    {
     "name": "stderr",
     "output_type": "stream",
     "text": [
      " 36%|███▌      | 358/1000 [1:40:27<3:15:57, 18.31s/it]"
     ]
    },
    {
     "name": "stdout",
     "output_type": "stream",
     "text": [
      "Batch 0, Loss: 0.001742421300150454\n",
      "Batch 200, Loss: 0.10492664575576782\n",
      "Batch 400, Loss: 0.00030828380840830505\n",
      "Batch 600, Loss: 0.001971695339307189\n"
     ]
    },
    {
     "name": "stderr",
     "output_type": "stream",
     "text": [
      " 36%|███▌      | 359/1000 [1:40:44<3:12:21, 18.00s/it]"
     ]
    },
    {
     "name": "stdout",
     "output_type": "stream",
     "text": [
      "Batch 0, Loss: 0.043486129492521286\n",
      "Batch 200, Loss: 0.006315282545983791\n",
      "Batch 400, Loss: 0.05299704149365425\n",
      "Batch 600, Loss: 0.10541883111000061\n"
     ]
    },
    {
     "name": "stderr",
     "output_type": "stream",
     "text": [
      " 36%|███▌      | 360/1000 [1:41:01<3:05:52, 17.43s/it]"
     ]
    },
    {
     "name": "stdout",
     "output_type": "stream",
     "text": [
      "Batch 0, Loss: 0.000583471788559109\n",
      "Batch 200, Loss: 0.017740348353981972\n",
      "Batch 400, Loss: 0.0010376194259151816\n",
      "Batch 600, Loss: 0.002037318889051676\n"
     ]
    },
    {
     "name": "stderr",
     "output_type": "stream",
     "text": [
      " 36%|███▌      | 361/1000 [1:41:21<3:16:27, 18.45s/it]"
     ]
    },
    {
     "name": "stdout",
     "output_type": "stream",
     "text": [
      "Batch 0, Loss: 0.10936382412910461\n",
      "Batch 200, Loss: 0.005031282547861338\n",
      "Batch 400, Loss: 0.08479568362236023\n",
      "Batch 600, Loss: 0.005835147108882666\n"
     ]
    },
    {
     "name": "stderr",
     "output_type": "stream",
     "text": [
      " 36%|███▌      | 362/1000 [1:41:40<3:18:12, 18.64s/it]"
     ]
    },
    {
     "name": "stdout",
     "output_type": "stream",
     "text": [
      "Batch 0, Loss: 0.0065707131288945675\n",
      "Batch 200, Loss: 0.00032130524050444365\n",
      "Batch 400, Loss: 0.00037752921343781054\n",
      "Batch 600, Loss: 0.01343446783721447\n"
     ]
    },
    {
     "name": "stderr",
     "output_type": "stream",
     "text": [
      " 36%|███▋      | 363/1000 [1:41:59<3:17:40, 18.62s/it]"
     ]
    },
    {
     "name": "stdout",
     "output_type": "stream",
     "text": [
      "Batch 0, Loss: 0.03241078928112984\n",
      "Batch 200, Loss: 0.0236833393573761\n",
      "Batch 400, Loss: 0.09727123379707336\n",
      "Batch 600, Loss: 0.06850260496139526\n"
     ]
    },
    {
     "name": "stderr",
     "output_type": "stream",
     "text": [
      " 36%|███▋      | 364/1000 [1:42:17<3:15:28, 18.44s/it]"
     ]
    },
    {
     "name": "stdout",
     "output_type": "stream",
     "text": [
      "Batch 0, Loss: 0.00557341193780303\n",
      "Batch 200, Loss: 0.012027652934193611\n",
      "Batch 400, Loss: 0.0601874403655529\n",
      "Batch 600, Loss: 0.004988155327737331\n"
     ]
    },
    {
     "name": "stderr",
     "output_type": "stream",
     "text": [
      " 36%|███▋      | 365/1000 [1:42:34<3:10:40, 18.02s/it]"
     ]
    },
    {
     "name": "stdout",
     "output_type": "stream",
     "text": [
      "Batch 0, Loss: 0.013413065113127232\n",
      "Batch 200, Loss: 0.2893548309803009\n",
      "Batch 400, Loss: 0.09536364674568176\n",
      "Batch 600, Loss: 0.0044127958826720715\n"
     ]
    },
    {
     "name": "stderr",
     "output_type": "stream",
     "text": [
      " 37%|███▋      | 366/1000 [1:42:52<3:09:42, 17.95s/it]"
     ]
    },
    {
     "name": "stdout",
     "output_type": "stream",
     "text": [
      "Batch 0, Loss: 0.008531156927347183\n",
      "Batch 200, Loss: 0.0033859696704894304\n",
      "Batch 400, Loss: 0.0008557224064134061\n",
      "Batch 600, Loss: 0.058269795030355453\n"
     ]
    },
    {
     "name": "stderr",
     "output_type": "stream",
     "text": [
      " 37%|███▋      | 367/1000 [1:43:12<3:15:44, 18.55s/it]"
     ]
    },
    {
     "name": "stdout",
     "output_type": "stream",
     "text": [
      "Batch 0, Loss: 0.005324685014784336\n",
      "Batch 200, Loss: 0.02419467456638813\n",
      "Batch 400, Loss: 0.07510276138782501\n",
      "Batch 600, Loss: 0.0003941899340134114\n"
     ]
    },
    {
     "name": "stderr",
     "output_type": "stream",
     "text": [
      " 37%|███▋      | 368/1000 [1:43:30<3:13:49, 18.40s/it]"
     ]
    },
    {
     "name": "stdout",
     "output_type": "stream",
     "text": [
      "Batch 0, Loss: 0.000269433599896729\n",
      "Batch 200, Loss: 0.08815528452396393\n",
      "Batch 400, Loss: 0.010504431091248989\n",
      "Batch 600, Loss: 0.0726035013794899\n"
     ]
    },
    {
     "name": "stderr",
     "output_type": "stream",
     "text": [
      " 37%|███▋      | 369/1000 [1:43:47<3:09:21, 18.00s/it]"
     ]
    },
    {
     "name": "stdout",
     "output_type": "stream",
     "text": [
      "Batch 0, Loss: 0.01497761532664299\n",
      "Batch 200, Loss: 0.05191706866025925\n",
      "Batch 400, Loss: 0.24092650413513184\n",
      "Batch 600, Loss: 0.11110962927341461\n"
     ]
    },
    {
     "name": "stderr",
     "output_type": "stream",
     "text": [
      " 37%|███▋      | 370/1000 [1:44:07<3:14:47, 18.55s/it]"
     ]
    },
    {
     "name": "stdout",
     "output_type": "stream",
     "text": [
      "Batch 0, Loss: 0.08428926020860672\n",
      "Batch 200, Loss: 0.0006670276634395123\n",
      "Batch 400, Loss: 7.656212255824357e-05\n",
      "Batch 600, Loss: 9.294821211369708e-05\n"
     ]
    },
    {
     "name": "stderr",
     "output_type": "stream",
     "text": [
      " 37%|███▋      | 371/1000 [1:44:25<3:13:38, 18.47s/it]"
     ]
    },
    {
     "name": "stdout",
     "output_type": "stream",
     "text": [
      "Batch 0, Loss: 0.00878373347222805\n",
      "Batch 200, Loss: 0.0006072212127037346\n",
      "Batch 400, Loss: 0.07470590621232986\n",
      "Batch 600, Loss: 0.10092014819383621\n"
     ]
    },
    {
     "name": "stderr",
     "output_type": "stream",
     "text": [
      " 37%|███▋      | 372/1000 [1:44:43<3:11:03, 18.25s/it]"
     ]
    },
    {
     "name": "stdout",
     "output_type": "stream",
     "text": [
      "Batch 0, Loss: 0.1341467648744583\n",
      "Batch 200, Loss: 0.0007733309175819159\n",
      "Batch 400, Loss: 0.00038221091381274164\n",
      "Batch 600, Loss: 0.0712694525718689\n"
     ]
    },
    {
     "name": "stderr",
     "output_type": "stream",
     "text": [
      " 37%|███▋      | 373/1000 [1:45:00<3:07:28, 17.94s/it]"
     ]
    },
    {
     "name": "stdout",
     "output_type": "stream",
     "text": [
      "Batch 0, Loss: 7.450289558619261e-05\n",
      "Batch 200, Loss: 0.15296675264835358\n",
      "Batch 400, Loss: 0.08689043670892715\n",
      "Batch 600, Loss: 0.2973063886165619\n"
     ]
    },
    {
     "name": "stderr",
     "output_type": "stream",
     "text": [
      " 37%|███▋      | 374/1000 [1:45:18<3:06:44, 17.90s/it]"
     ]
    },
    {
     "name": "stdout",
     "output_type": "stream",
     "text": [
      "Batch 0, Loss: 0.007187360897660255\n",
      "Batch 200, Loss: 0.00010388020018581301\n",
      "Batch 400, Loss: 0.0024445033632218838\n",
      "Batch 600, Loss: 0.0058780694380402565\n"
     ]
    },
    {
     "name": "stderr",
     "output_type": "stream",
     "text": [
      " 38%|███▊      | 375/1000 [1:45:35<3:04:21, 17.70s/it]"
     ]
    },
    {
     "name": "stdout",
     "output_type": "stream",
     "text": [
      "Batch 0, Loss: 0.09401348978281021\n",
      "Batch 200, Loss: 0.009646032936871052\n",
      "Batch 400, Loss: 0.00010894867591559887\n",
      "Batch 600, Loss: 0.002127639250829816\n"
     ]
    },
    {
     "name": "stderr",
     "output_type": "stream",
     "text": [
      " 38%|███▊      | 376/1000 [1:45:52<3:02:53, 17.59s/it]"
     ]
    },
    {
     "name": "stdout",
     "output_type": "stream",
     "text": [
      "Batch 0, Loss: 0.0032442940864712\n",
      "Batch 200, Loss: 0.1535402089357376\n",
      "Batch 400, Loss: 0.14640310406684875\n",
      "Batch 600, Loss: 0.33113980293273926\n"
     ]
    },
    {
     "name": "stderr",
     "output_type": "stream",
     "text": [
      " 38%|███▊      | 377/1000 [1:46:10<3:03:06, 17.63s/it]"
     ]
    },
    {
     "name": "stdout",
     "output_type": "stream",
     "text": [
      "Batch 0, Loss: 0.021554745733737946\n",
      "Batch 200, Loss: 0.0018768758745864034\n",
      "Batch 400, Loss: 0.009947357699275017\n",
      "Batch 600, Loss: 0.004774573724716902\n"
     ]
    },
    {
     "name": "stderr",
     "output_type": "stream",
     "text": [
      " 38%|███▊      | 378/1000 [1:46:28<3:03:46, 17.73s/it]"
     ]
    },
    {
     "name": "stdout",
     "output_type": "stream",
     "text": [
      "Batch 0, Loss: 0.011610920540988445\n",
      "Batch 200, Loss: 1.5217850886983797e-05\n",
      "Batch 400, Loss: 0.11432980000972748\n",
      "Batch 600, Loss: 0.07331100851297379\n"
     ]
    },
    {
     "name": "stderr",
     "output_type": "stream",
     "text": [
      " 38%|███▊      | 379/1000 [1:46:46<3:03:01, 17.68s/it]"
     ]
    },
    {
     "name": "stdout",
     "output_type": "stream",
     "text": [
      "Batch 0, Loss: 0.007951673120260239\n",
      "Batch 200, Loss: 0.07215104252099991\n",
      "Batch 400, Loss: 0.0041645606979727745\n",
      "Batch 600, Loss: 0.09846018999814987\n"
     ]
    },
    {
     "name": "stderr",
     "output_type": "stream",
     "text": [
      " 38%|███▊      | 380/1000 [1:47:07<3:12:58, 18.68s/it]"
     ]
    },
    {
     "name": "stdout",
     "output_type": "stream",
     "text": [
      "Batch 0, Loss: 0.013734336011111736\n",
      "Batch 200, Loss: 0.008220105431973934\n",
      "Batch 400, Loss: 0.08196739107370377\n",
      "Batch 600, Loss: 0.0011582140577957034\n"
     ]
    },
    {
     "name": "stderr",
     "output_type": "stream",
     "text": [
      " 38%|███▊      | 381/1000 [1:47:26<3:13:29, 18.75s/it]"
     ]
    },
    {
     "name": "stdout",
     "output_type": "stream",
     "text": [
      "Batch 0, Loss: 0.030330464243888855\n",
      "Batch 200, Loss: 3.200633727828972e-05\n",
      "Batch 400, Loss: 0.032315220683813095\n",
      "Batch 600, Loss: 0.12425213307142258\n"
     ]
    },
    {
     "name": "stderr",
     "output_type": "stream",
     "text": [
      " 38%|███▊      | 382/1000 [1:47:43<3:08:31, 18.30s/it]"
     ]
    },
    {
     "name": "stdout",
     "output_type": "stream",
     "text": [
      "Batch 0, Loss: 0.002481290139257908\n",
      "Batch 200, Loss: 0.03812225162982941\n",
      "Batch 400, Loss: 0.03857683762907982\n",
      "Batch 600, Loss: 0.010600004345178604\n"
     ]
    },
    {
     "name": "stderr",
     "output_type": "stream",
     "text": [
      " 38%|███▊      | 383/1000 [1:48:02<3:10:06, 18.49s/it]"
     ]
    },
    {
     "name": "stdout",
     "output_type": "stream",
     "text": [
      "Batch 0, Loss: 0.07453889399766922\n",
      "Batch 200, Loss: 0.005244079977273941\n",
      "Batch 400, Loss: 0.00022977785556577146\n",
      "Batch 600, Loss: 0.19529110193252563\n"
     ]
    },
    {
     "name": "stderr",
     "output_type": "stream",
     "text": [
      " 38%|███▊      | 384/1000 [1:48:22<3:14:38, 18.96s/it]"
     ]
    },
    {
     "name": "stdout",
     "output_type": "stream",
     "text": [
      "Batch 0, Loss: 0.07868657261133194\n",
      "Batch 200, Loss: 0.03598728030920029\n",
      "Batch 400, Loss: 0.0013366431230679154\n",
      "Batch 600, Loss: 0.010926938615739346\n"
     ]
    },
    {
     "name": "stderr",
     "output_type": "stream",
     "text": [
      " 38%|███▊      | 385/1000 [1:48:42<3:16:58, 19.22s/it]"
     ]
    },
    {
     "name": "stdout",
     "output_type": "stream",
     "text": [
      "Batch 0, Loss: 0.004014844074845314\n",
      "Batch 200, Loss: 0.08883639425039291\n",
      "Batch 400, Loss: 0.1757962554693222\n",
      "Batch 600, Loss: 0.04194643720984459\n"
     ]
    },
    {
     "name": "stderr",
     "output_type": "stream",
     "text": [
      " 39%|███▊      | 386/1000 [1:49:01<3:15:44, 19.13s/it]"
     ]
    },
    {
     "name": "stdout",
     "output_type": "stream",
     "text": [
      "Batch 0, Loss: 0.00013268111797515303\n",
      "Batch 200, Loss: 0.18022054433822632\n",
      "Batch 400, Loss: 0.022899547591805458\n",
      "Batch 600, Loss: 0.13086584210395813\n"
     ]
    },
    {
     "name": "stderr",
     "output_type": "stream",
     "text": [
      " 39%|███▊      | 387/1000 [1:49:23<3:25:56, 20.16s/it]"
     ]
    },
    {
     "name": "stdout",
     "output_type": "stream",
     "text": [
      "Batch 0, Loss: 0.00025993684539571404\n",
      "Batch 200, Loss: 0.08306301385164261\n",
      "Batch 400, Loss: 0.0005441088578663766\n",
      "Batch 600, Loss: 0.16522671282291412\n"
     ]
    },
    {
     "name": "stderr",
     "output_type": "stream",
     "text": [
      " 39%|███▉      | 388/1000 [1:49:43<3:23:50, 19.98s/it]"
     ]
    },
    {
     "name": "stdout",
     "output_type": "stream",
     "text": [
      "Batch 0, Loss: 0.1308438777923584\n",
      "Batch 200, Loss: 0.011517085134983063\n",
      "Batch 400, Loss: 0.00024120834132190794\n",
      "Batch 600, Loss: 1.760282066243235e-05\n"
     ]
    },
    {
     "name": "stderr",
     "output_type": "stream",
     "text": [
      " 39%|███▉      | 389/1000 [1:50:03<3:23:56, 20.03s/it]"
     ]
    },
    {
     "name": "stdout",
     "output_type": "stream",
     "text": [
      "Batch 0, Loss: 0.00015339849051088095\n",
      "Batch 200, Loss: 0.028441963717341423\n",
      "Batch 400, Loss: 0.004957870114594698\n",
      "Batch 600, Loss: 0.0013154789339751005\n"
     ]
    },
    {
     "name": "stderr",
     "output_type": "stream",
     "text": [
      " 39%|███▉      | 390/1000 [1:50:24<3:28:36, 20.52s/it]"
     ]
    },
    {
     "name": "stdout",
     "output_type": "stream",
     "text": [
      "Batch 0, Loss: 0.016531240195035934\n",
      "Batch 200, Loss: 0.21377193927764893\n",
      "Batch 400, Loss: 0.06233081594109535\n",
      "Batch 600, Loss: 0.0005777706392109394\n"
     ]
    },
    {
     "name": "stderr",
     "output_type": "stream",
     "text": [
      " 39%|███▉      | 391/1000 [1:50:44<3:23:39, 20.06s/it]"
     ]
    },
    {
     "name": "stdout",
     "output_type": "stream",
     "text": [
      "Batch 0, Loss: 0.05020859092473984\n",
      "Batch 200, Loss: 0.11347471177577972\n",
      "Batch 400, Loss: 0.25458866357803345\n",
      "Batch 600, Loss: 0.010599819011986256\n"
     ]
    },
    {
     "name": "stderr",
     "output_type": "stream",
     "text": [
      " 39%|███▉      | 392/1000 [1:51:02<3:17:23, 19.48s/it]"
     ]
    },
    {
     "name": "stdout",
     "output_type": "stream",
     "text": [
      "Batch 0, Loss: 0.00018986547365784645\n",
      "Batch 200, Loss: 0.008619953878223896\n",
      "Batch 400, Loss: 0.00016741250874474645\n",
      "Batch 600, Loss: 0.025765379890799522\n"
     ]
    },
    {
     "name": "stderr",
     "output_type": "stream",
     "text": [
      " 39%|███▉      | 393/1000 [1:51:21<3:17:55, 19.56s/it]"
     ]
    },
    {
     "name": "stdout",
     "output_type": "stream",
     "text": [
      "Batch 0, Loss: 0.08178084343671799\n",
      "Batch 200, Loss: 0.1096891388297081\n",
      "Batch 400, Loss: 0.13215117156505585\n",
      "Batch 600, Loss: 0.07562592625617981\n"
     ]
    },
    {
     "name": "stderr",
     "output_type": "stream",
     "text": [
      " 39%|███▉      | 394/1000 [1:51:38<3:08:36, 18.67s/it]"
     ]
    },
    {
     "name": "stdout",
     "output_type": "stream",
     "text": [
      "Batch 0, Loss: 0.06539185345172882\n",
      "Batch 200, Loss: 0.0018511565867811441\n",
      "Batch 400, Loss: 0.00016389813390560448\n",
      "Batch 600, Loss: 0.04954683780670166\n"
     ]
    },
    {
     "name": "stderr",
     "output_type": "stream",
     "text": [
      " 40%|███▉      | 395/1000 [1:51:57<3:10:24, 18.88s/it]"
     ]
    },
    {
     "name": "stdout",
     "output_type": "stream",
     "text": [
      "Batch 0, Loss: 0.05394236743450165\n",
      "Batch 200, Loss: 0.11756452918052673\n",
      "Batch 400, Loss: 0.009976868517696857\n",
      "Batch 600, Loss: 0.1301029920578003\n"
     ]
    },
    {
     "name": "stderr",
     "output_type": "stream",
     "text": [
      " 40%|███▉      | 396/1000 [1:52:15<3:06:08, 18.49s/it]"
     ]
    },
    {
     "name": "stdout",
     "output_type": "stream",
     "text": [
      "Batch 0, Loss: 0.05090871453285217\n",
      "Batch 200, Loss: 0.0013096679467707872\n",
      "Batch 400, Loss: 0.04577823728322983\n",
      "Batch 600, Loss: 0.0008544704760424793\n"
     ]
    },
    {
     "name": "stderr",
     "output_type": "stream",
     "text": [
      " 40%|███▉      | 397/1000 [1:52:32<3:00:47, 17.99s/it]"
     ]
    },
    {
     "name": "stdout",
     "output_type": "stream",
     "text": [
      "Batch 0, Loss: 0.03687877953052521\n",
      "Batch 200, Loss: 0.19433721899986267\n",
      "Batch 400, Loss: 5.726671952288598e-05\n",
      "Batch 600, Loss: 0.01688193343579769\n"
     ]
    },
    {
     "name": "stderr",
     "output_type": "stream",
     "text": [
      " 40%|███▉      | 398/1000 [1:52:48<2:55:20, 17.48s/it]"
     ]
    },
    {
     "name": "stdout",
     "output_type": "stream",
     "text": [
      "Batch 0, Loss: 0.004206757992506027\n",
      "Batch 200, Loss: 0.06008969247341156\n",
      "Batch 400, Loss: 0.0056574405170977116\n",
      "Batch 600, Loss: 0.008215317502617836\n"
     ]
    },
    {
     "name": "stderr",
     "output_type": "stream",
     "text": [
      " 40%|███▉      | 399/1000 [1:53:04<2:51:54, 17.16s/it]"
     ]
    },
    {
     "name": "stdout",
     "output_type": "stream",
     "text": [
      "Batch 0, Loss: 0.017240937799215317\n",
      "Batch 200, Loss: 0.005075639579445124\n",
      "Batch 400, Loss: 0.0394984632730484\n",
      "Batch 600, Loss: 0.0008143786690197885\n"
     ]
    },
    {
     "name": "stderr",
     "output_type": "stream",
     "text": [
      " 40%|████      | 400/1000 [1:53:21<2:50:08, 17.01s/it]"
     ]
    },
    {
     "name": "stdout",
     "output_type": "stream",
     "text": [
      "Batch 0, Loss: 9.06266814126866e-06\n",
      "Batch 200, Loss: 0.08067118376493454\n",
      "Batch 400, Loss: 0.029636185616254807\n",
      "Batch 600, Loss: 0.07461560517549515\n"
     ]
    },
    {
     "name": "stderr",
     "output_type": "stream",
     "text": [
      " 40%|████      | 401/1000 [1:53:37<2:47:46, 16.80s/it]"
     ]
    },
    {
     "name": "stdout",
     "output_type": "stream",
     "text": [
      "Batch 0, Loss: 0.07005918025970459\n",
      "Batch 200, Loss: 0.020746449008584023\n",
      "Batch 400, Loss: 7.974739855853841e-05\n",
      "Batch 600, Loss: 0.05373772606253624\n"
     ]
    },
    {
     "name": "stderr",
     "output_type": "stream",
     "text": [
      " 40%|████      | 402/1000 [1:53:54<2:46:23, 16.69s/it]"
     ]
    },
    {
     "name": "stdout",
     "output_type": "stream",
     "text": [
      "Batch 0, Loss: 0.019099507480859756\n",
      "Batch 200, Loss: 0.036595165729522705\n",
      "Batch 400, Loss: 0.0510559119284153\n",
      "Batch 600, Loss: 0.020955076441168785\n"
     ]
    },
    {
     "name": "stderr",
     "output_type": "stream",
     "text": [
      " 40%|████      | 403/1000 [1:54:10<2:45:53, 16.67s/it]"
     ]
    },
    {
     "name": "stdout",
     "output_type": "stream",
     "text": [
      "Batch 0, Loss: 0.09485927224159241\n",
      "Batch 200, Loss: 2.13472121686209e-05\n",
      "Batch 400, Loss: 0.0006394885713234544\n",
      "Batch 600, Loss: 0.11937212944030762\n"
     ]
    },
    {
     "name": "stderr",
     "output_type": "stream",
     "text": [
      " 40%|████      | 404/1000 [1:54:28<2:47:47, 16.89s/it]"
     ]
    },
    {
     "name": "stdout",
     "output_type": "stream",
     "text": [
      "Batch 0, Loss: 0.00026354638976044953\n",
      "Batch 200, Loss: 0.008182712830603123\n",
      "Batch 400, Loss: 0.011292548850178719\n",
      "Batch 600, Loss: 0.0009240867802873254\n"
     ]
    },
    {
     "name": "stderr",
     "output_type": "stream",
     "text": [
      " 40%|████      | 405/1000 [1:54:44<2:46:31, 16.79s/it]"
     ]
    },
    {
     "name": "stdout",
     "output_type": "stream",
     "text": [
      "Batch 0, Loss: 0.001209836918860674\n",
      "Batch 200, Loss: 0.026692088693380356\n",
      "Batch 400, Loss: 0.06403610855340958\n",
      "Batch 600, Loss: 0.00044227225589565933\n"
     ]
    },
    {
     "name": "stderr",
     "output_type": "stream",
     "text": [
      " 41%|████      | 406/1000 [1:55:01<2:44:40, 16.63s/it]"
     ]
    },
    {
     "name": "stdout",
     "output_type": "stream",
     "text": [
      "Batch 0, Loss: 0.010599656961858273\n",
      "Batch 200, Loss: 0.002281943103298545\n",
      "Batch 400, Loss: 0.1754964292049408\n",
      "Batch 600, Loss: 1.7323254724033177e-05\n"
     ]
    },
    {
     "name": "stderr",
     "output_type": "stream",
     "text": [
      " 41%|████      | 407/1000 [1:55:17<2:43:56, 16.59s/it]"
     ]
    },
    {
     "name": "stdout",
     "output_type": "stream",
     "text": [
      "Batch 0, Loss: 0.0014577576657757163\n",
      "Batch 200, Loss: 0.1899404227733612\n",
      "Batch 400, Loss: 0.09042194485664368\n",
      "Batch 600, Loss: 0.0033779318910092115\n"
     ]
    },
    {
     "name": "stderr",
     "output_type": "stream",
     "text": [
      " 41%|████      | 408/1000 [1:55:33<2:42:44, 16.49s/it]"
     ]
    },
    {
     "name": "stdout",
     "output_type": "stream",
     "text": [
      "Batch 0, Loss: 0.03201643005013466\n",
      "Batch 200, Loss: 0.10012678056955338\n",
      "Batch 400, Loss: 0.0006026648916304111\n",
      "Batch 600, Loss: 0.029416976496577263\n"
     ]
    },
    {
     "name": "stderr",
     "output_type": "stream",
     "text": [
      " 41%|████      | 409/1000 [1:55:50<2:41:39, 16.41s/it]"
     ]
    },
    {
     "name": "stdout",
     "output_type": "stream",
     "text": [
      "Batch 0, Loss: 0.0014073196798563004\n",
      "Batch 200, Loss: 0.013969249092042446\n",
      "Batch 400, Loss: 0.00013553233293350786\n",
      "Batch 600, Loss: 0.0019706557504832745\n"
     ]
    },
    {
     "name": "stderr",
     "output_type": "stream",
     "text": [
      " 41%|████      | 410/1000 [1:56:06<2:41:59, 16.47s/it]"
     ]
    },
    {
     "name": "stdout",
     "output_type": "stream",
     "text": [
      "Batch 0, Loss: 0.051571693271398544\n",
      "Batch 200, Loss: 0.0010326470946893096\n",
      "Batch 400, Loss: 1.3522592780645937e-05\n",
      "Batch 600, Loss: 0.19656793773174286\n"
     ]
    },
    {
     "name": "stderr",
     "output_type": "stream",
     "text": [
      " 41%|████      | 411/1000 [1:56:23<2:41:32, 16.46s/it]"
     ]
    },
    {
     "name": "stdout",
     "output_type": "stream",
     "text": [
      "Batch 0, Loss: 0.031029507517814636\n",
      "Batch 200, Loss: 0.0755947083234787\n",
      "Batch 400, Loss: 0.03137983754277229\n",
      "Batch 600, Loss: 0.10373301804065704\n"
     ]
    },
    {
     "name": "stderr",
     "output_type": "stream",
     "text": [
      " 41%|████      | 412/1000 [1:56:39<2:40:33, 16.38s/it]"
     ]
    },
    {
     "name": "stdout",
     "output_type": "stream",
     "text": [
      "Batch 0, Loss: 0.0021368355955928564\n",
      "Batch 200, Loss: 2.41290035774e-05\n",
      "Batch 400, Loss: 0.06771711260080338\n",
      "Batch 600, Loss: 0.037920475006103516\n"
     ]
    },
    {
     "name": "stderr",
     "output_type": "stream",
     "text": [
      " 41%|████▏     | 413/1000 [1:56:55<2:40:10, 16.37s/it]"
     ]
    },
    {
     "name": "stdout",
     "output_type": "stream",
     "text": [
      "Batch 0, Loss: 0.041506215929985046\n",
      "Batch 200, Loss: 0.005381527356803417\n",
      "Batch 400, Loss: 0.02772568352520466\n",
      "Batch 600, Loss: 0.0013770787045359612\n"
     ]
    },
    {
     "name": "stderr",
     "output_type": "stream",
     "text": [
      " 41%|████▏     | 414/1000 [1:57:12<2:40:09, 16.40s/it]"
     ]
    },
    {
     "name": "stdout",
     "output_type": "stream",
     "text": [
      "Batch 0, Loss: 0.04632321372628212\n",
      "Batch 200, Loss: 0.045903101563453674\n",
      "Batch 400, Loss: 0.0038354445714503527\n",
      "Batch 600, Loss: 0.16622693836688995\n"
     ]
    },
    {
     "name": "stderr",
     "output_type": "stream",
     "text": [
      " 42%|████▏     | 415/1000 [1:57:29<2:42:47, 16.70s/it]"
     ]
    },
    {
     "name": "stdout",
     "output_type": "stream",
     "text": [
      "Batch 0, Loss: 0.04103013500571251\n",
      "Batch 200, Loss: 0.07215283811092377\n",
      "Batch 400, Loss: 0.08031036704778671\n",
      "Batch 600, Loss: 0.1373685896396637\n"
     ]
    },
    {
     "name": "stderr",
     "output_type": "stream",
     "text": [
      " 42%|████▏     | 416/1000 [1:57:46<2:41:44, 16.62s/it]"
     ]
    },
    {
     "name": "stdout",
     "output_type": "stream",
     "text": [
      "Batch 0, Loss: 0.14012748003005981\n",
      "Batch 200, Loss: 0.00799041148275137\n",
      "Batch 400, Loss: 0.00012610627163667232\n",
      "Batch 600, Loss: 0.12724672257900238\n"
     ]
    },
    {
     "name": "stderr",
     "output_type": "stream",
     "text": [
      " 42%|████▏     | 417/1000 [1:58:02<2:40:33, 16.52s/it]"
     ]
    },
    {
     "name": "stdout",
     "output_type": "stream",
     "text": [
      "Batch 0, Loss: 0.0002024930145125836\n",
      "Batch 200, Loss: 0.11750727146863937\n",
      "Batch 400, Loss: 0.0027961062733083963\n",
      "Batch 600, Loss: 0.0015296072233468294\n"
     ]
    },
    {
     "name": "stderr",
     "output_type": "stream",
     "text": [
      " 42%|████▏     | 418/1000 [1:58:18<2:40:24, 16.54s/it]"
     ]
    },
    {
     "name": "stdout",
     "output_type": "stream",
     "text": [
      "Batch 0, Loss: 0.0620448999106884\n",
      "Batch 200, Loss: 0.0004373059782665223\n",
      "Batch 400, Loss: 6.217326881596819e-05\n",
      "Batch 600, Loss: 0.02357971854507923\n"
     ]
    },
    {
     "name": "stderr",
     "output_type": "stream",
     "text": [
      " 42%|████▏     | 419/1000 [1:58:35<2:39:38, 16.49s/it]"
     ]
    },
    {
     "name": "stdout",
     "output_type": "stream",
     "text": [
      "Batch 0, Loss: 0.21470671892166138\n",
      "Batch 200, Loss: 0.03781133145093918\n",
      "Batch 400, Loss: 0.0015293899923563004\n",
      "Batch 600, Loss: 0.00203510420396924\n"
     ]
    },
    {
     "name": "stderr",
     "output_type": "stream",
     "text": [
      " 42%|████▏     | 420/1000 [1:58:51<2:39:42, 16.52s/it]"
     ]
    },
    {
     "name": "stdout",
     "output_type": "stream",
     "text": [
      "Batch 0, Loss: 0.0010283463634550571\n",
      "Batch 200, Loss: 0.015252773649990559\n",
      "Batch 400, Loss: 0.0004797180590685457\n",
      "Batch 600, Loss: 0.00010277920955559239\n"
     ]
    },
    {
     "name": "stderr",
     "output_type": "stream",
     "text": [
      " 42%|████▏     | 421/1000 [1:59:08<2:39:48, 16.56s/it]"
     ]
    },
    {
     "name": "stdout",
     "output_type": "stream",
     "text": [
      "Batch 0, Loss: 0.007932725362479687\n",
      "Batch 200, Loss: 0.0005787466070614755\n",
      "Batch 400, Loss: 0.06401649117469788\n",
      "Batch 600, Loss: 0.047163087874650955\n"
     ]
    },
    {
     "name": "stderr",
     "output_type": "stream",
     "text": [
      " 42%|████▏     | 422/1000 [1:59:24<2:39:03, 16.51s/it]"
     ]
    },
    {
     "name": "stdout",
     "output_type": "stream",
     "text": [
      "Batch 0, Loss: 0.058298464864492416\n",
      "Batch 200, Loss: 7.320127792809217e-07\n",
      "Batch 400, Loss: 0.00011431302118580788\n",
      "Batch 600, Loss: 0.009189090691506863\n"
     ]
    },
    {
     "name": "stderr",
     "output_type": "stream",
     "text": [
      " 42%|████▏     | 423/1000 [1:59:41<2:38:45, 16.51s/it]"
     ]
    },
    {
     "name": "stdout",
     "output_type": "stream",
     "text": [
      "Batch 0, Loss: 0.06190840154886246\n",
      "Batch 200, Loss: 0.0005403269315138459\n",
      "Batch 400, Loss: 0.011397548951208591\n",
      "Batch 600, Loss: 0.11154122650623322\n"
     ]
    },
    {
     "name": "stderr",
     "output_type": "stream",
     "text": [
      " 42%|████▏     | 424/1000 [1:59:58<2:40:49, 16.75s/it]"
     ]
    },
    {
     "name": "stdout",
     "output_type": "stream",
     "text": [
      "Batch 0, Loss: 0.0002971127978526056\n",
      "Batch 200, Loss: 0.012513924390077591\n",
      "Batch 400, Loss: 0.0036478808615356684\n",
      "Batch 600, Loss: 0.013224396854639053\n"
     ]
    },
    {
     "name": "stderr",
     "output_type": "stream",
     "text": [
      " 42%|████▎     | 425/1000 [2:00:15<2:39:47, 16.67s/it]"
     ]
    },
    {
     "name": "stdout",
     "output_type": "stream",
     "text": [
      "Batch 0, Loss: 0.003898198949173093\n",
      "Batch 200, Loss: 0.0011773036094382405\n",
      "Batch 400, Loss: 0.004678619559854269\n",
      "Batch 600, Loss: 0.0006940675666555762\n"
     ]
    },
    {
     "name": "stderr",
     "output_type": "stream",
     "text": [
      " 43%|████▎     | 426/1000 [2:00:31<2:38:37, 16.58s/it]"
     ]
    },
    {
     "name": "stdout",
     "output_type": "stream",
     "text": [
      "Batch 0, Loss: 0.00027019670233130455\n",
      "Batch 200, Loss: 2.806911652442068e-06\n",
      "Batch 400, Loss: 4.3422802264103666e-05\n",
      "Batch 600, Loss: 0.0348229706287384\n"
     ]
    },
    {
     "name": "stderr",
     "output_type": "stream",
     "text": [
      " 43%|████▎     | 427/1000 [2:00:47<2:37:40, 16.51s/it]"
     ]
    },
    {
     "name": "stdout",
     "output_type": "stream",
     "text": [
      "Batch 0, Loss: 0.10866115242242813\n",
      "Batch 200, Loss: 0.0019098976626992226\n",
      "Batch 400, Loss: 0.012861993163824081\n",
      "Batch 600, Loss: 0.18942676484584808\n"
     ]
    },
    {
     "name": "stderr",
     "output_type": "stream",
     "text": [
      " 43%|████▎     | 428/1000 [2:01:03<2:33:50, 16.14s/it]"
     ]
    },
    {
     "name": "stdout",
     "output_type": "stream",
     "text": [
      "Batch 0, Loss: 0.026452261954545975\n",
      "Batch 200, Loss: 0.016522174701094627\n",
      "Batch 400, Loss: 4.911926225759089e-05\n",
      "Batch 600, Loss: 0.0709746852517128\n"
     ]
    },
    {
     "name": "stderr",
     "output_type": "stream",
     "text": [
      " 43%|████▎     | 429/1000 [2:01:19<2:32:52, 16.06s/it]"
     ]
    },
    {
     "name": "stdout",
     "output_type": "stream",
     "text": [
      "Batch 0, Loss: 4.9170816055266187e-05\n",
      "Batch 200, Loss: 0.06740488111972809\n",
      "Batch 400, Loss: 0.0011145549360662699\n",
      "Batch 600, Loss: 0.0012624429073184729\n"
     ]
    },
    {
     "name": "stderr",
     "output_type": "stream",
     "text": [
      " 43%|████▎     | 430/1000 [2:01:35<2:34:43, 16.29s/it]"
     ]
    },
    {
     "name": "stdout",
     "output_type": "stream",
     "text": [
      "Batch 0, Loss: 0.10647691786289215\n",
      "Batch 200, Loss: 0.01239689439535141\n",
      "Batch 400, Loss: 0.005310148932039738\n",
      "Batch 600, Loss: 0.03821521997451782\n"
     ]
    },
    {
     "name": "stderr",
     "output_type": "stream",
     "text": [
      " 43%|████▎     | 431/1000 [2:01:52<2:35:23, 16.39s/it]"
     ]
    },
    {
     "name": "stdout",
     "output_type": "stream",
     "text": [
      "Batch 0, Loss: 0.009344293735921383\n",
      "Batch 200, Loss: 0.039627525955438614\n",
      "Batch 400, Loss: 0.005499810446053743\n",
      "Batch 600, Loss: 0.010106063447892666\n"
     ]
    },
    {
     "name": "stderr",
     "output_type": "stream",
     "text": [
      " 43%|████▎     | 432/1000 [2:02:10<2:38:19, 16.72s/it]"
     ]
    },
    {
     "name": "stdout",
     "output_type": "stream",
     "text": [
      "Batch 0, Loss: 0.2563680112361908\n",
      "Batch 200, Loss: 0.009396913461387157\n",
      "Batch 400, Loss: 0.0023796535097062588\n",
      "Batch 600, Loss: 0.006081927567720413\n"
     ]
    },
    {
     "name": "stderr",
     "output_type": "stream",
     "text": [
      " 43%|████▎     | 433/1000 [2:02:27<2:40:10, 16.95s/it]"
     ]
    },
    {
     "name": "stdout",
     "output_type": "stream",
     "text": [
      "Batch 0, Loss: 0.051803674548864365\n",
      "Batch 200, Loss: 0.010391537100076675\n",
      "Batch 400, Loss: 0.2860959470272064\n",
      "Batch 600, Loss: 0.02640330046415329\n"
     ]
    },
    {
     "name": "stderr",
     "output_type": "stream",
     "text": [
      " 43%|████▎     | 434/1000 [2:02:44<2:38:50, 16.84s/it]"
     ]
    },
    {
     "name": "stdout",
     "output_type": "stream",
     "text": [
      "Batch 0, Loss: 0.0020307707600295544\n",
      "Batch 200, Loss: 0.05137594789266586\n",
      "Batch 400, Loss: 0.03346571326255798\n",
      "Batch 600, Loss: 0.06769919395446777\n"
     ]
    },
    {
     "name": "stderr",
     "output_type": "stream",
     "text": [
      " 44%|████▎     | 435/1000 [2:03:00<2:37:24, 16.72s/it]"
     ]
    },
    {
     "name": "stdout",
     "output_type": "stream",
     "text": [
      "Batch 0, Loss: 0.007124247960746288\n",
      "Batch 200, Loss: 4.868302767135901e-06\n",
      "Batch 400, Loss: 0.14370910823345184\n",
      "Batch 600, Loss: 0.00028716621454805136\n"
     ]
    },
    {
     "name": "stderr",
     "output_type": "stream",
     "text": [
      " 44%|████▎     | 436/1000 [2:03:17<2:37:11, 16.72s/it]"
     ]
    },
    {
     "name": "stdout",
     "output_type": "stream",
     "text": [
      "Batch 0, Loss: 0.004399262834340334\n",
      "Batch 200, Loss: 0.006900835316628218\n",
      "Batch 400, Loss: 9.366087761009112e-05\n",
      "Batch 600, Loss: 0.05914207175374031\n"
     ]
    },
    {
     "name": "stderr",
     "output_type": "stream",
     "text": [
      " 44%|████▎     | 437/1000 [2:03:33<2:35:56, 16.62s/it]"
     ]
    },
    {
     "name": "stdout",
     "output_type": "stream",
     "text": [
      "Batch 0, Loss: 0.02172878570854664\n",
      "Batch 200, Loss: 0.0014969760086387396\n",
      "Batch 400, Loss: 0.00012801428965758532\n",
      "Batch 600, Loss: 0.00035961740650236607\n"
     ]
    },
    {
     "name": "stderr",
     "output_type": "stream",
     "text": [
      " 44%|████▍     | 438/1000 [2:03:50<2:35:26, 16.59s/it]"
     ]
    },
    {
     "name": "stdout",
     "output_type": "stream",
     "text": [
      "Batch 0, Loss: 0.0016826672945171595\n",
      "Batch 200, Loss: 7.900739547039848e-06\n",
      "Batch 400, Loss: 0.015332754701375961\n",
      "Batch 600, Loss: 0.20397809147834778\n"
     ]
    },
    {
     "name": "stderr",
     "output_type": "stream",
     "text": [
      " 44%|████▍     | 439/1000 [2:04:06<2:35:14, 16.60s/it]"
     ]
    },
    {
     "name": "stdout",
     "output_type": "stream",
     "text": [
      "Batch 0, Loss: 0.0901045873761177\n",
      "Batch 200, Loss: 0.0002647614455781877\n",
      "Batch 400, Loss: 0.008736105635762215\n",
      "Batch 600, Loss: 0.014337370172142982\n"
     ]
    },
    {
     "name": "stderr",
     "output_type": "stream",
     "text": [
      " 44%|████▍     | 440/1000 [2:04:23<2:35:24, 16.65s/it]"
     ]
    },
    {
     "name": "stdout",
     "output_type": "stream",
     "text": [
      "Batch 0, Loss: 0.020523911342024803\n",
      "Batch 200, Loss: 4.879818334302399e-06\n",
      "Batch 400, Loss: 0.4735848307609558\n",
      "Batch 600, Loss: 9.839597623795271e-05\n"
     ]
    },
    {
     "name": "stderr",
     "output_type": "stream",
     "text": [
      " 44%|████▍     | 441/1000 [2:04:40<2:35:00, 16.64s/it]"
     ]
    },
    {
     "name": "stdout",
     "output_type": "stream",
     "text": [
      "Batch 0, Loss: 0.06237305328249931\n",
      "Batch 200, Loss: 0.0008820819202810526\n",
      "Batch 400, Loss: 0.0038392292335629463\n",
      "Batch 600, Loss: 0.0005878038937225938\n"
     ]
    },
    {
     "name": "stderr",
     "output_type": "stream",
     "text": [
      " 44%|████▍     | 442/1000 [2:04:56<2:34:03, 16.57s/it]"
     ]
    },
    {
     "name": "stdout",
     "output_type": "stream",
     "text": [
      "Batch 0, Loss: 0.0768466517329216\n",
      "Batch 200, Loss: 0.005535162054002285\n",
      "Batch 400, Loss: 0.07381570339202881\n",
      "Batch 600, Loss: 0.21030236780643463\n"
     ]
    },
    {
     "name": "stderr",
     "output_type": "stream",
     "text": [
      " 44%|████▍     | 443/1000 [2:05:14<2:36:43, 16.88s/it]"
     ]
    },
    {
     "name": "stdout",
     "output_type": "stream",
     "text": [
      "Batch 0, Loss: 0.15550751984119415\n",
      "Batch 200, Loss: 0.31453946232795715\n",
      "Batch 400, Loss: 3.624446253525093e-05\n",
      "Batch 600, Loss: 3.252494570915587e-05\n"
     ]
    },
    {
     "name": "stderr",
     "output_type": "stream",
     "text": [
      " 44%|████▍     | 444/1000 [2:05:30<2:35:23, 16.77s/it]"
     ]
    },
    {
     "name": "stdout",
     "output_type": "stream",
     "text": [
      "Batch 0, Loss: 0.00033736578188836575\n",
      "Batch 200, Loss: 0.10115024447441101\n",
      "Batch 400, Loss: 0.08219943195581436\n",
      "Batch 600, Loss: 0.0009154492290690541\n"
     ]
    },
    {
     "name": "stderr",
     "output_type": "stream",
     "text": [
      " 44%|████▍     | 445/1000 [2:05:47<2:34:24, 16.69s/it]"
     ]
    },
    {
     "name": "stdout",
     "output_type": "stream",
     "text": [
      "Batch 0, Loss: 0.006234952248632908\n",
      "Batch 200, Loss: 0.0003409900236874819\n",
      "Batch 400, Loss: 0.0962665006518364\n",
      "Batch 600, Loss: 0.05785175412893295\n"
     ]
    },
    {
     "name": "stderr",
     "output_type": "stream",
     "text": [
      " 45%|████▍     | 446/1000 [2:06:03<2:33:50, 16.66s/it]"
     ]
    },
    {
     "name": "stdout",
     "output_type": "stream",
     "text": [
      "Batch 0, Loss: 6.885739276185632e-05\n",
      "Batch 200, Loss: 0.0009121226612478495\n",
      "Batch 400, Loss: 0.13711518049240112\n",
      "Batch 600, Loss: 0.16702952980995178\n"
     ]
    },
    {
     "name": "stderr",
     "output_type": "stream",
     "text": [
      " 45%|████▍     | 447/1000 [2:06:20<2:33:55, 16.70s/it]"
     ]
    },
    {
     "name": "stdout",
     "output_type": "stream",
     "text": [
      "Batch 0, Loss: 0.0003252341120969504\n",
      "Batch 200, Loss: 0.0784323513507843\n",
      "Batch 400, Loss: 0.010095663368701935\n",
      "Batch 600, Loss: 0.24139896035194397\n"
     ]
    },
    {
     "name": "stderr",
     "output_type": "stream",
     "text": [
      " 45%|████▍     | 448/1000 [2:06:36<2:32:39, 16.59s/it]"
     ]
    },
    {
     "name": "stdout",
     "output_type": "stream",
     "text": [
      "Batch 0, Loss: 0.14957787096500397\n",
      "Batch 200, Loss: 0.026584632694721222\n",
      "Batch 400, Loss: 0.0012269795406609774\n",
      "Batch 600, Loss: 0.05496643856167793\n"
     ]
    },
    {
     "name": "stderr",
     "output_type": "stream",
     "text": [
      " 45%|████▍     | 449/1000 [2:06:53<2:32:14, 16.58s/it]"
     ]
    },
    {
     "name": "stdout",
     "output_type": "stream",
     "text": [
      "Batch 0, Loss: 0.0009935315465554595\n",
      "Batch 200, Loss: 0.00024369677703361958\n",
      "Batch 400, Loss: 0.290094792842865\n",
      "Batch 600, Loss: 0.04618820175528526\n"
     ]
    },
    {
     "name": "stderr",
     "output_type": "stream",
     "text": [
      " 45%|████▌     | 450/1000 [2:07:10<2:32:21, 16.62s/it]"
     ]
    },
    {
     "name": "stdout",
     "output_type": "stream",
     "text": [
      "Batch 0, Loss: 0.01682843454182148\n",
      "Batch 200, Loss: 0.00187105021905154\n",
      "Batch 400, Loss: 0.00016081813373602927\n",
      "Batch 600, Loss: 0.09486739337444305\n"
     ]
    },
    {
     "name": "stderr",
     "output_type": "stream",
     "text": [
      " 45%|████▌     | 451/1000 [2:07:27<2:32:50, 16.70s/it]"
     ]
    },
    {
     "name": "stdout",
     "output_type": "stream",
     "text": [
      "Batch 0, Loss: 0.08071307837963104\n",
      "Batch 200, Loss: 0.002312843455001712\n",
      "Batch 400, Loss: 0.07230976223945618\n",
      "Batch 600, Loss: 0.006218050606548786\n"
     ]
    },
    {
     "name": "stderr",
     "output_type": "stream",
     "text": [
      " 45%|████▌     | 452/1000 [2:07:43<2:32:27, 16.69s/it]"
     ]
    },
    {
     "name": "stdout",
     "output_type": "stream",
     "text": [
      "Batch 0, Loss: 0.008262359537184238\n",
      "Batch 200, Loss: 0.002674264367669821\n",
      "Batch 400, Loss: 0.047498494386672974\n",
      "Batch 600, Loss: 0.10339735448360443\n"
     ]
    },
    {
     "name": "stderr",
     "output_type": "stream",
     "text": [
      " 45%|████▌     | 453/1000 [2:08:01<2:33:42, 16.86s/it]"
     ]
    },
    {
     "name": "stdout",
     "output_type": "stream",
     "text": [
      "Batch 0, Loss: 0.07122857123613358\n",
      "Batch 200, Loss: 0.1499265432357788\n",
      "Batch 400, Loss: 0.13933216035366058\n",
      "Batch 600, Loss: 3.3930642530322075e-05\n"
     ]
    },
    {
     "name": "stderr",
     "output_type": "stream",
     "text": [
      " 45%|████▌     | 454/1000 [2:08:16<2:28:13, 16.29s/it]"
     ]
    },
    {
     "name": "stdout",
     "output_type": "stream",
     "text": [
      "Batch 0, Loss: 0.02029808610677719\n",
      "Batch 200, Loss: 0.002445024438202381\n",
      "Batch 400, Loss: 6.470743392128497e-05\n",
      "Batch 600, Loss: 0.00020159021369181573\n"
     ]
    },
    {
     "name": "stderr",
     "output_type": "stream",
     "text": [
      " 46%|████▌     | 455/1000 [2:08:30<2:21:40, 15.60s/it]"
     ]
    },
    {
     "name": "stdout",
     "output_type": "stream",
     "text": [
      "Batch 0, Loss: 0.00012814333604183048\n",
      "Batch 200, Loss: 0.01655263453722\n",
      "Batch 400, Loss: 0.010696019977331161\n",
      "Batch 600, Loss: 1.2181473039163393e-06\n"
     ]
    },
    {
     "name": "stderr",
     "output_type": "stream",
     "text": [
      " 46%|████▌     | 456/1000 [2:08:43<2:16:56, 15.10s/it]"
     ]
    },
    {
     "name": "stdout",
     "output_type": "stream",
     "text": [
      "Batch 0, Loss: 0.07283326238393784\n",
      "Batch 200, Loss: 6.921382737345994e-05\n",
      "Batch 400, Loss: 0.013870732858777046\n",
      "Batch 600, Loss: 0.26232168078422546\n"
     ]
    },
    {
     "name": "stderr",
     "output_type": "stream",
     "text": [
      " 46%|████▌     | 457/1000 [2:08:57<2:13:06, 14.71s/it]"
     ]
    },
    {
     "name": "stdout",
     "output_type": "stream",
     "text": [
      "Batch 0, Loss: 6.296955689322203e-05\n",
      "Batch 200, Loss: 0.00013697311806026846\n",
      "Batch 400, Loss: 0.00012300066009629518\n",
      "Batch 600, Loss: 0.398196280002594\n"
     ]
    },
    {
     "name": "stderr",
     "output_type": "stream",
     "text": [
      " 46%|████▌     | 458/1000 [2:09:11<2:10:18, 14.43s/it]"
     ]
    },
    {
     "name": "stdout",
     "output_type": "stream",
     "text": [
      "Batch 0, Loss: 0.0005059476243332028\n",
      "Batch 200, Loss: 8.607885320088826e-06\n",
      "Batch 400, Loss: 0.07787451148033142\n",
      "Batch 600, Loss: 8.54035752126947e-05\n"
     ]
    },
    {
     "name": "stderr",
     "output_type": "stream",
     "text": [
      " 46%|████▌     | 459/1000 [2:09:25<2:08:07, 14.21s/it]"
     ]
    },
    {
     "name": "stdout",
     "output_type": "stream",
     "text": [
      "Batch 0, Loss: 0.002721804426982999\n",
      "Batch 200, Loss: 0.07457050681114197\n",
      "Batch 400, Loss: 0.20457692444324493\n",
      "Batch 600, Loss: 1.2041521586070303e-05\n"
     ]
    },
    {
     "name": "stderr",
     "output_type": "stream",
     "text": [
      " 46%|████▌     | 460/1000 [2:09:38<2:06:36, 14.07s/it]"
     ]
    },
    {
     "name": "stdout",
     "output_type": "stream",
     "text": [
      "Batch 0, Loss: 0.04893418028950691\n",
      "Batch 200, Loss: 0.0001255053502973169\n",
      "Batch 400, Loss: 0.0001182227351819165\n",
      "Batch 600, Loss: 0.0019587159622460604\n"
     ]
    },
    {
     "name": "stderr",
     "output_type": "stream",
     "text": [
      " 46%|████▌     | 461/1000 [2:09:52<2:05:19, 13.95s/it]"
     ]
    },
    {
     "name": "stdout",
     "output_type": "stream",
     "text": [
      "Batch 0, Loss: 0.04631432518362999\n",
      "Batch 200, Loss: 0.0025718929246068\n",
      "Batch 400, Loss: 0.11586195230484009\n",
      "Batch 600, Loss: 0.004786063451319933\n"
     ]
    },
    {
     "name": "stderr",
     "output_type": "stream",
     "text": [
      " 46%|████▌     | 462/1000 [2:10:06<2:05:38, 14.01s/it]"
     ]
    },
    {
     "name": "stdout",
     "output_type": "stream",
     "text": [
      "Batch 0, Loss: 0.005537369288504124\n",
      "Batch 200, Loss: 0.017549771815538406\n",
      "Batch 400, Loss: 0.05756014212965965\n",
      "Batch 600, Loss: 0.0006030280492268503\n"
     ]
    },
    {
     "name": "stderr",
     "output_type": "stream",
     "text": [
      " 46%|████▋     | 463/1000 [2:10:21<2:06:32, 14.14s/it]"
     ]
    },
    {
     "name": "stdout",
     "output_type": "stream",
     "text": [
      "Batch 0, Loss: 0.053923822939395905\n",
      "Batch 200, Loss: 0.12629260122776031\n",
      "Batch 400, Loss: 0.03676594793796539\n",
      "Batch 600, Loss: 0.00134156527929008\n"
     ]
    },
    {
     "name": "stderr",
     "output_type": "stream",
     "text": [
      " 46%|████▋     | 464/1000 [2:10:37<2:12:46, 14.86s/it]"
     ]
    },
    {
     "name": "stdout",
     "output_type": "stream",
     "text": [
      "Batch 0, Loss: 0.00144291203469038\n",
      "Batch 200, Loss: 4.4120966776972637e-05\n",
      "Batch 400, Loss: 1.4882366485835519e-06\n",
      "Batch 600, Loss: 0.29735055565834045\n"
     ]
    },
    {
     "name": "stderr",
     "output_type": "stream",
     "text": [
      " 46%|████▋     | 465/1000 [2:10:54<2:17:02, 15.37s/it]"
     ]
    },
    {
     "name": "stdout",
     "output_type": "stream",
     "text": [
      "Batch 0, Loss: 0.00266068521887064\n",
      "Batch 200, Loss: 0.17782685160636902\n",
      "Batch 400, Loss: 0.1681651622056961\n",
      "Batch 600, Loss: 0.02976958639919758\n"
     ]
    },
    {
     "name": "stderr",
     "output_type": "stream",
     "text": [
      " 47%|████▋     | 466/1000 [2:11:12<2:23:34, 16.13s/it]"
     ]
    },
    {
     "name": "stdout",
     "output_type": "stream",
     "text": [
      "Batch 0, Loss: 7.449954864569008e-06\n",
      "Batch 200, Loss: 0.0013452671701088548\n",
      "Batch 400, Loss: 0.0019516817992553115\n",
      "Batch 600, Loss: 0.09531625360250473\n"
     ]
    },
    {
     "name": "stderr",
     "output_type": "stream",
     "text": [
      " 47%|████▋     | 467/1000 [2:11:30<2:29:28, 16.83s/it]"
     ]
    },
    {
     "name": "stdout",
     "output_type": "stream",
     "text": [
      "Batch 0, Loss: 0.11334477365016937\n",
      "Batch 200, Loss: 0.1626456081867218\n",
      "Batch 400, Loss: 0.12025219947099686\n",
      "Batch 600, Loss: 0.00013442730414681137\n"
     ]
    },
    {
     "name": "stderr",
     "output_type": "stream",
     "text": [
      " 47%|████▋     | 468/1000 [2:11:48<2:31:38, 17.10s/it]"
     ]
    },
    {
     "name": "stdout",
     "output_type": "stream",
     "text": [
      "Batch 0, Loss: 0.03000769019126892\n",
      "Batch 200, Loss: 5.222165054874495e-05\n",
      "Batch 400, Loss: 0.0033158082515001297\n",
      "Batch 600, Loss: 0.0007759309373795986\n"
     ]
    },
    {
     "name": "stderr",
     "output_type": "stream",
     "text": [
      " 47%|████▋     | 469/1000 [2:12:04<2:28:17, 16.76s/it]"
     ]
    },
    {
     "name": "stdout",
     "output_type": "stream",
     "text": [
      "Batch 0, Loss: 0.015431396663188934\n",
      "Batch 200, Loss: 0.09416841715574265\n",
      "Batch 400, Loss: 0.030922597274184227\n",
      "Batch 600, Loss: 0.08370614796876907\n"
     ]
    },
    {
     "name": "stderr",
     "output_type": "stream",
     "text": [
      " 47%|████▋     | 470/1000 [2:12:20<2:26:13, 16.55s/it]"
     ]
    },
    {
     "name": "stdout",
     "output_type": "stream",
     "text": [
      "Batch 0, Loss: 0.09947361052036285\n",
      "Batch 200, Loss: 0.08365453779697418\n",
      "Batch 400, Loss: 0.0009633415029384196\n",
      "Batch 600, Loss: 0.00027532665990293026\n"
     ]
    },
    {
     "name": "stderr",
     "output_type": "stream",
     "text": [
      " 47%|████▋     | 471/1000 [2:12:35<2:23:11, 16.24s/it]"
     ]
    },
    {
     "name": "stdout",
     "output_type": "stream",
     "text": [
      "Batch 0, Loss: 0.01057408470660448\n",
      "Batch 200, Loss: 0.06375420838594437\n",
      "Batch 400, Loss: 0.0015952258836477995\n",
      "Batch 600, Loss: 0.0008689357782714069\n"
     ]
    },
    {
     "name": "stderr",
     "output_type": "stream",
     "text": [
      " 47%|████▋     | 472/1000 [2:12:52<2:24:16, 16.39s/it]"
     ]
    },
    {
     "name": "stdout",
     "output_type": "stream",
     "text": [
      "Batch 0, Loss: 0.12741895020008087\n",
      "Batch 200, Loss: 0.0450335294008255\n",
      "Batch 400, Loss: 0.00013484347437042743\n",
      "Batch 600, Loss: 0.004586419090628624\n"
     ]
    },
    {
     "name": "stderr",
     "output_type": "stream",
     "text": [
      " 47%|████▋     | 473/1000 [2:13:08<2:21:50, 16.15s/it]"
     ]
    },
    {
     "name": "stdout",
     "output_type": "stream",
     "text": [
      "Batch 0, Loss: 0.010313749313354492\n",
      "Batch 200, Loss: 0.04029403254389763\n",
      "Batch 400, Loss: 1.0884263247135095e-05\n",
      "Batch 600, Loss: 0.15814480185508728\n"
     ]
    },
    {
     "name": "stderr",
     "output_type": "stream",
     "text": [
      " 47%|████▋     | 474/1000 [2:13:23<2:19:56, 15.96s/it]"
     ]
    },
    {
     "name": "stdout",
     "output_type": "stream",
     "text": [
      "Batch 0, Loss: 0.18079158663749695\n",
      "Batch 200, Loss: 0.0006355710211209953\n",
      "Batch 400, Loss: 0.12006425857543945\n",
      "Batch 600, Loss: 0.046367719769477844\n"
     ]
    },
    {
     "name": "stderr",
     "output_type": "stream",
     "text": [
      " 48%|████▊     | 475/1000 [2:13:39<2:18:32, 15.83s/it]"
     ]
    },
    {
     "name": "stdout",
     "output_type": "stream",
     "text": [
      "Batch 0, Loss: 0.0010707585606724024\n",
      "Batch 200, Loss: 0.009958768263459206\n",
      "Batch 400, Loss: 1.676118881732691e-05\n",
      "Batch 600, Loss: 0.0040604290552437305\n"
     ]
    },
    {
     "name": "stderr",
     "output_type": "stream",
     "text": [
      " 48%|████▊     | 476/1000 [2:13:54<2:17:26, 15.74s/it]"
     ]
    },
    {
     "name": "stdout",
     "output_type": "stream",
     "text": [
      "Batch 0, Loss: 0.04026830568909645\n",
      "Batch 200, Loss: 0.1377466768026352\n",
      "Batch 400, Loss: 2.3897082428447902e-05\n",
      "Batch 600, Loss: 7.193800411187112e-05\n"
     ]
    },
    {
     "name": "stderr",
     "output_type": "stream",
     "text": [
      " 48%|████▊     | 477/1000 [2:14:10<2:16:56, 15.71s/it]"
     ]
    },
    {
     "name": "stdout",
     "output_type": "stream",
     "text": [
      "Batch 0, Loss: 0.3170985281467438\n",
      "Batch 200, Loss: 0.0001650030171731487\n",
      "Batch 400, Loss: 0.036537863314151764\n",
      "Batch 600, Loss: 4.9238467909162864e-05\n"
     ]
    },
    {
     "name": "stderr",
     "output_type": "stream",
     "text": [
      " 48%|████▊     | 478/1000 [2:14:26<2:16:10, 15.65s/it]"
     ]
    },
    {
     "name": "stdout",
     "output_type": "stream",
     "text": [
      "Batch 0, Loss: 0.00017429930448997766\n",
      "Batch 200, Loss: 0.008886831812560558\n",
      "Batch 400, Loss: 0.012647653929889202\n",
      "Batch 600, Loss: 0.002608918584883213\n"
     ]
    },
    {
     "name": "stderr",
     "output_type": "stream",
     "text": [
      " 48%|████▊     | 479/1000 [2:14:42<2:17:55, 15.88s/it]"
     ]
    },
    {
     "name": "stdout",
     "output_type": "stream",
     "text": [
      "Batch 0, Loss: 0.004214335232973099\n",
      "Batch 200, Loss: 0.21118038892745972\n",
      "Batch 400, Loss: 0.06324755400419235\n",
      "Batch 600, Loss: 0.00033577848807908595\n"
     ]
    },
    {
     "name": "stderr",
     "output_type": "stream",
     "text": [
      " 48%|████▊     | 480/1000 [2:14:57<2:16:40, 15.77s/it]"
     ]
    },
    {
     "name": "stdout",
     "output_type": "stream",
     "text": [
      "Batch 0, Loss: 0.007688656449317932\n",
      "Batch 200, Loss: 0.00580985564738512\n",
      "Batch 400, Loss: 0.0680418312549591\n",
      "Batch 600, Loss: 0.0006965361535549164\n"
     ]
    },
    {
     "name": "stderr",
     "output_type": "stream",
     "text": [
      " 48%|████▊     | 481/1000 [2:15:13<2:15:44, 15.69s/it]"
     ]
    },
    {
     "name": "stdout",
     "output_type": "stream",
     "text": [
      "Batch 0, Loss: 0.0004728666681330651\n",
      "Batch 200, Loss: 0.0087757408618927\n",
      "Batch 400, Loss: 0.007726450450718403\n",
      "Batch 600, Loss: 0.14801037311553955\n"
     ]
    },
    {
     "name": "stderr",
     "output_type": "stream",
     "text": [
      " 48%|████▊     | 482/1000 [2:15:28<2:14:51, 15.62s/it]"
     ]
    },
    {
     "name": "stdout",
     "output_type": "stream",
     "text": [
      "Batch 0, Loss: 0.001018304144963622\n",
      "Batch 200, Loss: 0.025769371539354324\n",
      "Batch 400, Loss: 0.001109416363760829\n",
      "Batch 600, Loss: 0.0026852283626794815\n"
     ]
    },
    {
     "name": "stderr",
     "output_type": "stream",
     "text": [
      " 48%|████▊     | 483/1000 [2:15:44<2:15:22, 15.71s/it]"
     ]
    },
    {
     "name": "stdout",
     "output_type": "stream",
     "text": [
      "Batch 0, Loss: 0.00017895242490340024\n",
      "Batch 200, Loss: 0.00015675074246246368\n",
      "Batch 400, Loss: 0.0859261155128479\n",
      "Batch 600, Loss: 6.306564955593785e-06\n"
     ]
    },
    {
     "name": "stderr",
     "output_type": "stream",
     "text": [
      " 48%|████▊     | 484/1000 [2:16:00<2:14:34, 15.65s/it]"
     ]
    },
    {
     "name": "stdout",
     "output_type": "stream",
     "text": [
      "Batch 0, Loss: 0.0022896493319422007\n",
      "Batch 200, Loss: 6.482564458565321e-06\n",
      "Batch 400, Loss: 0.004009119234979153\n",
      "Batch 600, Loss: 0.19367282092571259\n"
     ]
    },
    {
     "name": "stderr",
     "output_type": "stream",
     "text": [
      " 48%|████▊     | 485/1000 [2:16:15<2:14:16, 15.64s/it]"
     ]
    },
    {
     "name": "stdout",
     "output_type": "stream",
     "text": [
      "Batch 0, Loss: 1.931510496433475e-06\n",
      "Batch 200, Loss: 0.0002411741588730365\n",
      "Batch 400, Loss: 0.0051488918252289295\n",
      "Batch 600, Loss: 0.03362379968166351\n"
     ]
    },
    {
     "name": "stderr",
     "output_type": "stream",
     "text": [
      " 49%|████▊     | 486/1000 [2:16:31<2:13:14, 15.55s/it]"
     ]
    },
    {
     "name": "stdout",
     "output_type": "stream",
     "text": [
      "Batch 0, Loss: 0.007417663466185331\n",
      "Batch 200, Loss: 0.01671789586544037\n",
      "Batch 400, Loss: 0.00048060694825835526\n",
      "Batch 600, Loss: 0.006994145456701517\n"
     ]
    },
    {
     "name": "stderr",
     "output_type": "stream",
     "text": [
      " 49%|████▊     | 487/1000 [2:16:47<2:14:41, 15.75s/it]"
     ]
    },
    {
     "name": "stdout",
     "output_type": "stream",
     "text": [
      "Batch 0, Loss: 0.07207819819450378\n",
      "Batch 200, Loss: 0.011461466550827026\n",
      "Batch 400, Loss: 0.31405672430992126\n",
      "Batch 600, Loss: 0.02601100131869316\n"
     ]
    },
    {
     "name": "stderr",
     "output_type": "stream",
     "text": [
      " 49%|████▉     | 488/1000 [2:17:02<2:13:36, 15.66s/it]"
     ]
    },
    {
     "name": "stdout",
     "output_type": "stream",
     "text": [
      "Batch 0, Loss: 0.0146363889798522\n",
      "Batch 200, Loss: 0.004406671971082687\n",
      "Batch 400, Loss: 0.006505579221993685\n",
      "Batch 600, Loss: 0.004514989443123341\n"
     ]
    },
    {
     "name": "stderr",
     "output_type": "stream",
     "text": [
      " 49%|████▉     | 489/1000 [2:17:18<2:13:58, 15.73s/it]"
     ]
    },
    {
     "name": "stdout",
     "output_type": "stream",
     "text": [
      "Batch 0, Loss: 0.0003119905013591051\n",
      "Batch 200, Loss: 0.10402946174144745\n",
      "Batch 400, Loss: 0.1471511870622635\n",
      "Batch 600, Loss: 0.0001251466164831072\n"
     ]
    },
    {
     "name": "stderr",
     "output_type": "stream",
     "text": [
      " 49%|████▉     | 490/1000 [2:17:34<2:13:36, 15.72s/it]"
     ]
    },
    {
     "name": "stdout",
     "output_type": "stream",
     "text": [
      "Batch 0, Loss: 0.05961097776889801\n",
      "Batch 200, Loss: 0.0007954627508297563\n",
      "Batch 400, Loss: 0.2452877312898636\n",
      "Batch 600, Loss: 0.05352519080042839\n"
     ]
    },
    {
     "name": "stderr",
     "output_type": "stream",
     "text": [
      " 49%|████▉     | 491/1000 [2:17:49<2:12:32, 15.62s/it]"
     ]
    },
    {
     "name": "stdout",
     "output_type": "stream",
     "text": [
      "Batch 0, Loss: 0.00610536802560091\n",
      "Batch 200, Loss: 0.008339970372617245\n",
      "Batch 400, Loss: 0.23797369003295898\n",
      "Batch 600, Loss: 7.116149390640203e-06\n"
     ]
    },
    {
     "name": "stderr",
     "output_type": "stream",
     "text": [
      " 49%|████▉     | 492/1000 [2:18:05<2:12:08, 15.61s/it]"
     ]
    },
    {
     "name": "stdout",
     "output_type": "stream",
     "text": [
      "Batch 0, Loss: 0.19595131278038025\n",
      "Batch 200, Loss: 0.10946135967969894\n",
      "Batch 400, Loss: 0.33802083134651184\n",
      "Batch 600, Loss: 9.545941429678351e-05\n"
     ]
    },
    {
     "name": "stderr",
     "output_type": "stream",
     "text": [
      " 49%|████▉     | 493/1000 [2:18:20<2:09:08, 15.28s/it]"
     ]
    },
    {
     "name": "stdout",
     "output_type": "stream",
     "text": [
      "Batch 0, Loss: 0.00016494825831614435\n",
      "Batch 200, Loss: 0.22932687401771545\n",
      "Batch 400, Loss: 0.0012751827016472816\n",
      "Batch 600, Loss: 0.1717681884765625\n"
     ]
    },
    {
     "name": "stderr",
     "output_type": "stream",
     "text": [
      " 49%|████▉     | 494/1000 [2:18:34<2:06:11, 14.96s/it]"
     ]
    },
    {
     "name": "stdout",
     "output_type": "stream",
     "text": [
      "Batch 0, Loss: 0.7242849469184875\n",
      "Batch 200, Loss: 0.02405603975057602\n",
      "Batch 400, Loss: 0.07023929804563522\n",
      "Batch 600, Loss: 0.006419436074793339\n"
     ]
    },
    {
     "name": "stderr",
     "output_type": "stream",
     "text": [
      " 50%|████▉     | 495/1000 [2:18:48<2:04:00, 14.73s/it]"
     ]
    },
    {
     "name": "stdout",
     "output_type": "stream",
     "text": [
      "Batch 0, Loss: 0.14805828034877777\n",
      "Batch 200, Loss: 0.06790538132190704\n",
      "Batch 400, Loss: 0.18941287696361542\n",
      "Batch 600, Loss: 0.00021029618801549077\n"
     ]
    },
    {
     "name": "stderr",
     "output_type": "stream",
     "text": [
      " 50%|████▉     | 496/1000 [2:19:02<2:02:05, 14.53s/it]"
     ]
    },
    {
     "name": "stdout",
     "output_type": "stream",
     "text": [
      "Batch 0, Loss: 0.09821108728647232\n",
      "Batch 200, Loss: 3.317669688840397e-05\n",
      "Batch 400, Loss: 0.0005175289115868509\n",
      "Batch 600, Loss: 0.023661071434617043\n"
     ]
    },
    {
     "name": "stderr",
     "output_type": "stream",
     "text": [
      " 50%|████▉     | 497/1000 [2:19:17<2:01:38, 14.51s/it]"
     ]
    },
    {
     "name": "stdout",
     "output_type": "stream",
     "text": [
      "Batch 0, Loss: 0.09393731504678726\n",
      "Batch 200, Loss: 0.00406808964908123\n",
      "Batch 400, Loss: 0.011585277505218983\n",
      "Batch 600, Loss: 0.002276456216350198\n"
     ]
    },
    {
     "name": "stderr",
     "output_type": "stream",
     "text": [
      " 50%|████▉     | 498/1000 [2:19:31<2:00:47, 14.44s/it]"
     ]
    },
    {
     "name": "stdout",
     "output_type": "stream",
     "text": [
      "Batch 0, Loss: 2.8410941013135016e-05\n",
      "Batch 200, Loss: 0.010842557065188885\n",
      "Batch 400, Loss: 0.07923921197652817\n",
      "Batch 600, Loss: 5.65607024327619e-06\n"
     ]
    },
    {
     "name": "stderr",
     "output_type": "stream",
     "text": [
      " 50%|████▉     | 499/1000 [2:19:46<2:01:25, 14.54s/it]"
     ]
    },
    {
     "name": "stdout",
     "output_type": "stream",
     "text": [
      "Batch 0, Loss: 0.0003936467401217669\n",
      "Batch 200, Loss: 0.08146616816520691\n",
      "Batch 400, Loss: 0.19156555831432343\n",
      "Batch 600, Loss: 0.015335280448198318\n"
     ]
    },
    {
     "name": "stderr",
     "output_type": "stream",
     "text": [
      " 50%|█████     | 500/1000 [2:20:00<2:00:40, 14.48s/it]"
     ]
    },
    {
     "name": "stdout",
     "output_type": "stream",
     "text": [
      "Batch 0, Loss: 0.14671196043491364\n",
      "Batch 200, Loss: 0.0014309093821793795\n",
      "Batch 400, Loss: 0.0011128074256703258\n",
      "Batch 600, Loss: 0.16725578904151917\n"
     ]
    },
    {
     "name": "stderr",
     "output_type": "stream",
     "text": [
      " 50%|█████     | 501/1000 [2:20:15<2:00:53, 14.54s/it]"
     ]
    },
    {
     "name": "stdout",
     "output_type": "stream",
     "text": [
      "Batch 0, Loss: 0.034682344645261765\n",
      "Batch 200, Loss: 0.0001032949730870314\n",
      "Batch 400, Loss: 0.002528805984184146\n",
      "Batch 600, Loss: 0.09336046129465103\n"
     ]
    },
    {
     "name": "stderr",
     "output_type": "stream",
     "text": [
      " 50%|█████     | 502/1000 [2:20:29<2:00:16, 14.49s/it]"
     ]
    },
    {
     "name": "stdout",
     "output_type": "stream",
     "text": [
      "Batch 0, Loss: 0.0860828310251236\n",
      "Batch 200, Loss: 4.332049684308004e-06\n",
      "Batch 400, Loss: 0.0003572359273675829\n",
      "Batch 600, Loss: 0.04636607691645622\n"
     ]
    },
    {
     "name": "stderr",
     "output_type": "stream",
     "text": [
      " 50%|█████     | 503/1000 [2:20:45<2:03:24, 14.90s/it]"
     ]
    },
    {
     "name": "stdout",
     "output_type": "stream",
     "text": [
      "Batch 0, Loss: 0.046570636332035065\n",
      "Batch 200, Loss: 0.001564121339470148\n",
      "Batch 400, Loss: 0.0028283705469220877\n",
      "Batch 600, Loss: 0.022076021879911423\n"
     ]
    },
    {
     "name": "stderr",
     "output_type": "stream",
     "text": [
      " 50%|█████     | 504/1000 [2:20:59<2:02:23, 14.81s/it]"
     ]
    },
    {
     "name": "stdout",
     "output_type": "stream",
     "text": [
      "Batch 0, Loss: 0.0007980804657563567\n",
      "Batch 200, Loss: 0.0018275472102686763\n",
      "Batch 400, Loss: 3.0842852538626175e-06\n",
      "Batch 600, Loss: 8.830752631183714e-05\n"
     ]
    },
    {
     "name": "stderr",
     "output_type": "stream",
     "text": [
      " 50%|█████     | 505/1000 [2:21:14<2:01:56, 14.78s/it]"
     ]
    },
    {
     "name": "stdout",
     "output_type": "stream",
     "text": [
      "Batch 0, Loss: 0.07669851928949356\n",
      "Batch 200, Loss: 0.019679952412843704\n",
      "Batch 400, Loss: 0.1115504577755928\n",
      "Batch 600, Loss: 0.001490058726631105\n"
     ]
    },
    {
     "name": "stderr",
     "output_type": "stream",
     "text": [
      " 51%|█████     | 506/1000 [2:21:28<2:00:30, 14.64s/it]"
     ]
    },
    {
     "name": "stdout",
     "output_type": "stream",
     "text": [
      "Batch 0, Loss: 1.2245085599715821e-05\n",
      "Batch 200, Loss: 0.02546088770031929\n",
      "Batch 400, Loss: 0.030004428699612617\n",
      "Batch 600, Loss: 6.066207788535394e-06\n"
     ]
    },
    {
     "name": "stderr",
     "output_type": "stream",
     "text": [
      " 51%|█████     | 507/1000 [2:21:43<1:59:33, 14.55s/it]"
     ]
    },
    {
     "name": "stdout",
     "output_type": "stream",
     "text": [
      "Batch 0, Loss: 0.003729349933564663\n",
      "Batch 200, Loss: 0.00018622618517838418\n",
      "Batch 400, Loss: 0.217275008559227\n",
      "Batch 600, Loss: 0.0791732668876648\n"
     ]
    },
    {
     "name": "stderr",
     "output_type": "stream",
     "text": [
      " 51%|█████     | 508/1000 [2:21:57<1:59:47, 14.61s/it]"
     ]
    },
    {
     "name": "stdout",
     "output_type": "stream",
     "text": [
      "Batch 0, Loss: 0.13433454930782318\n",
      "Batch 200, Loss: 0.0068128821440041065\n",
      "Batch 400, Loss: 0.0005671627586707473\n",
      "Batch 600, Loss: 2.6206566872133408e-06\n"
     ]
    },
    {
     "name": "stderr",
     "output_type": "stream",
     "text": [
      " 51%|█████     | 509/1000 [2:22:12<1:59:45, 14.63s/it]"
     ]
    },
    {
     "name": "stdout",
     "output_type": "stream",
     "text": [
      "Batch 0, Loss: 0.18116553127765656\n",
      "Batch 200, Loss: 6.844039307907224e-05\n",
      "Batch 400, Loss: 0.06297693401575089\n",
      "Batch 600, Loss: 0.15611734986305237\n"
     ]
    },
    {
     "name": "stderr",
     "output_type": "stream",
     "text": [
      " 51%|█████     | 510/1000 [2:22:27<1:59:05, 14.58s/it]"
     ]
    },
    {
     "name": "stdout",
     "output_type": "stream",
     "text": [
      "Batch 0, Loss: 9.853420488070697e-05\n",
      "Batch 200, Loss: 0.0043474347330629826\n",
      "Batch 400, Loss: 0.1927245855331421\n",
      "Batch 600, Loss: 0.09763123840093613\n"
     ]
    },
    {
     "name": "stderr",
     "output_type": "stream",
     "text": [
      " 51%|█████     | 511/1000 [2:22:41<1:58:33, 14.55s/it]"
     ]
    },
    {
     "name": "stdout",
     "output_type": "stream",
     "text": [
      "Batch 0, Loss: 0.002386487554758787\n",
      "Batch 200, Loss: 9.557916928315535e-05\n",
      "Batch 400, Loss: 0.04366198554635048\n",
      "Batch 600, Loss: 0.38452258706092834\n"
     ]
    },
    {
     "name": "stderr",
     "output_type": "stream",
     "text": [
      " 51%|█████     | 512/1000 [2:22:56<1:58:03, 14.52s/it]"
     ]
    },
    {
     "name": "stdout",
     "output_type": "stream",
     "text": [
      "Batch 0, Loss: 7.954548891575541e-06\n",
      "Batch 200, Loss: 0.2924664616584778\n",
      "Batch 400, Loss: 5.673179839504883e-05\n",
      "Batch 600, Loss: 0.0473531037569046\n"
     ]
    },
    {
     "name": "stderr",
     "output_type": "stream",
     "text": [
      " 51%|█████▏    | 513/1000 [2:23:10<1:57:39, 14.50s/it]"
     ]
    },
    {
     "name": "stdout",
     "output_type": "stream",
     "text": [
      "Batch 0, Loss: 0.10343721508979797\n",
      "Batch 200, Loss: 0.12743930518627167\n",
      "Batch 400, Loss: 0.32461678981781006\n",
      "Batch 600, Loss: 0.13436126708984375\n"
     ]
    },
    {
     "name": "stderr",
     "output_type": "stream",
     "text": [
      " 51%|█████▏    | 514/1000 [2:23:25<1:58:15, 14.60s/it]"
     ]
    },
    {
     "name": "stdout",
     "output_type": "stream",
     "text": [
      "Batch 0, Loss: 0.016737572848796844\n",
      "Batch 200, Loss: 0.06735275685787201\n",
      "Batch 400, Loss: 0.09196483343839645\n",
      "Batch 600, Loss: 0.07036805152893066\n"
     ]
    },
    {
     "name": "stderr",
     "output_type": "stream",
     "text": [
      " 52%|█████▏    | 515/1000 [2:23:39<1:57:23, 14.52s/it]"
     ]
    },
    {
     "name": "stdout",
     "output_type": "stream",
     "text": [
      "Batch 0, Loss: 0.0175750982016325\n",
      "Batch 200, Loss: 1.0971235496981535e-05\n",
      "Batch 400, Loss: 6.441476580221206e-05\n",
      "Batch 600, Loss: 3.2332497994502774e-06\n"
     ]
    },
    {
     "name": "stderr",
     "output_type": "stream",
     "text": [
      " 52%|█████▏    | 516/1000 [2:23:54<1:56:58, 14.50s/it]"
     ]
    },
    {
     "name": "stdout",
     "output_type": "stream",
     "text": [
      "Batch 0, Loss: 0.00012187273387098685\n",
      "Batch 200, Loss: 4.8089432311826386e-06\n",
      "Batch 400, Loss: 6.732781457685633e-06\n",
      "Batch 600, Loss: 0.10740076005458832\n"
     ]
    },
    {
     "name": "stderr",
     "output_type": "stream",
     "text": [
      " 52%|█████▏    | 517/1000 [2:24:09<1:57:49, 14.64s/it]"
     ]
    },
    {
     "name": "stdout",
     "output_type": "stream",
     "text": [
      "Batch 0, Loss: 4.479043127503246e-06\n",
      "Batch 200, Loss: 0.013658948242664337\n",
      "Batch 400, Loss: 0.06047065556049347\n",
      "Batch 600, Loss: 0.01065713632851839\n"
     ]
    },
    {
     "name": "stderr",
     "output_type": "stream",
     "text": [
      " 52%|█████▏    | 518/1000 [2:24:23<1:57:08, 14.58s/it]"
     ]
    },
    {
     "name": "stdout",
     "output_type": "stream",
     "text": [
      "Batch 0, Loss: 4.0779963455861434e-05\n",
      "Batch 200, Loss: 6.855298852315173e-05\n",
      "Batch 400, Loss: 0.0006454261019825935\n",
      "Batch 600, Loss: 0.005632736720144749\n"
     ]
    },
    {
     "name": "stderr",
     "output_type": "stream",
     "text": [
      " 52%|█████▏    | 519/1000 [2:24:38<1:56:39, 14.55s/it]"
     ]
    },
    {
     "name": "stdout",
     "output_type": "stream",
     "text": [
      "Batch 0, Loss: 0.023549139499664307\n",
      "Batch 200, Loss: 0.043087348341941833\n",
      "Batch 400, Loss: 0.005685384850949049\n",
      "Batch 600, Loss: 0.00015598314348608255\n"
     ]
    },
    {
     "name": "stderr",
     "output_type": "stream",
     "text": [
      " 52%|█████▏    | 520/1000 [2:24:52<1:56:33, 14.57s/it]"
     ]
    },
    {
     "name": "stdout",
     "output_type": "stream",
     "text": [
      "Batch 0, Loss: 0.007823034189641476\n",
      "Batch 200, Loss: 0.0026630330830812454\n",
      "Batch 400, Loss: 0.008757275529205799\n",
      "Batch 600, Loss: 0.0010380924213677645\n"
     ]
    },
    {
     "name": "stderr",
     "output_type": "stream",
     "text": [
      " 52%|█████▏    | 521/1000 [2:25:07<1:56:00, 14.53s/it]"
     ]
    },
    {
     "name": "stdout",
     "output_type": "stream",
     "text": [
      "Batch 0, Loss: 0.4608266353607178\n",
      "Batch 200, Loss: 0.009397642686963081\n",
      "Batch 400, Loss: 0.0799025148153305\n",
      "Batch 600, Loss: 0.00012136948498664424\n"
     ]
    },
    {
     "name": "stderr",
     "output_type": "stream",
     "text": [
      " 52%|█████▏    | 522/1000 [2:25:21<1:55:56, 14.55s/it]"
     ]
    },
    {
     "name": "stdout",
     "output_type": "stream",
     "text": [
      "Batch 0, Loss: 0.0024539742153137922\n",
      "Batch 200, Loss: 0.023817671462893486\n",
      "Batch 400, Loss: 9.133654384640977e-05\n",
      "Batch 600, Loss: 0.004982450976967812\n"
     ]
    },
    {
     "name": "stderr",
     "output_type": "stream",
     "text": [
      " 52%|█████▏    | 523/1000 [2:25:35<1:54:58, 14.46s/it]"
     ]
    },
    {
     "name": "stdout",
     "output_type": "stream",
     "text": [
      "Batch 0, Loss: 5.01766953675542e-05\n",
      "Batch 200, Loss: 0.0003860136494040489\n",
      "Batch 400, Loss: 2.1314706827979535e-05\n",
      "Batch 600, Loss: 0.00017376749019604176\n"
     ]
    },
    {
     "name": "stderr",
     "output_type": "stream",
     "text": [
      " 52%|█████▏    | 524/1000 [2:25:50<1:54:46, 14.47s/it]"
     ]
    },
    {
     "name": "stdout",
     "output_type": "stream",
     "text": [
      "Batch 0, Loss: 0.02806394174695015\n",
      "Batch 200, Loss: 3.241584272473119e-05\n",
      "Batch 400, Loss: 0.005917861592024565\n",
      "Batch 600, Loss: 0.15367993712425232\n"
     ]
    },
    {
     "name": "stderr",
     "output_type": "stream",
     "text": [
      " 52%|█████▎    | 525/1000 [2:26:05<1:54:56, 14.52s/it]"
     ]
    },
    {
     "name": "stdout",
     "output_type": "stream",
     "text": [
      "Batch 0, Loss: 0.0009726770804263651\n",
      "Batch 200, Loss: 0.04445875808596611\n",
      "Batch 400, Loss: 0.06305503100156784\n",
      "Batch 600, Loss: 0.1420612633228302\n"
     ]
    },
    {
     "name": "stderr",
     "output_type": "stream",
     "text": [
      " 53%|█████▎    | 526/1000 [2:26:19<1:55:20, 14.60s/it]"
     ]
    },
    {
     "name": "stdout",
     "output_type": "stream",
     "text": [
      "Batch 0, Loss: 0.010296337306499481\n",
      "Batch 200, Loss: 0.03870720416307449\n",
      "Batch 400, Loss: 0.05148327723145485\n",
      "Batch 600, Loss: 0.13531705737113953\n"
     ]
    },
    {
     "name": "stderr",
     "output_type": "stream",
     "text": [
      " 53%|█████▎    | 527/1000 [2:26:34<1:54:53, 14.57s/it]"
     ]
    },
    {
     "name": "stdout",
     "output_type": "stream",
     "text": [
      "Batch 0, Loss: 0.0021063839085400105\n",
      "Batch 200, Loss: 1.1589030691538937e-05\n",
      "Batch 400, Loss: 0.08190356194972992\n",
      "Batch 600, Loss: 0.004716246854513884\n"
     ]
    },
    {
     "name": "stderr",
     "output_type": "stream",
     "text": [
      " 53%|█████▎    | 528/1000 [2:26:48<1:54:29, 14.55s/it]"
     ]
    },
    {
     "name": "stdout",
     "output_type": "stream",
     "text": [
      "Batch 0, Loss: 0.007436459418386221\n",
      "Batch 200, Loss: 0.20564180612564087\n",
      "Batch 400, Loss: 0.005041659809648991\n",
      "Batch 600, Loss: 0.19814468920230865\n"
     ]
    },
    {
     "name": "stderr",
     "output_type": "stream",
     "text": [
      " 53%|█████▎    | 529/1000 [2:27:03<1:54:08, 14.54s/it]"
     ]
    },
    {
     "name": "stdout",
     "output_type": "stream",
     "text": [
      "Batch 0, Loss: 0.10189767926931381\n",
      "Batch 200, Loss: 4.097817196679898e-08\n",
      "Batch 400, Loss: 0.0007475099992007017\n",
      "Batch 600, Loss: 4.914851615467342e-06\n"
     ]
    },
    {
     "name": "stderr",
     "output_type": "stream",
     "text": [
      " 53%|█████▎    | 530/1000 [2:27:17<1:53:57, 14.55s/it]"
     ]
    },
    {
     "name": "stdout",
     "output_type": "stream",
     "text": [
      "Batch 0, Loss: 0.00020005331316497177\n",
      "Batch 200, Loss: 0.09661752730607986\n",
      "Batch 400, Loss: 0.0002511998172849417\n",
      "Batch 600, Loss: 0.0009361227275803685\n"
     ]
    },
    {
     "name": "stderr",
     "output_type": "stream",
     "text": [
      " 53%|█████▎    | 531/1000 [2:27:32<1:53:34, 14.53s/it]"
     ]
    },
    {
     "name": "stdout",
     "output_type": "stream",
     "text": [
      "Batch 0, Loss: 0.0023825764656066895\n",
      "Batch 200, Loss: 0.030685387551784515\n",
      "Batch 400, Loss: 8.910852193366736e-05\n",
      "Batch 600, Loss: 0.17013052105903625\n"
     ]
    },
    {
     "name": "stderr",
     "output_type": "stream",
     "text": [
      " 53%|█████▎    | 532/1000 [2:27:46<1:52:55, 14.48s/it]"
     ]
    },
    {
     "name": "stdout",
     "output_type": "stream",
     "text": [
      "Batch 0, Loss: 3.37996389134787e-05\n",
      "Batch 200, Loss: 0.7683103680610657\n",
      "Batch 400, Loss: 0.0006174983573146164\n",
      "Batch 600, Loss: 9.908480933518149e-06\n"
     ]
    },
    {
     "name": "stderr",
     "output_type": "stream",
     "text": [
      " 53%|█████▎    | 533/1000 [2:28:01<1:52:48, 14.49s/it]"
     ]
    },
    {
     "name": "stdout",
     "output_type": "stream",
     "text": [
      "Batch 0, Loss: 0.0030138168949633837\n",
      "Batch 200, Loss: 0.06470365822315216\n",
      "Batch 400, Loss: 0.015500671230256557\n",
      "Batch 600, Loss: 0.00040041605825535953\n"
     ]
    },
    {
     "name": "stderr",
     "output_type": "stream",
     "text": [
      " 53%|█████▎    | 534/1000 [2:28:16<1:53:25, 14.60s/it]"
     ]
    },
    {
     "name": "stdout",
     "output_type": "stream",
     "text": [
      "Batch 0, Loss: 0.09233532100915909\n",
      "Batch 200, Loss: 0.0020792274735867977\n",
      "Batch 400, Loss: 0.06238335743546486\n",
      "Batch 600, Loss: 2.575663529569283e-05\n"
     ]
    },
    {
     "name": "stderr",
     "output_type": "stream",
     "text": [
      " 54%|█████▎    | 535/1000 [2:28:30<1:52:58, 14.58s/it]"
     ]
    },
    {
     "name": "stdout",
     "output_type": "stream",
     "text": [
      "Batch 0, Loss: 9.462096386414487e-07\n",
      "Batch 200, Loss: 1.4528210385833518e-06\n",
      "Batch 400, Loss: 1.7219486835529096e-05\n",
      "Batch 600, Loss: 0.45422449707984924\n"
     ]
    },
    {
     "name": "stderr",
     "output_type": "stream",
     "text": [
      " 54%|█████▎    | 536/1000 [2:28:45<1:52:37, 14.56s/it]"
     ]
    },
    {
     "name": "stdout",
     "output_type": "stream",
     "text": [
      "Batch 0, Loss: 0.00012340479588601738\n",
      "Batch 200, Loss: 0.001621541567146778\n",
      "Batch 400, Loss: 0.006551801227033138\n",
      "Batch 600, Loss: 0.0001325957418885082\n"
     ]
    },
    {
     "name": "stderr",
     "output_type": "stream",
     "text": [
      " 54%|█████▎    | 537/1000 [2:28:59<1:52:07, 14.53s/it]"
     ]
    },
    {
     "name": "stdout",
     "output_type": "stream",
     "text": [
      "Batch 0, Loss: 0.03346076235175133\n",
      "Batch 200, Loss: 0.006193146575242281\n",
      "Batch 400, Loss: 0.0033606116194278\n",
      "Batch 600, Loss: 0.0008887859294191003\n"
     ]
    },
    {
     "name": "stderr",
     "output_type": "stream",
     "text": [
      " 54%|█████▍    | 538/1000 [2:29:14<1:52:39, 14.63s/it]"
     ]
    },
    {
     "name": "stdout",
     "output_type": "stream",
     "text": [
      "Batch 0, Loss: 0.4396301805973053\n",
      "Batch 200, Loss: 2.998715672219987e-06\n",
      "Batch 400, Loss: 0.008908410556614399\n",
      "Batch 600, Loss: 0.0458911657333374\n"
     ]
    },
    {
     "name": "stderr",
     "output_type": "stream",
     "text": [
      " 54%|█████▍    | 539/1000 [2:29:29<1:52:00, 14.58s/it]"
     ]
    },
    {
     "name": "stdout",
     "output_type": "stream",
     "text": [
      "Batch 0, Loss: 0.06806117296218872\n",
      "Batch 200, Loss: 0.00038236562977544963\n",
      "Batch 400, Loss: 0.003932854626327753\n",
      "Batch 600, Loss: 0.025089750066399574\n"
     ]
    },
    {
     "name": "stderr",
     "output_type": "stream",
     "text": [
      " 54%|█████▍    | 540/1000 [2:29:43<1:51:49, 14.59s/it]"
     ]
    },
    {
     "name": "stdout",
     "output_type": "stream",
     "text": [
      "Batch 0, Loss: 0.12100207060575485\n",
      "Batch 200, Loss: 1.013353539747186e-05\n",
      "Batch 400, Loss: 0.11518463492393494\n",
      "Batch 600, Loss: 0.11244164407253265\n"
     ]
    },
    {
     "name": "stderr",
     "output_type": "stream",
     "text": [
      " 54%|█████▍    | 541/1000 [2:29:58<1:52:21, 14.69s/it]"
     ]
    },
    {
     "name": "stdout",
     "output_type": "stream",
     "text": [
      "Batch 0, Loss: 0.002123079029843211\n",
      "Batch 200, Loss: 0.15617793798446655\n",
      "Batch 400, Loss: 0.001005058060400188\n",
      "Batch 600, Loss: 0.00012374277866911143\n"
     ]
    },
    {
     "name": "stderr",
     "output_type": "stream",
     "text": [
      " 54%|█████▍    | 542/1000 [2:30:13<1:52:29, 14.74s/it]"
     ]
    },
    {
     "name": "stdout",
     "output_type": "stream",
     "text": [
      "Batch 0, Loss: 0.24406081438064575\n",
      "Batch 200, Loss: 0.09201820939779282\n",
      "Batch 400, Loss: 0.026961876079440117\n",
      "Batch 600, Loss: 0.0008591571822762489\n"
     ]
    },
    {
     "name": "stderr",
     "output_type": "stream",
     "text": [
      " 54%|█████▍    | 543/1000 [2:30:27<1:51:50, 14.68s/it]"
     ]
    },
    {
     "name": "stdout",
     "output_type": "stream",
     "text": [
      "Batch 0, Loss: 0.07708241045475006\n",
      "Batch 200, Loss: 2.417184987280052e-05\n",
      "Batch 400, Loss: 0.14460398256778717\n",
      "Batch 600, Loss: 0.12291286885738373\n"
     ]
    },
    {
     "name": "stderr",
     "output_type": "stream",
     "text": [
      " 54%|█████▍    | 544/1000 [2:30:42<1:51:13, 14.63s/it]"
     ]
    },
    {
     "name": "stdout",
     "output_type": "stream",
     "text": [
      "Batch 0, Loss: 0.0015290901064872742\n",
      "Batch 200, Loss: 3.613117314671399e-06\n",
      "Batch 400, Loss: 1.9910944502044003e-06\n",
      "Batch 600, Loss: 1.4677136732643703e-06\n"
     ]
    },
    {
     "name": "stderr",
     "output_type": "stream",
     "text": [
      " 55%|█████▍    | 545/1000 [2:30:57<1:50:58, 14.63s/it]"
     ]
    },
    {
     "name": "stdout",
     "output_type": "stream",
     "text": [
      "Batch 0, Loss: 0.04176109656691551\n",
      "Batch 200, Loss: 0.0691467896103859\n",
      "Batch 400, Loss: 0.00043057813309133053\n",
      "Batch 600, Loss: 2.7844223495776532e-06\n"
     ]
    },
    {
     "name": "stderr",
     "output_type": "stream",
     "text": [
      " 55%|█████▍    | 546/1000 [2:31:11<1:50:24, 14.59s/it]"
     ]
    },
    {
     "name": "stdout",
     "output_type": "stream",
     "text": [
      "Batch 0, Loss: 1.2915465049445629e-05\n",
      "Batch 200, Loss: 0.14844930171966553\n",
      "Batch 400, Loss: 0.001908032805658877\n",
      "Batch 600, Loss: 0.05870513617992401\n"
     ]
    },
    {
     "name": "stderr",
     "output_type": "stream",
     "text": [
      " 55%|█████▍    | 547/1000 [2:31:26<1:49:59, 14.57s/it]"
     ]
    },
    {
     "name": "stdout",
     "output_type": "stream",
     "text": [
      "Batch 0, Loss: 0.005087303463369608\n",
      "Batch 200, Loss: 4.2281664036636357e-07\n",
      "Batch 400, Loss: 8.233392145484686e-05\n",
      "Batch 600, Loss: 1.37833785629482e-06\n"
     ]
    },
    {
     "name": "stderr",
     "output_type": "stream",
     "text": [
      " 55%|█████▍    | 548/1000 [2:31:40<1:49:41, 14.56s/it]"
     ]
    },
    {
     "name": "stdout",
     "output_type": "stream",
     "text": [
      "Batch 0, Loss: 0.02995765209197998\n",
      "Batch 200, Loss: 0.012708050198853016\n",
      "Batch 400, Loss: 0.3319338262081146\n",
      "Batch 600, Loss: 0.07188902795314789\n"
     ]
    },
    {
     "name": "stderr",
     "output_type": "stream",
     "text": [
      " 55%|█████▍    | 549/1000 [2:31:55<1:49:22, 14.55s/it]"
     ]
    },
    {
     "name": "stdout",
     "output_type": "stream",
     "text": [
      "Batch 0, Loss: 0.2129155695438385\n",
      "Batch 200, Loss: 0.055437128990888596\n",
      "Batch 400, Loss: 0.003049435093998909\n",
      "Batch 600, Loss: 0.003505944972857833\n"
     ]
    },
    {
     "name": "stderr",
     "output_type": "stream",
     "text": [
      " 55%|█████▌    | 550/1000 [2:32:10<1:49:52, 14.65s/it]"
     ]
    },
    {
     "name": "stdout",
     "output_type": "stream",
     "text": [
      "Batch 0, Loss: 0.007712054066359997\n",
      "Batch 200, Loss: 0.054866209626197815\n",
      "Batch 400, Loss: 0.022503826767206192\n",
      "Batch 600, Loss: 0.033068057149648666\n"
     ]
    },
    {
     "name": "stderr",
     "output_type": "stream",
     "text": [
      " 55%|█████▌    | 551/1000 [2:32:24<1:49:19, 14.61s/it]"
     ]
    },
    {
     "name": "stdout",
     "output_type": "stream",
     "text": [
      "Batch 0, Loss: 0.10308296978473663\n",
      "Batch 200, Loss: 0.002607326954603195\n",
      "Batch 400, Loss: 0.011125504970550537\n",
      "Batch 600, Loss: 0.0014423364773392677\n"
     ]
    },
    {
     "name": "stderr",
     "output_type": "stream",
     "text": [
      " 55%|█████▌    | 552/1000 [2:32:39<1:49:09, 14.62s/it]"
     ]
    },
    {
     "name": "stdout",
     "output_type": "stream",
     "text": [
      "Batch 0, Loss: 0.00013821358152199537\n",
      "Batch 200, Loss: 0.001026345300488174\n",
      "Batch 400, Loss: 2.149940701201558e-05\n",
      "Batch 600, Loss: 0.05302344262599945\n"
     ]
    },
    {
     "name": "stderr",
     "output_type": "stream",
     "text": [
      " 55%|█████▌    | 553/1000 [2:32:53<1:48:51, 14.61s/it]"
     ]
    },
    {
     "name": "stdout",
     "output_type": "stream",
     "text": [
      "Batch 0, Loss: 0.002676079049706459\n",
      "Batch 200, Loss: 0.008630692958831787\n",
      "Batch 400, Loss: 0.00020996268722228706\n",
      "Batch 600, Loss: 0.0014025385025888681\n"
     ]
    },
    {
     "name": "stderr",
     "output_type": "stream",
     "text": [
      " 55%|█████▌    | 554/1000 [2:33:08<1:48:41, 14.62s/it]"
     ]
    },
    {
     "name": "stdout",
     "output_type": "stream",
     "text": [
      "Batch 0, Loss: 0.00012050035002175719\n",
      "Batch 200, Loss: 1.86795095942216e-05\n",
      "Batch 400, Loss: 0.019452184438705444\n",
      "Batch 600, Loss: 0.00015147961676120758\n"
     ]
    },
    {
     "name": "stderr",
     "output_type": "stream",
     "text": [
      " 56%|█████▌    | 555/1000 [2:33:23<1:48:23, 14.61s/it]"
     ]
    },
    {
     "name": "stdout",
     "output_type": "stream",
     "text": [
      "Batch 0, Loss: 3.427248316256737e-07\n",
      "Batch 200, Loss: 4.017381797893904e-06\n",
      "Batch 400, Loss: 2.0229501387802884e-05\n",
      "Batch 600, Loss: 0.02472713775932789\n"
     ]
    },
    {
     "name": "stderr",
     "output_type": "stream",
     "text": [
      " 56%|█████▌    | 556/1000 [2:33:37<1:47:58, 14.59s/it]"
     ]
    },
    {
     "name": "stdout",
     "output_type": "stream",
     "text": [
      "Batch 0, Loss: 0.027668459340929985\n",
      "Batch 200, Loss: 0.0033496825490146875\n",
      "Batch 400, Loss: 0.00336341536603868\n",
      "Batch 600, Loss: 0.016658272594213486\n"
     ]
    },
    {
     "name": "stderr",
     "output_type": "stream",
     "text": [
      " 56%|█████▌    | 557/1000 [2:33:52<1:47:38, 14.58s/it]"
     ]
    },
    {
     "name": "stdout",
     "output_type": "stream",
     "text": [
      "Batch 0, Loss: 0.0005036633228883147\n",
      "Batch 200, Loss: 0.06488274037837982\n",
      "Batch 400, Loss: 0.00023187317128758878\n",
      "Batch 600, Loss: 0.0804961621761322\n"
     ]
    },
    {
     "name": "stderr",
     "output_type": "stream",
     "text": [
      " 56%|█████▌    | 558/1000 [2:34:07<1:48:19, 14.70s/it]"
     ]
    },
    {
     "name": "stdout",
     "output_type": "stream",
     "text": [
      "Batch 0, Loss: 2.010435491683893e-05\n",
      "Batch 200, Loss: 0.06243051216006279\n",
      "Batch 400, Loss: 0.00014366846880875528\n",
      "Batch 600, Loss: 0.005953693762421608\n"
     ]
    },
    {
     "name": "stderr",
     "output_type": "stream",
     "text": [
      " 56%|█████▌    | 559/1000 [2:34:21<1:47:57, 14.69s/it]"
     ]
    },
    {
     "name": "stdout",
     "output_type": "stream",
     "text": [
      "Batch 0, Loss: 0.25707387924194336\n",
      "Batch 200, Loss: 0.09640166908502579\n",
      "Batch 400, Loss: 0.026633692905306816\n",
      "Batch 600, Loss: 0.007138340268284082\n"
     ]
    },
    {
     "name": "stderr",
     "output_type": "stream",
     "text": [
      " 56%|█████▌    | 560/1000 [2:34:36<1:47:28, 14.66s/it]"
     ]
    },
    {
     "name": "stdout",
     "output_type": "stream",
     "text": [
      "Batch 0, Loss: 0.42730531096458435\n",
      "Batch 200, Loss: 0.04234430193901062\n",
      "Batch 400, Loss: 0.00015872916264925152\n",
      "Batch 600, Loss: 0.0020823650993406773\n"
     ]
    },
    {
     "name": "stderr",
     "output_type": "stream",
     "text": [
      " 56%|█████▌    | 561/1000 [2:34:50<1:47:01, 14.63s/it]"
     ]
    },
    {
     "name": "stdout",
     "output_type": "stream",
     "text": [
      "Batch 0, Loss: 0.09094703197479248\n",
      "Batch 200, Loss: 4.927862755721435e-05\n",
      "Batch 400, Loss: 1.4528598057950148e-07\n",
      "Batch 600, Loss: 7.916375034255907e-05\n"
     ]
    },
    {
     "name": "stderr",
     "output_type": "stream",
     "text": [
      " 56%|█████▌    | 562/1000 [2:35:05<1:46:39, 14.61s/it]"
     ]
    },
    {
     "name": "stdout",
     "output_type": "stream",
     "text": [
      "Batch 0, Loss: 0.04249737784266472\n",
      "Batch 200, Loss: 0.11872955411672592\n",
      "Batch 400, Loss: 0.10565352439880371\n",
      "Batch 600, Loss: 0.046757787466049194\n"
     ]
    },
    {
     "name": "stderr",
     "output_type": "stream",
     "text": [
      " 56%|█████▋    | 563/1000 [2:35:20<1:47:12, 14.72s/it]"
     ]
    },
    {
     "name": "stdout",
     "output_type": "stream",
     "text": [
      "Batch 0, Loss: 0.010079510509967804\n",
      "Batch 200, Loss: 0.0006312188343144953\n",
      "Batch 400, Loss: 0.001214670017361641\n",
      "Batch 600, Loss: 0.00013663522258866578\n"
     ]
    },
    {
     "name": "stderr",
     "output_type": "stream",
     "text": [
      " 56%|█████▋    | 564/1000 [2:35:34<1:46:25, 14.65s/it]"
     ]
    },
    {
     "name": "stdout",
     "output_type": "stream",
     "text": [
      "Batch 0, Loss: 0.037758585065603256\n",
      "Batch 200, Loss: 0.0761137455701828\n",
      "Batch 400, Loss: 0.6016966104507446\n",
      "Batch 600, Loss: 0.06383105367422104\n"
     ]
    },
    {
     "name": "stderr",
     "output_type": "stream",
     "text": [
      " 56%|█████▋    | 565/1000 [2:35:49<1:46:23, 14.67s/it]"
     ]
    },
    {
     "name": "stdout",
     "output_type": "stream",
     "text": [
      "Batch 0, Loss: 0.25149983167648315\n",
      "Batch 200, Loss: 0.013713265769183636\n",
      "Batch 400, Loss: 0.0003712358884513378\n",
      "Batch 600, Loss: 0.018791453912854195\n"
     ]
    },
    {
     "name": "stderr",
     "output_type": "stream",
     "text": [
      " 57%|█████▋    | 566/1000 [2:36:04<1:45:57, 14.65s/it]"
     ]
    },
    {
     "name": "stdout",
     "output_type": "stream",
     "text": [
      "Batch 0, Loss: 0.18120895326137543\n",
      "Batch 200, Loss: 0.00028548954287543893\n",
      "Batch 400, Loss: 0.07519497722387314\n",
      "Batch 600, Loss: 0.12445542216300964\n"
     ]
    },
    {
     "name": "stderr",
     "output_type": "stream",
     "text": [
      " 57%|█████▋    | 567/1000 [2:36:19<1:46:03, 14.70s/it]"
     ]
    },
    {
     "name": "stdout",
     "output_type": "stream",
     "text": [
      "Batch 0, Loss: 0.14766687154769897\n",
      "Batch 200, Loss: 0.00836237147450447\n",
      "Batch 400, Loss: 0.00017716654110699892\n",
      "Batch 600, Loss: 0.26582983136177063\n"
     ]
    },
    {
     "name": "stderr",
     "output_type": "stream",
     "text": [
      " 57%|█████▋    | 568/1000 [2:36:33<1:45:44, 14.69s/it]"
     ]
    },
    {
     "name": "stdout",
     "output_type": "stream",
     "text": [
      "Batch 0, Loss: 0.00281263398937881\n",
      "Batch 200, Loss: 0.1061209887266159\n",
      "Batch 400, Loss: 0.05136939138174057\n",
      "Batch 600, Loss: 8.325930025421258e-07\n"
     ]
    },
    {
     "name": "stderr",
     "output_type": "stream",
     "text": [
      " 57%|█████▋    | 569/1000 [2:36:48<1:45:14, 14.65s/it]"
     ]
    },
    {
     "name": "stdout",
     "output_type": "stream",
     "text": [
      "Batch 0, Loss: 0.0007521979860030115\n",
      "Batch 200, Loss: 0.0006252223392948508\n",
      "Batch 400, Loss: 0.00985333789139986\n",
      "Batch 600, Loss: 0.03469804674386978\n"
     ]
    },
    {
     "name": "stderr",
     "output_type": "stream",
     "text": [
      " 57%|█████▋    | 570/1000 [2:37:02<1:44:44, 14.61s/it]"
     ]
    },
    {
     "name": "stdout",
     "output_type": "stream",
     "text": [
      "Batch 0, Loss: 0.5834282636642456\n",
      "Batch 200, Loss: 0.06945516914129257\n",
      "Batch 400, Loss: 0.05520472303032875\n",
      "Batch 600, Loss: 0.2202460765838623\n"
     ]
    },
    {
     "name": "stderr",
     "output_type": "stream",
     "text": [
      " 57%|█████▋    | 571/1000 [2:37:17<1:44:18, 14.59s/it]"
     ]
    },
    {
     "name": "stdout",
     "output_type": "stream",
     "text": [
      "Batch 0, Loss: 0.008181336335837841\n",
      "Batch 200, Loss: 1.7656880118011031e-06\n",
      "Batch 400, Loss: 2.3913315089885145e-05\n",
      "Batch 600, Loss: 0.0008393454481847584\n"
     ]
    },
    {
     "name": "stderr",
     "output_type": "stream",
     "text": [
      " 57%|█████▋    | 572/1000 [2:37:31<1:43:38, 14.53s/it]"
     ]
    },
    {
     "name": "stdout",
     "output_type": "stream",
     "text": [
      "Batch 0, Loss: 0.018304983153939247\n",
      "Batch 200, Loss: 0.08818370848894119\n",
      "Batch 400, Loss: 0.0006722704274579883\n",
      "Batch 600, Loss: 0.015564551576972008\n"
     ]
    },
    {
     "name": "stderr",
     "output_type": "stream",
     "text": [
      " 57%|█████▋    | 573/1000 [2:37:46<1:43:24, 14.53s/it]"
     ]
    },
    {
     "name": "stdout",
     "output_type": "stream",
     "text": [
      "Batch 0, Loss: 2.6462930691195652e-05\n",
      "Batch 200, Loss: 5.55563701709616e-06\n",
      "Batch 400, Loss: 0.002500224858522415\n",
      "Batch 600, Loss: 0.4347717761993408\n"
     ]
    },
    {
     "name": "stderr",
     "output_type": "stream",
     "text": [
      " 57%|█████▋    | 574/1000 [2:38:00<1:43:23, 14.56s/it]"
     ]
    },
    {
     "name": "stdout",
     "output_type": "stream",
     "text": [
      "Batch 0, Loss: 3.9159207517514005e-05\n",
      "Batch 200, Loss: 2.3142712961998768e-05\n",
      "Batch 400, Loss: 0.0008931528427638113\n",
      "Batch 600, Loss: 0.00042659349855966866\n"
     ]
    },
    {
     "name": "stderr",
     "output_type": "stream",
     "text": [
      " 57%|█████▊    | 575/1000 [2:38:15<1:43:36, 14.63s/it]"
     ]
    },
    {
     "name": "stdout",
     "output_type": "stream",
     "text": [
      "Batch 0, Loss: 0.011737057939171791\n",
      "Batch 200, Loss: 0.15486198663711548\n",
      "Batch 400, Loss: 0.011318202130496502\n",
      "Batch 600, Loss: 7.617875235155225e-05\n"
     ]
    },
    {
     "name": "stderr",
     "output_type": "stream",
     "text": [
      " 58%|█████▊    | 576/1000 [2:38:30<1:43:18, 14.62s/it]"
     ]
    },
    {
     "name": "stdout",
     "output_type": "stream",
     "text": [
      "Batch 0, Loss: 0.00241122767329216\n",
      "Batch 200, Loss: 0.10288938134908676\n",
      "Batch 400, Loss: 0.023097850382328033\n",
      "Batch 600, Loss: 0.010838368907570839\n"
     ]
    },
    {
     "name": "stderr",
     "output_type": "stream",
     "text": [
      " 58%|█████▊    | 577/1000 [2:38:44<1:43:02, 14.62s/it]"
     ]
    },
    {
     "name": "stdout",
     "output_type": "stream",
     "text": [
      "Batch 0, Loss: 0.24320372939109802\n",
      "Batch 200, Loss: 0.00016589883307460696\n",
      "Batch 400, Loss: 2.002303517656401e-06\n",
      "Batch 600, Loss: 0.041342593729496\n"
     ]
    },
    {
     "name": "stderr",
     "output_type": "stream",
     "text": [
      " 58%|█████▊    | 578/1000 [2:38:59<1:42:59, 14.64s/it]"
     ]
    },
    {
     "name": "stdout",
     "output_type": "stream",
     "text": [
      "Batch 0, Loss: 0.028758583590388298\n",
      "Batch 200, Loss: 0.0017361881909891963\n",
      "Batch 400, Loss: 0.08791574090719223\n",
      "Batch 600, Loss: 0.12010492384433746\n"
     ]
    },
    {
     "name": "stderr",
     "output_type": "stream",
     "text": [
      " 58%|█████▊    | 579/1000 [2:39:14<1:42:39, 14.63s/it]"
     ]
    },
    {
     "name": "stdout",
     "output_type": "stream",
     "text": [
      "Batch 0, Loss: 0.02902812696993351\n",
      "Batch 200, Loss: 2.175421286665369e-06\n",
      "Batch 400, Loss: 1.1389498467906378e-05\n",
      "Batch 600, Loss: 0.0001795995340216905\n"
     ]
    },
    {
     "name": "stderr",
     "output_type": "stream",
     "text": [
      " 58%|█████▊    | 580/1000 [2:39:29<1:44:14, 14.89s/it]"
     ]
    },
    {
     "name": "stdout",
     "output_type": "stream",
     "text": [
      "Batch 0, Loss: 0.056868743151426315\n",
      "Batch 200, Loss: 8.36916733533144e-05\n",
      "Batch 400, Loss: 0.005506089888513088\n",
      "Batch 600, Loss: 9.134723950410262e-05\n"
     ]
    },
    {
     "name": "stderr",
     "output_type": "stream",
     "text": [
      " 58%|█████▊    | 581/1000 [2:39:44<1:43:11, 14.78s/it]"
     ]
    },
    {
     "name": "stdout",
     "output_type": "stream",
     "text": [
      "Batch 0, Loss: 0.0018193678697571158\n",
      "Batch 200, Loss: 8.069537580013275e-05\n",
      "Batch 400, Loss: 0.06498291343450546\n",
      "Batch 600, Loss: 0.006224195938557386\n"
     ]
    },
    {
     "name": "stderr",
     "output_type": "stream",
     "text": [
      " 58%|█████▊    | 582/1000 [2:39:58<1:42:07, 14.66s/it]"
     ]
    },
    {
     "name": "stdout",
     "output_type": "stream",
     "text": [
      "Batch 0, Loss: 0.2269977331161499\n",
      "Batch 200, Loss: 0.00020491614122875035\n",
      "Batch 400, Loss: 0.20138238370418549\n",
      "Batch 600, Loss: 0.008281265385448933\n"
     ]
    },
    {
     "name": "stderr",
     "output_type": "stream",
     "text": [
      " 58%|█████▊    | 583/1000 [2:40:13<1:41:38, 14.63s/it]"
     ]
    },
    {
     "name": "stdout",
     "output_type": "stream",
     "text": [
      "Batch 0, Loss: 0.028292488306760788\n",
      "Batch 200, Loss: 2.4753546767897205e-06\n",
      "Batch 400, Loss: 0.004803419578820467\n",
      "Batch 600, Loss: 0.003136244136840105\n"
     ]
    },
    {
     "name": "stderr",
     "output_type": "stream",
     "text": [
      " 58%|█████▊    | 584/1000 [2:40:27<1:40:31, 14.50s/it]"
     ]
    },
    {
     "name": "stdout",
     "output_type": "stream",
     "text": [
      "Batch 0, Loss: 0.0031463613267987967\n",
      "Batch 200, Loss: 1.173445980384713e-06\n",
      "Batch 400, Loss: 0.004195493645966053\n",
      "Batch 600, Loss: 2.147237137251068e-05\n"
     ]
    },
    {
     "name": "stderr",
     "output_type": "stream",
     "text": [
      " 58%|█████▊    | 585/1000 [2:40:41<1:39:51, 14.44s/it]"
     ]
    },
    {
     "name": "stdout",
     "output_type": "stream",
     "text": [
      "Batch 0, Loss: 0.00048449853784404695\n",
      "Batch 200, Loss: 0.0004956648335792124\n",
      "Batch 400, Loss: 0.08335890620946884\n",
      "Batch 600, Loss: 0.0012325907591730356\n"
     ]
    },
    {
     "name": "stderr",
     "output_type": "stream",
     "text": [
      " 59%|█████▊    | 586/1000 [2:40:56<1:39:45, 14.46s/it]"
     ]
    },
    {
     "name": "stdout",
     "output_type": "stream",
     "text": [
      "Batch 0, Loss: 0.06650661677122116\n",
      "Batch 200, Loss: 0.000273882964393124\n",
      "Batch 400, Loss: 7.375224231509492e-05\n",
      "Batch 600, Loss: 0.030459867790341377\n"
     ]
    },
    {
     "name": "stderr",
     "output_type": "stream",
     "text": [
      " 59%|█████▊    | 587/1000 [2:41:10<1:39:37, 14.47s/it]"
     ]
    },
    {
     "name": "stdout",
     "output_type": "stream",
     "text": [
      "Batch 0, Loss: 0.10192466527223587\n",
      "Batch 200, Loss: 3.725290076417309e-09\n",
      "Batch 400, Loss: 0.15030533075332642\n",
      "Batch 600, Loss: 0.00017416724585928023\n"
     ]
    },
    {
     "name": "stderr",
     "output_type": "stream",
     "text": [
      " 59%|█████▉    | 588/1000 [2:41:24<1:38:32, 14.35s/it]"
     ]
    },
    {
     "name": "stdout",
     "output_type": "stream",
     "text": [
      "Batch 0, Loss: 0.029208136722445488\n",
      "Batch 200, Loss: 0.11567822843790054\n",
      "Batch 400, Loss: 3.4960007724293973e-06\n",
      "Batch 600, Loss: 0.07852151244878769\n"
     ]
    },
    {
     "name": "stderr",
     "output_type": "stream",
     "text": [
      " 59%|█████▉    | 589/1000 [2:41:38<1:37:57, 14.30s/it]"
     ]
    },
    {
     "name": "stdout",
     "output_type": "stream",
     "text": [
      "Batch 0, Loss: 0.007264236453920603\n",
      "Batch 200, Loss: 0.010624989867210388\n",
      "Batch 400, Loss: 0.03666434437036514\n",
      "Batch 600, Loss: 0.003166717244312167\n"
     ]
    },
    {
     "name": "stderr",
     "output_type": "stream",
     "text": [
      " 59%|█████▉    | 590/1000 [2:41:53<1:37:25, 14.26s/it]"
     ]
    },
    {
     "name": "stdout",
     "output_type": "stream",
     "text": [
      "Batch 0, Loss: 0.13976706564426422\n",
      "Batch 200, Loss: 0.0038254521787166595\n",
      "Batch 400, Loss: 3.520364941778098e-07\n",
      "Batch 600, Loss: 0.017943227663636208\n"
     ]
    },
    {
     "name": "stderr",
     "output_type": "stream",
     "text": [
      " 59%|█████▉    | 591/1000 [2:42:07<1:38:22, 14.43s/it]"
     ]
    },
    {
     "name": "stdout",
     "output_type": "stream",
     "text": [
      "Batch 0, Loss: 0.00023028709983918816\n",
      "Batch 200, Loss: 0.29887640476226807\n",
      "Batch 400, Loss: 0.09209201484918594\n",
      "Batch 600, Loss: 0.057659611105918884\n"
     ]
    },
    {
     "name": "stderr",
     "output_type": "stream",
     "text": [
      " 59%|█████▉    | 592/1000 [2:42:22<1:38:33, 14.49s/it]"
     ]
    },
    {
     "name": "stdout",
     "output_type": "stream",
     "text": [
      "Batch 0, Loss: 0.01908886432647705\n",
      "Batch 200, Loss: 0.234599769115448\n",
      "Batch 400, Loss: 0.005449738819152117\n",
      "Batch 600, Loss: 0.03819669038057327\n"
     ]
    },
    {
     "name": "stderr",
     "output_type": "stream",
     "text": [
      " 59%|█████▉    | 593/1000 [2:42:37<1:38:53, 14.58s/it]"
     ]
    },
    {
     "name": "stdout",
     "output_type": "stream",
     "text": [
      "Batch 0, Loss: 0.01705554500222206\n",
      "Batch 200, Loss: 0.2888791859149933\n",
      "Batch 400, Loss: 3.22459454764612e-05\n",
      "Batch 600, Loss: 7.897493219388707e-07\n"
     ]
    },
    {
     "name": "stderr",
     "output_type": "stream",
     "text": [
      " 59%|█████▉    | 594/1000 [2:42:52<1:39:02, 14.64s/it]"
     ]
    },
    {
     "name": "stdout",
     "output_type": "stream",
     "text": [
      "Batch 0, Loss: 0.13283470273017883\n",
      "Batch 200, Loss: 0.03909817710518837\n",
      "Batch 400, Loss: 4.525364420260303e-05\n",
      "Batch 600, Loss: 4.6727068365726154e-06\n"
     ]
    },
    {
     "name": "stderr",
     "output_type": "stream",
     "text": [
      " 60%|█████▉    | 595/1000 [2:43:06<1:38:47, 14.64s/it]"
     ]
    },
    {
     "name": "stdout",
     "output_type": "stream",
     "text": [
      "Batch 0, Loss: 0.05069905146956444\n",
      "Batch 200, Loss: 0.05645184591412544\n",
      "Batch 400, Loss: 0.0004415235889609903\n",
      "Batch 600, Loss: 5.4136933613335714e-05\n"
     ]
    },
    {
     "name": "stderr",
     "output_type": "stream",
     "text": [
      " 60%|█████▉    | 596/1000 [2:43:21<1:38:25, 14.62s/it]"
     ]
    },
    {
     "name": "stdout",
     "output_type": "stream",
     "text": [
      "Batch 0, Loss: 0.014778528362512589\n",
      "Batch 200, Loss: 1.1281947081442922e-05\n",
      "Batch 400, Loss: 4.8890524340095e-06\n",
      "Batch 600, Loss: 0.0034940559417009354\n"
     ]
    },
    {
     "name": "stderr",
     "output_type": "stream",
     "text": [
      " 60%|█████▉    | 597/1000 [2:43:36<1:38:36, 14.68s/it]"
     ]
    },
    {
     "name": "stdout",
     "output_type": "stream",
     "text": [
      "Batch 0, Loss: 0.0026818676851689816\n",
      "Batch 200, Loss: 0.00029928822186775506\n",
      "Batch 400, Loss: 0.00022145854018162936\n",
      "Batch 600, Loss: 0.02100445330142975\n"
     ]
    },
    {
     "name": "stderr",
     "output_type": "stream",
     "text": [
      " 60%|█████▉    | 598/1000 [2:43:50<1:38:08, 14.65s/it]"
     ]
    },
    {
     "name": "stdout",
     "output_type": "stream",
     "text": [
      "Batch 0, Loss: 0.010135036893188953\n",
      "Batch 200, Loss: 0.0005046004662290215\n",
      "Batch 400, Loss: 0.0021838415414094925\n",
      "Batch 600, Loss: 0.0001252907095476985\n"
     ]
    },
    {
     "name": "stderr",
     "output_type": "stream",
     "text": [
      " 60%|█████▉    | 599/1000 [2:44:05<1:37:44, 14.62s/it]"
     ]
    },
    {
     "name": "stdout",
     "output_type": "stream",
     "text": [
      "Batch 0, Loss: 0.00014490005560219288\n",
      "Batch 200, Loss: 0.003737860592082143\n",
      "Batch 400, Loss: 0.0007094429456628859\n",
      "Batch 600, Loss: 1.1239589184697252e-05\n"
     ]
    },
    {
     "name": "stderr",
     "output_type": "stream",
     "text": [
      " 60%|██████    | 600/1000 [2:44:20<1:38:09, 14.72s/it]"
     ]
    },
    {
     "name": "stdout",
     "output_type": "stream",
     "text": [
      "Batch 0, Loss: 2.538590251788264e-06\n",
      "Batch 200, Loss: 0.0011746403761208057\n",
      "Batch 400, Loss: 2.5545628886902705e-05\n",
      "Batch 600, Loss: 0.005188860930502415\n"
     ]
    },
    {
     "name": "stderr",
     "output_type": "stream",
     "text": [
      " 60%|██████    | 601/1000 [2:44:34<1:37:38, 14.68s/it]"
     ]
    },
    {
     "name": "stdout",
     "output_type": "stream",
     "text": [
      "Batch 0, Loss: 0.08295252174139023\n",
      "Batch 200, Loss: 1.006813909043558e-05\n",
      "Batch 400, Loss: 0.0020817022304981947\n",
      "Batch 600, Loss: 2.3429354769177735e-05\n"
     ]
    },
    {
     "name": "stderr",
     "output_type": "stream",
     "text": [
      " 60%|██████    | 602/1000 [2:44:49<1:37:30, 14.70s/it]"
     ]
    },
    {
     "name": "stdout",
     "output_type": "stream",
     "text": [
      "Batch 0, Loss: 0.06439957767724991\n",
      "Batch 200, Loss: 0.0066241915337741375\n",
      "Batch 400, Loss: 0.02018176019191742\n",
      "Batch 600, Loss: 0.01044651959091425\n"
     ]
    },
    {
     "name": "stderr",
     "output_type": "stream",
     "text": [
      " 60%|██████    | 603/1000 [2:45:04<1:36:49, 14.63s/it]"
     ]
    },
    {
     "name": "stdout",
     "output_type": "stream",
     "text": [
      "Batch 0, Loss: 0.0043434323742985725\n",
      "Batch 200, Loss: 0.4000716209411621\n",
      "Batch 400, Loss: 0.025869417935609818\n",
      "Batch 600, Loss: 0.018666792660951614\n"
     ]
    },
    {
     "name": "stderr",
     "output_type": "stream",
     "text": [
      " 60%|██████    | 604/1000 [2:45:18<1:36:56, 14.69s/it]"
     ]
    },
    {
     "name": "stdout",
     "output_type": "stream",
     "text": [
      "Batch 0, Loss: 4.252094640833093e-06\n",
      "Batch 200, Loss: 0.01654553972184658\n",
      "Batch 400, Loss: 2.521310125302989e-05\n",
      "Batch 600, Loss: 0.00012629872071556747\n"
     ]
    },
    {
     "name": "stderr",
     "output_type": "stream",
     "text": [
      " 60%|██████    | 605/1000 [2:45:33<1:36:35, 14.67s/it]"
     ]
    },
    {
     "name": "stdout",
     "output_type": "stream",
     "text": [
      "Batch 0, Loss: 0.008014993742108345\n",
      "Batch 200, Loss: 0.019794421270489693\n",
      "Batch 400, Loss: 2.6077021431092362e-08\n",
      "Batch 600, Loss: 0.015316571108996868\n"
     ]
    },
    {
     "name": "stderr",
     "output_type": "stream",
     "text": [
      " 61%|██████    | 606/1000 [2:45:48<1:36:18, 14.67s/it]"
     ]
    },
    {
     "name": "stdout",
     "output_type": "stream",
     "text": [
      "Batch 0, Loss: 0.08146290481090546\n",
      "Batch 200, Loss: 3.219028076273389e-05\n",
      "Batch 400, Loss: 8.627366696600802e-06\n",
      "Batch 600, Loss: 0.017103737220168114\n"
     ]
    },
    {
     "name": "stderr",
     "output_type": "stream",
     "text": [
      " 61%|██████    | 607/1000 [2:46:02<1:36:12, 14.69s/it]"
     ]
    },
    {
     "name": "stdout",
     "output_type": "stream",
     "text": [
      "Batch 0, Loss: 0.0002028505550697446\n",
      "Batch 200, Loss: 3.719007509062067e-05\n",
      "Batch 400, Loss: 0.0005845360574312508\n",
      "Batch 600, Loss: 0.29610419273376465\n"
     ]
    },
    {
     "name": "stderr",
     "output_type": "stream",
     "text": [
      " 61%|██████    | 608/1000 [2:46:17<1:36:32, 14.78s/it]"
     ]
    },
    {
     "name": "stdout",
     "output_type": "stream",
     "text": [
      "Batch 0, Loss: 6.160156044643372e-05\n",
      "Batch 200, Loss: 0.0044895922765135765\n",
      "Batch 400, Loss: 0.3121195435523987\n",
      "Batch 600, Loss: 4.861435058955976e-07\n"
     ]
    },
    {
     "name": "stderr",
     "output_type": "stream",
     "text": [
      " 61%|██████    | 609/1000 [2:46:32<1:35:54, 14.72s/it]"
     ]
    },
    {
     "name": "stdout",
     "output_type": "stream",
     "text": [
      "Batch 0, Loss: 0.00024468739866279066\n",
      "Batch 200, Loss: 0.4017334282398224\n",
      "Batch 400, Loss: 0.012645221315324306\n",
      "Batch 600, Loss: 4.162613186053932e-05\n"
     ]
    },
    {
     "name": "stderr",
     "output_type": "stream",
     "text": [
      " 61%|██████    | 610/1000 [2:46:47<1:35:29, 14.69s/it]"
     ]
    },
    {
     "name": "stdout",
     "output_type": "stream",
     "text": [
      "Batch 0, Loss: 3.557628929229395e-07\n",
      "Batch 200, Loss: 1.1436552540544653e-06\n",
      "Batch 400, Loss: 0.0015712729655206203\n",
      "Batch 600, Loss: 4.726679890154628e-06\n"
     ]
    },
    {
     "name": "stderr",
     "output_type": "stream",
     "text": [
      " 61%|██████    | 611/1000 [2:47:02<1:35:50, 14.78s/it]"
     ]
    },
    {
     "name": "stdout",
     "output_type": "stream",
     "text": [
      "Batch 0, Loss: 3.371369814431091e-07\n",
      "Batch 200, Loss: 0.0014564760494977236\n",
      "Batch 400, Loss: 4.358529395176447e-07\n",
      "Batch 600, Loss: 0.1402796059846878\n"
     ]
    },
    {
     "name": "stderr",
     "output_type": "stream",
     "text": [
      " 61%|██████    | 612/1000 [2:47:16<1:35:16, 14.73s/it]"
     ]
    },
    {
     "name": "stdout",
     "output_type": "stream",
     "text": [
      "Batch 0, Loss: 0.0457117035984993\n",
      "Batch 200, Loss: 3.5777509310719324e-06\n",
      "Batch 400, Loss: 0.0002636995632201433\n",
      "Batch 600, Loss: 3.20109429594595e-05\n"
     ]
    },
    {
     "name": "stderr",
     "output_type": "stream",
     "text": [
      " 61%|██████▏   | 613/1000 [2:47:31<1:34:46, 14.69s/it]"
     ]
    },
    {
     "name": "stdout",
     "output_type": "stream",
     "text": [
      "Batch 0, Loss: 0.038728684186935425\n",
      "Batch 200, Loss: 0.026171404868364334\n",
      "Batch 400, Loss: 0.0007867366657592356\n",
      "Batch 600, Loss: 2.7134345145896077e-05\n"
     ]
    },
    {
     "name": "stderr",
     "output_type": "stream",
     "text": [
      " 61%|██████▏   | 614/1000 [2:47:45<1:34:22, 14.67s/it]"
     ]
    },
    {
     "name": "stdout",
     "output_type": "stream",
     "text": [
      "Batch 0, Loss: 0.0055341278202831745\n",
      "Batch 200, Loss: 2.907457201217767e-06\n",
      "Batch 400, Loss: 0.03552810475230217\n",
      "Batch 600, Loss: 0.06797434389591217\n"
     ]
    },
    {
     "name": "stderr",
     "output_type": "stream",
     "text": [
      " 62%|██████▏   | 615/1000 [2:48:00<1:34:15, 14.69s/it]"
     ]
    },
    {
     "name": "stdout",
     "output_type": "stream",
     "text": [
      "Batch 0, Loss: 0.005647661630064249\n",
      "Batch 200, Loss: 0.0018253587186336517\n",
      "Batch 400, Loss: 0.14630143344402313\n",
      "Batch 600, Loss: 0.004410316701978445\n"
     ]
    },
    {
     "name": "stderr",
     "output_type": "stream",
     "text": [
      " 62%|██████▏   | 616/1000 [2:48:15<1:34:21, 14.74s/it]"
     ]
    },
    {
     "name": "stdout",
     "output_type": "stream",
     "text": [
      "Batch 0, Loss: 2.797462911985349e-06\n",
      "Batch 200, Loss: 0.054596178233623505\n",
      "Batch 400, Loss: 0.00023602452711202204\n",
      "Batch 600, Loss: 0.0014016475761309266\n"
     ]
    },
    {
     "name": "stderr",
     "output_type": "stream",
     "text": [
      " 62%|██████▏   | 617/1000 [2:48:30<1:33:59, 14.72s/it]"
     ]
    },
    {
     "name": "stdout",
     "output_type": "stream",
     "text": [
      "Batch 0, Loss: 4.321302640164504e-07\n",
      "Batch 200, Loss: 0.040212880820035934\n",
      "Batch 400, Loss: 5.147672345628962e-05\n",
      "Batch 600, Loss: 3.915049092029221e-06\n"
     ]
    },
    {
     "name": "stderr",
     "output_type": "stream",
     "text": [
      " 62%|██████▏   | 618/1000 [2:48:44<1:33:41, 14.72s/it]"
     ]
    },
    {
     "name": "stdout",
     "output_type": "stream",
     "text": [
      "Batch 0, Loss: 2.6230110961478204e-05\n",
      "Batch 200, Loss: 0.029511727392673492\n",
      "Batch 400, Loss: 0.14123988151550293\n",
      "Batch 600, Loss: 0.04590553045272827\n"
     ]
    },
    {
     "name": "stderr",
     "output_type": "stream",
     "text": [
      " 62%|██████▏   | 619/1000 [2:48:59<1:33:10, 14.67s/it]"
     ]
    },
    {
     "name": "stdout",
     "output_type": "stream",
     "text": [
      "Batch 0, Loss: 0.15485014021396637\n",
      "Batch 200, Loss: 0.0016964820679277182\n",
      "Batch 400, Loss: 0.2006112039089203\n",
      "Batch 600, Loss: 0.020018262788653374\n"
     ]
    },
    {
     "name": "stderr",
     "output_type": "stream",
     "text": [
      " 62%|██████▏   | 620/1000 [2:49:14<1:32:53, 14.67s/it]"
     ]
    },
    {
     "name": "stdout",
     "output_type": "stream",
     "text": [
      "Batch 0, Loss: 0.04731123521924019\n",
      "Batch 200, Loss: 0.022299665957689285\n",
      "Batch 400, Loss: 0.752525269985199\n",
      "Batch 600, Loss: 0.00011848257418023422\n"
     ]
    },
    {
     "name": "stderr",
     "output_type": "stream",
     "text": [
      " 62%|██████▏   | 621/1000 [2:49:28<1:32:29, 14.64s/it]"
     ]
    },
    {
     "name": "stdout",
     "output_type": "stream",
     "text": [
      "Batch 0, Loss: 2.6077012549308165e-08\n",
      "Batch 200, Loss: 0.032835301011800766\n",
      "Batch 400, Loss: 0.0466802716255188\n",
      "Batch 600, Loss: 0.16601386666297913\n"
     ]
    },
    {
     "name": "stderr",
     "output_type": "stream",
     "text": [
      " 62%|██████▏   | 622/1000 [2:49:43<1:33:03, 14.77s/it]"
     ]
    },
    {
     "name": "stdout",
     "output_type": "stream",
     "text": [
      "Batch 0, Loss: 4.479062226891983e-06\n",
      "Batch 200, Loss: 1.2796024293493247e-06\n",
      "Batch 400, Loss: 0.0139392064884305\n",
      "Batch 600, Loss: 0.000188245321623981\n"
     ]
    },
    {
     "name": "stderr",
     "output_type": "stream",
     "text": [
      " 62%|██████▏   | 623/1000 [2:49:58<1:32:30, 14.72s/it]"
     ]
    },
    {
     "name": "stdout",
     "output_type": "stream",
     "text": [
      "Batch 0, Loss: 0.08231637626886368\n",
      "Batch 200, Loss: 1.7674801711109467e-05\n",
      "Batch 400, Loss: 7.099829235812649e-05\n",
      "Batch 600, Loss: 0.03504989296197891\n"
     ]
    },
    {
     "name": "stderr",
     "output_type": "stream",
     "text": [
      " 62%|██████▏   | 624/1000 [2:50:13<1:32:31, 14.76s/it]"
     ]
    },
    {
     "name": "stdout",
     "output_type": "stream",
     "text": [
      "Batch 0, Loss: 0.02855580486357212\n",
      "Batch 200, Loss: 0.001090684556402266\n",
      "Batch 400, Loss: 0.00033479181001894176\n",
      "Batch 600, Loss: 0.08095411211252213\n"
     ]
    },
    {
     "name": "stderr",
     "output_type": "stream",
     "text": [
      " 62%|██████▎   | 625/1000 [2:50:27<1:32:00, 14.72s/it]"
     ]
    },
    {
     "name": "stdout",
     "output_type": "stream",
     "text": [
      "Batch 0, Loss: 0.040071066468954086\n",
      "Batch 200, Loss: 0.0423053503036499\n",
      "Batch 400, Loss: 1.3491790014086291e-05\n",
      "Batch 600, Loss: 0.038432613015174866\n"
     ]
    },
    {
     "name": "stderr",
     "output_type": "stream",
     "text": [
      " 63%|██████▎   | 626/1000 [2:50:42<1:31:25, 14.67s/it]"
     ]
    },
    {
     "name": "stdout",
     "output_type": "stream",
     "text": [
      "Batch 0, Loss: 0.0005836279597133398\n",
      "Batch 200, Loss: 0.003172001801431179\n",
      "Batch 400, Loss: 4.3040501623181626e-05\n",
      "Batch 600, Loss: 0.0011608618078753352\n"
     ]
    },
    {
     "name": "stderr",
     "output_type": "stream",
     "text": [
      " 63%|██████▎   | 627/1000 [2:50:57<1:31:24, 14.71s/it]"
     ]
    },
    {
     "name": "stdout",
     "output_type": "stream",
     "text": [
      "Batch 0, Loss: 0.0014855407644063234\n",
      "Batch 200, Loss: 4.359878585091792e-05\n",
      "Batch 400, Loss: 9.392006904818118e-05\n",
      "Batch 600, Loss: 0.07539249211549759\n"
     ]
    },
    {
     "name": "stderr",
     "output_type": "stream",
     "text": [
      " 63%|██████▎   | 628/1000 [2:51:12<1:31:22, 14.74s/it]"
     ]
    },
    {
     "name": "stdout",
     "output_type": "stream",
     "text": [
      "Batch 0, Loss: 0.028634853661060333\n",
      "Batch 200, Loss: 1.3075234619464027e-06\n",
      "Batch 400, Loss: 0.0\n",
      "Batch 600, Loss: 0.0004381417529657483\n"
     ]
    },
    {
     "name": "stderr",
     "output_type": "stream",
     "text": [
      " 63%|██████▎   | 629/1000 [2:51:26<1:31:17, 14.76s/it]"
     ]
    },
    {
     "name": "stdout",
     "output_type": "stream",
     "text": [
      "Batch 0, Loss: 1.4714834151163814e-07\n",
      "Batch 200, Loss: 5.944832082604989e-06\n",
      "Batch 400, Loss: 0.004015492741018534\n",
      "Batch 600, Loss: 0.009553948417305946\n"
     ]
    },
    {
     "name": "stderr",
     "output_type": "stream",
     "text": [
      " 63%|██████▎   | 630/1000 [2:51:41<1:30:50, 14.73s/it]"
     ]
    },
    {
     "name": "stdout",
     "output_type": "stream",
     "text": [
      "Batch 0, Loss: 2.4740502340137027e-05\n",
      "Batch 200, Loss: 2.082298806271865e-06\n",
      "Batch 400, Loss: 0.4068809151649475\n",
      "Batch 600, Loss: 3.50174389041058e-07\n"
     ]
    },
    {
     "name": "stderr",
     "output_type": "stream",
     "text": [
      " 63%|██████▎   | 631/1000 [2:51:56<1:30:21, 14.69s/it]"
     ]
    },
    {
     "name": "stdout",
     "output_type": "stream",
     "text": [
      "Batch 0, Loss: 0.0003361446433700621\n",
      "Batch 200, Loss: 0.05126478895545006\n",
      "Batch 400, Loss: 7.171121296778438e-07\n",
      "Batch 600, Loss: 1.6763716814693908e-07\n"
     ]
    },
    {
     "name": "stderr",
     "output_type": "stream",
     "text": [
      " 63%|██████▎   | 632/1000 [2:52:11<1:31:00, 14.84s/it]"
     ]
    },
    {
     "name": "stdout",
     "output_type": "stream",
     "text": [
      "Batch 0, Loss: 0.0011512169148772955\n",
      "Batch 200, Loss: 0.0025611293967813253\n",
      "Batch 400, Loss: 0.0058432347141206264\n",
      "Batch 600, Loss: 0.0\n"
     ]
    },
    {
     "name": "stderr",
     "output_type": "stream",
     "text": [
      " 63%|██████▎   | 633/1000 [2:52:25<1:30:31, 14.80s/it]"
     ]
    },
    {
     "name": "stdout",
     "output_type": "stream",
     "text": [
      "Batch 0, Loss: 0.03226977959275246\n",
      "Batch 200, Loss: 0.0004102106031496078\n",
      "Batch 400, Loss: 7.82284332672134e-05\n",
      "Batch 600, Loss: 5.7078974350588396e-05\n"
     ]
    },
    {
     "name": "stderr",
     "output_type": "stream",
     "text": [
      " 63%|██████▎   | 634/1000 [2:52:40<1:30:12, 14.79s/it]"
     ]
    },
    {
     "name": "stdout",
     "output_type": "stream",
     "text": [
      "Batch 0, Loss: 0.0001760232844389975\n",
      "Batch 200, Loss: 0.037556134164333344\n",
      "Batch 400, Loss: 3.929724698537029e-06\n",
      "Batch 600, Loss: 0.03553275018930435\n"
     ]
    },
    {
     "name": "stderr",
     "output_type": "stream",
     "text": [
      " 64%|██████▎   | 635/1000 [2:52:55<1:30:44, 14.92s/it]"
     ]
    },
    {
     "name": "stdout",
     "output_type": "stream",
     "text": [
      "Batch 0, Loss: 0.0001809306413633749\n",
      "Batch 200, Loss: 0.07694021612405777\n",
      "Batch 400, Loss: 0.06827835738658905\n",
      "Batch 600, Loss: 0.16995961964130402\n"
     ]
    },
    {
     "name": "stderr",
     "output_type": "stream",
     "text": [
      " 64%|██████▎   | 636/1000 [2:53:10<1:30:08, 14.86s/it]"
     ]
    },
    {
     "name": "stdout",
     "output_type": "stream",
     "text": [
      "Batch 0, Loss: 0.00011672473920043558\n",
      "Batch 200, Loss: 0.00042691160342656076\n",
      "Batch 400, Loss: 0.0002117358089890331\n",
      "Batch 600, Loss: 3.123460555798374e-05\n"
     ]
    },
    {
     "name": "stderr",
     "output_type": "stream",
     "text": [
      " 64%|██████▎   | 637/1000 [2:53:25<1:29:12, 14.74s/it]"
     ]
    },
    {
     "name": "stdout",
     "output_type": "stream",
     "text": [
      "Batch 0, Loss: 0.15392598509788513\n",
      "Batch 200, Loss: 0.42571699619293213\n",
      "Batch 400, Loss: 0.004834519699215889\n",
      "Batch 600, Loss: 0.1834827959537506\n"
     ]
    },
    {
     "name": "stderr",
     "output_type": "stream",
     "text": [
      " 64%|██████▍   | 638/1000 [2:53:39<1:28:31, 14.67s/it]"
     ]
    },
    {
     "name": "stdout",
     "output_type": "stream",
     "text": [
      "Batch 0, Loss: 0.08668164163827896\n",
      "Batch 200, Loss: 0.005656457971781492\n",
      "Batch 400, Loss: 0.017414869740605354\n",
      "Batch 600, Loss: 0.0745730847120285\n"
     ]
    },
    {
     "name": "stderr",
     "output_type": "stream",
     "text": [
      " 64%|██████▍   | 639/1000 [2:53:54<1:28:13, 14.66s/it]"
     ]
    },
    {
     "name": "stdout",
     "output_type": "stream",
     "text": [
      "Batch 0, Loss: 1.0481421668373514e-05\n",
      "Batch 200, Loss: 0.00856717862188816\n",
      "Batch 400, Loss: 0.000622187799308449\n",
      "Batch 600, Loss: 0.0007625207072123885\n"
     ]
    },
    {
     "name": "stderr",
     "output_type": "stream",
     "text": [
      " 64%|██████▍   | 640/1000 [2:54:09<1:28:31, 14.76s/it]"
     ]
    },
    {
     "name": "stdout",
     "output_type": "stream",
     "text": [
      "Batch 0, Loss: 0.06711163371801376\n",
      "Batch 200, Loss: 0.0010266905883327127\n",
      "Batch 400, Loss: 0.04632959142327309\n",
      "Batch 600, Loss: 0.15157899260520935\n"
     ]
    },
    {
     "name": "stderr",
     "output_type": "stream",
     "text": [
      " 64%|██████▍   | 641/1000 [2:54:23<1:28:02, 14.71s/it]"
     ]
    },
    {
     "name": "stdout",
     "output_type": "stream",
     "text": [
      "Batch 0, Loss: 0.004210273269563913\n",
      "Batch 200, Loss: 0.18268217146396637\n",
      "Batch 400, Loss: 0.026897834613919258\n",
      "Batch 600, Loss: 0.07350752502679825\n"
     ]
    },
    {
     "name": "stderr",
     "output_type": "stream",
     "text": [
      " 64%|██████▍   | 642/1000 [2:54:38<1:27:31, 14.67s/it]"
     ]
    },
    {
     "name": "stdout",
     "output_type": "stream",
     "text": [
      "Batch 0, Loss: 0.14247745275497437\n",
      "Batch 200, Loss: 0.5198328495025635\n",
      "Batch 400, Loss: 0.0\n",
      "Batch 600, Loss: 0.022665003314614296\n"
     ]
    },
    {
     "name": "stderr",
     "output_type": "stream",
     "text": [
      " 64%|██████▍   | 643/1000 [2:54:54<1:29:21, 15.02s/it]"
     ]
    },
    {
     "name": "stdout",
     "output_type": "stream",
     "text": [
      "Batch 0, Loss: 0.00034401079756207764\n",
      "Batch 200, Loss: 0.0002902005799114704\n",
      "Batch 400, Loss: 0.00011968625767622143\n",
      "Batch 600, Loss: 2.2351736461700966e-08\n"
     ]
    },
    {
     "name": "stderr",
     "output_type": "stream",
     "text": [
      " 64%|██████▍   | 644/1000 [2:55:08<1:28:32, 14.92s/it]"
     ]
    },
    {
     "name": "stdout",
     "output_type": "stream",
     "text": [
      "Batch 0, Loss: 0.0006217519985511899\n",
      "Batch 200, Loss: 9.867045264400076e-06\n",
      "Batch 400, Loss: 0.08638124167919159\n",
      "Batch 600, Loss: 0.0014314854051917791\n"
     ]
    },
    {
     "name": "stderr",
     "output_type": "stream",
     "text": [
      " 64%|██████▍   | 645/1000 [2:55:23<1:27:43, 14.83s/it]"
     ]
    },
    {
     "name": "stdout",
     "output_type": "stream",
     "text": [
      "Batch 0, Loss: 2.100584242725745e-05\n",
      "Batch 200, Loss: 0.00010179594391956925\n",
      "Batch 400, Loss: 4.153882764512673e-05\n",
      "Batch 600, Loss: 0.02470797300338745\n"
     ]
    },
    {
     "name": "stderr",
     "output_type": "stream",
     "text": [
      " 65%|██████▍   | 646/1000 [2:55:38<1:27:02, 14.75s/it]"
     ]
    },
    {
     "name": "stdout",
     "output_type": "stream",
     "text": [
      "Batch 0, Loss: 1.1399039294701652e-06\n",
      "Batch 200, Loss: 0.05672864615917206\n",
      "Batch 400, Loss: 0.03180760517716408\n",
      "Batch 600, Loss: 4.2208703234791756e-05\n"
     ]
    },
    {
     "name": "stderr",
     "output_type": "stream",
     "text": [
      " 65%|██████▍   | 647/1000 [2:55:52<1:26:35, 14.72s/it]"
     ]
    },
    {
     "name": "stdout",
     "output_type": "stream",
     "text": [
      "Batch 0, Loss: 3.7791585327795474e-06\n",
      "Batch 200, Loss: 2.836221392499283e-05\n",
      "Batch 400, Loss: 0.08943480253219604\n",
      "Batch 600, Loss: 0.09138702601194382\n"
     ]
    },
    {
     "name": "stderr",
     "output_type": "stream",
     "text": [
      " 65%|██████▍   | 648/1000 [2:56:07<1:26:59, 14.83s/it]"
     ]
    },
    {
     "name": "stdout",
     "output_type": "stream",
     "text": [
      "Batch 0, Loss: 0.010988065972924232\n",
      "Batch 200, Loss: 0.14843767881393433\n",
      "Batch 400, Loss: 0.00753464549779892\n",
      "Batch 600, Loss: 2.2351732908987287e-08\n"
     ]
    },
    {
     "name": "stderr",
     "output_type": "stream",
     "text": [
      " 65%|██████▍   | 649/1000 [2:56:22<1:26:20, 14.76s/it]"
     ]
    },
    {
     "name": "stdout",
     "output_type": "stream",
     "text": [
      "Batch 0, Loss: 0.005851566791534424\n",
      "Batch 200, Loss: 3.837005522200343e-07\n",
      "Batch 400, Loss: 0.17332841455936432\n",
      "Batch 600, Loss: 2.1695381292374805e-05\n"
     ]
    },
    {
     "name": "stderr",
     "output_type": "stream",
     "text": [
      " 65%|██████▌   | 650/1000 [2:56:37<1:25:46, 14.71s/it]"
     ]
    },
    {
     "name": "stdout",
     "output_type": "stream",
     "text": [
      "Batch 0, Loss: 0.0017854535253718495\n",
      "Batch 200, Loss: 0.00010920151544269174\n",
      "Batch 400, Loss: 0.000164095385116525\n",
      "Batch 600, Loss: 1.8626450382086546e-09\n"
     ]
    },
    {
     "name": "stderr",
     "output_type": "stream",
     "text": [
      " 65%|██████▌   | 651/1000 [2:56:51<1:25:26, 14.69s/it]"
     ]
    },
    {
     "name": "stdout",
     "output_type": "stream",
     "text": [
      "Batch 0, Loss: 0.008687956258654594\n",
      "Batch 200, Loss: 0.006040656939148903\n",
      "Batch 400, Loss: 0.058147870004177094\n",
      "Batch 600, Loss: 0.09065558016300201\n"
     ]
    },
    {
     "name": "stderr",
     "output_type": "stream",
     "text": [
      " 65%|██████▌   | 652/1000 [2:57:06<1:25:20, 14.71s/it]"
     ]
    },
    {
     "name": "stdout",
     "output_type": "stream",
     "text": [
      "Batch 0, Loss: 0.003162615466862917\n",
      "Batch 200, Loss: 0.017551928758621216\n",
      "Batch 400, Loss: 0.00015246131806634367\n",
      "Batch 600, Loss: 0.00025080222985707223\n"
     ]
    },
    {
     "name": "stderr",
     "output_type": "stream",
     "text": [
      " 65%|██████▌   | 653/1000 [2:57:21<1:24:54, 14.68s/it]"
     ]
    },
    {
     "name": "stdout",
     "output_type": "stream",
     "text": [
      "Batch 0, Loss: 5.219364902586676e-05\n",
      "Batch 200, Loss: 0.008915923535823822\n",
      "Batch 400, Loss: 0.008355820551514626\n",
      "Batch 600, Loss: 0.10773342847824097\n"
     ]
    },
    {
     "name": "stderr",
     "output_type": "stream",
     "text": [
      " 65%|██████▌   | 654/1000 [2:57:35<1:24:27, 14.65s/it]"
     ]
    },
    {
     "name": "stdout",
     "output_type": "stream",
     "text": [
      "Batch 0, Loss: 0.2157076597213745\n",
      "Batch 200, Loss: 0.011187984608113766\n",
      "Batch 400, Loss: 4.592928235069849e-06\n",
      "Batch 600, Loss: 0.006171120796352625\n"
     ]
    },
    {
     "name": "stderr",
     "output_type": "stream",
     "text": [
      " 66%|██████▌   | 655/1000 [2:57:50<1:24:27, 14.69s/it]"
     ]
    },
    {
     "name": "stdout",
     "output_type": "stream",
     "text": [
      "Batch 0, Loss: 0.03134601190686226\n",
      "Batch 200, Loss: 0.03271879628300667\n",
      "Batch 400, Loss: 0.0863625779747963\n",
      "Batch 600, Loss: 0.13051506876945496\n"
     ]
    },
    {
     "name": "stderr",
     "output_type": "stream",
     "text": [
      " 66%|██████▌   | 656/1000 [2:58:05<1:24:24, 14.72s/it]"
     ]
    },
    {
     "name": "stdout",
     "output_type": "stream",
     "text": [
      "Batch 0, Loss: 7.256069511640817e-05\n",
      "Batch 200, Loss: 0.16774004697799683\n",
      "Batch 400, Loss: 0.2886466979980469\n",
      "Batch 600, Loss: 2.1814026695210487e-05\n"
     ]
    },
    {
     "name": "stderr",
     "output_type": "stream",
     "text": [
      " 66%|██████▌   | 657/1000 [2:58:20<1:24:21, 14.76s/it]"
     ]
    },
    {
     "name": "stdout",
     "output_type": "stream",
     "text": [
      "Batch 0, Loss: 1.4342053873406257e-05\n",
      "Batch 200, Loss: 0.000140094431117177\n",
      "Batch 400, Loss: 0.042512018233537674\n",
      "Batch 600, Loss: 0.0690937489271164\n"
     ]
    },
    {
     "name": "stderr",
     "output_type": "stream",
     "text": [
      " 66%|██████▌   | 658/1000 [2:58:35<1:25:33, 15.01s/it]"
     ]
    },
    {
     "name": "stdout",
     "output_type": "stream",
     "text": [
      "Batch 0, Loss: 0.6721730828285217\n",
      "Batch 200, Loss: 8.251312806351052e-07\n",
      "Batch 400, Loss: 0.05780073255300522\n",
      "Batch 600, Loss: 0.0432191863656044\n"
     ]
    },
    {
     "name": "stderr",
     "output_type": "stream",
     "text": [
      " 66%|██████▌   | 659/1000 [2:58:51<1:27:24, 15.38s/it]"
     ]
    },
    {
     "name": "stdout",
     "output_type": "stream",
     "text": [
      "Batch 0, Loss: 0.028807993978261948\n",
      "Batch 200, Loss: 0.0008655253332108259\n",
      "Batch 400, Loss: 1.542441896162927e-05\n",
      "Batch 600, Loss: 0.03282889723777771\n"
     ]
    },
    {
     "name": "stderr",
     "output_type": "stream",
     "text": [
      " 66%|██████▌   | 660/1000 [2:59:06<1:25:12, 15.04s/it]"
     ]
    },
    {
     "name": "stdout",
     "output_type": "stream",
     "text": [
      "Batch 0, Loss: 0.0190265029668808\n",
      "Batch 200, Loss: 2.9802043854942895e-07\n",
      "Batch 400, Loss: 0.09455321729183197\n",
      "Batch 600, Loss: 0.05660361796617508\n"
     ]
    },
    {
     "name": "stderr",
     "output_type": "stream",
     "text": [
      " 66%|██████▌   | 661/1000 [2:59:20<1:24:05, 14.88s/it]"
     ]
    },
    {
     "name": "stdout",
     "output_type": "stream",
     "text": [
      "Batch 0, Loss: 0.08647364377975464\n",
      "Batch 200, Loss: 9.079621122509707e-06\n",
      "Batch 400, Loss: 0.07813124358654022\n",
      "Batch 600, Loss: 1.9845150745823048e-05\n"
     ]
    },
    {
     "name": "stderr",
     "output_type": "stream",
     "text": [
      " 66%|██████▌   | 662/1000 [2:59:34<1:22:48, 14.70s/it]"
     ]
    },
    {
     "name": "stdout",
     "output_type": "stream",
     "text": [
      "Batch 0, Loss: 5.786167093901895e-06\n",
      "Batch 200, Loss: 0.3337872624397278\n",
      "Batch 400, Loss: 0.33152830600738525\n",
      "Batch 600, Loss: 2.1833631763001904e-05\n"
     ]
    },
    {
     "name": "stderr",
     "output_type": "stream",
     "text": [
      " 66%|██████▋   | 663/1000 [2:59:49<1:22:00, 14.60s/it]"
     ]
    },
    {
     "name": "stdout",
     "output_type": "stream",
     "text": [
      "Batch 0, Loss: 0.0011156140826642513\n",
      "Batch 200, Loss: 1.1600104699027725e-05\n",
      "Batch 400, Loss: 0.01782945543527603\n",
      "Batch 600, Loss: 5.794379103463143e-05\n"
     ]
    },
    {
     "name": "stderr",
     "output_type": "stream",
     "text": [
      " 66%|██████▋   | 664/1000 [3:00:03<1:21:25, 14.54s/it]"
     ]
    },
    {
     "name": "stdout",
     "output_type": "stream",
     "text": [
      "Batch 0, Loss: 0.19410169124603271\n",
      "Batch 200, Loss: 0.12589000165462494\n",
      "Batch 400, Loss: 1.985460585274268e-06\n",
      "Batch 600, Loss: 2.291044012281418e-07\n"
     ]
    },
    {
     "name": "stderr",
     "output_type": "stream",
     "text": [
      " 66%|██████▋   | 665/1000 [3:00:18<1:21:07, 14.53s/it]"
     ]
    },
    {
     "name": "stdout",
     "output_type": "stream",
     "text": [
      "Batch 0, Loss: 0.11212116479873657\n",
      "Batch 200, Loss: 1.918512708698472e-07\n",
      "Batch 400, Loss: 0.001326308585703373\n",
      "Batch 600, Loss: 0.000214818210224621\n"
     ]
    },
    {
     "name": "stderr",
     "output_type": "stream",
     "text": [
      " 67%|██████▋   | 666/1000 [3:00:32<1:20:22, 14.44s/it]"
     ]
    },
    {
     "name": "stdout",
     "output_type": "stream",
     "text": [
      "Batch 0, Loss: 0.015374170616269112\n",
      "Batch 200, Loss: 0.00095278030494228\n",
      "Batch 400, Loss: 2.0431598386494443e-05\n",
      "Batch 600, Loss: 5.643714189318416e-07\n"
     ]
    },
    {
     "name": "stderr",
     "output_type": "stream",
     "text": [
      " 67%|██████▋   | 667/1000 [3:00:46<1:19:54, 14.40s/it]"
     ]
    },
    {
     "name": "stdout",
     "output_type": "stream",
     "text": [
      "Batch 0, Loss: 9.10107628442347e-05\n",
      "Batch 200, Loss: 6.972878327360377e-05\n",
      "Batch 400, Loss: 0.0041941432282328606\n",
      "Batch 600, Loss: 0.27549856901168823\n"
     ]
    },
    {
     "name": "stderr",
     "output_type": "stream",
     "text": [
      " 67%|██████▋   | 668/1000 [3:01:01<1:19:29, 14.37s/it]"
     ]
    },
    {
     "name": "stdout",
     "output_type": "stream",
     "text": [
      "Batch 0, Loss: 0.010586477816104889\n",
      "Batch 200, Loss: 0.0406414158642292\n",
      "Batch 400, Loss: 0.20917551219463348\n",
      "Batch 600, Loss: 0.08352399617433548\n"
     ]
    },
    {
     "name": "stderr",
     "output_type": "stream",
     "text": [
      " 67%|██████▋   | 669/1000 [3:01:15<1:18:59, 14.32s/it]"
     ]
    },
    {
     "name": "stdout",
     "output_type": "stream",
     "text": [
      "Batch 0, Loss: 0.006510704755783081\n",
      "Batch 200, Loss: 0.10835018008947372\n",
      "Batch 400, Loss: 0.00027105072513222694\n",
      "Batch 600, Loss: 2.9669704417756293e-06\n"
     ]
    },
    {
     "name": "stderr",
     "output_type": "stream",
     "text": [
      " 67%|██████▋   | 670/1000 [3:01:29<1:18:50, 14.34s/it]"
     ]
    },
    {
     "name": "stdout",
     "output_type": "stream",
     "text": [
      "Batch 0, Loss: 0.011080188676714897\n",
      "Batch 200, Loss: 1.8626450382086546e-09\n",
      "Batch 400, Loss: 0.0\n",
      "Batch 600, Loss: 0.37922555208206177\n"
     ]
    },
    {
     "name": "stderr",
     "output_type": "stream",
     "text": [
      " 67%|██████▋   | 671/1000 [3:01:43<1:18:27, 14.31s/it]"
     ]
    },
    {
     "name": "stdout",
     "output_type": "stream",
     "text": [
      "Batch 0, Loss: 0.07379399240016937\n",
      "Batch 200, Loss: 2.607681892641267e-07\n",
      "Batch 400, Loss: 8.066896043601446e-06\n",
      "Batch 600, Loss: 0.0001449800911359489\n"
     ]
    },
    {
     "name": "stderr",
     "output_type": "stream",
     "text": [
      " 67%|██████▋   | 672/1000 [3:01:58<1:18:16, 14.32s/it]"
     ]
    },
    {
     "name": "stdout",
     "output_type": "stream",
     "text": [
      "Batch 0, Loss: 0.17872099578380585\n",
      "Batch 200, Loss: 0.006964210420846939\n",
      "Batch 400, Loss: 0.1699528843164444\n",
      "Batch 600, Loss: 0.023361997678875923\n"
     ]
    },
    {
     "name": "stderr",
     "output_type": "stream",
     "text": [
      " 67%|██████▋   | 673/1000 [3:02:13<1:18:48, 14.46s/it]"
     ]
    },
    {
     "name": "stdout",
     "output_type": "stream",
     "text": [
      "Batch 0, Loss: 0.25044843554496765\n",
      "Batch 200, Loss: 6.298350854194723e-06\n",
      "Batch 400, Loss: 0.027557333931326866\n",
      "Batch 600, Loss: 0.08688811957836151\n"
     ]
    },
    {
     "name": "stderr",
     "output_type": "stream",
     "text": [
      " 67%|██████▋   | 674/1000 [3:02:27<1:19:00, 14.54s/it]"
     ]
    },
    {
     "name": "stdout",
     "output_type": "stream",
     "text": [
      "Batch 0, Loss: 0.21837075054645538\n",
      "Batch 200, Loss: 4.29311694460921e-06\n",
      "Batch 400, Loss: 1.0847137673408724e-05\n",
      "Batch 600, Loss: 0.3824782967567444\n"
     ]
    },
    {
     "name": "stderr",
     "output_type": "stream",
     "text": [
      " 68%|██████▊   | 675/1000 [3:02:42<1:19:11, 14.62s/it]"
     ]
    },
    {
     "name": "stdout",
     "output_type": "stream",
     "text": [
      "Batch 0, Loss: 4.284078869432051e-08\n",
      "Batch 200, Loss: 0.00018523307517170906\n",
      "Batch 400, Loss: 2.6449481538293185e-07\n",
      "Batch 600, Loss: 2.048908953611317e-08\n"
     ]
    },
    {
     "name": "stderr",
     "output_type": "stream",
     "text": [
      " 68%|██████▊   | 676/1000 [3:02:57<1:19:41, 14.76s/it]"
     ]
    },
    {
     "name": "stdout",
     "output_type": "stream",
     "text": [
      "Batch 0, Loss: 0.0052834381349384785\n",
      "Batch 200, Loss: 0.001083189039491117\n",
      "Batch 400, Loss: 0.0003754209028556943\n",
      "Batch 600, Loss: 1.2261636584298685e-05\n"
     ]
    },
    {
     "name": "stderr",
     "output_type": "stream",
     "text": [
      " 68%|██████▊   | 677/1000 [3:03:12<1:19:46, 14.82s/it]"
     ]
    },
    {
     "name": "stdout",
     "output_type": "stream",
     "text": [
      "Batch 0, Loss: 3.223353633075021e-05\n",
      "Batch 200, Loss: 2.234136627521366e-05\n",
      "Batch 400, Loss: 2.1047794973583223e-07\n",
      "Batch 600, Loss: 0.0028959023766219616\n"
     ]
    },
    {
     "name": "stderr",
     "output_type": "stream",
     "text": [
      " 68%|██████▊   | 678/1000 [3:03:26<1:18:33, 14.64s/it]"
     ]
    },
    {
     "name": "stdout",
     "output_type": "stream",
     "text": [
      "Batch 0, Loss: 0.038688626140356064\n",
      "Batch 200, Loss: 0.003806448308750987\n",
      "Batch 400, Loss: 0.00010388976079411805\n",
      "Batch 600, Loss: 8.572610386181623e-05\n"
     ]
    },
    {
     "name": "stderr",
     "output_type": "stream",
     "text": [
      " 68%|██████▊   | 679/1000 [3:03:41<1:17:37, 14.51s/it]"
     ]
    },
    {
     "name": "stdout",
     "output_type": "stream",
     "text": [
      "Batch 0, Loss: 0.2432957887649536\n",
      "Batch 200, Loss: 0.059341393411159515\n",
      "Batch 400, Loss: 0.04213250055909157\n",
      "Batch 600, Loss: 2.9638376872753724e-05\n"
     ]
    },
    {
     "name": "stderr",
     "output_type": "stream",
     "text": [
      " 68%|██████▊   | 680/1000 [3:03:55<1:16:47, 14.40s/it]"
     ]
    },
    {
     "name": "stdout",
     "output_type": "stream",
     "text": [
      "Batch 0, Loss: 5.946018791291863e-05\n",
      "Batch 200, Loss: 3.7252898543727042e-09\n",
      "Batch 400, Loss: 0.0036510485224425793\n",
      "Batch 600, Loss: 0.4387524724006653\n"
     ]
    },
    {
     "name": "stderr",
     "output_type": "stream",
     "text": [
      " 68%|██████▊   | 681/1000 [3:04:10<1:17:25, 14.56s/it]"
     ]
    },
    {
     "name": "stdout",
     "output_type": "stream",
     "text": [
      "Batch 0, Loss: 5.625137760034704e-07\n",
      "Batch 200, Loss: 4.047308721055742e-06\n",
      "Batch 400, Loss: 0.26379454135894775\n",
      "Batch 600, Loss: 0.0005283615319058299\n"
     ]
    },
    {
     "name": "stderr",
     "output_type": "stream",
     "text": [
      " 68%|██████▊   | 682/1000 [3:04:24<1:16:33, 14.44s/it]"
     ]
    },
    {
     "name": "stdout",
     "output_type": "stream",
     "text": [
      "Batch 0, Loss: 0.11324208974838257\n",
      "Batch 200, Loss: 0.006064693443477154\n",
      "Batch 400, Loss: 0.11777372658252716\n",
      "Batch 600, Loss: 5.808674904983491e-05\n"
     ]
    },
    {
     "name": "stderr",
     "output_type": "stream",
     "text": [
      " 68%|██████▊   | 683/1000 [3:04:38<1:16:03, 14.39s/it]"
     ]
    },
    {
     "name": "stdout",
     "output_type": "stream",
     "text": [
      "Batch 0, Loss: 0.1008635014295578\n",
      "Batch 200, Loss: 0.002020043320953846\n",
      "Batch 400, Loss: 0.010499745607376099\n",
      "Batch 600, Loss: 0.31173402070999146\n"
     ]
    },
    {
     "name": "stderr",
     "output_type": "stream",
     "text": [
      " 68%|██████▊   | 684/1000 [3:04:52<1:15:48, 14.39s/it]"
     ]
    },
    {
     "name": "stdout",
     "output_type": "stream",
     "text": [
      "Batch 0, Loss: 0.15931156277656555\n",
      "Batch 200, Loss: 0.02913769893348217\n",
      "Batch 400, Loss: 0.005827740300446749\n",
      "Batch 600, Loss: 0.01109545212239027\n"
     ]
    },
    {
     "name": "stderr",
     "output_type": "stream",
     "text": [
      " 68%|██████▊   | 685/1000 [3:05:07<1:15:12, 14.32s/it]"
     ]
    },
    {
     "name": "stdout",
     "output_type": "stream",
     "text": [
      "Batch 0, Loss: 0.006820340175181627\n",
      "Batch 200, Loss: 0.0680050328373909\n",
      "Batch 400, Loss: 0.23304329812526703\n",
      "Batch 600, Loss: 0.20391149818897247\n"
     ]
    },
    {
     "name": "stderr",
     "output_type": "stream",
     "text": [
      " 69%|██████▊   | 686/1000 [3:05:21<1:14:57, 14.32s/it]"
     ]
    },
    {
     "name": "stdout",
     "output_type": "stream",
     "text": [
      "Batch 0, Loss: 0.04825088009238243\n",
      "Batch 200, Loss: 2.2965425614529522e-06\n",
      "Batch 400, Loss: 0.23270539939403534\n",
      "Batch 600, Loss: 0.20437367260456085\n"
     ]
    },
    {
     "name": "stderr",
     "output_type": "stream",
     "text": [
      " 69%|██████▊   | 687/1000 [3:05:36<1:15:41, 14.51s/it]"
     ]
    },
    {
     "name": "stdout",
     "output_type": "stream",
     "text": [
      "Batch 0, Loss: 0.0168367438018322\n",
      "Batch 200, Loss: 0.0003416412801016122\n",
      "Batch 400, Loss: 9.228976523445453e-06\n",
      "Batch 600, Loss: 0.10162220895290375\n"
     ]
    },
    {
     "name": "stderr",
     "output_type": "stream",
     "text": [
      " 69%|██████▉   | 688/1000 [3:05:50<1:15:12, 14.46s/it]"
     ]
    },
    {
     "name": "stdout",
     "output_type": "stream",
     "text": [
      "Batch 0, Loss: 0.18362140655517578\n",
      "Batch 200, Loss: 0.0031943521462380886\n",
      "Batch 400, Loss: 1.1585131687752437e-05\n",
      "Batch 600, Loss: 0.6858721375465393\n"
     ]
    },
    {
     "name": "stderr",
     "output_type": "stream",
     "text": [
      " 69%|██████▉   | 689/1000 [3:06:05<1:14:56, 14.46s/it]"
     ]
    },
    {
     "name": "stdout",
     "output_type": "stream",
     "text": [
      "Batch 0, Loss: 0.2240535020828247\n",
      "Batch 200, Loss: 0.02834022417664528\n",
      "Batch 400, Loss: 0.030296415090560913\n",
      "Batch 600, Loss: 9.313223969797946e-09\n"
     ]
    },
    {
     "name": "stderr",
     "output_type": "stream",
     "text": [
      " 69%|██████▉   | 690/1000 [3:06:20<1:16:02, 14.72s/it]"
     ]
    },
    {
     "name": "stdout",
     "output_type": "stream",
     "text": [
      "Batch 0, Loss: 0.00021316706261131912\n",
      "Batch 200, Loss: 0.0005169983487576246\n",
      "Batch 400, Loss: 0.26470908522605896\n",
      "Batch 600, Loss: 3.536788426572457e-06\n"
     ]
    },
    {
     "name": "stderr",
     "output_type": "stream",
     "text": [
      " 69%|██████▉   | 691/1000 [3:06:35<1:15:45, 14.71s/it]"
     ]
    },
    {
     "name": "stdout",
     "output_type": "stream",
     "text": [
      "Batch 0, Loss: 0.001907517435029149\n",
      "Batch 200, Loss: 0.5342671275138855\n",
      "Batch 400, Loss: 0.16638383269309998\n",
      "Batch 600, Loss: 0.0009449337958358228\n"
     ]
    },
    {
     "name": "stderr",
     "output_type": "stream",
     "text": [
      " 69%|██████▉   | 692/1000 [3:06:49<1:15:09, 14.64s/it]"
     ]
    },
    {
     "name": "stdout",
     "output_type": "stream",
     "text": [
      "Batch 0, Loss: 0.0003546431544236839\n",
      "Batch 200, Loss: 3.601197386160493e-05\n",
      "Batch 400, Loss: 0.13638204336166382\n",
      "Batch 600, Loss: 1.7672617104835808e-05\n"
     ]
    },
    {
     "name": "stderr",
     "output_type": "stream",
     "text": [
      " 69%|██████▉   | 693/1000 [3:07:04<1:14:34, 14.57s/it]"
     ]
    },
    {
     "name": "stdout",
     "output_type": "stream",
     "text": [
      "Batch 0, Loss: 0.006228301208466291\n",
      "Batch 200, Loss: 0.28720563650131226\n",
      "Batch 400, Loss: 0.02351224236190319\n",
      "Batch 600, Loss: 6.053534207239863e-07\n"
     ]
    },
    {
     "name": "stderr",
     "output_type": "stream",
     "text": [
      " 69%|██████▉   | 694/1000 [3:07:18<1:13:56, 14.50s/it]"
     ]
    },
    {
     "name": "stdout",
     "output_type": "stream",
     "text": [
      "Batch 0, Loss: 4.8428741905581774e-08\n",
      "Batch 200, Loss: 1.2622323993127793e-05\n",
      "Batch 400, Loss: 0.22164808213710785\n",
      "Batch 600, Loss: 0.2193562537431717\n"
     ]
    },
    {
     "name": "stderr",
     "output_type": "stream",
     "text": [
      " 70%|██████▉   | 695/1000 [3:07:32<1:13:19, 14.43s/it]"
     ]
    },
    {
     "name": "stdout",
     "output_type": "stream",
     "text": [
      "Batch 0, Loss: 1.1175870007207322e-08\n",
      "Batch 200, Loss: 0.00012406607856974006\n",
      "Batch 400, Loss: 0.001268420834094286\n",
      "Batch 600, Loss: 8.77282502642629e-07\n"
     ]
    },
    {
     "name": "stderr",
     "output_type": "stream",
     "text": [
      " 70%|██████▉   | 696/1000 [3:07:46<1:12:53, 14.39s/it]"
     ]
    },
    {
     "name": "stdout",
     "output_type": "stream",
     "text": [
      "Batch 0, Loss: 0.19822746515274048\n",
      "Batch 200, Loss: 0.16606853902339935\n",
      "Batch 400, Loss: 0.45290252566337585\n",
      "Batch 600, Loss: 0.20118024945259094\n"
     ]
    },
    {
     "name": "stderr",
     "output_type": "stream",
     "text": [
      " 70%|██████▉   | 697/1000 [3:08:01<1:12:50, 14.42s/it]"
     ]
    },
    {
     "name": "stdout",
     "output_type": "stream",
     "text": [
      "Batch 0, Loss: 0.00031045579817146063\n",
      "Batch 200, Loss: 0.08718973398208618\n",
      "Batch 400, Loss: 0.07393668591976166\n",
      "Batch 600, Loss: 0.006143998820334673\n"
     ]
    },
    {
     "name": "stderr",
     "output_type": "stream",
     "text": [
      " 70%|██████▉   | 698/1000 [3:08:15<1:12:41, 14.44s/it]"
     ]
    },
    {
     "name": "stdout",
     "output_type": "stream",
     "text": [
      "Batch 0, Loss: 0.1283644437789917\n",
      "Batch 200, Loss: 0.0\n",
      "Batch 400, Loss: 0.0008461445104330778\n",
      "Batch 600, Loss: 0.06850795447826385\n"
     ]
    },
    {
     "name": "stderr",
     "output_type": "stream",
     "text": [
      " 70%|██████▉   | 699/1000 [3:08:30<1:12:17, 14.41s/it]"
     ]
    },
    {
     "name": "stdout",
     "output_type": "stream",
     "text": [
      "Batch 0, Loss: 0.04099714383482933\n",
      "Batch 200, Loss: 0.3876519799232483\n",
      "Batch 400, Loss: 3.337277303216979e-05\n",
      "Batch 600, Loss: 0.04967188090085983\n"
     ]
    },
    {
     "name": "stderr",
     "output_type": "stream",
     "text": [
      " 70%|███████   | 700/1000 [3:08:44<1:11:45, 14.35s/it]"
     ]
    },
    {
     "name": "stdout",
     "output_type": "stream",
     "text": [
      "Batch 0, Loss: 0.07823061943054199\n",
      "Batch 200, Loss: 0.013462002389132977\n",
      "Batch 400, Loss: 0.006303533911705017\n",
      "Batch 600, Loss: 0.00023291893012356013\n"
     ]
    },
    {
     "name": "stderr",
     "output_type": "stream",
     "text": [
      " 70%|███████   | 701/1000 [3:08:58<1:11:13, 14.29s/it]"
     ]
    },
    {
     "name": "stdout",
     "output_type": "stream",
     "text": [
      "Batch 0, Loss: 0.0001487982226535678\n",
      "Batch 200, Loss: 0.010332097299396992\n",
      "Batch 400, Loss: 0.11676690727472305\n",
      "Batch 600, Loss: 4.284078514160683e-08\n"
     ]
    },
    {
     "name": "stderr",
     "output_type": "stream",
     "text": [
      " 70%|███████   | 702/1000 [3:09:12<1:10:55, 14.28s/it]"
     ]
    },
    {
     "name": "stdout",
     "output_type": "stream",
     "text": [
      "Batch 0, Loss: 3.0733497169421753e-07\n",
      "Batch 200, Loss: 3.94461221731035e-06\n",
      "Batch 400, Loss: 7.941143121570349e-05\n",
      "Batch 600, Loss: 0.17562922835350037\n"
     ]
    },
    {
     "name": "stderr",
     "output_type": "stream",
     "text": [
      " 70%|███████   | 703/1000 [3:09:26<1:10:21, 14.22s/it]"
     ]
    },
    {
     "name": "stdout",
     "output_type": "stream",
     "text": [
      "Batch 0, Loss: 2.4231021598097868e-05\n",
      "Batch 200, Loss: 0.610352635383606\n",
      "Batch 400, Loss: 0.0002701908815652132\n",
      "Batch 600, Loss: 0.009418513625860214\n"
     ]
    },
    {
     "name": "stderr",
     "output_type": "stream",
     "text": [
      " 70%|███████   | 704/1000 [3:09:41<1:11:18, 14.46s/it]"
     ]
    },
    {
     "name": "stdout",
     "output_type": "stream",
     "text": [
      "Batch 0, Loss: 0.006231081206351519\n",
      "Batch 200, Loss: 0.08848952502012253\n",
      "Batch 400, Loss: 0.06954257190227509\n",
      "Batch 600, Loss: 9.313223969797946e-09\n"
     ]
    },
    {
     "name": "stderr",
     "output_type": "stream",
     "text": [
      " 70%|███████   | 705/1000 [3:10:01<1:19:12, 16.11s/it]"
     ]
    },
    {
     "name": "stdout",
     "output_type": "stream",
     "text": [
      "Batch 0, Loss: 2.1456205558934016e-06\n",
      "Batch 200, Loss: 7.4505797087454084e-09\n",
      "Batch 400, Loss: 0.10242018103599548\n",
      "Batch 600, Loss: 1.346637304777687e-06\n"
     ]
    },
    {
     "name": "stderr",
     "output_type": "stream",
     "text": [
      " 71%|███████   | 706/1000 [3:10:17<1:18:07, 15.94s/it]"
     ]
    },
    {
     "name": "stdout",
     "output_type": "stream",
     "text": [
      "Batch 0, Loss: 0.05212203413248062\n",
      "Batch 200, Loss: 0.0004189984465483576\n",
      "Batch 400, Loss: 0.0\n",
      "Batch 600, Loss: 0.024881619960069656\n"
     ]
    },
    {
     "name": "stderr",
     "output_type": "stream",
     "text": [
      " 71%|███████   | 707/1000 [3:10:32<1:16:53, 15.75s/it]"
     ]
    },
    {
     "name": "stdout",
     "output_type": "stream",
     "text": [
      "Batch 0, Loss: 8.747566425881814e-06\n",
      "Batch 200, Loss: 0.004068075213581324\n",
      "Batch 400, Loss: 1.8811590507539222e-06\n",
      "Batch 600, Loss: 3.83717633667402e-05\n"
     ]
    },
    {
     "name": "stderr",
     "output_type": "stream",
     "text": [
      " 71%|███████   | 708/1000 [3:10:48<1:16:06, 15.64s/it]"
     ]
    },
    {
     "name": "stdout",
     "output_type": "stream",
     "text": [
      "Batch 0, Loss: 0.17758864164352417\n",
      "Batch 200, Loss: 0.0813145637512207\n",
      "Batch 400, Loss: 0.0019274395890533924\n",
      "Batch 600, Loss: 0.012579639442265034\n"
     ]
    },
    {
     "name": "stderr",
     "output_type": "stream",
     "text": [
      " 71%|███████   | 709/1000 [3:11:03<1:15:29, 15.56s/it]"
     ]
    },
    {
     "name": "stdout",
     "output_type": "stream",
     "text": [
      "Batch 0, Loss: 6.634352030232549e-05\n",
      "Batch 200, Loss: 2.1698397176805884e-06\n",
      "Batch 400, Loss: 1.4528563951898832e-07\n",
      "Batch 600, Loss: 0.23923520743846893\n"
     ]
    },
    {
     "name": "stderr",
     "output_type": "stream",
     "text": [
      " 71%|███████   | 710/1000 [3:11:19<1:15:12, 15.56s/it]"
     ]
    },
    {
     "name": "stdout",
     "output_type": "stream",
     "text": [
      "Batch 0, Loss: 0.0023034950718283653\n",
      "Batch 200, Loss: 0.39566490054130554\n",
      "Batch 400, Loss: 0.0002970634086523205\n",
      "Batch 600, Loss: 0.21886062622070312\n"
     ]
    },
    {
     "name": "stderr",
     "output_type": "stream",
     "text": [
      " 71%|███████   | 711/1000 [3:11:34<1:14:35, 15.48s/it]"
     ]
    },
    {
     "name": "stdout",
     "output_type": "stream",
     "text": [
      "Batch 0, Loss: 0.04636282101273537\n",
      "Batch 200, Loss: 0.00027688173577189445\n",
      "Batch 400, Loss: 0.05377507582306862\n",
      "Batch 600, Loss: 0.002516807522624731\n"
     ]
    },
    {
     "name": "stderr",
     "output_type": "stream",
     "text": [
      " 71%|███████   | 712/1000 [3:11:50<1:15:17, 15.69s/it]"
     ]
    },
    {
     "name": "stdout",
     "output_type": "stream",
     "text": [
      "Batch 0, Loss: 0.09650425612926483\n",
      "Batch 200, Loss: 0.02471720054745674\n",
      "Batch 400, Loss: 0.0011805066606029868\n",
      "Batch 600, Loss: 0.17681895196437836\n"
     ]
    },
    {
     "name": "stderr",
     "output_type": "stream",
     "text": [
      " 71%|███████▏  | 713/1000 [3:12:06<1:14:43, 15.62s/it]"
     ]
    },
    {
     "name": "stdout",
     "output_type": "stream",
     "text": [
      "Batch 0, Loss: 0.007681621238589287\n",
      "Batch 200, Loss: 1.1175867342672063e-08\n",
      "Batch 400, Loss: 0.07528011500835419\n",
      "Batch 600, Loss: 0.0019708697218447924\n"
     ]
    },
    {
     "name": "stderr",
     "output_type": "stream",
     "text": [
      " 71%|███████▏  | 714/1000 [3:12:21<1:14:35, 15.65s/it]"
     ]
    },
    {
     "name": "stdout",
     "output_type": "stream",
     "text": [
      "Batch 0, Loss: 9.592329206498107e-07\n",
      "Batch 200, Loss: 0.014815861359238625\n",
      "Batch 400, Loss: 7.060947245918214e-05\n",
      "Batch 600, Loss: 9.871555812424049e-05\n"
     ]
    },
    {
     "name": "stderr",
     "output_type": "stream",
     "text": [
      " 72%|███████▏  | 715/1000 [3:12:36<1:13:39, 15.51s/it]"
     ]
    },
    {
     "name": "stdout",
     "output_type": "stream",
     "text": [
      "Batch 0, Loss: 3.5762377592618577e-07\n",
      "Batch 200, Loss: 1.0244262966807582e-06\n",
      "Batch 400, Loss: 0.0004232657956890762\n",
      "Batch 600, Loss: 0.06076306104660034\n"
     ]
    },
    {
     "name": "stderr",
     "output_type": "stream",
     "text": [
      " 72%|███████▏  | 716/1000 [3:12:52<1:13:16, 15.48s/it]"
     ]
    },
    {
     "name": "stdout",
     "output_type": "stream",
     "text": [
      "Batch 0, Loss: 0.11178456246852875\n",
      "Batch 200, Loss: 0.1948954164981842\n",
      "Batch 400, Loss: 3.7252898543727042e-09\n",
      "Batch 600, Loss: 1.6763802790364934e-08\n"
     ]
    },
    {
     "name": "stderr",
     "output_type": "stream",
     "text": [
      " 72%|███████▏  | 717/1000 [3:13:07<1:12:36, 15.39s/it]"
     ]
    },
    {
     "name": "stdout",
     "output_type": "stream",
     "text": [
      "Batch 0, Loss: 0.14215944707393646\n",
      "Batch 200, Loss: 0.1931014060974121\n",
      "Batch 400, Loss: 1.2143975709477672e-06\n",
      "Batch 600, Loss: 0.0024333344772458076\n"
     ]
    },
    {
     "name": "stderr",
     "output_type": "stream",
     "text": [
      " 72%|███████▏  | 718/1000 [3:13:23<1:12:47, 15.49s/it]"
     ]
    },
    {
     "name": "stdout",
     "output_type": "stream",
     "text": [
      "Batch 0, Loss: 1.6129941968756611e-06\n",
      "Batch 200, Loss: 0.09171362966299057\n",
      "Batch 400, Loss: 0.007577953860163689\n",
      "Batch 600, Loss: 6.33298071761601e-08\n"
     ]
    },
    {
     "name": "stderr",
     "output_type": "stream",
     "text": [
      " 72%|███████▏  | 719/1000 [3:13:38<1:12:12, 15.42s/it]"
     ]
    },
    {
     "name": "stdout",
     "output_type": "stream",
     "text": [
      "Batch 0, Loss: 0.0036142815370112658\n",
      "Batch 200, Loss: 2.309663500454917e-07\n",
      "Batch 400, Loss: 0.031110119074583054\n",
      "Batch 600, Loss: 7.4505797087454084e-09\n"
     ]
    },
    {
     "name": "stderr",
     "output_type": "stream",
     "text": [
      " 72%|███████▏  | 720/1000 [3:13:53<1:11:55, 15.41s/it]"
     ]
    },
    {
     "name": "stdout",
     "output_type": "stream",
     "text": [
      "Batch 0, Loss: 2.980230462412692e-08\n",
      "Batch 200, Loss: 0.33985358476638794\n",
      "Batch 400, Loss: 0.08100005239248276\n",
      "Batch 600, Loss: 4.1603219870012254e-05\n"
     ]
    },
    {
     "name": "stderr",
     "output_type": "stream",
     "text": [
      " 72%|███████▏  | 721/1000 [3:14:09<1:11:17, 15.33s/it]"
     ]
    },
    {
     "name": "stdout",
     "output_type": "stream",
     "text": [
      "Batch 0, Loss: 0.26609620451927185\n",
      "Batch 200, Loss: 0.34513193368911743\n",
      "Batch 400, Loss: 0.417695552110672\n",
      "Batch 600, Loss: 0.12168830633163452\n"
     ]
    },
    {
     "name": "stderr",
     "output_type": "stream",
     "text": [
      " 72%|███████▏  | 722/1000 [3:14:25<1:12:08, 15.57s/it]"
     ]
    },
    {
     "name": "stdout",
     "output_type": "stream",
     "text": [
      "Batch 0, Loss: 2.3096632162378228e-07\n",
      "Batch 200, Loss: 0.001283485908061266\n",
      "Batch 400, Loss: 4.20531887357356e-06\n",
      "Batch 600, Loss: 8.381886118513648e-08\n"
     ]
    },
    {
     "name": "stderr",
     "output_type": "stream",
     "text": [
      " 72%|███████▏  | 723/1000 [3:14:40<1:11:29, 15.49s/it]"
     ]
    },
    {
     "name": "stdout",
     "output_type": "stream",
     "text": [
      "Batch 0, Loss: 1.4714851204189472e-07\n",
      "Batch 200, Loss: 0.0004119162622373551\n",
      "Batch 400, Loss: 0.04872019216418266\n",
      "Batch 600, Loss: 0.002175640081986785\n"
     ]
    },
    {
     "name": "stderr",
     "output_type": "stream",
     "text": [
      " 72%|███████▏  | 724/1000 [3:14:55<1:11:00, 15.44s/it]"
     ]
    },
    {
     "name": "stdout",
     "output_type": "stream",
     "text": [
      "Batch 0, Loss: 0.00042294248123653233\n",
      "Batch 200, Loss: 7.543550282207434e-07\n",
      "Batch 400, Loss: 0.18514172732830048\n",
      "Batch 600, Loss: 0.041855473071336746\n"
     ]
    },
    {
     "name": "stderr",
     "output_type": "stream",
     "text": [
      " 72%|███████▎  | 725/1000 [3:15:11<1:10:59, 15.49s/it]"
     ]
    },
    {
     "name": "stdout",
     "output_type": "stream",
     "text": [
      "Batch 0, Loss: 2.589064536095975e-07\n",
      "Batch 200, Loss: 0.05189182981848717\n",
      "Batch 400, Loss: 4.721539880847558e-06\n",
      "Batch 600, Loss: 1.0654006246113568e-06\n"
     ]
    },
    {
     "name": "stderr",
     "output_type": "stream",
     "text": [
      " 73%|███████▎  | 726/1000 [3:15:26<1:10:31, 15.44s/it]"
     ]
    },
    {
     "name": "stdout",
     "output_type": "stream",
     "text": [
      "Batch 0, Loss: 0.14139358699321747\n",
      "Batch 200, Loss: 1.2042954040225595e-05\n",
      "Batch 400, Loss: 0.003574090078473091\n",
      "Batch 600, Loss: 0.0004977008211426437\n"
     ]
    },
    {
     "name": "stderr",
     "output_type": "stream",
     "text": [
      " 73%|███████▎  | 727/1000 [3:15:42<1:10:40, 15.53s/it]"
     ]
    },
    {
     "name": "stdout",
     "output_type": "stream",
     "text": [
      "Batch 0, Loss: 9.685746249488147e-08\n",
      "Batch 200, Loss: 7.562225619039964e-07\n",
      "Batch 400, Loss: 8.0093599308384e-08\n",
      "Batch 600, Loss: 0.0018902724841609597\n"
     ]
    },
    {
     "name": "stderr",
     "output_type": "stream",
     "text": [
      " 73%|███████▎  | 728/1000 [3:15:57<1:10:21, 15.52s/it]"
     ]
    },
    {
     "name": "stdout",
     "output_type": "stream",
     "text": [
      "Batch 0, Loss: 5.103584044263698e-07\n",
      "Batch 200, Loss: 1.41560619226766e-07\n",
      "Batch 400, Loss: 3.7252898543727042e-09\n",
      "Batch 600, Loss: 0.15553060173988342\n"
     ]
    },
    {
     "name": "stderr",
     "output_type": "stream",
     "text": [
      " 73%|███████▎  | 729/1000 [3:16:13<1:09:50, 15.46s/it]"
     ]
    },
    {
     "name": "stdout",
     "output_type": "stream",
     "text": [
      "Batch 0, Loss: 0.4486304819583893\n",
      "Batch 200, Loss: 1.9258623069617897e-06\n",
      "Batch 400, Loss: 6.109431751610828e-07\n",
      "Batch 600, Loss: 0.055277269333601\n"
     ]
    },
    {
     "name": "stderr",
     "output_type": "stream",
     "text": [
      " 73%|███████▎  | 730/1000 [3:16:29<1:10:42, 15.71s/it]"
     ]
    },
    {
     "name": "stdout",
     "output_type": "stream",
     "text": [
      "Batch 0, Loss: 1.187556244985899e-05\n",
      "Batch 200, Loss: 0.0004258667177055031\n",
      "Batch 400, Loss: 0.14983303844928741\n",
      "Batch 600, Loss: 0.08952097594738007\n"
     ]
    },
    {
     "name": "stderr",
     "output_type": "stream",
     "text": [
      " 73%|███████▎  | 731/1000 [3:16:44<1:09:49, 15.58s/it]"
     ]
    },
    {
     "name": "stdout",
     "output_type": "stream",
     "text": [
      "Batch 0, Loss: 7.810478564351797e-06\n",
      "Batch 200, Loss: 0.05219835415482521\n",
      "Batch 400, Loss: 0.0573902428150177\n",
      "Batch 600, Loss: 0.0650060847401619\n"
     ]
    },
    {
     "name": "stderr",
     "output_type": "stream",
     "text": [
      " 73%|███████▎  | 732/1000 [3:17:00<1:09:28, 15.55s/it]"
     ]
    },
    {
     "name": "stdout",
     "output_type": "stream",
     "text": [
      "Batch 0, Loss: 3.12149386445526e-05\n",
      "Batch 200, Loss: 2.621110252221115e-05\n",
      "Batch 400, Loss: 0.06477603316307068\n",
      "Batch 600, Loss: 0.00012683487148024142\n"
     ]
    },
    {
     "name": "stderr",
     "output_type": "stream",
     "text": [
      " 73%|███████▎  | 733/1000 [3:17:15<1:09:11, 15.55s/it]"
     ]
    },
    {
     "name": "stdout",
     "output_type": "stream",
     "text": [
      "Batch 0, Loss: 0.0065397354774177074\n",
      "Batch 200, Loss: 0.00013341085286810994\n",
      "Batch 400, Loss: 0.14191357791423798\n",
      "Batch 600, Loss: 2.9055570394120878e-06\n"
     ]
    },
    {
     "name": "stderr",
     "output_type": "stream",
     "text": [
      " 73%|███████▎  | 734/1000 [3:17:31<1:08:39, 15.49s/it]"
     ]
    },
    {
     "name": "stdout",
     "output_type": "stream",
     "text": [
      "Batch 0, Loss: 9.126939914949617e-08\n",
      "Batch 200, Loss: 0.00020790888811461627\n",
      "Batch 400, Loss: 5.252256869425764e-06\n",
      "Batch 600, Loss: 0.0\n"
     ]
    },
    {
     "name": "stderr",
     "output_type": "stream",
     "text": [
      " 74%|███████▎  | 735/1000 [3:17:46<1:08:22, 15.48s/it]"
     ]
    },
    {
     "name": "stdout",
     "output_type": "stream",
     "text": [
      "Batch 0, Loss: 0.33535975217819214\n",
      "Batch 200, Loss: 2.3299953681998886e-06\n",
      "Batch 400, Loss: 0.0005531562492251396\n",
      "Batch 600, Loss: 1.0244522741231776e-07\n"
     ]
    },
    {
     "name": "stderr",
     "output_type": "stream",
     "text": [
      " 74%|███████▎  | 736/1000 [3:18:02<1:07:59, 15.45s/it]"
     ]
    },
    {
     "name": "stdout",
     "output_type": "stream",
     "text": [
      "Batch 0, Loss: 6.332545581244631e-06\n",
      "Batch 200, Loss: 0.0001240697893081233\n",
      "Batch 400, Loss: 0.0034680995158851147\n",
      "Batch 600, Loss: 0.06516231596469879\n"
     ]
    },
    {
     "name": "stderr",
     "output_type": "stream",
     "text": [
      " 74%|███████▎  | 737/1000 [3:18:17<1:07:53, 15.49s/it]"
     ]
    },
    {
     "name": "stdout",
     "output_type": "stream",
     "text": [
      "Batch 0, Loss: 5.911324933549622e-06\n",
      "Batch 200, Loss: 0.0655442625284195\n",
      "Batch 400, Loss: 5.79272295908595e-07\n",
      "Batch 600, Loss: 0.000437985232565552\n"
     ]
    },
    {
     "name": "stderr",
     "output_type": "stream",
     "text": [
      " 74%|███████▍  | 738/1000 [3:18:32<1:07:23, 15.44s/it]"
     ]
    },
    {
     "name": "stdout",
     "output_type": "stream",
     "text": [
      "Batch 0, Loss: 0.000165977849974297\n",
      "Batch 200, Loss: 0.016538195312023163\n",
      "Batch 400, Loss: 0.022676289081573486\n",
      "Batch 600, Loss: 0.00012665749818552285\n"
     ]
    },
    {
     "name": "stderr",
     "output_type": "stream",
     "text": [
      " 74%|███████▍  | 739/1000 [3:18:48<1:07:03, 15.41s/it]"
     ]
    },
    {
     "name": "stdout",
     "output_type": "stream",
     "text": [
      "Batch 0, Loss: 0.02160404995083809\n",
      "Batch 200, Loss: 0.5016990900039673\n",
      "Batch 400, Loss: 0.0\n",
      "Batch 600, Loss: 0.0004856426967307925\n"
     ]
    },
    {
     "name": "stderr",
     "output_type": "stream",
     "text": [
      " 74%|███████▍  | 740/1000 [3:19:03<1:06:44, 15.40s/it]"
     ]
    },
    {
     "name": "stdout",
     "output_type": "stream",
     "text": [
      "Batch 0, Loss: 5.788125690742163e-06\n",
      "Batch 200, Loss: 8.730416993785184e-06\n",
      "Batch 400, Loss: 1.1920901954454166e-07\n",
      "Batch 600, Loss: 0.29290303587913513\n"
     ]
    },
    {
     "name": "stderr",
     "output_type": "stream",
     "text": [
      " 74%|███████▍  | 741/1000 [3:19:19<1:06:38, 15.44s/it]"
     ]
    },
    {
     "name": "stdout",
     "output_type": "stream",
     "text": [
      "Batch 0, Loss: 3.594307054299861e-05\n",
      "Batch 200, Loss: 0.0\n",
      "Batch 400, Loss: 0.005943187512457371\n",
      "Batch 600, Loss: 5.0291347974962264e-08\n"
     ]
    },
    {
     "name": "stderr",
     "output_type": "stream",
     "text": [
      " 74%|███████▍  | 742/1000 [3:19:35<1:07:22, 15.67s/it]"
     ]
    },
    {
     "name": "stdout",
     "output_type": "stream",
     "text": [
      "Batch 0, Loss: 0.0021856073290109634\n",
      "Batch 200, Loss: 2.756690378191706e-07\n",
      "Batch 400, Loss: 0.3229031264781952\n",
      "Batch 600, Loss: 0.0006403359584510326\n"
     ]
    },
    {
     "name": "stderr",
     "output_type": "stream",
     "text": [
      " 74%|███████▍  | 743/1000 [3:19:50<1:06:48, 15.60s/it]"
     ]
    },
    {
     "name": "stdout",
     "output_type": "stream",
     "text": [
      "Batch 0, Loss: 0.00018492096569389105\n",
      "Batch 200, Loss: 0.20715199410915375\n",
      "Batch 400, Loss: 0.22908994555473328\n",
      "Batch 600, Loss: 3.7252898543727042e-09\n"
     ]
    },
    {
     "name": "stderr",
     "output_type": "stream",
     "text": [
      " 74%|███████▍  | 744/1000 [3:20:06<1:06:12, 15.52s/it]"
     ]
    },
    {
     "name": "stdout",
     "output_type": "stream",
     "text": [
      "Batch 0, Loss: 0.1144915521144867\n",
      "Batch 200, Loss: 0.40069010853767395\n",
      "Batch 400, Loss: 0.0\n",
      "Batch 600, Loss: 4.285398517822614e-06\n"
     ]
    },
    {
     "name": "stderr",
     "output_type": "stream",
     "text": [
      " 74%|███████▍  | 745/1000 [3:20:21<1:06:13, 15.58s/it]"
     ]
    },
    {
     "name": "stdout",
     "output_type": "stream",
     "text": [
      "Batch 0, Loss: 2.4491905605827924e-06\n",
      "Batch 200, Loss: 5.601208977168426e-05\n",
      "Batch 400, Loss: 8.227029866247904e-06\n",
      "Batch 600, Loss: 0.059930481016635895\n"
     ]
    },
    {
     "name": "stderr",
     "output_type": "stream",
     "text": [
      " 75%|███████▍  | 746/1000 [3:20:37<1:05:38, 15.51s/it]"
     ]
    },
    {
     "name": "stdout",
     "output_type": "stream",
     "text": [
      "Batch 0, Loss: 7.469030265383481e-07\n",
      "Batch 200, Loss: 4.2294982449675445e-06\n",
      "Batch 400, Loss: 0.18982474505901337\n",
      "Batch 600, Loss: 0.19062189757823944\n"
     ]
    },
    {
     "name": "stderr",
     "output_type": "stream",
     "text": [
      " 75%|███████▍  | 747/1000 [3:20:52<1:05:12, 15.47s/it]"
     ]
    },
    {
     "name": "stdout",
     "output_type": "stream",
     "text": [
      "Batch 0, Loss: 0.0028958753682672977\n",
      "Batch 200, Loss: 0.004753116052597761\n",
      "Batch 400, Loss: 0.0001431200362276286\n",
      "Batch 600, Loss: 0.01766166090965271\n"
     ]
    },
    {
     "name": "stderr",
     "output_type": "stream",
     "text": [
      " 75%|███████▍  | 748/1000 [3:21:08<1:05:29, 15.59s/it]"
     ]
    },
    {
     "name": "stdout",
     "output_type": "stream",
     "text": [
      "Batch 0, Loss: 0.1617736667394638\n",
      "Batch 200, Loss: 0.12808434665203094\n",
      "Batch 400, Loss: 1.551532477606088e-06\n",
      "Batch 600, Loss: 5.7741893044749304e-08\n"
     ]
    },
    {
     "name": "stderr",
     "output_type": "stream",
     "text": [
      " 75%|███████▍  | 749/1000 [3:21:24<1:05:03, 15.55s/it]"
     ]
    },
    {
     "name": "stdout",
     "output_type": "stream",
     "text": [
      "Batch 0, Loss: 0.003496224991977215\n",
      "Batch 200, Loss: 0.00017584164743311703\n",
      "Batch 400, Loss: 9.470785698795225e-06\n",
      "Batch 600, Loss: 0.0003573939320631325\n"
     ]
    },
    {
     "name": "stderr",
     "output_type": "stream",
     "text": [
      " 75%|███████▌  | 750/1000 [3:21:39<1:04:28, 15.48s/it]"
     ]
    },
    {
     "name": "stdout",
     "output_type": "stream",
     "text": [
      "Batch 0, Loss: 0.23480631411075592\n",
      "Batch 200, Loss: 0.036385677754879\n",
      "Batch 400, Loss: 0.1678926944732666\n",
      "Batch 600, Loss: 0.0022564383689314127\n"
     ]
    },
    {
     "name": "stderr",
     "output_type": "stream",
     "text": [
      " 75%|███████▌  | 751/1000 [3:21:54<1:03:58, 15.41s/it]"
     ]
    },
    {
     "name": "stdout",
     "output_type": "stream",
     "text": [
      "Batch 0, Loss: 0.4468199908733368\n",
      "Batch 200, Loss: 0.00019486788369249552\n",
      "Batch 400, Loss: 0.03156200423836708\n",
      "Batch 600, Loss: 0.14183937013149261\n"
     ]
    },
    {
     "name": "stderr",
     "output_type": "stream",
     "text": [
      " 75%|███████▌  | 752/1000 [3:22:09<1:03:36, 15.39s/it]"
     ]
    },
    {
     "name": "stdout",
     "output_type": "stream",
     "text": [
      "Batch 0, Loss: 0.044134438037872314\n",
      "Batch 200, Loss: 0.003065731842070818\n",
      "Batch 400, Loss: 9.275197226088494e-05\n",
      "Batch 600, Loss: 0.1057458445429802\n"
     ]
    },
    {
     "name": "stderr",
     "output_type": "stream",
     "text": [
      " 75%|███████▌  | 753/1000 [3:22:25<1:03:15, 15.37s/it]"
     ]
    },
    {
     "name": "stdout",
     "output_type": "stream",
     "text": [
      "Batch 0, Loss: 3.2276532238029176e-06\n",
      "Batch 200, Loss: 0.007840472273528576\n",
      "Batch 400, Loss: 0.29028478264808655\n",
      "Batch 600, Loss: 1.814730239857454e-05\n"
     ]
    },
    {
     "name": "stderr",
     "output_type": "stream",
     "text": [
      " 75%|███████▌  | 754/1000 [3:22:40<1:02:48, 15.32s/it]"
     ]
    },
    {
     "name": "stdout",
     "output_type": "stream",
     "text": [
      "Batch 0, Loss: 0.050715114921331406\n",
      "Batch 200, Loss: 0.034146688878536224\n",
      "Batch 400, Loss: 0.0979142040014267\n",
      "Batch 600, Loss: 0.0006126099615357816\n"
     ]
    },
    {
     "name": "stderr",
     "output_type": "stream",
     "text": [
      " 76%|███████▌  | 755/1000 [3:22:59<1:06:34, 16.30s/it]"
     ]
    },
    {
     "name": "stdout",
     "output_type": "stream",
     "text": [
      "Batch 0, Loss: 2.411944706182112e-06\n",
      "Batch 200, Loss: 0.11772535741329193\n",
      "Batch 400, Loss: 0.00041986300493590534\n",
      "Batch 600, Loss: 0.33870598673820496\n"
     ]
    },
    {
     "name": "stderr",
     "output_type": "stream",
     "text": [
      " 76%|███████▌  | 756/1000 [3:23:21<1:14:18, 18.27s/it]"
     ]
    },
    {
     "name": "stdout",
     "output_type": "stream",
     "text": [
      "Batch 0, Loss: 0.0007813138654455543\n",
      "Batch 200, Loss: 2.7939652369468604e-08\n",
      "Batch 400, Loss: 0.2617533802986145\n",
      "Batch 600, Loss: 0.16735616326332092\n"
     ]
    },
    {
     "name": "stderr",
     "output_type": "stream",
     "text": [
      " 76%|███████▌  | 757/1000 [3:23:42<1:16:42, 18.94s/it]"
     ]
    },
    {
     "name": "stdout",
     "output_type": "stream",
     "text": [
      "Batch 0, Loss: 5.73218767385697e-06\n",
      "Batch 200, Loss: 0.0738605260848999\n",
      "Batch 400, Loss: 0.0010691711213439703\n",
      "Batch 600, Loss: 0.15242090821266174\n"
     ]
    },
    {
     "name": "stderr",
     "output_type": "stream",
     "text": [
      " 76%|███████▌  | 758/1000 [3:24:03<1:18:41, 19.51s/it]"
     ]
    },
    {
     "name": "stdout",
     "output_type": "stream",
     "text": [
      "Batch 0, Loss: 0.1985996812582016\n",
      "Batch 200, Loss: 0.0034300198312848806\n",
      "Batch 400, Loss: 0.01135043054819107\n",
      "Batch 600, Loss: 0.3816516399383545\n"
     ]
    },
    {
     "name": "stderr",
     "output_type": "stream",
     "text": [
      " 76%|███████▌  | 759/1000 [3:24:24<1:20:10, 19.96s/it]"
     ]
    },
    {
     "name": "stdout",
     "output_type": "stream",
     "text": [
      "Batch 0, Loss: 0.0011450914898887277\n",
      "Batch 200, Loss: 0.0001828560489229858\n",
      "Batch 400, Loss: 0.09988230466842651\n",
      "Batch 600, Loss: 0.05257650464773178\n"
     ]
    },
    {
     "name": "stderr",
     "output_type": "stream",
     "text": [
      " 76%|███████▌  | 760/1000 [3:24:44<1:20:21, 20.09s/it]"
     ]
    },
    {
     "name": "stdout",
     "output_type": "stream",
     "text": [
      "Batch 0, Loss: 0.004745147656649351\n",
      "Batch 200, Loss: 0.0\n",
      "Batch 400, Loss: 0.15980885922908783\n",
      "Batch 600, Loss: 9.602711543266196e-06\n"
     ]
    },
    {
     "name": "stderr",
     "output_type": "stream",
     "text": [
      " 76%|███████▌  | 761/1000 [3:25:04<1:19:44, 20.02s/it]"
     ]
    },
    {
     "name": "stdout",
     "output_type": "stream",
     "text": [
      "Batch 0, Loss: 0.5562211871147156\n",
      "Batch 200, Loss: 5.457459337776527e-07\n",
      "Batch 400, Loss: 3.3713635616550164e-07\n",
      "Batch 600, Loss: 0.34220176935195923\n"
     ]
    },
    {
     "name": "stderr",
     "output_type": "stream",
     "text": [
      " 76%|███████▌  | 762/1000 [3:25:26<1:21:38, 20.58s/it]"
     ]
    },
    {
     "name": "stdout",
     "output_type": "stream",
     "text": [
      "Batch 0, Loss: 6.467616185545921e-05\n",
      "Batch 200, Loss: 3.1867996312939795e-06\n",
      "Batch 400, Loss: 0.381442129611969\n",
      "Batch 600, Loss: 2.0302744019318197e-07\n"
     ]
    },
    {
     "name": "stderr",
     "output_type": "stream",
     "text": [
      " 76%|███████▋  | 763/1000 [3:25:48<1:22:34, 20.90s/it]"
     ]
    },
    {
     "name": "stdout",
     "output_type": "stream",
     "text": [
      "Batch 0, Loss: 1.106374270420929e-06\n",
      "Batch 200, Loss: 0.05332724377512932\n",
      "Batch 400, Loss: 2.142027284435244e-07\n",
      "Batch 600, Loss: 0.0004814411804545671\n"
     ]
    },
    {
     "name": "stderr",
     "output_type": "stream",
     "text": [
      " 76%|███████▋  | 764/1000 [3:26:08<1:21:10, 20.64s/it]"
     ]
    },
    {
     "name": "stdout",
     "output_type": "stream",
     "text": [
      "Batch 0, Loss: 0.004858505446463823\n",
      "Batch 200, Loss: 0.04028202220797539\n",
      "Batch 400, Loss: 1.1175867342672063e-08\n",
      "Batch 600, Loss: 0.00014321734488476068\n"
     ]
    },
    {
     "name": "stderr",
     "output_type": "stream",
     "text": [
      " 76%|███████▋  | 765/1000 [3:26:28<1:20:28, 20.55s/it]"
     ]
    },
    {
     "name": "stdout",
     "output_type": "stream",
     "text": [
      "Batch 0, Loss: 0.48930200934410095\n",
      "Batch 200, Loss: 0.05795986205339432\n",
      "Batch 400, Loss: 0.020176531746983528\n",
      "Batch 600, Loss: 1.4025109749127296e-06\n"
     ]
    },
    {
     "name": "stderr",
     "output_type": "stream",
     "text": [
      " 77%|███████▋  | 766/1000 [3:26:47<1:18:33, 20.14s/it]"
     ]
    },
    {
     "name": "stdout",
     "output_type": "stream",
     "text": [
      "Batch 0, Loss: 6.405262683983892e-05\n",
      "Batch 200, Loss: 6.685519565508002e-06\n",
      "Batch 400, Loss: 0.00029595839441753924\n",
      "Batch 600, Loss: 0.0004291417426429689\n"
     ]
    },
    {
     "name": "stderr",
     "output_type": "stream",
     "text": [
      " 77%|███████▋  | 767/1000 [3:27:08<1:19:23, 20.44s/it]"
     ]
    },
    {
     "name": "stdout",
     "output_type": "stream",
     "text": [
      "Batch 0, Loss: 0.017295069992542267\n",
      "Batch 200, Loss: 0.18596340715885162\n",
      "Batch 400, Loss: 0.0007139850640669465\n",
      "Batch 600, Loss: 0.46806925535202026\n"
     ]
    },
    {
     "name": "stderr",
     "output_type": "stream",
     "text": [
      " 77%|███████▋  | 768/1000 [3:27:29<1:19:06, 20.46s/it]"
     ]
    },
    {
     "name": "stdout",
     "output_type": "stream",
     "text": [
      "Batch 0, Loss: 4.915024874208029e-06\n",
      "Batch 200, Loss: 3.3170683764183195e-06\n",
      "Batch 400, Loss: 0.00013739198038820177\n",
      "Batch 600, Loss: 0.30870336294174194\n"
     ]
    },
    {
     "name": "stderr",
     "output_type": "stream",
     "text": [
      " 77%|███████▋  | 769/1000 [3:27:51<1:21:06, 21.07s/it]"
     ]
    },
    {
     "name": "stdout",
     "output_type": "stream",
     "text": [
      "Batch 0, Loss: 0.0567266009747982\n",
      "Batch 200, Loss: 0.29555243253707886\n",
      "Batch 400, Loss: 2.3526285076513886e-05\n",
      "Batch 600, Loss: 0.0011004682164639235\n"
     ]
    },
    {
     "name": "stderr",
     "output_type": "stream",
     "text": [
      " 77%|███████▋  | 770/1000 [3:28:13<1:21:19, 21.21s/it]"
     ]
    },
    {
     "name": "stdout",
     "output_type": "stream",
     "text": [
      "Batch 0, Loss: 0.001038548187352717\n",
      "Batch 200, Loss: 0.006850290112197399\n",
      "Batch 400, Loss: 0.006538814399391413\n",
      "Batch 600, Loss: 4.1536557660037943e-07\n"
     ]
    },
    {
     "name": "stderr",
     "output_type": "stream",
     "text": [
      " 77%|███████▋  | 771/1000 [3:28:34<1:21:28, 21.35s/it]"
     ]
    },
    {
     "name": "stdout",
     "output_type": "stream",
     "text": [
      "Batch 0, Loss: 0.1093827486038208\n",
      "Batch 200, Loss: 0.1965370923280716\n",
      "Batch 400, Loss: 0.0010121094528585672\n",
      "Batch 600, Loss: 0.0\n"
     ]
    },
    {
     "name": "stderr",
     "output_type": "stream",
     "text": [
      " 77%|███████▋  | 772/1000 [3:28:55<1:20:31, 21.19s/it]"
     ]
    },
    {
     "name": "stdout",
     "output_type": "stream",
     "text": [
      "Batch 0, Loss: 0.15156123042106628\n",
      "Batch 200, Loss: 8.568149212351273e-08\n",
      "Batch 400, Loss: 0.0403624027967453\n",
      "Batch 600, Loss: 2.888515700760763e-05\n"
     ]
    },
    {
     "name": "stderr",
     "output_type": "stream",
     "text": [
      " 77%|███████▋  | 773/1000 [3:29:17<1:20:38, 21.32s/it]"
     ]
    },
    {
     "name": "stdout",
     "output_type": "stream",
     "text": [
      "Batch 0, Loss: 0.02306242659687996\n",
      "Batch 200, Loss: 0.0745019018650055\n",
      "Batch 400, Loss: 0.03995233029127121\n",
      "Batch 600, Loss: 0.0207348745316267\n"
     ]
    },
    {
     "name": "stderr",
     "output_type": "stream",
     "text": [
      " 77%|███████▋  | 774/1000 [3:29:35<1:16:26, 20.29s/it]"
     ]
    },
    {
     "name": "stdout",
     "output_type": "stream",
     "text": [
      "Batch 0, Loss: 0.015142759308218956\n",
      "Batch 200, Loss: 0.011926613748073578\n",
      "Batch 400, Loss: 0.013654000125825405\n",
      "Batch 600, Loss: 0.007522989064455032\n"
     ]
    },
    {
     "name": "stderr",
     "output_type": "stream",
     "text": [
      " 78%|███████▊  | 775/1000 [3:29:50<1:10:49, 18.89s/it]"
     ]
    },
    {
     "name": "stdout",
     "output_type": "stream",
     "text": [
      "Batch 0, Loss: 1.9557721486762603e-07\n",
      "Batch 200, Loss: 0.17740267515182495\n",
      "Batch 400, Loss: 0.001459492021240294\n",
      "Batch 600, Loss: 0.0003419927670620382\n"
     ]
    },
    {
     "name": "stderr",
     "output_type": "stream",
     "text": [
      " 78%|███████▊  | 776/1000 [3:30:10<1:11:16, 19.09s/it]"
     ]
    },
    {
     "name": "stdout",
     "output_type": "stream",
     "text": [
      "Batch 0, Loss: 4.89436706629931e-06\n",
      "Batch 200, Loss: 2.1979057862608897e-07\n",
      "Batch 400, Loss: 0.4622383713722229\n",
      "Batch 600, Loss: 6.290441524470225e-05\n"
     ]
    },
    {
     "name": "stderr",
     "output_type": "stream",
     "text": [
      " 78%|███████▊  | 777/1000 [3:30:28<1:09:38, 18.74s/it]"
     ]
    },
    {
     "name": "stdout",
     "output_type": "stream",
     "text": [
      "Batch 0, Loss: 0.03702749311923981\n",
      "Batch 200, Loss: 3.9115498395858594e-08\n",
      "Batch 400, Loss: 0.292395681142807\n",
      "Batch 600, Loss: 0.21470563113689423\n"
     ]
    },
    {
     "name": "stderr",
     "output_type": "stream",
     "text": [
      " 78%|███████▊  | 778/1000 [3:30:44<1:06:59, 18.10s/it]"
     ]
    },
    {
     "name": "stdout",
     "output_type": "stream",
     "text": [
      "Batch 0, Loss: 0.0017069767927750945\n",
      "Batch 200, Loss: 0.009298387914896011\n",
      "Batch 400, Loss: 0.001266690087504685\n",
      "Batch 600, Loss: 4.581491339195054e-06\n"
     ]
    },
    {
     "name": "stderr",
     "output_type": "stream",
     "text": [
      " 78%|███████▊  | 779/1000 [3:31:01<1:04:42, 17.57s/it]"
     ]
    },
    {
     "name": "stdout",
     "output_type": "stream",
     "text": [
      "Batch 0, Loss: 5.369160862755962e-05\n",
      "Batch 200, Loss: 1.1548357292667788e-07\n",
      "Batch 400, Loss: 0.00017108234169427305\n",
      "Batch 600, Loss: 0.18819564580917358\n"
     ]
    },
    {
     "name": "stderr",
     "output_type": "stream",
     "text": [
      " 78%|███████▊  | 780/1000 [3:31:18<1:04:03, 17.47s/it]"
     ]
    },
    {
     "name": "stdout",
     "output_type": "stream",
     "text": [
      "Batch 0, Loss: 0.010083356872200966\n",
      "Batch 200, Loss: 0.0007124390685930848\n",
      "Batch 400, Loss: 0.3632369339466095\n",
      "Batch 600, Loss: 0.08205416053533554\n"
     ]
    },
    {
     "name": "stderr",
     "output_type": "stream",
     "text": [
      " 78%|███████▊  | 781/1000 [3:31:35<1:03:29, 17.40s/it]"
     ]
    },
    {
     "name": "stdout",
     "output_type": "stream",
     "text": [
      "Batch 0, Loss: 0.007411633152514696\n",
      "Batch 200, Loss: 0.0016936701722443104\n",
      "Batch 400, Loss: 2.4773055429250235e-07\n",
      "Batch 600, Loss: 0.1279682070016861\n"
     ]
    },
    {
     "name": "stderr",
     "output_type": "stream",
     "text": [
      " 78%|███████▊  | 782/1000 [3:31:52<1:02:16, 17.14s/it]"
     ]
    },
    {
     "name": "stdout",
     "output_type": "stream",
     "text": [
      "Batch 0, Loss: 0.3715232014656067\n",
      "Batch 200, Loss: 2.0171153209957993e-06\n",
      "Batch 400, Loss: 0.05341031402349472\n",
      "Batch 600, Loss: 0.0002896281657740474\n"
     ]
    },
    {
     "name": "stderr",
     "output_type": "stream",
     "text": [
      " 78%|███████▊  | 783/1000 [3:32:08<1:01:02, 16.88s/it]"
     ]
    },
    {
     "name": "stdout",
     "output_type": "stream",
     "text": [
      "Batch 0, Loss: 7.075478788465261e-05\n",
      "Batch 200, Loss: 0.22587314248085022\n",
      "Batch 400, Loss: 1.8626440834168534e-08\n",
      "Batch 600, Loss: 0.03293076157569885\n"
     ]
    },
    {
     "name": "stderr",
     "output_type": "stream",
     "text": [
      " 78%|███████▊  | 784/1000 [3:32:25<1:00:27, 16.79s/it]"
     ]
    },
    {
     "name": "stdout",
     "output_type": "stream",
     "text": [
      "Batch 0, Loss: 0.0024929156061261892\n",
      "Batch 200, Loss: 0.00014088457101024687\n",
      "Batch 400, Loss: 0.002329466165974736\n",
      "Batch 600, Loss: 2.44374132307712e-05\n"
     ]
    },
    {
     "name": "stderr",
     "output_type": "stream",
     "text": [
      " 78%|███████▊  | 785/1000 [3:32:44<1:02:38, 17.48s/it]"
     ]
    },
    {
     "name": "stdout",
     "output_type": "stream",
     "text": [
      "Batch 0, Loss: 0.0017746684607118368\n",
      "Batch 200, Loss: 0.04561333730816841\n",
      "Batch 400, Loss: 0.2172868549823761\n",
      "Batch 600, Loss: 3.688009542202053e-07\n"
     ]
    },
    {
     "name": "stderr",
     "output_type": "stream",
     "text": [
      " 79%|███████▊  | 786/1000 [3:33:02<1:03:16, 17.74s/it]"
     ]
    },
    {
     "name": "stdout",
     "output_type": "stream",
     "text": [
      "Batch 0, Loss: 0.051257338374853134\n",
      "Batch 200, Loss: 0.00977651309221983\n",
      "Batch 400, Loss: 3.394222949282266e-05\n",
      "Batch 600, Loss: 0.0\n"
     ]
    },
    {
     "name": "stderr",
     "output_type": "stream",
     "text": [
      " 79%|███████▊  | 787/1000 [3:33:20<1:03:04, 17.77s/it]"
     ]
    },
    {
     "name": "stdout",
     "output_type": "stream",
     "text": [
      "Batch 0, Loss: 3.7017140130046755e-05\n",
      "Batch 200, Loss: 5.7741946335454486e-08\n",
      "Batch 400, Loss: 0.10762812197208405\n",
      "Batch 600, Loss: 2.086148640501051e-07\n"
     ]
    },
    {
     "name": "stderr",
     "output_type": "stream",
     "text": [
      " 79%|███████▉  | 788/1000 [3:33:37<1:02:10, 17.60s/it]"
     ]
    },
    {
     "name": "stdout",
     "output_type": "stream",
     "text": [
      "Batch 0, Loss: 0.019828079268336296\n",
      "Batch 200, Loss: 0.21247254312038422\n",
      "Batch 400, Loss: 4.3026511775678955e-07\n",
      "Batch 600, Loss: 0.0\n"
     ]
    },
    {
     "name": "stderr",
     "output_type": "stream",
     "text": [
      " 79%|███████▉  | 789/1000 [3:33:55<1:02:05, 17.66s/it]"
     ]
    },
    {
     "name": "stdout",
     "output_type": "stream",
     "text": [
      "Batch 0, Loss: 4.470343029083779e-08\n",
      "Batch 200, Loss: 0.302329957485199\n",
      "Batch 400, Loss: 7.88421239121817e-05\n",
      "Batch 600, Loss: 9.998375753639266e-05\n"
     ]
    },
    {
     "name": "stderr",
     "output_type": "stream",
     "text": [
      " 79%|███████▉  | 790/1000 [3:34:14<1:03:10, 18.05s/it]"
     ]
    },
    {
     "name": "stdout",
     "output_type": "stream",
     "text": [
      "Batch 0, Loss: 3.6635710785049014e-06\n",
      "Batch 200, Loss: 4.568400527205085e-06\n",
      "Batch 400, Loss: 0.05073417350649834\n",
      "Batch 600, Loss: 1.8626450382086546e-09\n"
     ]
    },
    {
     "name": "stderr",
     "output_type": "stream",
     "text": [
      " 79%|███████▉  | 791/1000 [3:34:34<1:05:03, 18.68s/it]"
     ]
    },
    {
     "name": "stdout",
     "output_type": "stream",
     "text": [
      "Batch 0, Loss: 0.10421842336654663\n",
      "Batch 200, Loss: 3.725290076417309e-09\n",
      "Batch 400, Loss: 9.313223969797946e-09\n",
      "Batch 600, Loss: 0.31116345524787903\n"
     ]
    },
    {
     "name": "stderr",
     "output_type": "stream",
     "text": [
      " 79%|███████▉  | 792/1000 [3:34:53<1:05:23, 18.86s/it]"
     ]
    },
    {
     "name": "stdout",
     "output_type": "stream",
     "text": [
      "Batch 0, Loss: 0.2963279187679291\n",
      "Batch 200, Loss: 0.0007678240071982145\n",
      "Batch 400, Loss: 0.01252429187297821\n",
      "Batch 600, Loss: 0.4097810387611389\n"
     ]
    },
    {
     "name": "stderr",
     "output_type": "stream",
     "text": [
      " 79%|███████▉  | 793/1000 [3:35:11<1:03:38, 18.45s/it]"
     ]
    },
    {
     "name": "stdout",
     "output_type": "stream",
     "text": [
      "Batch 0, Loss: 0.0003564890648704022\n",
      "Batch 200, Loss: 0.011467382311820984\n",
      "Batch 400, Loss: 0.010993534699082375\n",
      "Batch 600, Loss: 0.0012150778202340007\n"
     ]
    },
    {
     "name": "stderr",
     "output_type": "stream",
     "text": [
      " 79%|███████▉  | 794/1000 [3:35:31<1:05:10, 18.98s/it]"
     ]
    },
    {
     "name": "stdout",
     "output_type": "stream",
     "text": [
      "Batch 0, Loss: 0.15649330615997314\n",
      "Batch 200, Loss: 0.5211340188980103\n",
      "Batch 400, Loss: 0.08478721231222153\n",
      "Batch 600, Loss: 0.16027574241161346\n"
     ]
    },
    {
     "name": "stderr",
     "output_type": "stream",
     "text": [
      " 80%|███████▉  | 795/1000 [3:35:49<1:04:12, 18.79s/it]"
     ]
    },
    {
     "name": "stdout",
     "output_type": "stream",
     "text": [
      "Batch 0, Loss: 0.02318532206118107\n",
      "Batch 200, Loss: 2.235172580355993e-08\n",
      "Batch 400, Loss: 0.0\n",
      "Batch 600, Loss: 0.0725579559803009\n"
     ]
    },
    {
     "name": "stderr",
     "output_type": "stream",
     "text": [
      " 80%|███████▉  | 796/1000 [3:36:07<1:02:36, 18.41s/it]"
     ]
    },
    {
     "name": "stdout",
     "output_type": "stream",
     "text": [
      "Batch 0, Loss: 0.012923485599458218\n",
      "Batch 200, Loss: 6.650090654147789e-06\n",
      "Batch 400, Loss: 0.10852029919624329\n",
      "Batch 600, Loss: 0.03830796107649803\n"
     ]
    },
    {
     "name": "stderr",
     "output_type": "stream",
     "text": [
      " 80%|███████▉  | 797/1000 [3:36:24<1:01:04, 18.05s/it]"
     ]
    },
    {
     "name": "stdout",
     "output_type": "stream",
     "text": [
      "Batch 0, Loss: 0.0004895989550277591\n",
      "Batch 200, Loss: 0.18136917054653168\n",
      "Batch 400, Loss: 8.568144949094858e-08\n",
      "Batch 600, Loss: 2.2593027097173035e-05\n"
     ]
    },
    {
     "name": "stderr",
     "output_type": "stream",
     "text": [
      " 80%|███████▉  | 798/1000 [3:36:44<1:02:28, 18.56s/it]"
     ]
    },
    {
     "name": "stdout",
     "output_type": "stream",
     "text": [
      "Batch 0, Loss: 1.024451705688989e-07\n",
      "Batch 200, Loss: 0.0019522422226145864\n",
      "Batch 400, Loss: 0.0048561482690274715\n",
      "Batch 600, Loss: 8.381881855257234e-08\n"
     ]
    },
    {
     "name": "stderr",
     "output_type": "stream",
     "text": [
      " 80%|███████▉  | 799/1000 [3:37:02<1:02:04, 18.53s/it]"
     ]
    },
    {
     "name": "stdout",
     "output_type": "stream",
     "text": [
      "Batch 0, Loss: 1.2535100495369988e-06\n",
      "Batch 200, Loss: 3.147554707538802e-06\n",
      "Batch 400, Loss: 3.725290076417309e-09\n",
      "Batch 600, Loss: 0.767850399017334\n"
     ]
    },
    {
     "name": "stderr",
     "output_type": "stream",
     "text": [
      " 80%|████████  | 800/1000 [3:37:23<1:03:24, 19.02s/it]"
     ]
    },
    {
     "name": "stdout",
     "output_type": "stream",
     "text": [
      "Batch 0, Loss: 7.078037356222922e-08\n",
      "Batch 200, Loss: 0.17286647856235504\n",
      "Batch 400, Loss: 3.862654466502136e-06\n",
      "Batch 600, Loss: 0.21949712932109833\n"
     ]
    },
    {
     "name": "stderr",
     "output_type": "stream",
     "text": [
      " 80%|████████  | 801/1000 [3:37:41<1:02:46, 18.93s/it]"
     ]
    },
    {
     "name": "stdout",
     "output_type": "stream",
     "text": [
      "Batch 0, Loss: 0.059182796627283096\n",
      "Batch 200, Loss: 0.07195986062288284\n",
      "Batch 400, Loss: 0.0\n",
      "Batch 600, Loss: 2.4214367400077208e-08\n"
     ]
    },
    {
     "name": "stderr",
     "output_type": "stream",
     "text": [
      " 80%|████████  | 802/1000 [3:37:59<1:01:47, 18.72s/it]"
     ]
    },
    {
     "name": "stdout",
     "output_type": "stream",
     "text": [
      "Batch 0, Loss: 9.131929800787475e-06\n",
      "Batch 200, Loss: 0.00010793545516207814\n",
      "Batch 400, Loss: 5.215398957147954e-08\n",
      "Batch 600, Loss: 4.470341963269675e-08\n"
     ]
    },
    {
     "name": "stderr",
     "output_type": "stream",
     "text": [
      " 80%|████████  | 803/1000 [3:38:20<1:03:24, 19.31s/it]"
     ]
    },
    {
     "name": "stdout",
     "output_type": "stream",
     "text": [
      "Batch 0, Loss: 0.038039132952690125\n",
      "Batch 200, Loss: 0.08382079005241394\n",
      "Batch 400, Loss: 1.9743951895634382e-07\n",
      "Batch 600, Loss: 0.09562291949987411\n"
     ]
    },
    {
     "name": "stderr",
     "output_type": "stream",
     "text": [
      " 80%|████████  | 804/1000 [3:38:39<1:02:33, 19.15s/it]"
     ]
    },
    {
     "name": "stdout",
     "output_type": "stream",
     "text": [
      "Batch 0, Loss: 0.10739074647426605\n",
      "Batch 200, Loss: 1.1175869119028903e-08\n",
      "Batch 400, Loss: 0.0\n",
      "Batch 600, Loss: 0.014482283033430576\n"
     ]
    },
    {
     "name": "stderr",
     "output_type": "stream",
     "text": [
      " 80%|████████  | 805/1000 [3:38:57<1:00:58, 18.76s/it]"
     ]
    },
    {
     "name": "stdout",
     "output_type": "stream",
     "text": [
      "Batch 0, Loss: 2.3703640181338415e-05\n",
      "Batch 200, Loss: 0.40080663561820984\n",
      "Batch 400, Loss: 3.9301318111029104e-07\n",
      "Batch 600, Loss: 1.7881291114463238e-07\n"
     ]
    },
    {
     "name": "stderr",
     "output_type": "stream",
     "text": [
      " 81%|████████  | 806/1000 [3:39:15<59:56, 18.54s/it]  "
     ]
    },
    {
     "name": "stdout",
     "output_type": "stream",
     "text": [
      "Batch 0, Loss: 0.00010704751184675843\n",
      "Batch 200, Loss: 6.341571133816615e-05\n",
      "Batch 400, Loss: 0.07522840797901154\n",
      "Batch 600, Loss: 0.1860116869211197\n"
     ]
    },
    {
     "name": "stderr",
     "output_type": "stream",
     "text": [
      " 81%|████████  | 807/1000 [3:39:32<58:46, 18.27s/it]"
     ]
    },
    {
     "name": "stdout",
     "output_type": "stream",
     "text": [
      "Batch 0, Loss: 5.587934559514451e-09\n",
      "Batch 200, Loss: 2.086148640501051e-07\n",
      "Batch 400, Loss: 0.00022062071366235614\n",
      "Batch 600, Loss: 0.09449733048677444\n"
     ]
    },
    {
     "name": "stderr",
     "output_type": "stream",
     "text": [
      " 81%|████████  | 808/1000 [3:39:51<58:53, 18.41s/it]"
     ]
    },
    {
     "name": "stdout",
     "output_type": "stream",
     "text": [
      "Batch 0, Loss: 0.04513154923915863\n",
      "Batch 200, Loss: 0.0008570642094127834\n",
      "Batch 400, Loss: 0.14573831856250763\n",
      "Batch 600, Loss: 1.8626450382086546e-09\n"
     ]
    },
    {
     "name": "stderr",
     "output_type": "stream",
     "text": [
      " 81%|████████  | 809/1000 [3:40:09<57:39, 18.11s/it]"
     ]
    },
    {
     "name": "stdout",
     "output_type": "stream",
     "text": [
      "Batch 0, Loss: 3.7252898543727042e-09\n",
      "Batch 200, Loss: 0.13578039407730103\n",
      "Batch 400, Loss: 7.175840892159613e-06\n",
      "Batch 600, Loss: 0.0016823442419990897\n"
     ]
    },
    {
     "name": "stderr",
     "output_type": "stream",
     "text": [
      " 81%|████████  | 810/1000 [3:40:26<56:26, 17.82s/it]"
     ]
    },
    {
     "name": "stdout",
     "output_type": "stream",
     "text": [
      "Batch 0, Loss: 0.0002970461791846901\n",
      "Batch 200, Loss: 1.9053874211749644e-06\n",
      "Batch 400, Loss: 0.3222108483314514\n",
      "Batch 600, Loss: 0.07688919454813004\n"
     ]
    },
    {
     "name": "stderr",
     "output_type": "stream",
     "text": [
      " 81%|████████  | 811/1000 [3:40:44<56:14, 17.85s/it]"
     ]
    },
    {
     "name": "stdout",
     "output_type": "stream",
     "text": [
      "Batch 0, Loss: 1.3141021554474719e-05\n",
      "Batch 200, Loss: 0.04252342879772186\n",
      "Batch 400, Loss: 0.11905156821012497\n",
      "Batch 600, Loss: 0.001280759577639401\n"
     ]
    },
    {
     "name": "stderr",
     "output_type": "stream",
     "text": [
      " 81%|████████  | 812/1000 [3:41:07<1:01:09, 19.52s/it]"
     ]
    },
    {
     "name": "stdout",
     "output_type": "stream",
     "text": [
      "Batch 0, Loss: 0.008631624281406403\n",
      "Batch 200, Loss: 0.15160296857357025\n",
      "Batch 400, Loss: 0.4404524862766266\n",
      "Batch 600, Loss: 0.032948680222034454\n"
     ]
    },
    {
     "name": "stderr",
     "output_type": "stream",
     "text": [
      " 81%|████████▏ | 813/1000 [3:41:31<1:04:39, 20.75s/it]"
     ]
    },
    {
     "name": "stdout",
     "output_type": "stream",
     "text": [
      "Batch 0, Loss: 0.030712958425283432\n",
      "Batch 200, Loss: 1.8792964056046912e-06\n",
      "Batch 400, Loss: 0.001280871918424964\n",
      "Batch 600, Loss: 0.0006495664711110294\n"
     ]
    },
    {
     "name": "stderr",
     "output_type": "stream",
     "text": [
      " 81%|████████▏ | 814/1000 [3:41:57<1:09:27, 22.41s/it]"
     ]
    },
    {
     "name": "stdout",
     "output_type": "stream",
     "text": [
      "Batch 0, Loss: 0.004490308929234743\n",
      "Batch 200, Loss: 0.0\n",
      "Batch 400, Loss: 0.0009611138375476003\n",
      "Batch 600, Loss: 0.043300021439790726\n"
     ]
    },
    {
     "name": "stderr",
     "output_type": "stream",
     "text": [
      " 82%|████████▏ | 815/1000 [3:42:24<1:13:07, 23.72s/it]"
     ]
    },
    {
     "name": "stdout",
     "output_type": "stream",
     "text": [
      "Batch 0, Loss: 0.01269247941672802\n",
      "Batch 200, Loss: 0.3293452560901642\n",
      "Batch 400, Loss: 0.28426608443260193\n",
      "Batch 600, Loss: 0.0\n"
     ]
    },
    {
     "name": "stderr",
     "output_type": "stream",
     "text": [
      " 82%|████████▏ | 816/1000 [3:42:47<1:12:46, 23.73s/it]"
     ]
    },
    {
     "name": "stdout",
     "output_type": "stream",
     "text": [
      "Batch 0, Loss: 2.7900171062356094e-06\n",
      "Batch 200, Loss: 0.05522317439317703\n",
      "Batch 400, Loss: 0.000788428820669651\n",
      "Batch 600, Loss: 2.32641032198444e-05\n"
     ]
    },
    {
     "name": "stderr",
     "output_type": "stream",
     "text": [
      " 82%|████████▏ | 817/1000 [3:43:10<1:10:59, 23.28s/it]"
     ]
    },
    {
     "name": "stdout",
     "output_type": "stream",
     "text": [
      "Batch 0, Loss: 0.0\n",
      "Batch 200, Loss: 2.3264639821718447e-05\n",
      "Batch 400, Loss: 0.0\n",
      "Batch 600, Loss: 0.00045048820902593434\n"
     ]
    },
    {
     "name": "stderr",
     "output_type": "stream",
     "text": [
      " 82%|████████▏ | 818/1000 [3:43:33<1:10:20, 23.19s/it]"
     ]
    },
    {
     "name": "stdout",
     "output_type": "stream",
     "text": [
      "Batch 0, Loss: 4.470345515983354e-08\n",
      "Batch 200, Loss: 0.0\n",
      "Batch 400, Loss: 0.001958206295967102\n",
      "Batch 600, Loss: 1.8626450382086546e-09\n"
     ]
    },
    {
     "name": "stderr",
     "output_type": "stream",
     "text": [
      " 82%|████████▏ | 819/1000 [3:43:59<1:12:47, 24.13s/it]"
     ]
    },
    {
     "name": "stdout",
     "output_type": "stream",
     "text": [
      "Batch 0, Loss: 0.08551337569952011\n",
      "Batch 200, Loss: 0.007218010723590851\n",
      "Batch 400, Loss: 0.00013894613948650658\n",
      "Batch 600, Loss: 0.36003920435905457\n"
     ]
    },
    {
     "name": "stderr",
     "output_type": "stream",
     "text": [
      " 82%|████████▏ | 820/1000 [3:44:23<1:12:23, 24.13s/it]"
     ]
    },
    {
     "name": "stdout",
     "output_type": "stream",
     "text": [
      "Batch 0, Loss: 4.9826328904600814e-05\n",
      "Batch 200, Loss: 0.16403760015964508\n",
      "Batch 400, Loss: 2.3355823941528797e-06\n",
      "Batch 600, Loss: 0.00029769245884381235\n"
     ]
    },
    {
     "name": "stderr",
     "output_type": "stream",
     "text": [
      " 82%|████████▏ | 821/1000 [3:44:45<1:10:15, 23.55s/it]"
     ]
    },
    {
     "name": "stdout",
     "output_type": "stream",
     "text": [
      "Batch 0, Loss: 0.1327309012413025\n",
      "Batch 200, Loss: 4.086324406671338e-05\n",
      "Batch 400, Loss: 0.23258021473884583\n",
      "Batch 600, Loss: 0.07007867842912674\n"
     ]
    },
    {
     "name": "stderr",
     "output_type": "stream",
     "text": [
      " 82%|████████▏ | 822/1000 [3:45:09<1:09:38, 23.48s/it]"
     ]
    },
    {
     "name": "stdout",
     "output_type": "stream",
     "text": [
      "Batch 0, Loss: 5.717274689231999e-06\n",
      "Batch 200, Loss: 0.031823448836803436\n",
      "Batch 400, Loss: 0.7129121422767639\n",
      "Batch 600, Loss: 0.0\n"
     ]
    },
    {
     "name": "stderr",
     "output_type": "stream",
     "text": [
      " 82%|████████▏ | 823/1000 [3:45:31<1:07:55, 23.03s/it]"
     ]
    },
    {
     "name": "stdout",
     "output_type": "stream",
     "text": [
      "Batch 0, Loss: 0.013760043308138847\n",
      "Batch 200, Loss: 1.4171330803947058e-05\n",
      "Batch 400, Loss: 0.14292055368423462\n",
      "Batch 600, Loss: 0.04005273059010506\n"
     ]
    },
    {
     "name": "stderr",
     "output_type": "stream",
     "text": [
      " 82%|████████▏ | 824/1000 [3:45:55<1:09:02, 23.54s/it]"
     ]
    },
    {
     "name": "stdout",
     "output_type": "stream",
     "text": [
      "Batch 0, Loss: 0.0\n",
      "Batch 200, Loss: 0.0\n",
      "Batch 400, Loss: 0.06409615278244019\n",
      "Batch 600, Loss: 0.0011138501577079296\n"
     ]
    },
    {
     "name": "stderr",
     "output_type": "stream",
     "text": [
      " 82%|████████▎ | 825/1000 [3:46:23<1:12:21, 24.81s/it]"
     ]
    },
    {
     "name": "stdout",
     "output_type": "stream",
     "text": [
      "Batch 0, Loss: 0.0\n",
      "Batch 200, Loss: 0.0674935132265091\n",
      "Batch 400, Loss: 0.18572105467319489\n",
      "Batch 600, Loss: 2.3096644952147471e-07\n"
     ]
    },
    {
     "name": "stderr",
     "output_type": "stream",
     "text": [
      " 83%|████████▎ | 826/1000 [3:46:47<1:11:22, 24.61s/it]"
     ]
    },
    {
     "name": "stdout",
     "output_type": "stream",
     "text": [
      "Batch 0, Loss: 3.1105895459404564e-07\n",
      "Batch 200, Loss: 0.003009890206158161\n",
      "Batch 400, Loss: 1.825382014430943e-07\n",
      "Batch 600, Loss: 1.8626450382086546e-09\n"
     ]
    },
    {
     "name": "stderr",
     "output_type": "stream",
     "text": [
      " 83%|████████▎ | 827/1000 [3:47:10<1:09:37, 24.15s/it]"
     ]
    },
    {
     "name": "stdout",
     "output_type": "stream",
     "text": [
      "Batch 0, Loss: 0.1883644163608551\n",
      "Batch 200, Loss: 0.00026309891836717725\n",
      "Batch 400, Loss: 0.0\n",
      "Batch 600, Loss: 0.0059189083985984325\n"
     ]
    },
    {
     "name": "stderr",
     "output_type": "stream",
     "text": [
      " 83%|████████▎ | 828/1000 [3:47:34<1:08:29, 23.89s/it]"
     ]
    },
    {
     "name": "stdout",
     "output_type": "stream",
     "text": [
      "Batch 0, Loss: 1.0284004019922577e-05\n",
      "Batch 200, Loss: 0.0\n",
      "Batch 400, Loss: 0.32140910625457764\n",
      "Batch 600, Loss: 2.1176849713810952e-06\n"
     ]
    },
    {
     "name": "stderr",
     "output_type": "stream",
     "text": [
      " 83%|████████▎ | 829/1000 [3:48:00<1:10:22, 24.69s/it]"
     ]
    },
    {
     "name": "stdout",
     "output_type": "stream",
     "text": [
      "Batch 0, Loss: 0.04098515212535858\n",
      "Batch 200, Loss: 0.06215285509824753\n",
      "Batch 400, Loss: 0.0009511493262834847\n",
      "Batch 600, Loss: 0.0009744878043420613\n"
     ]
    },
    {
     "name": "stderr",
     "output_type": "stream",
     "text": [
      " 83%|████████▎ | 830/1000 [3:48:30<1:13:59, 26.11s/it]"
     ]
    },
    {
     "name": "stdout",
     "output_type": "stream",
     "text": [
      "Batch 0, Loss: 0.06950220465660095\n",
      "Batch 200, Loss: 0.2634473145008087\n",
      "Batch 400, Loss: 2.514551340482285e-07\n",
      "Batch 600, Loss: 0.054458606988191605\n"
     ]
    },
    {
     "name": "stderr",
     "output_type": "stream",
     "text": [
      " 83%|████████▎ | 831/1000 [3:48:56<1:13:38, 26.15s/it]"
     ]
    },
    {
     "name": "stdout",
     "output_type": "stream",
     "text": [
      "Batch 0, Loss: 1.973353573703207e-05\n",
      "Batch 200, Loss: 0.0067401849664747715\n",
      "Batch 400, Loss: 0.22485102713108063\n",
      "Batch 600, Loss: 0.0018504264298826456\n"
     ]
    },
    {
     "name": "stderr",
     "output_type": "stream",
     "text": [
      " 83%|████████▎ | 832/1000 [3:49:25<1:15:41, 27.03s/it]"
     ]
    },
    {
     "name": "stdout",
     "output_type": "stream",
     "text": [
      "Batch 0, Loss: 1.1175867342672063e-08\n",
      "Batch 200, Loss: 2.2165407642660284e-07\n",
      "Batch 400, Loss: 0.19636495411396027\n",
      "Batch 600, Loss: 2.4214372729147726e-08\n"
     ]
    },
    {
     "name": "stderr",
     "output_type": "stream",
     "text": [
      " 83%|████████▎ | 833/1000 [3:49:52<1:15:30, 27.13s/it]"
     ]
    },
    {
     "name": "stdout",
     "output_type": "stream",
     "text": [
      "Batch 0, Loss: 0.08919767290353775\n",
      "Batch 200, Loss: 0.015319139696657658\n",
      "Batch 400, Loss: 3.818375944319996e-07\n",
      "Batch 600, Loss: 0.3881450295448303\n"
     ]
    },
    {
     "name": "stderr",
     "output_type": "stream",
     "text": [
      " 83%|████████▎ | 834/1000 [3:50:20<1:15:49, 27.40s/it]"
     ]
    },
    {
     "name": "stdout",
     "output_type": "stream",
     "text": [
      "Batch 0, Loss: 0.20526626706123352\n",
      "Batch 200, Loss: 8.195625156304231e-08\n",
      "Batch 400, Loss: 7.450578820566989e-09\n",
      "Batch 600, Loss: 0.07302670180797577\n"
     ]
    },
    {
     "name": "stderr",
     "output_type": "stream",
     "text": [
      " 84%|████████▎ | 835/1000 [3:50:48<1:15:15, 27.37s/it]"
     ]
    },
    {
     "name": "stdout",
     "output_type": "stream",
     "text": [
      "Batch 0, Loss: 0.00046442868188023567\n",
      "Batch 200, Loss: 0.030508888885378838\n",
      "Batch 400, Loss: 3.2409690220447374e-07\n",
      "Batch 600, Loss: 6.832514191046357e-05\n"
     ]
    },
    {
     "name": "stderr",
     "output_type": "stream",
     "text": [
      " 84%|████████▎ | 836/1000 [3:51:13<1:13:17, 26.81s/it]"
     ]
    },
    {
     "name": "stdout",
     "output_type": "stream",
     "text": [
      "Batch 0, Loss: 0.0\n",
      "Batch 200, Loss: 1.0472775102243759e-05\n",
      "Batch 400, Loss: 0.1738213151693344\n",
      "Batch 600, Loss: 2.1792874349557678e-07\n"
     ]
    },
    {
     "name": "stderr",
     "output_type": "stream",
     "text": [
      " 84%|████████▎ | 837/1000 [3:51:38<1:11:18, 26.25s/it]"
     ]
    },
    {
     "name": "stdout",
     "output_type": "stream",
     "text": [
      "Batch 0, Loss: 0.0001835854782257229\n",
      "Batch 200, Loss: 0.12118685245513916\n",
      "Batch 400, Loss: 0.0017753024585545063\n",
      "Batch 600, Loss: 0.29499468207359314\n"
     ]
    },
    {
     "name": "stderr",
     "output_type": "stream",
     "text": [
      " 84%|████████▍ | 838/1000 [3:52:04<1:10:44, 26.20s/it]"
     ]
    },
    {
     "name": "stdout",
     "output_type": "stream",
     "text": [
      "Batch 0, Loss: 2.8684470976259036e-07\n",
      "Batch 200, Loss: 0.03399732708930969\n",
      "Batch 400, Loss: 0.00010833055421244353\n",
      "Batch 600, Loss: 1.1603852954067406e-06\n"
     ]
    },
    {
     "name": "stderr",
     "output_type": "stream",
     "text": [
      " 84%|████████▍ | 839/1000 [3:52:30<1:10:14, 26.18s/it]"
     ]
    },
    {
     "name": "stdout",
     "output_type": "stream",
     "text": [
      "Batch 0, Loss: 2.368421519349795e-05\n",
      "Batch 200, Loss: 0.005195296369493008\n",
      "Batch 400, Loss: 1.1006992281181738e-05\n",
      "Batch 600, Loss: 0.12055507302284241\n"
     ]
    },
    {
     "name": "stderr",
     "output_type": "stream",
     "text": [
      " 84%|████████▍ | 840/1000 [3:52:58<1:11:03, 26.64s/it]"
     ]
    },
    {
     "name": "stdout",
     "output_type": "stream",
     "text": [
      "Batch 0, Loss: 0.0013369768857955933\n",
      "Batch 200, Loss: 0.174451544880867\n",
      "Batch 400, Loss: 0.1308303326368332\n",
      "Batch 600, Loss: 0.0023362068459391594\n"
     ]
    },
    {
     "name": "stderr",
     "output_type": "stream",
     "text": [
      " 84%|████████▍ | 841/1000 [3:53:27<1:12:17, 27.28s/it]"
     ]
    },
    {
     "name": "stdout",
     "output_type": "stream",
     "text": [
      "Batch 0, Loss: 1.22934139312747e-07\n",
      "Batch 200, Loss: 8.904659625841305e-05\n",
      "Batch 400, Loss: 4.65660825454961e-08\n",
      "Batch 600, Loss: 0.006852524820715189\n"
     ]
    },
    {
     "name": "stderr",
     "output_type": "stream",
     "text": [
      " 84%|████████▍ | 842/1000 [3:53:53<1:11:16, 27.07s/it]"
     ]
    },
    {
     "name": "stdout",
     "output_type": "stream",
     "text": [
      "Batch 0, Loss: 0.014521226286888123\n",
      "Batch 200, Loss: 3.506230132188648e-05\n",
      "Batch 400, Loss: 3.725290076417309e-09\n",
      "Batch 600, Loss: 0.06521382182836533\n"
     ]
    },
    {
     "name": "stderr",
     "output_type": "stream",
     "text": [
      " 84%|████████▍ | 843/1000 [3:54:20<1:10:39, 27.00s/it]"
     ]
    },
    {
     "name": "stdout",
     "output_type": "stream",
     "text": [
      "Batch 0, Loss: 0.0001889475097414106\n",
      "Batch 200, Loss: 1.8626450382086546e-09\n",
      "Batch 400, Loss: 0.0033629564568400383\n",
      "Batch 600, Loss: 0.018631333485245705\n"
     ]
    },
    {
     "name": "stderr",
     "output_type": "stream",
     "text": [
      " 84%|████████▍ | 844/1000 [3:54:45<1:08:15, 26.25s/it]"
     ]
    },
    {
     "name": "stdout",
     "output_type": "stream",
     "text": [
      "Batch 0, Loss: 0.0002594985708128661\n",
      "Batch 200, Loss: 0.01340322382748127\n",
      "Batch 400, Loss: 0.07585494965314865\n",
      "Batch 600, Loss: 0.00018716318299993873\n"
     ]
    },
    {
     "name": "stderr",
     "output_type": "stream",
     "text": [
      " 84%|████████▍ | 845/1000 [3:55:13<1:09:41, 26.98s/it]"
     ]
    },
    {
     "name": "stdout",
     "output_type": "stream",
     "text": [
      "Batch 0, Loss: 1.392637932440266e-05\n",
      "Batch 200, Loss: 0.0\n",
      "Batch 400, Loss: 5.396439155447297e-05\n",
      "Batch 600, Loss: 0.11744412034749985\n"
     ]
    },
    {
     "name": "stderr",
     "output_type": "stream",
     "text": [
      " 85%|████████▍ | 846/1000 [3:55:40<1:09:04, 26.91s/it]"
     ]
    },
    {
     "name": "stdout",
     "output_type": "stream",
     "text": [
      "Batch 0, Loss: 9.350214327241702e-07\n",
      "Batch 200, Loss: 0.3833986818790436\n",
      "Batch 400, Loss: 0.0\n",
      "Batch 600, Loss: 1.3783528629573993e-07\n"
     ]
    },
    {
     "name": "stderr",
     "output_type": "stream",
     "text": [
      " 85%|████████▍ | 847/1000 [3:56:09<1:10:17, 27.57s/it]"
     ]
    },
    {
     "name": "stdout",
     "output_type": "stream",
     "text": [
      "Batch 0, Loss: 3.3527591369875154e-08\n",
      "Batch 200, Loss: 1.0074677447846625e-05\n",
      "Batch 400, Loss: 0.038402438163757324\n",
      "Batch 600, Loss: 0.36868783831596375\n"
     ]
    },
    {
     "name": "stderr",
     "output_type": "stream",
     "text": [
      " 85%|████████▍ | 848/1000 [3:56:36<1:09:10, 27.31s/it]"
     ]
    },
    {
     "name": "stdout",
     "output_type": "stream",
     "text": [
      "Batch 0, Loss: 0.07623647898435593\n",
      "Batch 200, Loss: 0.0\n",
      "Batch 400, Loss: 0.0002925202716141939\n",
      "Batch 600, Loss: 0.4774123430252075\n"
     ]
    },
    {
     "name": "stderr",
     "output_type": "stream",
     "text": [
      " 85%|████████▍ | 849/1000 [3:57:02<1:07:51, 26.97s/it]"
     ]
    },
    {
     "name": "stdout",
     "output_type": "stream",
     "text": [
      "Batch 0, Loss: 1.0738269090652466\n",
      "Batch 200, Loss: 0.011939987540245056\n",
      "Batch 400, Loss: 0.06358375400304794\n",
      "Batch 600, Loss: 0.0004486691323108971\n"
     ]
    },
    {
     "name": "stderr",
     "output_type": "stream",
     "text": [
      " 85%|████████▌ | 850/1000 [3:57:29<1:07:37, 27.05s/it]"
     ]
    },
    {
     "name": "stdout",
     "output_type": "stream",
     "text": [
      "Batch 0, Loss: 0.0051978216506540775\n",
      "Batch 200, Loss: 0.3488321006298065\n",
      "Batch 400, Loss: 0.0036810762248933315\n",
      "Batch 600, Loss: 0.11614160239696503\n"
     ]
    },
    {
     "name": "stderr",
     "output_type": "stream",
     "text": [
      " 85%|████████▌ | 851/1000 [3:58:01<1:10:50, 28.53s/it]"
     ]
    },
    {
     "name": "stdout",
     "output_type": "stream",
     "text": [
      "Batch 0, Loss: 0.39627334475517273\n",
      "Batch 200, Loss: 0.0\n",
      "Batch 400, Loss: 0.010696137323975563\n",
      "Batch 600, Loss: 1.4936861589376349e-05\n"
     ]
    },
    {
     "name": "stderr",
     "output_type": "stream",
     "text": [
      " 85%|████████▌ | 852/1000 [3:58:30<1:10:18, 28.50s/it]"
     ]
    },
    {
     "name": "stdout",
     "output_type": "stream",
     "text": [
      "Batch 0, Loss: 2.6222725864499807e-05\n",
      "Batch 200, Loss: 1.545987800000148e-07\n",
      "Batch 400, Loss: 0.23028957843780518\n",
      "Batch 600, Loss: 1.8626440834168534e-08\n"
     ]
    },
    {
     "name": "stderr",
     "output_type": "stream",
     "text": [
      " 85%|████████▌ | 853/1000 [3:59:01<1:11:30, 29.19s/it]"
     ]
    },
    {
     "name": "stdout",
     "output_type": "stream",
     "text": [
      "Batch 0, Loss: 0.0027911050710827112\n",
      "Batch 200, Loss: 0.03328321501612663\n",
      "Batch 400, Loss: 5.4016616957142105e-08\n",
      "Batch 600, Loss: 4.099929356016219e-05\n"
     ]
    },
    {
     "name": "stderr",
     "output_type": "stream",
     "text": [
      " 85%|████████▌ | 854/1000 [3:59:28<1:09:57, 28.75s/it]"
     ]
    },
    {
     "name": "stdout",
     "output_type": "stream",
     "text": [
      "Batch 0, Loss: 3.7252860352054995e-08\n",
      "Batch 200, Loss: 7.521358202211559e-05\n",
      "Batch 400, Loss: 0.004881890490651131\n",
      "Batch 600, Loss: 0.0754854679107666\n"
     ]
    },
    {
     "name": "stderr",
     "output_type": "stream",
     "text": [
      " 86%|████████▌ | 855/1000 [3:59:55<1:07:59, 28.13s/it]"
     ]
    },
    {
     "name": "stdout",
     "output_type": "stream",
     "text": [
      "Batch 0, Loss: 0.0071063959039747715\n",
      "Batch 200, Loss: 1.303851338008144e-08\n",
      "Batch 400, Loss: 0.28888750076293945\n",
      "Batch 600, Loss: 0.0008719019824638963\n"
     ]
    },
    {
     "name": "stderr",
     "output_type": "stream",
     "text": [
      " 86%|████████▌ | 856/1000 [4:00:22<1:06:39, 27.78s/it]"
     ]
    },
    {
     "name": "stdout",
     "output_type": "stream",
     "text": [
      "Batch 0, Loss: 9.687527199275792e-05\n",
      "Batch 200, Loss: 4.5634345724465675e-07\n",
      "Batch 400, Loss: 1.210714657418066e-07\n",
      "Batch 600, Loss: 2.277849034726387e-06\n"
     ]
    },
    {
     "name": "stderr",
     "output_type": "stream",
     "text": [
      " 86%|████████▌ | 857/1000 [4:00:46<1:03:18, 26.57s/it]"
     ]
    },
    {
     "name": "stdout",
     "output_type": "stream",
     "text": [
      "Batch 0, Loss: 0.0004876685852650553\n",
      "Batch 200, Loss: 0.2037997543811798\n",
      "Batch 400, Loss: 0.16689956188201904\n",
      "Batch 600, Loss: 0.7648085355758667\n"
     ]
    },
    {
     "name": "stderr",
     "output_type": "stream",
     "text": [
      " 86%|████████▌ | 858/1000 [4:01:14<1:04:16, 27.16s/it]"
     ]
    },
    {
     "name": "stdout",
     "output_type": "stream",
     "text": [
      "Batch 0, Loss: 2.05891665245872e-05\n",
      "Batch 200, Loss: 0.10139092803001404\n",
      "Batch 400, Loss: 0.15311703085899353\n",
      "Batch 600, Loss: 0.0\n"
     ]
    },
    {
     "name": "stderr",
     "output_type": "stream",
     "text": [
      " 86%|████████▌ | 859/1000 [4:01:44<1:05:36, 27.91s/it]"
     ]
    },
    {
     "name": "stdout",
     "output_type": "stream",
     "text": [
      "Batch 0, Loss: 0.31366851925849915\n",
      "Batch 200, Loss: 0.005932210013270378\n",
      "Batch 400, Loss: 0.0009497856954112649\n",
      "Batch 600, Loss: 8.772883006713528e-07\n"
     ]
    },
    {
     "name": "stderr",
     "output_type": "stream",
     "text": [
      " 86%|████████▌ | 860/1000 [4:02:12<1:04:57, 27.84s/it]"
     ]
    },
    {
     "name": "stdout",
     "output_type": "stream",
     "text": [
      "Batch 0, Loss: 0.004012496676295996\n",
      "Batch 200, Loss: 0.15988066792488098\n",
      "Batch 400, Loss: 0.0019359261495992541\n",
      "Batch 600, Loss: 1.0095291145262308e-06\n"
     ]
    },
    {
     "name": "stderr",
     "output_type": "stream",
     "text": [
      " 86%|████████▌ | 861/1000 [4:02:34<1:00:45, 26.23s/it]"
     ]
    },
    {
     "name": "stdout",
     "output_type": "stream",
     "text": [
      "Batch 0, Loss: 5.587929052808249e-08\n",
      "Batch 200, Loss: 0.10163494944572449\n",
      "Batch 400, Loss: 4.331446689320728e-05\n",
      "Batch 600, Loss: 0.0013002839405089617\n"
     ]
    },
    {
     "name": "stderr",
     "output_type": "stream",
     "text": [
      " 86%|████████▌ | 862/1000 [4:02:59<59:18, 25.79s/it]  "
     ]
    },
    {
     "name": "stdout",
     "output_type": "stream",
     "text": [
      "Batch 0, Loss: 0.0012297298526391387\n",
      "Batch 200, Loss: 3.911551260671331e-08\n",
      "Batch 400, Loss: 4.470342318541043e-08\n",
      "Batch 600, Loss: 3.881442808051361e-06\n"
     ]
    },
    {
     "name": "stderr",
     "output_type": "stream",
     "text": [
      " 86%|████████▋ | 863/1000 [4:03:18<54:05, 23.69s/it]"
     ]
    },
    {
     "name": "stdout",
     "output_type": "stream",
     "text": [
      "Batch 0, Loss: 0.10598855465650558\n",
      "Batch 200, Loss: 0.03647805005311966\n",
      "Batch 400, Loss: 0.0\n",
      "Batch 600, Loss: 4.2281473611183173e-07\n"
     ]
    },
    {
     "name": "stderr",
     "output_type": "stream",
     "text": [
      " 86%|████████▋ | 864/1000 [4:03:35<49:29, 21.83s/it]"
     ]
    },
    {
     "name": "stdout",
     "output_type": "stream",
     "text": [
      "Batch 0, Loss: 5.587935003603661e-09\n",
      "Batch 200, Loss: 0.0\n",
      "Batch 400, Loss: 0.03643593192100525\n",
      "Batch 600, Loss: 4.4780856114812195e-05\n"
     ]
    },
    {
     "name": "stderr",
     "output_type": "stream",
     "text": [
      " 86%|████████▋ | 865/1000 [4:03:51<45:15, 20.11s/it]"
     ]
    },
    {
     "name": "stdout",
     "output_type": "stream",
     "text": [
      "Batch 0, Loss: 6.705514010718616e-08\n",
      "Batch 200, Loss: 1.5348319720942527e-05\n",
      "Batch 400, Loss: 0.0005833064205944538\n",
      "Batch 600, Loss: 2.384037543379236e-06\n"
     ]
    },
    {
     "name": "stderr",
     "output_type": "stream",
     "text": [
      " 87%|████████▋ | 866/1000 [4:04:09<43:06, 19.30s/it]"
     ]
    },
    {
     "name": "stdout",
     "output_type": "stream",
     "text": [
      "Batch 0, Loss: 9.313223969797946e-09\n",
      "Batch 200, Loss: 0.0009313230984844267\n",
      "Batch 400, Loss: 0.31450164318084717\n",
      "Batch 600, Loss: 0.23527392745018005\n"
     ]
    },
    {
     "name": "stderr",
     "output_type": "stream",
     "text": [
      " 87%|████████▋ | 867/1000 [4:04:26<41:12, 18.59s/it]"
     ]
    },
    {
     "name": "stdout",
     "output_type": "stream",
     "text": [
      "Batch 0, Loss: 1.165973458228109e-06\n",
      "Batch 200, Loss: 0.45249509811401367\n",
      "Batch 400, Loss: 6.57548225717619e-05\n",
      "Batch 600, Loss: 0.13607768714427948\n"
     ]
    },
    {
     "name": "stderr",
     "output_type": "stream",
     "text": [
      " 87%|████████▋ | 868/1000 [4:04:44<40:43, 18.51s/it]"
     ]
    },
    {
     "name": "stdout",
     "output_type": "stream",
     "text": [
      "Batch 0, Loss: 3.18509108865328e-07\n",
      "Batch 200, Loss: 8.401996637985576e-06\n",
      "Batch 400, Loss: 1.8085748934026924e-06\n",
      "Batch 600, Loss: 2.0314859284553677e-05\n"
     ]
    },
    {
     "name": "stderr",
     "output_type": "stream",
     "text": [
      " 87%|████████▋ | 869/1000 [4:05:00<38:52, 17.80s/it]"
     ]
    },
    {
     "name": "stdout",
     "output_type": "stream",
     "text": [
      "Batch 0, Loss: 0.00011674734560074285\n",
      "Batch 200, Loss: 0.0005509342881850898\n",
      "Batch 400, Loss: 8.264237294497434e-06\n",
      "Batch 600, Loss: 0.05986233800649643\n"
     ]
    },
    {
     "name": "stderr",
     "output_type": "stream",
     "text": [
      " 87%|████████▋ | 870/1000 [4:05:16<37:29, 17.30s/it]"
     ]
    },
    {
     "name": "stdout",
     "output_type": "stream",
     "text": [
      "Batch 0, Loss: 0.05019128695130348\n",
      "Batch 200, Loss: 1.8626450382086546e-09\n",
      "Batch 400, Loss: 0.31133773922920227\n",
      "Batch 600, Loss: 0.0\n"
     ]
    },
    {
     "name": "stderr",
     "output_type": "stream",
     "text": [
      " 87%|████████▋ | 871/1000 [4:05:33<37:04, 17.24s/it]"
     ]
    },
    {
     "name": "stdout",
     "output_type": "stream",
     "text": [
      "Batch 0, Loss: 0.043453995138406754\n",
      "Batch 200, Loss: 0.03591400384902954\n",
      "Batch 400, Loss: 1.0726041793823242\n",
      "Batch 600, Loss: 0.40033605694770813\n"
     ]
    },
    {
     "name": "stderr",
     "output_type": "stream",
     "text": [
      " 87%|████████▋ | 872/1000 [4:05:51<37:23, 17.53s/it]"
     ]
    },
    {
     "name": "stdout",
     "output_type": "stream",
     "text": [
      "Batch 0, Loss: 0.09003039449453354\n",
      "Batch 200, Loss: 0.03416944667696953\n",
      "Batch 400, Loss: 0.00015898475248832256\n",
      "Batch 600, Loss: 2.4214376281861405e-08\n"
     ]
    },
    {
     "name": "stderr",
     "output_type": "stream",
     "text": [
      " 87%|████████▋ | 873/1000 [4:06:09<37:11, 17.57s/it]"
     ]
    },
    {
     "name": "stdout",
     "output_type": "stream",
     "text": [
      "Batch 0, Loss: 4.656605767650035e-08\n",
      "Batch 200, Loss: 0.025469165295362473\n",
      "Batch 400, Loss: 3.7252898543727042e-09\n",
      "Batch 600, Loss: 7.115149287528766e-07\n"
     ]
    },
    {
     "name": "stderr",
     "output_type": "stream",
     "text": [
      " 87%|████████▋ | 874/1000 [4:06:27<36:55, 17.58s/it]"
     ]
    },
    {
     "name": "stdout",
     "output_type": "stream",
     "text": [
      "Batch 0, Loss: 0.0\n",
      "Batch 200, Loss: 0.23113079369068146\n",
      "Batch 400, Loss: 0.12585975229740143\n",
      "Batch 600, Loss: 0.008746831677854061\n"
     ]
    },
    {
     "name": "stderr",
     "output_type": "stream",
     "text": [
      " 88%|████████▊ | 875/1000 [4:06:43<35:33, 17.07s/it]"
     ]
    },
    {
     "name": "stdout",
     "output_type": "stream",
     "text": [
      "Batch 0, Loss: 0.08584091812372208\n",
      "Batch 200, Loss: 0.001209218637086451\n",
      "Batch 400, Loss: 0.0327359177172184\n",
      "Batch 600, Loss: 1.9371398707335175e-07\n"
     ]
    },
    {
     "name": "stderr",
     "output_type": "stream",
     "text": [
      " 88%|████████▊ | 876/1000 [4:06:59<34:37, 16.75s/it]"
     ]
    },
    {
     "name": "stdout",
     "output_type": "stream",
     "text": [
      "Batch 0, Loss: 1.0380797903053463e-05\n",
      "Batch 200, Loss: 9.01946987141855e-06\n",
      "Batch 400, Loss: 7.1125659815152176e-06\n",
      "Batch 600, Loss: 2.279789214298944e-06\n"
     ]
    },
    {
     "name": "stderr",
     "output_type": "stream",
     "text": [
      " 88%|████████▊ | 877/1000 [4:07:16<34:46, 16.96s/it]"
     ]
    },
    {
     "name": "stdout",
     "output_type": "stream",
     "text": [
      "Batch 0, Loss: 0.0003403415612410754\n",
      "Batch 200, Loss: 7.37001100787893e-05\n",
      "Batch 400, Loss: 0.19824235141277313\n",
      "Batch 600, Loss: 0.0001455038582207635\n"
     ]
    },
    {
     "name": "stderr",
     "output_type": "stream",
     "text": [
      " 88%|████████▊ | 878/1000 [4:07:37<36:55, 18.16s/it]"
     ]
    },
    {
     "name": "stdout",
     "output_type": "stream",
     "text": [
      "Batch 0, Loss: 0.0002548620104789734\n",
      "Batch 200, Loss: 0.18966418504714966\n",
      "Batch 400, Loss: 2.0488961638420733e-07\n",
      "Batch 600, Loss: 1.3038510715546181e-08\n"
     ]
    },
    {
     "name": "stderr",
     "output_type": "stream",
     "text": [
      " 88%|████████▊ | 879/1000 [4:07:57<37:43, 18.71s/it]"
     ]
    },
    {
     "name": "stdout",
     "output_type": "stream",
     "text": [
      "Batch 0, Loss: 0.1271865963935852\n",
      "Batch 200, Loss: 7.450578820566989e-09\n",
      "Batch 400, Loss: 1.378353431391588e-07\n",
      "Batch 600, Loss: 0.2251710295677185\n"
     ]
    },
    {
     "name": "stderr",
     "output_type": "stream",
     "text": [
      " 88%|████████▊ | 880/1000 [4:08:14<36:31, 18.26s/it]"
     ]
    },
    {
     "name": "stdout",
     "output_type": "stream",
     "text": [
      "Batch 0, Loss: 0.30392277240753174\n",
      "Batch 200, Loss: 0.3909534215927124\n",
      "Batch 400, Loss: 0.0\n",
      "Batch 600, Loss: 0.13291725516319275\n"
     ]
    },
    {
     "name": "stderr",
     "output_type": "stream",
     "text": [
      " 88%|████████▊ | 881/1000 [4:08:30<34:52, 17.59s/it]"
     ]
    },
    {
     "name": "stdout",
     "output_type": "stream",
     "text": [
      "Batch 0, Loss: 4.5460583351086825e-06\n",
      "Batch 200, Loss: 3.8183969763849746e-07\n",
      "Batch 400, Loss: 0.0006494785193353891\n",
      "Batch 600, Loss: 1.8626442610525373e-08\n"
     ]
    },
    {
     "name": "stderr",
     "output_type": "stream",
     "text": [
      " 88%|████████▊ | 882/1000 [4:08:46<33:38, 17.11s/it]"
     ]
    },
    {
     "name": "stdout",
     "output_type": "stream",
     "text": [
      "Batch 0, Loss: 5.587934559514451e-09\n",
      "Batch 200, Loss: 0.12250461429357529\n",
      "Batch 400, Loss: 1.5615580196026713e-05\n",
      "Batch 600, Loss: 0.00037641150993295014\n"
     ]
    },
    {
     "name": "stderr",
     "output_type": "stream",
     "text": [
      " 88%|████████▊ | 883/1000 [4:09:03<33:20, 17.10s/it]"
     ]
    },
    {
     "name": "stdout",
     "output_type": "stream",
     "text": [
      "Batch 0, Loss: 0.43932920694351196\n",
      "Batch 200, Loss: 0.00010971595474984497\n",
      "Batch 400, Loss: 0.003715576371178031\n",
      "Batch 600, Loss: 0.11592414230108261\n"
     ]
    },
    {
     "name": "stderr",
     "output_type": "stream",
     "text": [
      " 88%|████████▊ | 884/1000 [4:09:20<32:56, 17.04s/it]"
     ]
    },
    {
     "name": "stdout",
     "output_type": "stream",
     "text": [
      "Batch 0, Loss: 0.23805458843708038\n",
      "Batch 200, Loss: 0.39212068915367126\n",
      "Batch 400, Loss: 0.10100779682397842\n",
      "Batch 600, Loss: 0.0014528777683153749\n"
     ]
    },
    {
     "name": "stderr",
     "output_type": "stream",
     "text": [
      " 88%|████████▊ | 885/1000 [4:09:36<32:09, 16.78s/it]"
     ]
    },
    {
     "name": "stdout",
     "output_type": "stream",
     "text": [
      "Batch 0, Loss: 0.345748633146286\n",
      "Batch 200, Loss: 1.827165419854282e-06\n",
      "Batch 400, Loss: 1.1734620386505412e-07\n",
      "Batch 600, Loss: 1.067260313902807e-06\n"
     ]
    },
    {
     "name": "stderr",
     "output_type": "stream",
     "text": [
      " 89%|████████▊ | 886/1000 [4:09:54<32:28, 17.10s/it]"
     ]
    },
    {
     "name": "stdout",
     "output_type": "stream",
     "text": [
      "Batch 0, Loss: 3.285008278908208e-05\n",
      "Batch 200, Loss: 0.0\n",
      "Batch 400, Loss: 0.25888267159461975\n",
      "Batch 600, Loss: 1.8626450382086546e-09\n"
     ]
    },
    {
     "name": "stderr",
     "output_type": "stream",
     "text": [
      " 89%|████████▊ | 887/1000 [4:10:10<31:42, 16.84s/it]"
     ]
    },
    {
     "name": "stdout",
     "output_type": "stream",
     "text": [
      "Batch 0, Loss: 0.04726643115282059\n",
      "Batch 200, Loss: 0.0\n",
      "Batch 400, Loss: 0.026687582954764366\n",
      "Batch 600, Loss: 0.015721287578344345\n"
     ]
    },
    {
     "name": "stderr",
     "output_type": "stream",
     "text": [
      " 89%|████████▉ | 888/1000 [4:10:28<31:54, 17.09s/it]"
     ]
    },
    {
     "name": "stdout",
     "output_type": "stream",
     "text": [
      "Batch 0, Loss: 5.978986905574857e-07\n",
      "Batch 200, Loss: 0.00014778490003664047\n",
      "Batch 400, Loss: 1.8812602320394944e-07\n",
      "Batch 600, Loss: 0.01113649271428585\n"
     ]
    },
    {
     "name": "stderr",
     "output_type": "stream",
     "text": [
      " 89%|████████▉ | 889/1000 [4:10:43<30:39, 16.57s/it]"
     ]
    },
    {
     "name": "stdout",
     "output_type": "stream",
     "text": [
      "Batch 0, Loss: 0.47924861311912537\n",
      "Batch 200, Loss: 0.09482730180025101\n",
      "Batch 400, Loss: 0.00303443125449121\n",
      "Batch 600, Loss: 0.19570878148078918\n"
     ]
    },
    {
     "name": "stderr",
     "output_type": "stream",
     "text": [
      " 89%|████████▉ | 890/1000 [4:11:00<30:22, 16.57s/it]"
     ]
    },
    {
     "name": "stdout",
     "output_type": "stream",
     "text": [
      "Batch 0, Loss: 0.00029123041895218194\n",
      "Batch 200, Loss: 0.010356946848332882\n",
      "Batch 400, Loss: 2.8180607841932215e-05\n",
      "Batch 600, Loss: 0.0028722991701215506\n"
     ]
    },
    {
     "name": "stderr",
     "output_type": "stream",
     "text": [
      " 89%|████████▉ | 891/1000 [4:11:17<30:34, 16.83s/it]"
     ]
    },
    {
     "name": "stdout",
     "output_type": "stream",
     "text": [
      "Batch 0, Loss: 0.006748015992343426\n",
      "Batch 200, Loss: 1.0129601832886692e-05\n",
      "Batch 400, Loss: 0.018649471923708916\n",
      "Batch 600, Loss: 1.4987113900133409e-05\n"
     ]
    },
    {
     "name": "stderr",
     "output_type": "stream",
     "text": [
      " 89%|████████▉ | 892/1000 [4:11:38<32:15, 17.92s/it]"
     ]
    },
    {
     "name": "stdout",
     "output_type": "stream",
     "text": [
      "Batch 0, Loss: 0.0\n",
      "Batch 200, Loss: 0.12554748356342316\n",
      "Batch 400, Loss: 9.313223081619526e-09\n",
      "Batch 600, Loss: 0.0670112818479538\n"
     ]
    },
    {
     "name": "stderr",
     "output_type": "stream",
     "text": [
      " 89%|████████▉ | 893/1000 [4:11:56<32:05, 18.00s/it]"
     ]
    },
    {
     "name": "stdout",
     "output_type": "stream",
     "text": [
      "Batch 0, Loss: 1.3038510715546181e-08\n",
      "Batch 200, Loss: 0.18411406874656677\n",
      "Batch 400, Loss: 8.232674417740782e-07\n",
      "Batch 600, Loss: 0.19229237735271454\n"
     ]
    },
    {
     "name": "stderr",
     "output_type": "stream",
     "text": [
      " 89%|████████▉ | 894/1000 [4:12:13<31:27, 17.81s/it]"
     ]
    },
    {
     "name": "stdout",
     "output_type": "stream",
     "text": [
      "Batch 0, Loss: 1.8626450382086546e-09\n",
      "Batch 200, Loss: 0.12942509353160858\n",
      "Batch 400, Loss: 0.023660724982619286\n",
      "Batch 600, Loss: 0.00011480800458230078\n"
     ]
    },
    {
     "name": "stderr",
     "output_type": "stream",
     "text": [
      " 90%|████████▉ | 895/1000 [4:12:31<30:56, 17.68s/it]"
     ]
    },
    {
     "name": "stdout",
     "output_type": "stream",
     "text": [
      "Batch 0, Loss: 3.669367742986651e-07\n",
      "Batch 200, Loss: 0.00328684039413929\n",
      "Batch 400, Loss: 0.0042725796811282635\n",
      "Batch 600, Loss: 0.4401969909667969\n"
     ]
    },
    {
     "name": "stderr",
     "output_type": "stream",
     "text": [
      " 90%|████████▉ | 896/1000 [4:12:47<29:38, 17.10s/it]"
     ]
    },
    {
     "name": "stdout",
     "output_type": "stream",
     "text": [
      "Batch 0, Loss: 0.2915800213813782\n",
      "Batch 200, Loss: 0.0\n",
      "Batch 400, Loss: 2.7229857550992165e-06\n",
      "Batch 600, Loss: 4.495911343838088e-05\n"
     ]
    },
    {
     "name": "stderr",
     "output_type": "stream",
     "text": [
      " 90%|████████▉ | 897/1000 [4:13:04<29:16, 17.05s/it]"
     ]
    },
    {
     "name": "stdout",
     "output_type": "stream",
     "text": [
      "Batch 0, Loss: 0.0\n",
      "Batch 200, Loss: 0.0017920684767886996\n",
      "Batch 400, Loss: 5.081973722553812e-05\n",
      "Batch 600, Loss: 0.0\n"
     ]
    },
    {
     "name": "stderr",
     "output_type": "stream",
     "text": [
      " 90%|████████▉ | 898/1000 [4:13:20<28:25, 16.72s/it]"
     ]
    },
    {
     "name": "stdout",
     "output_type": "stream",
     "text": [
      "Batch 0, Loss: 0.10498078912496567\n",
      "Batch 200, Loss: 1.7322517464890552e-07\n",
      "Batch 400, Loss: 0.05175289139151573\n",
      "Batch 600, Loss: 0.0\n"
     ]
    },
    {
     "name": "stderr",
     "output_type": "stream",
     "text": [
      " 90%|████████▉ | 899/1000 [4:13:36<28:04, 16.68s/it]"
     ]
    },
    {
     "name": "stdout",
     "output_type": "stream",
     "text": [
      "Batch 0, Loss: 0.0\n",
      "Batch 200, Loss: 0.043486617505550385\n",
      "Batch 400, Loss: 8.529750630259514e-06\n",
      "Batch 600, Loss: 2.5609310796426143e-06\n"
     ]
    },
    {
     "name": "stderr",
     "output_type": "stream",
     "text": [
      " 90%|█████████ | 900/1000 [4:13:52<27:18, 16.38s/it]"
     ]
    },
    {
     "name": "stdout",
     "output_type": "stream",
     "text": [
      "Batch 0, Loss: 1.1808723456852022e-06\n",
      "Batch 200, Loss: 3.7252898543727042e-09\n",
      "Batch 400, Loss: 0.001628135796636343\n",
      "Batch 600, Loss: 0.4755721986293793\n"
     ]
    },
    {
     "name": "stderr",
     "output_type": "stream",
     "text": [
      " 90%|█████████ | 901/1000 [4:14:09<27:15, 16.52s/it]"
     ]
    },
    {
     "name": "stdout",
     "output_type": "stream",
     "text": [
      "Batch 0, Loss: 0.8366803526878357\n",
      "Batch 200, Loss: 0.00010467939864611253\n",
      "Batch 400, Loss: 2.983686044899514e-06\n",
      "Batch 600, Loss: 3.7252898543727042e-09\n"
     ]
    },
    {
     "name": "stderr",
     "output_type": "stream",
     "text": [
      " 90%|█████████ | 902/1000 [4:14:24<26:37, 16.30s/it]"
     ]
    },
    {
     "name": "stdout",
     "output_type": "stream",
     "text": [
      "Batch 0, Loss: 2.1658088371623307e-05\n",
      "Batch 200, Loss: 1.0058251120881323e-07\n",
      "Batch 400, Loss: 0.00022069619444664568\n",
      "Batch 600, Loss: 0.00030246435198932886\n"
     ]
    },
    {
     "name": "stderr",
     "output_type": "stream",
     "text": [
      " 90%|█████████ | 903/1000 [4:14:40<25:56, 16.05s/it]"
     ]
    },
    {
     "name": "stdout",
     "output_type": "stream",
     "text": [
      "Batch 0, Loss: 4.249982794135576e-06\n",
      "Batch 200, Loss: 0.0004964828258380294\n",
      "Batch 400, Loss: 0.0638999491930008\n",
      "Batch 600, Loss: 2.3542124836239964e-06\n"
     ]
    },
    {
     "name": "stderr",
     "output_type": "stream",
     "text": [
      " 90%|█████████ | 904/1000 [4:14:55<25:19, 15.83s/it]"
     ]
    },
    {
     "name": "stdout",
     "output_type": "stream",
     "text": [
      "Batch 0, Loss: 1.1133088264614344e-05\n",
      "Batch 200, Loss: 3.3899775075951766e-07\n",
      "Batch 400, Loss: 0.00034180874354206026\n",
      "Batch 600, Loss: 0.07737530767917633\n"
     ]
    },
    {
     "name": "stderr",
     "output_type": "stream",
     "text": [
      " 90%|█████████ | 905/1000 [4:15:11<25:02, 15.81s/it]"
     ]
    },
    {
     "name": "stdout",
     "output_type": "stream",
     "text": [
      "Batch 0, Loss: 0.32352790236473083\n",
      "Batch 200, Loss: 5.043476903665578e-06\n",
      "Batch 400, Loss: 0.003190401941537857\n",
      "Batch 600, Loss: 3.8049215618229937e-06\n"
     ]
    },
    {
     "name": "stderr",
     "output_type": "stream",
     "text": [
      " 91%|█████████ | 906/1000 [4:15:26<24:30, 15.65s/it]"
     ]
    },
    {
     "name": "stdout",
     "output_type": "stream",
     "text": [
      "Batch 0, Loss: 1.8626450382086546e-09\n",
      "Batch 200, Loss: 1.79177834525035e-06\n",
      "Batch 400, Loss: 0.1874062865972519\n",
      "Batch 600, Loss: 2.277927023897064e-06\n"
     ]
    },
    {
     "name": "stderr",
     "output_type": "stream",
     "text": [
      " 91%|█████████ | 907/1000 [4:15:43<24:48, 16.00s/it]"
     ]
    },
    {
     "name": "stdout",
     "output_type": "stream",
     "text": [
      "Batch 0, Loss: 0.2705094814300537\n",
      "Batch 200, Loss: 2.0580873751896434e-06\n",
      "Batch 400, Loss: 2.048908775975633e-08\n",
      "Batch 600, Loss: 1.3224726558291877e-07\n"
     ]
    },
    {
     "name": "stderr",
     "output_type": "stream",
     "text": [
      " 91%|█████████ | 908/1000 [4:15:59<24:42, 16.12s/it]"
     ]
    },
    {
     "name": "stdout",
     "output_type": "stream",
     "text": [
      "Batch 0, Loss: 0.1896560937166214\n",
      "Batch 200, Loss: 0.0008211102685891092\n",
      "Batch 400, Loss: 1.0989585064180574e-07\n",
      "Batch 600, Loss: 2.4586722702224506e-07\n"
     ]
    },
    {
     "name": "stderr",
     "output_type": "stream",
     "text": [
      " 91%|█████████ | 909/1000 [4:16:15<24:08, 15.92s/it]"
     ]
    },
    {
     "name": "stdout",
     "output_type": "stream",
     "text": [
      "Batch 0, Loss: 1.8626450382086546e-09\n",
      "Batch 200, Loss: 0.005375263746827841\n",
      "Batch 400, Loss: 0.00014891440514475107\n",
      "Batch 600, Loss: 0.02147596701979637\n"
     ]
    },
    {
     "name": "stderr",
     "output_type": "stream",
     "text": [
      " 91%|█████████ | 910/1000 [4:16:32<24:19, 16.21s/it]"
     ]
    },
    {
     "name": "stdout",
     "output_type": "stream",
     "text": [
      "Batch 0, Loss: 0.012778677977621555\n",
      "Batch 200, Loss: 0.8613928556442261\n",
      "Batch 400, Loss: 5.5896660342114046e-05\n",
      "Batch 600, Loss: 0.046595823019742966\n"
     ]
    },
    {
     "name": "stderr",
     "output_type": "stream",
     "text": [
      " 91%|█████████ | 911/1000 [4:16:48<24:06, 16.25s/it]"
     ]
    },
    {
     "name": "stdout",
     "output_type": "stream",
     "text": [
      "Batch 0, Loss: 0.0\n",
      "Batch 200, Loss: 0.21501868963241577\n",
      "Batch 400, Loss: 0.0\n",
      "Batch 600, Loss: 1.5087353233411704e-07\n"
     ]
    },
    {
     "name": "stderr",
     "output_type": "stream",
     "text": [
      " 91%|█████████ | 912/1000 [4:17:04<23:42, 16.17s/it]"
     ]
    },
    {
     "name": "stdout",
     "output_type": "stream",
     "text": [
      "Batch 0, Loss: 0.23321804404258728\n",
      "Batch 200, Loss: 0.1380089968442917\n",
      "Batch 400, Loss: 0.003420709865167737\n",
      "Batch 600, Loss: 1.6577500616676843e-07\n"
     ]
    },
    {
     "name": "stderr",
     "output_type": "stream",
     "text": [
      " 91%|█████████▏| 913/1000 [4:17:21<23:45, 16.39s/it]"
     ]
    },
    {
     "name": "stdout",
     "output_type": "stream",
     "text": [
      "Batch 0, Loss: 1.2852223107984173e-07\n",
      "Batch 200, Loss: 0.33412760496139526\n",
      "Batch 400, Loss: 0.12304846197366714\n",
      "Batch 600, Loss: 0.003855319693684578\n"
     ]
    },
    {
     "name": "stderr",
     "output_type": "stream",
     "text": [
      " 91%|█████████▏| 914/1000 [4:17:37<23:13, 16.20s/it]"
     ]
    },
    {
     "name": "stdout",
     "output_type": "stream",
     "text": [
      "Batch 0, Loss: 4.310728400014341e-05\n",
      "Batch 200, Loss: 0.0019195337081328034\n",
      "Batch 400, Loss: 0.004716735333204269\n",
      "Batch 600, Loss: 0.11092173308134079\n"
     ]
    },
    {
     "name": "stderr",
     "output_type": "stream",
     "text": [
      " 92%|█████████▏| 915/1000 [4:17:54<23:12, 16.38s/it]"
     ]
    },
    {
     "name": "stdout",
     "output_type": "stream",
     "text": [
      "Batch 0, Loss: 0.0\n",
      "Batch 200, Loss: 0.03677372261881828\n",
      "Batch 400, Loss: 0.00033359721419401467\n",
      "Batch 600, Loss: 0.0\n"
     ]
    },
    {
     "name": "stderr",
     "output_type": "stream",
     "text": [
      " 92%|█████████▏| 916/1000 [4:18:10<22:53, 16.35s/it]"
     ]
    },
    {
     "name": "stdout",
     "output_type": "stream",
     "text": [
      "Batch 0, Loss: 2.2075369997764938e-05\n",
      "Batch 200, Loss: 2.965070734717301e-06\n",
      "Batch 400, Loss: 0.0\n",
      "Batch 600, Loss: 1.3969215615361463e-06\n"
     ]
    },
    {
     "name": "stderr",
     "output_type": "stream",
     "text": [
      " 92%|█████████▏| 917/1000 [4:18:26<22:30, 16.27s/it]"
     ]
    },
    {
     "name": "stdout",
     "output_type": "stream",
     "text": [
      "Batch 0, Loss: 0.0\n",
      "Batch 200, Loss: 0.1093626618385315\n",
      "Batch 400, Loss: 1.4115157682681456e-05\n",
      "Batch 600, Loss: 0.0\n"
     ]
    },
    {
     "name": "stderr",
     "output_type": "stream",
     "text": [
      " 92%|█████████▏| 918/1000 [4:18:41<21:56, 16.06s/it]"
     ]
    },
    {
     "name": "stdout",
     "output_type": "stream",
     "text": [
      "Batch 0, Loss: 0.2373127043247223\n",
      "Batch 200, Loss: 0.0356886051595211\n",
      "Batch 400, Loss: 0.00023184822930488735\n",
      "Batch 600, Loss: 0.18162889778614044\n"
     ]
    },
    {
     "name": "stderr",
     "output_type": "stream",
     "text": [
      " 92%|█████████▏| 919/1000 [4:18:57<21:30, 15.93s/it]"
     ]
    },
    {
     "name": "stdout",
     "output_type": "stream",
     "text": [
      "Batch 0, Loss: 0.00031302045681513846\n",
      "Batch 200, Loss: 0.0\n",
      "Batch 400, Loss: 0.09556781500577927\n",
      "Batch 600, Loss: 2.849821498784877e-07\n"
     ]
    },
    {
     "name": "stderr",
     "output_type": "stream",
     "text": [
      " 92%|█████████▏| 920/1000 [4:19:13<21:01, 15.77s/it]"
     ]
    },
    {
     "name": "stdout",
     "output_type": "stream",
     "text": [
      "Batch 0, Loss: 3.445855440986634e-07\n",
      "Batch 200, Loss: 3.5762377592618577e-07\n",
      "Batch 400, Loss: 0.003117720829322934\n",
      "Batch 600, Loss: 0.17950427532196045\n"
     ]
    },
    {
     "name": "stderr",
     "output_type": "stream",
     "text": [
      " 92%|█████████▏| 921/1000 [4:19:29<20:53, 15.87s/it]"
     ]
    },
    {
     "name": "stdout",
     "output_type": "stream",
     "text": [
      "Batch 0, Loss: 0.06241365149617195\n",
      "Batch 200, Loss: 0.0\n",
      "Batch 400, Loss: 0.0\n",
      "Batch 600, Loss: 0.09898535162210464\n"
     ]
    },
    {
     "name": "stderr",
     "output_type": "stream",
     "text": [
      " 92%|█████████▏| 922/1000 [4:19:45<20:43, 15.94s/it]"
     ]
    },
    {
     "name": "stdout",
     "output_type": "stream",
     "text": [
      "Batch 0, Loss: 0.2514224350452423\n",
      "Batch 200, Loss: 9.313223969797946e-09\n",
      "Batch 400, Loss: 0.03638129681348801\n",
      "Batch 600, Loss: 0.17154169082641602\n"
     ]
    },
    {
     "name": "stderr",
     "output_type": "stream",
     "text": [
      " 92%|█████████▏| 923/1000 [4:20:01<20:36, 16.06s/it]"
     ]
    },
    {
     "name": "stdout",
     "output_type": "stream",
     "text": [
      "Batch 0, Loss: 0.008248718455433846\n",
      "Batch 200, Loss: 6.619132909690961e-05\n",
      "Batch 400, Loss: 0.0\n",
      "Batch 600, Loss: 0.0\n"
     ]
    },
    {
     "name": "stderr",
     "output_type": "stream",
     "text": [
      " 92%|█████████▏| 924/1000 [4:20:18<20:33, 16.23s/it]"
     ]
    },
    {
     "name": "stdout",
     "output_type": "stream",
     "text": [
      "Batch 0, Loss: 0.08026555180549622\n",
      "Batch 200, Loss: 0.21541635692119598\n",
      "Batch 400, Loss: 1.1864806310768472e-06\n",
      "Batch 600, Loss: 0.0\n"
     ]
    },
    {
     "name": "stderr",
     "output_type": "stream",
     "text": [
      " 92%|█████████▎| 925/1000 [4:20:34<20:16, 16.23s/it]"
     ]
    },
    {
     "name": "stdout",
     "output_type": "stream",
     "text": [
      "Batch 0, Loss: 0.0\n",
      "Batch 200, Loss: 0.017138201743364334\n",
      "Batch 400, Loss: 0.0\n",
      "Batch 600, Loss: 1.0449264209455578e-06\n"
     ]
    },
    {
     "name": "stderr",
     "output_type": "stream",
     "text": [
      " 93%|█████████▎| 926/1000 [4:20:50<19:49, 16.07s/it]"
     ]
    },
    {
     "name": "stdout",
     "output_type": "stream",
     "text": [
      "Batch 0, Loss: 0.0004884963273070753\n",
      "Batch 200, Loss: 0.11076423525810242\n",
      "Batch 400, Loss: 0.0\n",
      "Batch 600, Loss: 0.00041429337579756975\n"
     ]
    },
    {
     "name": "stderr",
     "output_type": "stream",
     "text": [
      " 93%|█████████▎| 927/1000 [4:21:05<19:25, 15.97s/it]"
     ]
    },
    {
     "name": "stdout",
     "output_type": "stream",
     "text": [
      "Batch 0, Loss: 6.183893219713354e-07\n",
      "Batch 200, Loss: 7.450578820566989e-09\n",
      "Batch 400, Loss: 0.08030308783054352\n",
      "Batch 600, Loss: 7.078038777308393e-08\n"
     ]
    },
    {
     "name": "stderr",
     "output_type": "stream",
     "text": [
      " 93%|█████████▎| 928/1000 [4:21:22<19:21, 16.13s/it]"
     ]
    },
    {
     "name": "stdout",
     "output_type": "stream",
     "text": [
      "Batch 0, Loss: 0.25413206219673157\n",
      "Batch 200, Loss: 0.0050467997789382935\n",
      "Batch 400, Loss: 8.203429752029479e-05\n",
      "Batch 600, Loss: 0.28307703137397766\n"
     ]
    },
    {
     "name": "stderr",
     "output_type": "stream",
     "text": [
      " 93%|█████████▎| 929/1000 [4:21:38<19:09, 16.19s/it]"
     ]
    },
    {
     "name": "stdout",
     "output_type": "stream",
     "text": [
      "Batch 0, Loss: 0.0\n",
      "Batch 200, Loss: 4.350489325588569e-05\n",
      "Batch 400, Loss: 0.17424514889717102\n",
      "Batch 600, Loss: 0.0017983915749937296\n"
     ]
    },
    {
     "name": "stderr",
     "output_type": "stream",
     "text": [
      " 93%|█████████▎| 930/1000 [4:21:53<18:34, 15.92s/it]"
     ]
    },
    {
     "name": "stdout",
     "output_type": "stream",
     "text": [
      "Batch 0, Loss: 0.03979681432247162\n",
      "Batch 200, Loss: 0.001893228618428111\n",
      "Batch 400, Loss: 0.560628354549408\n",
      "Batch 600, Loss: 3.6615313092625e-06\n"
     ]
    },
    {
     "name": "stderr",
     "output_type": "stream",
     "text": [
      " 93%|█████████▎| 931/1000 [4:22:09<18:12, 15.83s/it]"
     ]
    },
    {
     "name": "stdout",
     "output_type": "stream",
     "text": [
      "Batch 0, Loss: 2.2555004761670716e-06\n",
      "Batch 200, Loss: 0.014912487007677555\n",
      "Batch 400, Loss: 0.0\n",
      "Batch 600, Loss: 0.05009805038571358\n"
     ]
    },
    {
     "name": "stderr",
     "output_type": "stream",
     "text": [
      " 93%|█████████▎| 932/1000 [4:22:25<17:57, 15.84s/it]"
     ]
    },
    {
     "name": "stdout",
     "output_type": "stream",
     "text": [
      "Batch 0, Loss: 0.0215701162815094\n",
      "Batch 200, Loss: 0.002362240804359317\n",
      "Batch 400, Loss: 0.0015278439968824387\n",
      "Batch 600, Loss: 0.027128245681524277\n"
     ]
    },
    {
     "name": "stderr",
     "output_type": "stream",
     "text": [
      " 93%|█████████▎| 933/1000 [4:22:41<17:43, 15.87s/it]"
     ]
    },
    {
     "name": "stdout",
     "output_type": "stream",
     "text": [
      "Batch 0, Loss: 1.6295232853735797e-05\n",
      "Batch 200, Loss: 4.052326767123304e-05\n",
      "Batch 400, Loss: 1.0671840906143188\n",
      "Batch 600, Loss: 0.016883807256817818\n"
     ]
    },
    {
     "name": "stderr",
     "output_type": "stream",
     "text": [
      " 93%|█████████▎| 934/1000 [4:22:56<17:16, 15.71s/it]"
     ]
    },
    {
     "name": "stdout",
     "output_type": "stream",
     "text": [
      "Batch 0, Loss: 9.052286600308435e-07\n",
      "Batch 200, Loss: 0.04129815101623535\n",
      "Batch 400, Loss: 1.2032223821734078e-06\n",
      "Batch 600, Loss: 0.12972666323184967\n"
     ]
    },
    {
     "name": "stderr",
     "output_type": "stream",
     "text": [
      " 94%|█████████▎| 935/1000 [4:23:12<17:08, 15.83s/it]"
     ]
    },
    {
     "name": "stdout",
     "output_type": "stream",
     "text": [
      "Batch 0, Loss: 1.16562132461695e-05\n",
      "Batch 200, Loss: 0.0010217840317636728\n",
      "Batch 400, Loss: 7.387368441413855e-06\n",
      "Batch 600, Loss: 0.1018444076180458\n"
     ]
    },
    {
     "name": "stderr",
     "output_type": "stream",
     "text": [
      " 94%|█████████▎| 936/1000 [4:23:29<17:09, 16.09s/it]"
     ]
    },
    {
     "name": "stdout",
     "output_type": "stream",
     "text": [
      "Batch 0, Loss: 0.29852503538131714\n",
      "Batch 200, Loss: 0.0\n",
      "Batch 400, Loss: 0.07589605450630188\n",
      "Batch 600, Loss: 0.013048320077359676\n"
     ]
    },
    {
     "name": "stderr",
     "output_type": "stream",
     "text": [
      " 94%|█████████▎| 937/1000 [4:23:45<16:55, 16.12s/it]"
     ]
    },
    {
     "name": "stdout",
     "output_type": "stream",
     "text": [
      "Batch 0, Loss: 2.402793768396805e-07\n",
      "Batch 200, Loss: 0.39029461145401\n",
      "Batch 400, Loss: 0.0\n",
      "Batch 600, Loss: 0.05419691652059555\n"
     ]
    },
    {
     "name": "stderr",
     "output_type": "stream",
     "text": [
      " 94%|█████████▍| 938/1000 [4:24:01<16:31, 15.99s/it]"
     ]
    },
    {
     "name": "stdout",
     "output_type": "stream",
     "text": [
      "Batch 0, Loss: 1.8626450382086546e-09\n",
      "Batch 200, Loss: 1.0838704838533886e-05\n",
      "Batch 400, Loss: 0.09036644548177719\n",
      "Batch 600, Loss: 0.8927527666091919\n"
     ]
    },
    {
     "name": "stderr",
     "output_type": "stream",
     "text": [
      " 94%|█████████▍| 939/1000 [4:24:17<16:20, 16.08s/it]"
     ]
    },
    {
     "name": "stdout",
     "output_type": "stream",
     "text": [
      "Batch 0, Loss: 0.05791592597961426\n",
      "Batch 200, Loss: 2.8465075956773944e-05\n",
      "Batch 400, Loss: 0.08215723186731339\n",
      "Batch 600, Loss: 0.14941319823265076\n"
     ]
    },
    {
     "name": "stderr",
     "output_type": "stream",
     "text": [
      " 94%|█████████▍| 940/1000 [4:24:34<16:12, 16.20s/it]"
     ]
    },
    {
     "name": "stdout",
     "output_type": "stream",
     "text": [
      "Batch 0, Loss: 0.019442403689026833\n",
      "Batch 200, Loss: 0.15920202434062958\n",
      "Batch 400, Loss: 0.00172966078389436\n",
      "Batch 600, Loss: 0.06008637696504593\n"
     ]
    },
    {
     "name": "stderr",
     "output_type": "stream",
     "text": [
      " 94%|█████████▍| 941/1000 [4:24:49<15:37, 15.89s/it]"
     ]
    },
    {
     "name": "stdout",
     "output_type": "stream",
     "text": [
      "Batch 0, Loss: 0.12995021045207977\n",
      "Batch 200, Loss: 0.0\n",
      "Batch 400, Loss: 0.00010243123688269407\n",
      "Batch 600, Loss: 0.0\n"
     ]
    },
    {
     "name": "stderr",
     "output_type": "stream",
     "text": [
      " 94%|█████████▍| 942/1000 [4:25:04<15:15, 15.79s/it]"
     ]
    },
    {
     "name": "stdout",
     "output_type": "stream",
     "text": [
      "Batch 0, Loss: 0.09669944643974304\n",
      "Batch 200, Loss: 0.00666487030684948\n",
      "Batch 400, Loss: 4.6708159970876295e-06\n",
      "Batch 600, Loss: 3.7252898543727042e-09\n"
     ]
    },
    {
     "name": "stderr",
     "output_type": "stream",
     "text": [
      " 94%|█████████▍| 943/1000 [4:25:20<15:02, 15.83s/it]"
     ]
    },
    {
     "name": "stdout",
     "output_type": "stream",
     "text": [
      "Batch 0, Loss: 0.10368227958679199\n",
      "Batch 200, Loss: 0.0\n",
      "Batch 400, Loss: 0.0\n",
      "Batch 600, Loss: 0.0\n"
     ]
    },
    {
     "name": "stderr",
     "output_type": "stream",
     "text": [
      " 94%|█████████▍| 944/1000 [4:25:36<14:37, 15.67s/it]"
     ]
    },
    {
     "name": "stdout",
     "output_type": "stream",
     "text": [
      "Batch 0, Loss: 0.3102903962135315\n",
      "Batch 200, Loss: 0.0007421130430884659\n",
      "Batch 400, Loss: 1.6763801014008095e-08\n",
      "Batch 600, Loss: 0.0005068561295047402\n"
     ]
    },
    {
     "name": "stderr",
     "output_type": "stream",
     "text": [
      " 94%|█████████▍| 945/1000 [4:25:51<14:16, 15.57s/it]"
     ]
    },
    {
     "name": "stdout",
     "output_type": "stream",
     "text": [
      "Batch 0, Loss: 2.0489082430685812e-08\n",
      "Batch 200, Loss: 0.0013178884983062744\n",
      "Batch 400, Loss: 0.0004291258519515395\n",
      "Batch 600, Loss: 0.0005987592157907784\n"
     ]
    },
    {
     "name": "stderr",
     "output_type": "stream",
     "text": [
      " 95%|█████████▍| 946/1000 [4:26:06<13:48, 15.34s/it]"
     ]
    },
    {
     "name": "stdout",
     "output_type": "stream",
     "text": [
      "Batch 0, Loss: 1.6688409232301638e-06\n",
      "Batch 200, Loss: 0.0011087496532127261\n",
      "Batch 400, Loss: 1.6129678215293097e-06\n",
      "Batch 600, Loss: 0.00035850799758918583\n"
     ]
    },
    {
     "name": "stderr",
     "output_type": "stream",
     "text": [
      " 95%|█████████▍| 947/1000 [4:26:22<13:54, 15.75s/it]"
     ]
    },
    {
     "name": "stdout",
     "output_type": "stream",
     "text": [
      "Batch 0, Loss: 7.959895810927264e-06\n",
      "Batch 200, Loss: 3.16649462206442e-08\n",
      "Batch 400, Loss: 1.8436869140714407e-05\n",
      "Batch 600, Loss: 0.004715983755886555\n"
     ]
    },
    {
     "name": "stderr",
     "output_type": "stream",
     "text": [
      " 95%|█████████▍| 948/1000 [4:26:40<14:03, 16.23s/it]"
     ]
    },
    {
     "name": "stdout",
     "output_type": "stream",
     "text": [
      "Batch 0, Loss: 3.1478384698857553e-07\n",
      "Batch 200, Loss: 1.8503731553209946e-05\n",
      "Batch 400, Loss: 0.0007381942705251276\n",
      "Batch 600, Loss: 1.7061022390407743e-06\n"
     ]
    },
    {
     "name": "stderr",
     "output_type": "stream",
     "text": [
      " 95%|█████████▍| 949/1000 [4:26:56<13:42, 16.12s/it]"
     ]
    },
    {
     "name": "stdout",
     "output_type": "stream",
     "text": [
      "Batch 0, Loss: 7.189695452325395e-07\n",
      "Batch 200, Loss: 1.1137387446069624e-05\n",
      "Batch 400, Loss: 4.001611887360923e-05\n",
      "Batch 600, Loss: 0.08151335269212723\n"
     ]
    },
    {
     "name": "stderr",
     "output_type": "stream",
     "text": [
      " 95%|█████████▌| 950/1000 [4:27:12<13:31, 16.23s/it]"
     ]
    },
    {
     "name": "stdout",
     "output_type": "stream",
     "text": [
      "Batch 0, Loss: 0.0011775738094002008\n",
      "Batch 200, Loss: 0.0\n",
      "Batch 400, Loss: 9.550354297971353e-05\n",
      "Batch 600, Loss: 9.313223081619526e-09\n"
     ]
    },
    {
     "name": "stderr",
     "output_type": "stream",
     "text": [
      " 95%|█████████▌| 951/1000 [4:27:28<13:03, 15.99s/it]"
     ]
    },
    {
     "name": "stdout",
     "output_type": "stream",
     "text": [
      "Batch 0, Loss: 0.22619152069091797\n",
      "Batch 200, Loss: 0.0001907360419863835\n",
      "Batch 400, Loss: 0.0004911177675239742\n",
      "Batch 600, Loss: 0.0\n"
     ]
    },
    {
     "name": "stderr",
     "output_type": "stream",
     "text": [
      " 95%|█████████▌| 952/1000 [4:27:45<13:03, 16.31s/it]"
     ]
    },
    {
     "name": "stdout",
     "output_type": "stream",
     "text": [
      "Batch 0, Loss: 0.035373032093048096\n",
      "Batch 200, Loss: 2.3299967324419413e-06\n",
      "Batch 400, Loss: 2.2351734685344127e-08\n",
      "Batch 600, Loss: 1.8626450382086546e-09\n"
     ]
    },
    {
     "name": "stderr",
     "output_type": "stream",
     "text": [
      " 95%|█████████▌| 953/1000 [4:28:01<12:42, 16.21s/it]"
     ]
    },
    {
     "name": "stdout",
     "output_type": "stream",
     "text": [
      "Batch 0, Loss: 1.155344034486916e-05\n",
      "Batch 200, Loss: 0.005042641423642635\n",
      "Batch 400, Loss: 0.0011101021664217114\n",
      "Batch 600, Loss: 1.1249971976212692e-06\n"
     ]
    },
    {
     "name": "stderr",
     "output_type": "stream",
     "text": [
      " 95%|█████████▌| 954/1000 [4:28:18<12:43, 16.60s/it]"
     ]
    },
    {
     "name": "stdout",
     "output_type": "stream",
     "text": [
      "Batch 0, Loss: 8.09997072792612e-05\n",
      "Batch 200, Loss: 0.12059817463159561\n",
      "Batch 400, Loss: 0.003715656930580735\n",
      "Batch 600, Loss: 0.22797656059265137\n"
     ]
    },
    {
     "name": "stderr",
     "output_type": "stream",
     "text": [
      " 96%|█████████▌| 955/1000 [4:28:35<12:27, 16.62s/it]"
     ]
    },
    {
     "name": "stdout",
     "output_type": "stream",
     "text": [
      "Batch 0, Loss: 4.284077803617947e-08\n",
      "Batch 200, Loss: 4.2071642383234575e-06\n",
      "Batch 400, Loss: 0.12412352114915848\n",
      "Batch 600, Loss: 0.26917681097984314\n"
     ]
    },
    {
     "name": "stderr",
     "output_type": "stream",
     "text": [
      " 96%|█████████▌| 956/1000 [4:28:50<11:57, 16.31s/it]"
     ]
    },
    {
     "name": "stdout",
     "output_type": "stream",
     "text": [
      "Batch 0, Loss: 0.30690330266952515\n",
      "Batch 200, Loss: 0.0\n",
      "Batch 400, Loss: 0.160452738404274\n",
      "Batch 600, Loss: 0.0\n"
     ]
    },
    {
     "name": "stderr",
     "output_type": "stream",
     "text": [
      " 96%|█████████▌| 957/1000 [4:29:06<11:34, 16.14s/it]"
     ]
    },
    {
     "name": "stdout",
     "output_type": "stream",
     "text": [
      "Batch 0, Loss: 0.023020245134830475\n",
      "Batch 200, Loss: 0.14553947746753693\n",
      "Batch 400, Loss: 0.0\n",
      "Batch 600, Loss: 7.450572070410999e-08\n"
     ]
    },
    {
     "name": "stderr",
     "output_type": "stream",
     "text": [
      " 96%|█████████▌| 958/1000 [4:29:21<11:02, 15.76s/it]"
     ]
    },
    {
     "name": "stdout",
     "output_type": "stream",
     "text": [
      "Batch 0, Loss: 0.01646234840154648\n",
      "Batch 200, Loss: 0.0019095713505521417\n",
      "Batch 400, Loss: 0.2561887800693512\n",
      "Batch 600, Loss: 0.0\n"
     ]
    },
    {
     "name": "stderr",
     "output_type": "stream",
     "text": [
      " 96%|█████████▌| 959/1000 [4:29:37<10:54, 15.97s/it]"
     ]
    },
    {
     "name": "stdout",
     "output_type": "stream",
     "text": [
      "Batch 0, Loss: 5.27600104760495e-06\n",
      "Batch 200, Loss: 0.0\n",
      "Batch 400, Loss: 1.8626450382086546e-09\n",
      "Batch 600, Loss: 0.0033287755213677883\n"
     ]
    },
    {
     "name": "stderr",
     "output_type": "stream",
     "text": [
      " 96%|█████████▌| 960/1000 [4:29:53<10:31, 15.78s/it]"
     ]
    },
    {
     "name": "stdout",
     "output_type": "stream",
     "text": [
      "Batch 0, Loss: 0.0\n",
      "Batch 200, Loss: 2.71943832785837e-07\n",
      "Batch 400, Loss: 0.1617780178785324\n",
      "Batch 600, Loss: 8.640286068839487e-06\n"
     ]
    },
    {
     "name": "stderr",
     "output_type": "stream",
     "text": [
      " 96%|█████████▌| 961/1000 [4:30:08<10:11, 15.67s/it]"
     ]
    },
    {
     "name": "stdout",
     "output_type": "stream",
     "text": [
      "Batch 0, Loss: 0.0\n",
      "Batch 200, Loss: 5.587934559514451e-09\n",
      "Batch 400, Loss: 0.13718536496162415\n",
      "Batch 600, Loss: 0.05645774304866791\n"
     ]
    },
    {
     "name": "stderr",
     "output_type": "stream",
     "text": [
      " 96%|█████████▌| 962/1000 [4:30:23<09:50, 15.54s/it]"
     ]
    },
    {
     "name": "stdout",
     "output_type": "stream",
     "text": [
      "Batch 0, Loss: 0.0\n",
      "Batch 200, Loss: 0.0003605967212934047\n",
      "Batch 400, Loss: 1.3038510715546181e-08\n",
      "Batch 600, Loss: 0.1651114672422409\n"
     ]
    },
    {
     "name": "stderr",
     "output_type": "stream",
     "text": [
      " 96%|█████████▋| 963/1000 [4:30:39<09:30, 15.42s/it]"
     ]
    },
    {
     "name": "stdout",
     "output_type": "stream",
     "text": [
      "Batch 0, Loss: 0.0011534910881891847\n",
      "Batch 200, Loss: 8.865939093993802e-07\n",
      "Batch 400, Loss: 0.016451720148324966\n",
      "Batch 600, Loss: 0.014256427064538002\n"
     ]
    },
    {
     "name": "stderr",
     "output_type": "stream",
     "text": [
      " 96%|█████████▋| 964/1000 [4:30:54<09:11, 15.32s/it]"
     ]
    },
    {
     "name": "stdout",
     "output_type": "stream",
     "text": [
      "Batch 0, Loss: 0.054825734347105026\n",
      "Batch 200, Loss: 3.7252898543727042e-09\n",
      "Batch 400, Loss: 0.14522576332092285\n",
      "Batch 600, Loss: 0.28072577714920044\n"
     ]
    },
    {
     "name": "stderr",
     "output_type": "stream",
     "text": [
      " 96%|█████████▋| 965/1000 [4:31:09<08:55, 15.30s/it]"
     ]
    },
    {
     "name": "stdout",
     "output_type": "stream",
     "text": [
      "Batch 0, Loss: 0.0008655335986986756\n",
      "Batch 200, Loss: 1.0449227829667507e-06\n",
      "Batch 400, Loss: 1.1249973113081069e-06\n",
      "Batch 600, Loss: 6.146717623778386e-08\n"
     ]
    },
    {
     "name": "stderr",
     "output_type": "stream",
     "text": [
      " 97%|█████████▋| 966/1000 [4:31:25<08:43, 15.40s/it]"
     ]
    },
    {
     "name": "stdout",
     "output_type": "stream",
     "text": [
      "Batch 0, Loss: 0.0\n",
      "Batch 200, Loss: 4.497650934354169e-06\n",
      "Batch 400, Loss: 1.1074024769186508e-05\n",
      "Batch 600, Loss: 1.3038510715546181e-08\n"
     ]
    },
    {
     "name": "stderr",
     "output_type": "stream",
     "text": [
      " 97%|█████████▋| 967/1000 [4:31:40<08:26, 15.34s/it]"
     ]
    },
    {
     "name": "stdout",
     "output_type": "stream",
     "text": [
      "Batch 0, Loss: 0.09758070856332779\n",
      "Batch 200, Loss: 0.09807315468788147\n",
      "Batch 400, Loss: 0.015911782160401344\n",
      "Batch 600, Loss: 2.9878052373533137e-05\n"
     ]
    },
    {
     "name": "stderr",
     "output_type": "stream",
     "text": [
      " 97%|█████████▋| 968/1000 [4:31:55<08:09, 15.29s/it]"
     ]
    },
    {
     "name": "stdout",
     "output_type": "stream",
     "text": [
      "Batch 0, Loss: 1.7409754946129397e-05\n",
      "Batch 200, Loss: 0.00214300025254488\n",
      "Batch 400, Loss: 0.13825495541095734\n",
      "Batch 600, Loss: 0.06187383085489273\n"
     ]
    },
    {
     "name": "stderr",
     "output_type": "stream",
     "text": [
      " 97%|█████████▋| 969/1000 [4:32:10<07:53, 15.27s/it]"
     ]
    },
    {
     "name": "stdout",
     "output_type": "stream",
     "text": [
      "Batch 0, Loss: 1.8626450382086546e-09\n",
      "Batch 200, Loss: 4.842869927301763e-08\n",
      "Batch 400, Loss: 2.1959042442176724e-06\n",
      "Batch 600, Loss: 0.014783681370317936\n"
     ]
    },
    {
     "name": "stderr",
     "output_type": "stream",
     "text": [
      " 97%|█████████▋| 970/1000 [4:32:25<07:38, 15.28s/it]"
     ]
    },
    {
     "name": "stdout",
     "output_type": "stream",
     "text": [
      "Batch 0, Loss: 0.14581100642681122\n",
      "Batch 200, Loss: 6.548014789586887e-05\n",
      "Batch 400, Loss: 3.7252860352054995e-08\n",
      "Batch 600, Loss: 6.295629191299668e-07\n"
     ]
    },
    {
     "name": "stderr",
     "output_type": "stream",
     "text": [
      " 97%|█████████▋| 971/1000 [4:32:41<07:21, 15.24s/it]"
     ]
    },
    {
     "name": "stdout",
     "output_type": "stream",
     "text": [
      "Batch 0, Loss: 1.4901154088420299e-08\n",
      "Batch 200, Loss: 0.0002955053932964802\n",
      "Batch 400, Loss: 9.313223081619526e-09\n",
      "Batch 600, Loss: 1.314295604970539e-05\n"
     ]
    },
    {
     "name": "stderr",
     "output_type": "stream",
     "text": [
      " 97%|█████████▋| 972/1000 [4:32:56<07:04, 15.16s/it]"
     ]
    },
    {
     "name": "stdout",
     "output_type": "stream",
     "text": [
      "Batch 0, Loss: 0.00027764844708144665\n",
      "Batch 200, Loss: 7.450578820566989e-09\n",
      "Batch 400, Loss: 0.14712342619895935\n",
      "Batch 600, Loss: 0.03837528079748154\n"
     ]
    },
    {
     "name": "stderr",
     "output_type": "stream",
     "text": [
      " 97%|█████████▋| 973/1000 [4:33:12<06:56, 15.44s/it]"
     ]
    },
    {
     "name": "stdout",
     "output_type": "stream",
     "text": [
      "Batch 0, Loss: 0.02559882588684559\n",
      "Batch 200, Loss: 0.00029254102264530957\n",
      "Batch 400, Loss: 0.9514920115470886\n",
      "Batch 600, Loss: 0.06217857077717781\n"
     ]
    },
    {
     "name": "stderr",
     "output_type": "stream",
     "text": [
      " 97%|█████████▋| 974/1000 [4:33:27<06:40, 15.40s/it]"
     ]
    },
    {
     "name": "stdout",
     "output_type": "stream",
     "text": [
      "Batch 0, Loss: 0.04630269855260849\n",
      "Batch 200, Loss: 0.014049597084522247\n",
      "Batch 400, Loss: 0.011477540247142315\n",
      "Batch 600, Loss: 0.0002523902803659439\n"
     ]
    },
    {
     "name": "stderr",
     "output_type": "stream",
     "text": [
      " 98%|█████████▊| 975/1000 [4:33:42<06:22, 15.32s/it]"
     ]
    },
    {
     "name": "stdout",
     "output_type": "stream",
     "text": [
      "Batch 0, Loss: 0.03636142611503601\n",
      "Batch 200, Loss: 5.02906573274231e-07\n",
      "Batch 400, Loss: 0.0\n",
      "Batch 600, Loss: 7.003288192208856e-05\n"
     ]
    },
    {
     "name": "stderr",
     "output_type": "stream",
     "text": [
      " 98%|█████████▊| 976/1000 [4:33:57<06:07, 15.32s/it]"
     ]
    },
    {
     "name": "stdout",
     "output_type": "stream",
     "text": [
      "Batch 0, Loss: 1.7136243002369156e-07\n",
      "Batch 200, Loss: 0.009185672737658024\n",
      "Batch 400, Loss: 0.6603409647941589\n",
      "Batch 600, Loss: 3.813764487858862e-05\n"
     ]
    },
    {
     "name": "stderr",
     "output_type": "stream",
     "text": [
      " 98%|█████████▊| 977/1000 [4:34:13<05:52, 15.33s/it]"
     ]
    },
    {
     "name": "stdout",
     "output_type": "stream",
     "text": [
      "Batch 0, Loss: 0.004250487312674522\n",
      "Batch 200, Loss: 0.026806121692061424\n",
      "Batch 400, Loss: 0.3141918480396271\n",
      "Batch 600, Loss: 0.21137572824954987\n"
     ]
    },
    {
     "name": "stderr",
     "output_type": "stream",
     "text": [
      " 98%|█████████▊| 978/1000 [4:34:29<05:39, 15.45s/it]"
     ]
    },
    {
     "name": "stdout",
     "output_type": "stream",
     "text": [
      "Batch 0, Loss: 0.0\n",
      "Batch 200, Loss: 0.12135690450668335\n",
      "Batch 400, Loss: 1.1957724836975103e-06\n",
      "Batch 600, Loss: 0.005870350170880556\n"
     ]
    },
    {
     "name": "stderr",
     "output_type": "stream",
     "text": [
      " 98%|█████████▊| 979/1000 [4:34:44<05:24, 15.44s/it]"
     ]
    },
    {
     "name": "stdout",
     "output_type": "stream",
     "text": [
      "Batch 0, Loss: 3.626462057582103e-05\n",
      "Batch 200, Loss: 0.023586656898260117\n",
      "Batch 400, Loss: 3.725290076417309e-09\n",
      "Batch 600, Loss: 0.5905531644821167\n"
     ]
    },
    {
     "name": "stderr",
     "output_type": "stream",
     "text": [
      " 98%|█████████▊| 980/1000 [4:34:59<05:07, 15.37s/it]"
     ]
    },
    {
     "name": "stdout",
     "output_type": "stream",
     "text": [
      "Batch 0, Loss: 0.0008807411068119109\n",
      "Batch 200, Loss: 0.0\n",
      "Batch 400, Loss: 0.0\n",
      "Batch 600, Loss: 4.415710918692639e-06\n"
     ]
    },
    {
     "name": "stderr",
     "output_type": "stream",
     "text": [
      " 98%|█████████▊| 981/1000 [4:35:15<04:55, 15.55s/it]"
     ]
    },
    {
     "name": "stdout",
     "output_type": "stream",
     "text": [
      "Batch 0, Loss: 0.00018847963656298816\n",
      "Batch 200, Loss: 2.998829984335316e-07\n",
      "Batch 400, Loss: 0.0025475563015788794\n",
      "Batch 600, Loss: 2.1102955543028656e-06\n"
     ]
    },
    {
     "name": "stderr",
     "output_type": "stream",
     "text": [
      " 98%|█████████▊| 982/1000 [4:35:30<04:38, 15.46s/it]"
     ]
    },
    {
     "name": "stdout",
     "output_type": "stream",
     "text": [
      "Batch 0, Loss: 0.11911115795373917\n",
      "Batch 200, Loss: 0.014322089962661266\n",
      "Batch 400, Loss: 8.06694424682064e-06\n",
      "Batch 600, Loss: 1.8626340647642792e-07\n"
     ]
    },
    {
     "name": "stderr",
     "output_type": "stream",
     "text": [
      " 98%|█████████▊| 983/1000 [4:35:46<04:21, 15.36s/it]"
     ]
    },
    {
     "name": "stdout",
     "output_type": "stream",
     "text": [
      "Batch 0, Loss: 1.1175868230850483e-08\n",
      "Batch 200, Loss: 0.0\n",
      "Batch 400, Loss: 0.032952819019556046\n",
      "Batch 600, Loss: 0.3840023875236511\n"
     ]
    },
    {
     "name": "stderr",
     "output_type": "stream",
     "text": [
      " 98%|█████████▊| 984/1000 [4:36:01<04:04, 15.29s/it]"
     ]
    },
    {
     "name": "stdout",
     "output_type": "stream",
     "text": [
      "Batch 0, Loss: 1.292622300752555e-06\n",
      "Batch 200, Loss: 0.4453975558280945\n",
      "Batch 400, Loss: 0.011358946561813354\n",
      "Batch 600, Loss: 0.0\n"
     ]
    },
    {
     "name": "stderr",
     "output_type": "stream",
     "text": [
      " 98%|█████████▊| 985/1000 [4:36:16<03:49, 15.31s/it]"
     ]
    },
    {
     "name": "stdout",
     "output_type": "stream",
     "text": [
      "Batch 0, Loss: 7.823099679171719e-08\n",
      "Batch 200, Loss: 0.1462916135787964\n",
      "Batch 400, Loss: 8.618446372565813e-06\n",
      "Batch 600, Loss: 0.2500942647457123\n"
     ]
    },
    {
     "name": "stderr",
     "output_type": "stream",
     "text": [
      " 99%|█████████▊| 986/1000 [4:36:31<03:33, 15.23s/it]"
     ]
    },
    {
     "name": "stdout",
     "output_type": "stream",
     "text": [
      "Batch 0, Loss: 5.32707417733036e-07\n",
      "Batch 200, Loss: 0.017445141449570656\n",
      "Batch 400, Loss: 0.06918744742870331\n",
      "Batch 600, Loss: 5.124949893797748e-05\n"
     ]
    },
    {
     "name": "stderr",
     "output_type": "stream",
     "text": [
      " 99%|█████████▊| 987/1000 [4:36:47<03:21, 15.47s/it]"
     ]
    },
    {
     "name": "stdout",
     "output_type": "stream",
     "text": [
      "Batch 0, Loss: 3.8216803659452125e-06\n",
      "Batch 200, Loss: 0.009719688445329666\n",
      "Batch 400, Loss: 5.587934559514451e-09\n",
      "Batch 600, Loss: 0.0\n"
     ]
    },
    {
     "name": "stderr",
     "output_type": "stream",
     "text": [
      " 99%|█████████▉| 988/1000 [4:37:02<03:04, 15.34s/it]"
     ]
    },
    {
     "name": "stdout",
     "output_type": "stream",
     "text": [
      "Batch 0, Loss: 0.2879204750061035\n",
      "Batch 200, Loss: 1.009413790598046e-05\n",
      "Batch 400, Loss: 0.001834958209656179\n",
      "Batch 600, Loss: 0.2500469982624054\n"
     ]
    },
    {
     "name": "stderr",
     "output_type": "stream",
     "text": [
      " 99%|█████████▉| 989/1000 [4:37:17<02:48, 15.35s/it]"
     ]
    },
    {
     "name": "stdout",
     "output_type": "stream",
     "text": [
      "Batch 0, Loss: 6.184620360727422e-06\n",
      "Batch 200, Loss: 2.328294073095094e-07\n",
      "Batch 400, Loss: 0.0\n",
      "Batch 600, Loss: 0.026515332981944084\n"
     ]
    },
    {
     "name": "stderr",
     "output_type": "stream",
     "text": [
      " 99%|█████████▉| 990/1000 [4:37:33<02:33, 15.33s/it]"
     ]
    },
    {
     "name": "stdout",
     "output_type": "stream",
     "text": [
      "Batch 0, Loss: 0.1400664746761322\n",
      "Batch 200, Loss: 0.006419864948838949\n",
      "Batch 400, Loss: 5.563956801779568e-05\n",
      "Batch 600, Loss: 0.0\n"
     ]
    },
    {
     "name": "stderr",
     "output_type": "stream",
     "text": [
      " 99%|█████████▉| 991/1000 [4:37:48<02:17, 15.30s/it]"
     ]
    },
    {
     "name": "stdout",
     "output_type": "stream",
     "text": [
      "Batch 0, Loss: 4.0805684875522275e-06\n",
      "Batch 200, Loss: 0.0\n",
      "Batch 400, Loss: 0.0\n",
      "Batch 600, Loss: 0.0\n"
     ]
    },
    {
     "name": "stderr",
     "output_type": "stream",
     "text": [
      " 99%|█████████▉| 992/1000 [4:38:03<02:02, 15.27s/it]"
     ]
    },
    {
     "name": "stdout",
     "output_type": "stream",
     "text": [
      "Batch 0, Loss: 0.0\n",
      "Batch 200, Loss: 3.501747301015712e-07\n",
      "Batch 400, Loss: 1.8626450382086546e-09\n",
      "Batch 600, Loss: 1.1175834657706218e-07\n"
     ]
    },
    {
     "name": "stderr",
     "output_type": "stream",
     "text": [
      " 99%|█████████▉| 993/1000 [4:38:19<01:47, 15.30s/it]"
     ]
    },
    {
     "name": "stdout",
     "output_type": "stream",
     "text": [
      "Batch 0, Loss: 7.524138345615938e-05\n",
      "Batch 200, Loss: 0.00033136128331534564\n",
      "Batch 400, Loss: 0.8703362941741943\n",
      "Batch 600, Loss: 0.0\n"
     ]
    },
    {
     "name": "stderr",
     "output_type": "stream",
     "text": [
      " 99%|█████████▉| 994/1000 [4:38:34<01:31, 15.27s/it]"
     ]
    },
    {
     "name": "stdout",
     "output_type": "stream",
     "text": [
      "Batch 0, Loss: 2.6076813242070784e-07\n",
      "Batch 200, Loss: 4.4960972445551306e-05\n",
      "Batch 400, Loss: 0.0\n",
      "Batch 600, Loss: 7.534445558121661e-06\n"
     ]
    },
    {
     "name": "stderr",
     "output_type": "stream",
     "text": [
      "100%|█████████▉| 995/1000 [4:38:49<01:16, 15.26s/it]"
     ]
    },
    {
     "name": "stdout",
     "output_type": "stream",
     "text": [
      "Batch 0, Loss: 3.916706918971613e-05\n",
      "Batch 200, Loss: 1.1175867342672063e-08\n",
      "Batch 400, Loss: 7.502795597247314e-06\n",
      "Batch 600, Loss: 0.0\n"
     ]
    },
    {
     "name": "stderr",
     "output_type": "stream",
     "text": [
      "100%|█████████▉| 996/1000 [4:39:04<01:00, 15.23s/it]"
     ]
    },
    {
     "name": "stdout",
     "output_type": "stream",
     "text": [
      "Batch 0, Loss: 0.01979861408472061\n",
      "Batch 200, Loss: 0.008416346274316311\n",
      "Batch 400, Loss: 0.00553502794355154\n",
      "Batch 600, Loss: 0.0789499431848526\n"
     ]
    },
    {
     "name": "stderr",
     "output_type": "stream",
     "text": [
      "100%|█████████▉| 997/1000 [4:39:19<00:45, 15.23s/it]"
     ]
    },
    {
     "name": "stdout",
     "output_type": "stream",
     "text": [
      "Batch 0, Loss: 0.040951866656541824\n",
      "Batch 200, Loss: 2.5565170290064998e-05\n",
      "Batch 400, Loss: 0.04994945600628853\n",
      "Batch 600, Loss: 0.0\n"
     ]
    },
    {
     "name": "stderr",
     "output_type": "stream",
     "text": [
      "100%|█████████▉| 998/1000 [4:39:35<00:30, 15.19s/it]"
     ]
    },
    {
     "name": "stdout",
     "output_type": "stream",
     "text": [
      "Batch 0, Loss: 0.0\n",
      "Batch 200, Loss: 0.003306178841739893\n",
      "Batch 400, Loss: 0.22852499783039093\n",
      "Batch 600, Loss: 2.037601007032208e-06\n"
     ]
    },
    {
     "name": "stderr",
     "output_type": "stream",
     "text": [
      "100%|█████████▉| 999/1000 [4:39:50<00:15, 15.36s/it]"
     ]
    },
    {
     "name": "stdout",
     "output_type": "stream",
     "text": [
      "Batch 0, Loss: 0.0\n",
      "Batch 200, Loss: 1.1920883480343036e-07\n",
      "Batch 400, Loss: 0.354699969291687\n",
      "Batch 600, Loss: 0.08315148949623108\n"
     ]
    },
    {
     "name": "stderr",
     "output_type": "stream",
     "text": [
      "100%|██████████| 1000/1000 [4:40:06<00:00, 16.81s/it]\n"
     ]
    }
   ],
   "source": [
    "%run run.py --save_path \"../checkpoint/model1.pth\" --num_epochs 1000"
   ]
  }
 ],
 "metadata": {
  "kernelspec": {
   "display_name": "torch_diffusers",
   "language": "python",
   "name": "python3"
  },
  "language_info": {
   "codemirror_mode": {
    "name": "ipython",
    "version": 3
   },
   "file_extension": ".py",
   "mimetype": "text/x-python",
   "name": "python",
   "nbconvert_exporter": "python",
   "pygments_lexer": "ipython3",
   "version": "3.13.1"
  }
 },
 "nbformat": 4,
 "nbformat_minor": 5
}
