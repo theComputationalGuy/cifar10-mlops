{
 "cells": [
  {
   "cell_type": "code",
   "execution_count": 8,
   "id": "e7171983",
   "metadata": {},
   "outputs": [],
   "source": [
    "import torch"
   ]
  },
  {
   "cell_type": "code",
   "execution_count": 1,
   "id": "463f0188",
   "metadata": {},
   "outputs": [],
   "source": [
    "import sys\n",
    "import os\n",
    "\n",
    "# Add the project root to sys.path\n",
    "project_root = os.path.abspath(os.path.join(os.getcwd(), '..'))\n",
    "if project_root not in sys.path:\n",
    "    sys.path.insert(0, project_root)\n",
    "\n",
    "from scripts.dataloader import get_cifar10_dataloader\n",
    "\n",
    "train, test, classes = get_cifar10_dataloader()"
   ]
  },
  {
   "cell_type": "code",
   "execution_count": 2,
   "id": "2d540b35",
   "metadata": {},
   "outputs": [
    {
     "data": {
      "text/plain": [
       "(torch.Size([64, 3, 32, 32]), torch.Size([64]))"
      ]
     },
     "execution_count": 2,
     "metadata": {},
     "output_type": "execute_result"
    }
   ],
   "source": [
    "batch = next(iter(train))\n",
    "batch[0].shape, batch[1].shape"
   ]
  },
  {
   "cell_type": "code",
   "execution_count": 6,
   "id": "40b3dd97",
   "metadata": {},
   "outputs": [
    {
     "name": "stdout",
     "output_type": "stream",
     "text": [
      "cat\n"
     ]
    },
    {
     "data": {
      "text/plain": [
       "<matplotlib.image.AxesImage at 0x2b6ca7cdbd0>"
      ]
     },
     "execution_count": 6,
     "metadata": {},
     "output_type": "execute_result"
    },
    {
     "data": {
      "image/png": "[encoded data removed]",
      "text/plain": [
       "<Figure size 640x480 with 1 Axes>"
      ]
     },
     "metadata": {},
     "output_type": "display_data"
    }
   ],
   "source": [
    "import matplotlib.pyplot as plt\n",
    "\n",
    "test_batch = next(iter(test))\n",
    "img = test_batch[0][0]\n",
    "\n",
    "print(classes[test_batch[1][0]])\n",
    "plt.imshow(img.permute(1,2,0))\n",
    "\n",
    "# plt.imshow(batch[0][0].permute(1,2,0))"
   ]
  },
  {
   "cell_type": "code",
   "execution_count": 29,
   "id": "10cb8fb5",
   "metadata": {},
   "outputs": [],
   "source": [
    "from scripts.network import Network\n",
    "\n",
    "checkpoint = torch.load('../checkpoint/model1.pth')\n",
    "\n",
    "model = Network()\n",
    "model.load_state_dict(checkpoint['model'])\n",
    "\n",
    "outputs = model(test_batch[0])"
   ]
  },
  {
   "cell_type": "code",
   "execution_count": 26,
   "id": "07f93966",
   "metadata": {},
   "outputs": [
    {
     "data": {
      "text/plain": [
       "<matplotlib.image.AxesImage at 0x2b6e9575e50>"
      ]
     },
     "execution_count": 26,
     "metadata": {},
     "output_type": "execute_result"
    },
    {
     "data": {
      "image/png": "[encoded data removed]",
      "text/plain": [
       "<Figure size 640x480 with 1 Axes>"
      ]
     },
     "metadata": {},
     "output_type": "display_data"
    }
   ],
   "source": [
    "plt.imshow(test_batch[0][0].permute(1,2,0))"
   ]
  },
  {
   "cell_type": "code",
   "execution_count": 32,
   "id": "634a9c36",
   "metadata": {},
   "outputs": [
    {
     "name": "stdout",
     "output_type": "stream",
     "text": [
      "cat \t cat\n",
      "ship \t ship\n",
      "car \t ship\n",
      "bird \t plane\n",
      "frog \t frog\n",
      "frog \t frog\n",
      "car \t car\n",
      "frog \t frog\n",
      "cat \t cat\n",
      "car \t car\n",
      "plane \t plane\n",
      "truck \t truck\n",
      "bird \t dog\n",
      "horse \t horse\n",
      "truck \t truck\n",
      "ship \t ship\n",
      "cat \t dog\n",
      "cat \t horse\n",
      "ship \t ship\n",
      "frog \t frog\n",
      "horse \t horse\n",
      "plane \t plane\n",
      "deer \t deer\n",
      "car \t truck\n",
      "deer \t dog\n",
      "dog \t bird\n",
      "cat \t deer\n",
      "plane \t plane\n",
      "truck \t truck\n",
      "frog \t frog\n",
      "frog \t frog\n",
      "bird \t dog\n",
      "deer \t deer\n",
      "cat \t dog\n",
      "truck \t truck\n",
      "dog \t bird\n",
      "horse \t deer\n",
      "truck \t car\n",
      "truck \t truck\n",
      "dog \t dog\n",
      "deer \t deer\n",
      "frog \t frog\n",
      "cat \t dog\n",
      "frog \t frog\n",
      "plane \t plane\n",
      "truck \t truck\n",
      "cat \t cat\n",
      "truck \t truck\n",
      "horse \t horse\n",
      "frog \t frog\n",
      "truck \t truck\n",
      "ship \t ship\n",
      "plane \t plane\n",
      "frog \t cat\n",
      "ship \t ship\n",
      "ship \t ship\n",
      "cat \t horse\n",
      "cat \t horse\n",
      "cat \t deer\n",
      "bird \t frog\n",
      "horse \t horse\n",
      "dog \t cat\n",
      "frog \t frog\n",
      "car \t cat\n"
     ]
    }
   ],
   "source": [
    "labels = [classes[i] for i in torch.argmax(outputs, dim=1)]\n",
    "for i in range(len(labels)):\n",
    "    print(f\"{labels[i]} \\t {classes[test_batch[1][i]]}\")"
   ]
  }
 ],
 "metadata": {
  "kernelspec": {
   "display_name": "torch_diffusers",
   "language": "python",
   "name": "python3"
  },
  "language_info": {
   "codemirror_mode": {
    "name": "ipython",
    "version": 3
   },
   "file_extension": ".py",
   "mimetype": "text/x-python",
   "name": "python",
   "nbconvert_exporter": "python",
   "pygments_lexer": "ipython3",
   "version": "3.13.1"
  }
 },
 "nbformat": 4,
 "nbformat_minor": 5
}
